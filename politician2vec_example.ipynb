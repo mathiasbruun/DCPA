{
 "cells": [
  {
   "cell_type": "markdown",
   "id": "758966fb-f998-4d60-8820-760c9a6a727e",
   "metadata": {},
   "source": [
    "# First `politician2vec` demo"
   ]
  },
  {
   "cell_type": "markdown",
   "id": "083459f6-2d4e-474a-b797-f026abe57804",
   "metadata": {},
   "source": [
    "## To do\n",
    "- ~~Descriptive statistics/viz for entire dataset~~\n",
    "- ~~Settle on centroid calculation method (handle outliers better, remove alt method?)~~\n",
    "- ~~POC visualisations and projections of parliamentary dimensions~~\n",
    "- Final visualisations and projections for all three venues\n",
    "    - Abstract this into functions\n",
    "- Compile populism-related words for constructing axes\n",
    "- Consistently change \"topic\" to \"party\"/\"cluster\" or the like"
   ]
  },
  {
   "cell_type": "code",
   "execution_count": 1,
   "id": "c05d8fdb-6e05-4234-a5d2-d78f07ec6cf5",
   "metadata": {},
   "outputs": [
    {
     "name": "stdout",
     "output_type": "stream",
     "text": [
      "Found existing installation: politician2vec 0.0.1\n",
      "Uninstalling politician2vec-0.0.1:\n",
      "  Successfully uninstalled politician2vec-0.0.1\n",
      "Note: you may need to restart the kernel to use updated packages.\n"
     ]
    }
   ],
   "source": [
    "%pip uninstall politician2vec -y"
   ]
  },
  {
   "cell_type": "code",
   "execution_count": 2,
   "id": "c5fe62bc-30f3-4a7f-b2c5-82062cd7abdb",
   "metadata": {},
   "outputs": [
    {
     "name": "stdout",
     "output_type": "stream",
     "text": [
      "Collecting git+ssh://****@github.com/mathiasbruun/politician2vec.git\n",
      "  Cloning ssh://****@github.com/mathiasbruun/politician2vec.git to /private/var/folders/8q/02vc3fzn3r1fv7wzycyspjz80000gn/T/pip-req-build-7_1xy0e5\n",
      "  Running command git clone -q 'ssh://****@github.com/mathiasbruun/politician2vec.git' /private/var/folders/8q/02vc3fzn3r1fv7wzycyspjz80000gn/T/pip-req-build-7_1xy0e5\n",
      "Building wheels for collected packages: politician2vec\n",
      "  Building wheel for politician2vec (setup.py) ... \u001b[?25ldone\n",
      "\u001b[?25h  Created wheel for politician2vec: filename=politician2vec-0.0.1-py3-none-any.whl size=27418 sha256=54eca48890b4bf060429ce14c88f06e1c5172f1c5298f82fef97eb3503aa62e5\n",
      "  Stored in directory: /private/var/folders/8q/02vc3fzn3r1fv7wzycyspjz80000gn/T/pip-ephem-wheel-cache-64_l8cex/wheels/ac/44/62/b0b3ddf2882cd1b1d1cc4e060c5c525b951ae01496d65cd472\n",
      "Successfully built politician2vec\n",
      "Installing collected packages: politician2vec\n",
      "Successfully installed politician2vec-0.0.1\n",
      "Note: you may need to restart the kernel to use updated packages.\n"
     ]
    }
   ],
   "source": [
    "%pip install git+ssh://git@github.com/mathiasbruun/politician2vec.git"
   ]
  },
  {
   "cell_type": "code",
   "execution_count": 195,
   "id": "bad045e5-4959-4813-a433-383760381766",
   "metadata": {},
   "outputs": [],
   "source": [
    "from politician2vec import Politician2Vec\n",
    "from politician2vec.utils import *\n",
    "import pickle\n",
    "import pandas as pd\n",
    "import numpy as np\n",
    "import multiprocessing\n",
    "available_workers = multiprocessing.cpu_count()\n",
    "import matplotlib.pyplot as plt"
   ]
  },
  {
   "cell_type": "code",
   "execution_count": 4,
   "id": "3f04b4d9-247d-4bc1-b9ad-ad7ce97ef9c2",
   "metadata": {},
   "outputs": [],
   "source": [
    "test_data_path = 'data/clean/combined/subset_party_imputed_v2.p'"
   ]
  },
  {
   "cell_type": "code",
   "execution_count": 5,
   "id": "d80504e4-37cf-4c05-825f-6f5f4e9587af",
   "metadata": {},
   "outputs": [
    {
     "data": {
      "text/plain": [
       "(349594, 7)"
      ]
     },
     "execution_count": 5,
     "metadata": {},
     "output_type": "execute_result"
    }
   ],
   "source": [
    "with open(test_data_path, 'rb') as p:\n",
    "    test_data = pickle.load(p)\n",
    "\n",
    "test_data.shape"
   ]
  },
  {
   "cell_type": "code",
   "execution_count": 175,
   "id": "66235c0e-9843-4e4c-8b58-69d2f3c0b37d",
   "metadata": {},
   "outputs": [],
   "source": [
    "# parl_data = test_data.loc[\n",
    "#     (test_data['source'] == 'parliament') &\n",
    "#     ~(test_data['party'].isin(['SIU', 'NQ', 'JF', 'SP']))\n",
    "# ]\n",
    "#\n",
    "# tw_data = test_data.loc[\n",
    "#     test_data['source'] == 'twitter'\n",
    "# ]\n",
    "#\n",
    "meta_data = test_data.loc[\n",
    "    (test_data['source'] == 'meta') &\n",
    "    test_data['doc'].notna()\n",
    "]"
   ]
  },
  {
   "cell_type": "code",
   "execution_count": 7,
   "id": "ad98caa3-a8b4-4f6a-859f-9df0bf39655e",
   "metadata": {},
   "outputs": [
    {
     "data": {
      "text/plain": [
       "V      7182\n",
       "SF     4900\n",
       "S      3465\n",
       "LA     3424\n",
       "KF     2825\n",
       "DF     2059\n",
       "NB     1909\n",
       "RV     1565\n",
       "EL      823\n",
       "FG      689\n",
       "ALT     175\n",
       "DD       76\n",
       "M        28\n",
       "KD       18\n",
       "SIU       9\n",
       "UFG       5\n",
       "Name: party, dtype: int64"
      ]
     },
     "execution_count": 7,
     "metadata": {},
     "output_type": "execute_result"
    }
   ],
   "source": [
    "meta_data['party'].value_counts(dropna = False)"
   ]
  },
  {
   "cell_type": "code",
   "execution_count": 176,
   "id": "08f3e52e-b23a-4712-8526-9b4b6a346940",
   "metadata": {},
   "outputs": [],
   "source": [
    "grouped_docs = meta_data.groupby(['full_name', 'party'])['doc'].apply('. '.join).reset_index()"
   ]
  },
  {
   "cell_type": "code",
   "execution_count": 177,
   "id": "faf6a41d-5de4-44c6-9a6d-cc65d8cb60f5",
   "metadata": {},
   "outputs": [],
   "source": [
    "docs = [doc for doc in grouped_docs.doc]\n",
    "parties = np.array([party for party in grouped_docs.party])"
   ]
  },
  {
   "cell_type": "code",
   "execution_count": 10,
   "id": "5f2c5f8d-f036-4995-a1d6-e28b031dd924",
   "metadata": {},
   "outputs": [],
   "source": [
    "ngram_options = {\n",
    "    'min_count': 5,\n",
    "    'threshold': 1,\n",
    "    'delimiter': ' '\n",
    "}"
   ]
  },
  {
   "cell_type": "code",
   "execution_count": 12,
   "id": "f709bbde-4760-455d-87ea-cdcfe1e2ee90",
   "metadata": {},
   "outputs": [
    {
     "name": "stderr",
     "output_type": "stream",
     "text": [
      "2022-11-26 17:03:09,568 - politician2vec - INFO - Pre-processing documents for training\n",
      "2022-11-26 17:03:27,115 - politician2vec - INFO - Creating joint document/word embedding\n",
      "2022-11-26 17:06:44,001 - politician2vec - INFO - Estimating party positions using mean...\n",
      "2022-11-26 17:06:44,263 - politician2vec - INFO - All done!\n"
     ]
    }
   ],
   "source": [
    "pol2vec_model = Politician2Vec(\n",
    "    documents = docs,\n",
    "    custom_clusters = parties,\n",
    "    party_inference_method = 'mean',\n",
    "    tokenizer = preproc_docs,\n",
    "    embedding_model = 'doc2vec',\n",
    "    min_count = 50,\n",
    "    ngram_vocab = True,\n",
    "    ngram_vocab_args = ngram_options,\n",
    "    speed = 'fast-learn', # CHANGE FOR REAL RUNS\n",
    "    workers = available_workers\n",
    "    #doc2vec_vector_size = 300,\n",
    "    #doc2vec_window = 8,\n",
    "    #doc2vec_samples_threshold = 1e-5\n",
    ")"
   ]
  },
  {
   "cell_type": "code",
   "execution_count": 15,
   "id": "ed72bac1-cd3b-48b6-8f50-dae9893bc8a1",
   "metadata": {},
   "outputs": [],
   "source": [
    "# TODO: This should probably be implemented as a method of the Politician2Vec class\n",
    "#\n",
    "# NOTE: As of 2022-11-26, it has been decided to keep party 'inference' parallel to the original top2vec implementation.\n",
    "#       This funtionality may prove useful in outlier detection, but--importantly--it requires the ex ante known party affilaitions\n",
    "#       to be mapped to model output ex post instead of relying on inferred parties. Specifically, the 'estimated' party affiliations\n",
    "#       may vary from ground truth labels in the case of semantically outlying politicians with only few data points.\n",
    "\n",
    "def inspect_topic(politician2vec_model, topic_idx, n_docs=None, query_substr=None):\n",
    "    '''\n",
    "    Print top words and top docs for a given\n",
    "    topic.\n",
    "    -------\n",
    "    manual_num (int):  automatically assigned topic number (i.e. 0-indexed).\n",
    "    \n",
    "    n_docs (int, optional): n top documents to print for a given topic.\n",
    "        Default is to print all docs within a given topic.\n",
    "    \n",
    "    query_substr (str, optional): if specified, only documents containing\n",
    "        this substring will be printed. Cannot be specified with n_docs,\n",
    "        as this would return only results within a subset of topic docs.\n",
    "    '''\n",
    "\n",
    "    num_topics = politician2vec_model.get_num_topics()\n",
    "    topic_words, word_scores, topic_nums = politician2vec_model.get_topics(num_topics)\n",
    "\n",
    "    # Get topic sizes so we know max n docs\n",
    "    topic_sizes, topic_nums = politician2vec_model.get_topic_sizes()\n",
    "    docs_to_return = topic_sizes[topic_idx]\n",
    "\n",
    "    # Override n docs to return, if specified\n",
    "    if n_docs:\n",
    "        docs_to_return = n_docs\n",
    "\n",
    "    # Get docs for input topic id\n",
    "    documents, document_scores, document_ids = politician2vec_model.search_documents_by_topic(\n",
    "        topic_num=topic_idx,\n",
    "        num_docs=docs_to_return\n",
    "        )\n",
    "\n",
    "    # Limit output to docs containign certain substring, if specified\n",
    "    if query_substr and n_docs:\n",
    "        raise Exception('Please do NOT specify n_docs with substring query!\\nOtherwise the search is only carried out for a subset of topic docs.')\n",
    "    \n",
    "    # Throw exception if substring query attempted on subset of docs!\n",
    "    elif query_substr:\n",
    "        documents = [doc for doc in documents if query_substr in doc.lower()]\n",
    "\n",
    "    # Print output\n",
    "    print('--- TOP 50 WORDS ---\\n', topic_words[topic_idx], '\\n')\n",
    "\n",
    "    print(f'--- TOP {docs_to_return} DOCS. SUBSTRING QUERY: {query_substr} (n = {len(documents)}) ---\\n', documents)"
   ]
  },
  {
   "cell_type": "code",
   "execution_count": 13,
   "id": "1dd4df12-f6d3-4be7-b7dc-0a5767db72fd",
   "metadata": {},
   "outputs": [
    {
     "data": {
      "text/plain": [
       "[('seier', 0.5158143639564514),\n",
       " ('nye', 0.5008494853973389),\n",
       " ('christensen', 0.443435400724411),\n",
       " ('peter', 0.4114103317260742),\n",
       " ('partier', 0.3841729760169983),\n",
       " ('udlændinge', 0.3797382414340973),\n",
       " ('borgerliges', 0.3787204325199127),\n",
       " ('politikerne', 0.3783581554889679),\n",
       " ('udvises', 0.36112114787101746),\n",
       " ('dom', 0.3538636863231659),\n",
       " ('asylstop', 0.35204508900642395),\n",
       " ('parti', 0.3434620797634125),\n",
       " ('politikernes', 0.341133177280426),\n",
       " ('plejer', 0.33092546463012695),\n",
       " ('islam', 0.3276260495185852),\n",
       " ('venstrefløjen', 0.32470881938934326),\n",
       " ('boje', 0.32467907667160034),\n",
       " ('danske', 0.321563184261322),\n",
       " ('mathiesen', 0.3173646330833435),\n",
       " ('kriminelle', 0.31686580181121826),\n",
       " ('forklarer', 0.31563183665275574),\n",
       " ('🦢', 0.3140852153301239),\n",
       " ('nedlægge', 0.3104330897331238),\n",
       " ('jobcentrene', 0.309643030166626),\n",
       " ('uacceptabelt', 0.3081356883049011)]"
      ]
     },
     "execution_count": 13,
     "metadata": {},
     "output_type": "execute_result"
    }
   ],
   "source": [
    "word_vectors = pol2vec_model.model.wv\n",
    "word_vectors.most_similar(positive = ['borgerlige'], topn = 25)"
   ]
  },
  {
   "cell_type": "code",
   "execution_count": 126,
   "id": "c63203b3-96b8-4b2d-b049-f0b6a608a344",
   "metadata": {
    "collapsed": true,
    "jupyter": {
     "outputs_hidden": true
    },
    "tags": []
   },
   "outputs": [
    {
     "name": "stdout",
     "output_type": "stream",
     "text": [
      "--- TOP 50 WORDS ---\n",
      " ['sammen gode' '💙 håber' 'gode lokale' 'gode arbejdspladser'\n",
      " 'sammen venstres' 'god påske' 'håber se' 'arbejdspladseri hele'\n",
      " 'møde nye' 'store politiske' 'gerne 😊' 'skattehop venstre'\n",
      " 'venstres forårsmøde' 'godt humør' 'venstres politiske' 'må arbejde'\n",
      " 'se mere' 'politik synes' 'venstre garant' 'gode ældreliv' 'politik går'\n",
      " 'venstre håber' 'ved valget' 'politiske arbejde' 'venstres politik'\n",
      " 'politik indefra' 'glæder helt' 'kom regering'\n",
      " 'venstres folketingsgruppe' 'aften 😊' 'politiske sæson'\n",
      " 'politiske administrative' 'godt valg' 'bla gode' 'lokale kandidater'\n",
      " 'bedre sammen' 'venstre dag' 'gang valgkampen' 'mindet kæmpe'\n",
      " 'gode folkelige' 'siden finansminister' 'ved siden'\n",
      " 'vejen christiansborg' 'lidt klem' '😊 god' 'venstre danmarks' 'gang lige'\n",
      " 'kom folketinget' '💙 bor' 'sammen andre'] \n",
      "\n",
      "--- TOP 1 DOCS. SUBSTRING QUERY: None (n = 1) ---\n",
      " ['Søren Gade er folketingskandidat for Venstre i Midt- og Vestjylland.Søren Gade er folketingskandidat for Venstre i Midt- og Vestjylland.. Søren Gade er folketingskandidat for Venstre i Midt- og Vestjylland.Søren Gade er folketingskandidat for Venstre i Midt- og Vestjylland.. Søren Gade er folketingskandidat for Venstre i Midt- og Vestjylland.. Søren Gade er folketingskandidat for Venstre i Midt-og Vestjylland.. Søren Gade er folketingskandidat for Venstre i Midt- og Vestjylland.. Søren Gade er folketingskandidat for Venstre i Midt- og Vestjylland.. Søren Gade er fra Holstebro og stiller op til Folketinget for Venstre i Midt - og VestjyllandSøren Gade er fra Holstebro og stiller op til Folketinget for Venstre i Midt - og Vestjylland']\n"
     ]
    }
   ],
   "source": [
    "inspect_topic(pol2vec_model, 1, n_docs=1, query_substr=None)"
   ]
  },
  {
   "cell_type": "code",
   "execution_count": 179,
   "id": "a2c8507a-8782-4d52-a2b4-41fab473f432",
   "metadata": {},
   "outputs": [],
   "source": [
    "model_path = 'embedding_models/politician2vec_test_meta_v1.txt'"
   ]
  },
  {
   "cell_type": "code",
   "execution_count": 20,
   "id": "fd159a62-0ece-47c6-8b77-6e3c32b2a46f",
   "metadata": {},
   "outputs": [],
   "source": [
    "pol2vec_model.save(model_path)"
   ]
  },
  {
   "cell_type": "markdown",
   "id": "919919b8",
   "metadata": {},
   "source": [
    "_____"
   ]
  },
  {
   "cell_type": "markdown",
   "id": "0622949d-fbea-486a-b7d8-37e4a2e165b4",
   "metadata": {},
   "source": [
    "## Viz dev"
   ]
  },
  {
   "cell_type": "code",
   "execution_count": 180,
   "id": "53ac4339-ab37-41ca-9aaf-77c0f93ea5bf",
   "metadata": {},
   "outputs": [
    {
     "name": "stdout",
     "output_type": "stream",
     "text": [
      "Loading Politician2Vec model...\n",
      "Retrieving document embedding...\n",
      "All done!\n"
     ]
    }
   ],
   "source": [
    "pol2vec_model, doc2vec_model = load_politician2vec_from_txt(model_path)"
   ]
  },
  {
   "cell_type": "code",
   "execution_count": 70,
   "id": "4e4c9095-3864-4dbc-95e2-ce5cebb325da",
   "metadata": {},
   "outputs": [],
   "source": [
    "n_words = len(doc2vec_model.wv)\n",
    "n_docs = len(doc2vec_model.dv)\n",
    "vocab = pol2vec_model.vocab"
   ]
  },
  {
   "cell_type": "code",
   "execution_count": 417,
   "id": "912b443b-38b9-4ea2-841e-a1d8a7d89e34",
   "metadata": {},
   "outputs": [],
   "source": [
    "## TWITTER DEEPLEARN\n",
    "#topic_labels = {\n",
    "#    0: 'Venstre',\n",
    "#    1: 'Socialdemokratiet',\n",
    "#    2: 'Dansk_Folkeparti',\n",
    "#    3: 'Enhedslisten',\n",
    "#    4: 'Radikale_Venstre',\n",
    "#    5: 'SF',\n",
    "#    6: 'Konservative',\n",
    "#    7: 'Liberal_Alliance',\n",
    "#    8: 'Alternativet',\n",
    "#    9: 'Nye_Borgerlige',\n",
    "#    10: 'Frie_Grønne',\n",
    "#    11: 'Kristendemokraterne',\n",
    "#    12: 'Moderaterne'\n",
    "#}"
   ]
  },
  {
   "cell_type": "code",
   "execution_count": 419,
   "id": "2de68d38-25a3-4729-86f5-861f03c43e8c",
   "metadata": {},
   "outputs": [],
   "source": [
    "## PARLIAMENT FASTLEARN\n",
    "#topic_labels = {\n",
    "#    0: 'Socialdemokratiet',\n",
    "#    1: 'Venstre',\n",
    "#    2: 'Dansk_Folkeparti',\n",
    "#    3: 'Enhedslisten',\n",
    "#    4: 'Radikale Venstre',\n",
    "#    5: 'SF',\n",
    "#    6: 'Konservative',\n",
    "#    7: 'Liberal_Alliance',\n",
    "#    8: 'UFG',\n",
    "#    9: 'Alternativet',\n",
    "#    10: 'Danmarksdemokraterne',\n",
    "#    11: 'Nye Borgerlige',\n",
    "#    12: 'Frie Grønne',\n",
    "#    13: 'Moderaterne',\n",
    "#    14: 'Kristendemokraterne'\n",
    "#}"
   ]
  },
  {
   "cell_type": "code",
   "execution_count": 127,
   "id": "3db0082b",
   "metadata": {},
   "outputs": [],
   "source": [
    "# META FASTLEARN\n",
    "topic_labels = {\n",
    "   0: 'Socialdemokratiet',\n",
    "   1: 'Venstre',\n",
    "   2: 'Dansk_Folkeparti',\n",
    "   3: 'SF',\n",
    "   4: 'Enhedslisten',\n",
    "   5: 'Radikale_Venstre',\n",
    "   6: 'Konservative',\n",
    "   7: 'Liberal_Alliance',\n",
    "   8: 'Alternativet',\n",
    "   9: 'Danmarksdemokraterne',\n",
    "   10: 'Nye_Borgerlige',\n",
    "   11: 'UFG',\n",
    "   12: 'Frie_Grønne',\n",
    "   13: 'Kristendemokraterne',\n",
    "   14: 'Grønlandsk',\n",
    "   15: 'Moderaterne'\n",
    "}"
   ]
  },
  {
   "cell_type": "code",
   "execution_count": 181,
   "id": "d3bf42bf-c492-498b-bba4-63978cbddfe9",
   "metadata": {},
   "outputs": [
    {
     "name": "stdout",
     "output_type": "stream",
     "text": [
      "Topic sizes before filtering (topic 16 is \"Other\"):\n",
      "\n",
      "[[ 0 43]\n",
      " [ 1 40]\n",
      " [ 2 22]\n",
      " [ 3 16]\n",
      " [ 4 15]\n",
      " [ 5 14]\n",
      " [ 6 14]\n",
      " [ 7 10]\n",
      " [ 8  6]\n",
      " [ 9  5]\n",
      " [10  5]\n",
      " [11  4]\n",
      " [12  3]\n",
      " [13  2]\n",
      " [14  1]\n",
      " [15  1]]\n"
     ]
    }
   ],
   "source": [
    "topic_df = get_doc_topic_df(\n",
    "    pol2vec_model,\n",
    "    no_substantive_topics = 16,\n",
    "    snippets = True\n",
    ")"
   ]
  },
  {
   "cell_type": "code",
   "execution_count": 158,
   "id": "a2730f44",
   "metadata": {},
   "outputs": [
    {
     "data": {
      "application/javascript": "(function(root) {\n  function now() {\n    return new Date();\n  }\n\n  const force = true;\n\n  if (typeof root._bokeh_onload_callbacks === \"undefined\" || force === true) {\n    root._bokeh_onload_callbacks = [];\n    root._bokeh_is_loading = undefined;\n  }\n\nconst JS_MIME_TYPE = 'application/javascript';\n  const HTML_MIME_TYPE = 'text/html';\n  const EXEC_MIME_TYPE = 'application/vnd.bokehjs_exec.v0+json';\n  const CLASS_NAME = 'output_bokeh rendered_html';\n\n  /**\n   * Render data to the DOM node\n   */\n  function render(props, node) {\n    const script = document.createElement(\"script\");\n    node.appendChild(script);\n  }\n\n  /**\n   * Handle when an output is cleared or removed\n   */\n  function handleClearOutput(event, handle) {\n    const cell = handle.cell;\n\n    const id = cell.output_area._bokeh_element_id;\n    const server_id = cell.output_area._bokeh_server_id;\n    // Clean up Bokeh references\n    if (id != null && id in Bokeh.index) {\n      Bokeh.index[id].model.document.clear();\n      delete Bokeh.index[id];\n    }\n\n    if (server_id !== undefined) {\n      // Clean up Bokeh references\n      const cmd_clean = \"from bokeh.io.state import curstate; print(curstate().uuid_to_server['\" + server_id + \"'].get_sessions()[0].document.roots[0]._id)\";\n      cell.notebook.kernel.execute(cmd_clean, {\n        iopub: {\n          output: function(msg) {\n            const id = msg.content.text.trim();\n            if (id in Bokeh.index) {\n              Bokeh.index[id].model.document.clear();\n              delete Bokeh.index[id];\n            }\n          }\n        }\n      });\n      // Destroy server and session\n      const cmd_destroy = \"import bokeh.io.notebook as ion; ion.destroy_server('\" + server_id + \"')\";\n      cell.notebook.kernel.execute(cmd_destroy);\n    }\n  }\n\n  /**\n   * Handle when a new output is added\n   */\n  function handleAddOutput(event, handle) {\n    const output_area = handle.output_area;\n    const output = handle.output;\n\n    // limit handleAddOutput to display_data with EXEC_MIME_TYPE content only\n    if ((output.output_type != \"display_data\") || (!Object.prototype.hasOwnProperty.call(output.data, EXEC_MIME_TYPE))) {\n      return\n    }\n\n    const toinsert = output_area.element.find(\".\" + CLASS_NAME.split(' ')[0]);\n\n    if (output.metadata[EXEC_MIME_TYPE][\"id\"] !== undefined) {\n      toinsert[toinsert.length - 1].firstChild.textContent = output.data[JS_MIME_TYPE];\n      // store reference to embed id on output_area\n      output_area._bokeh_element_id = output.metadata[EXEC_MIME_TYPE][\"id\"];\n    }\n    if (output.metadata[EXEC_MIME_TYPE][\"server_id\"] !== undefined) {\n      const bk_div = document.createElement(\"div\");\n      bk_div.innerHTML = output.data[HTML_MIME_TYPE];\n      const script_attrs = bk_div.children[0].attributes;\n      for (let i = 0; i < script_attrs.length; i++) {\n        toinsert[toinsert.length - 1].firstChild.setAttribute(script_attrs[i].name, script_attrs[i].value);\n        toinsert[toinsert.length - 1].firstChild.textContent = bk_div.children[0].textContent\n      }\n      // store reference to server id on output_area\n      output_area._bokeh_server_id = output.metadata[EXEC_MIME_TYPE][\"server_id\"];\n    }\n  }\n\n  function register_renderer(events, OutputArea) {\n\n    function append_mime(data, metadata, element) {\n      // create a DOM node to render to\n      const toinsert = this.create_output_subarea(\n        metadata,\n        CLASS_NAME,\n        EXEC_MIME_TYPE\n      );\n      this.keyboard_manager.register_events(toinsert);\n      // Render to node\n      const props = {data: data, metadata: metadata[EXEC_MIME_TYPE]};\n      render(props, toinsert[toinsert.length - 1]);\n      element.append(toinsert);\n      return toinsert\n    }\n\n    /* Handle when an output is cleared or removed */\n    events.on('clear_output.CodeCell', handleClearOutput);\n    events.on('delete.Cell', handleClearOutput);\n\n    /* Handle when a new output is added */\n    events.on('output_added.OutputArea', handleAddOutput);\n\n    /**\n     * Register the mime type and append_mime function with output_area\n     */\n    OutputArea.prototype.register_mime_type(EXEC_MIME_TYPE, append_mime, {\n      /* Is output safe? */\n      safe: true,\n      /* Index of renderer in `output_area.display_order` */\n      index: 0\n    });\n  }\n\n  // register the mime type if in Jupyter Notebook environment and previously unregistered\n  if (root.Jupyter !== undefined) {\n    const events = require('base/js/events');\n    const OutputArea = require('notebook/js/outputarea').OutputArea;\n\n    if (OutputArea.prototype.mime_types().indexOf(EXEC_MIME_TYPE) == -1) {\n      register_renderer(events, OutputArea);\n    }\n  }\n  if (typeof (root._bokeh_timeout) === \"undefined\" || force === true) {\n    root._bokeh_timeout = Date.now() + 5000;\n    root._bokeh_failed_load = false;\n  }\n\n  const NB_LOAD_WARNING = {'data': {'text/html':\n     \"<div style='background-color: #fdd'>\\n\"+\n     \"<p>\\n\"+\n     \"BokehJS does not appear to have successfully loaded. If loading BokehJS from CDN, this \\n\"+\n     \"may be due to a slow or bad network connection. Possible fixes:\\n\"+\n     \"</p>\\n\"+\n     \"<ul>\\n\"+\n     \"<li>re-rerun `output_notebook()` to attempt to load from CDN again, or</li>\\n\"+\n     \"<li>use INLINE resources instead, as so:</li>\\n\"+\n     \"</ul>\\n\"+\n     \"<code>\\n\"+\n     \"from bokeh.resources import INLINE\\n\"+\n     \"output_notebook(resources=INLINE)\\n\"+\n     \"</code>\\n\"+\n     \"</div>\"}};\n\n  function display_loaded() {\n    const el = document.getElementById(null);\n    if (el != null) {\n      el.textContent = \"BokehJS is loading...\";\n    }\n    if (root.Bokeh !== undefined) {\n      if (el != null) {\n        el.textContent = \"BokehJS \" + root.Bokeh.version + \" successfully loaded.\";\n      }\n    } else if (Date.now() < root._bokeh_timeout) {\n      setTimeout(display_loaded, 100)\n    }\n  }\n\n  function run_callbacks() {\n    try {\n      root._bokeh_onload_callbacks.forEach(function(callback) {\n        if (callback != null)\n          callback();\n      });\n    } finally {\n      delete root._bokeh_onload_callbacks\n    }\n    console.debug(\"Bokeh: all callbacks have finished\");\n  }\n\n  function load_libs(css_urls, js_urls, callback) {\n    if (css_urls == null) css_urls = [];\n    if (js_urls == null) js_urls = [];\n\n    root._bokeh_onload_callbacks.push(callback);\n    if (root._bokeh_is_loading > 0) {\n      console.debug(\"Bokeh: BokehJS is being loaded, scheduling callback at\", now());\n      return null;\n    }\n    if (js_urls == null || js_urls.length === 0) {\n      run_callbacks();\n      return null;\n    }\n    console.debug(\"Bokeh: BokehJS not loaded, scheduling load and callback at\", now());\n    root._bokeh_is_loading = css_urls.length + js_urls.length;\n\n    function on_load() {\n      root._bokeh_is_loading--;\n      if (root._bokeh_is_loading === 0) {\n        console.debug(\"Bokeh: all BokehJS libraries/stylesheets loaded\");\n        run_callbacks()\n      }\n    }\n\n    function on_error(url) {\n      console.error(\"failed to load \" + url);\n    }\n\n    for (let i = 0; i < css_urls.length; i++) {\n      const url = css_urls[i];\n      const element = document.createElement(\"link\");\n      element.onload = on_load;\n      element.onerror = on_error.bind(null, url);\n      element.rel = \"stylesheet\";\n      element.type = \"text/css\";\n      element.href = url;\n      console.debug(\"Bokeh: injecting link tag for BokehJS stylesheet: \", url);\n      document.body.appendChild(element);\n    }\n\n    for (let i = 0; i < js_urls.length; i++) {\n      const url = js_urls[i];\n      const element = document.createElement('script');\n      element.onload = on_load;\n      element.onerror = on_error.bind(null, url);\n      element.async = false;\n      element.src = url;\n      console.debug(\"Bokeh: injecting script tag for BokehJS library: \", url);\n      document.head.appendChild(element);\n    }\n  };\n\n  function inject_raw_css(css) {\n    const element = document.createElement(\"style\");\n    element.appendChild(document.createTextNode(css));\n    document.body.appendChild(element);\n  }\n\n  const js_urls = [\"https://cdn.bokeh.org/bokeh/release/bokeh-2.4.3.min.js\", \"https://cdn.bokeh.org/bokeh/release/bokeh-gl-2.4.3.min.js\", \"https://cdn.bokeh.org/bokeh/release/bokeh-widgets-2.4.3.min.js\", \"https://cdn.bokeh.org/bokeh/release/bokeh-tables-2.4.3.min.js\", \"https://cdn.bokeh.org/bokeh/release/bokeh-mathjax-2.4.3.min.js\", \"https://unpkg.com/@holoviz/panel@0.14.1/dist/panel.min.js\"];\n  const css_urls = [];\n\n  const inline_js = [    function(Bokeh) {\n      Bokeh.set_log_level(\"info\");\n    },\nfunction(Bokeh) {\n    }\n  ];\n\n  function run_inline_js() {\n    if (root.Bokeh !== undefined || force === true) {\n          for (let i = 0; i < inline_js.length; i++) {\n      inline_js[i].call(root, root.Bokeh);\n    }\n} else if (Date.now() < root._bokeh_timeout) {\n      setTimeout(run_inline_js, 100);\n    } else if (!root._bokeh_failed_load) {\n      console.log(\"Bokeh: BokehJS failed to load within specified timeout.\");\n      root._bokeh_failed_load = true;\n    } else if (force !== true) {\n      const cell = $(document.getElementById(null)).parents('.cell').data().cell;\n      cell.output_area.append_execute_result(NB_LOAD_WARNING)\n    }\n  }\n\n  if (root._bokeh_is_loading === 0) {\n    console.debug(\"Bokeh: BokehJS loaded, going straight to plotting\");\n    run_inline_js();\n  } else {\n    load_libs(css_urls, js_urls, function() {\n      console.debug(\"Bokeh: BokehJS plotting callback run at\", now());\n      run_inline_js();\n    });\n  }\n}(window));",
      "application/vnd.bokehjs_load.v0+json": ""
     },
     "metadata": {},
     "output_type": "display_data"
    }
   ],
   "source": [
    "import umap\n",
    "import umap.plot\n",
    "umap.plot.output_notebook(hide_banner=True)"
   ]
  },
  {
   "cell_type": "code",
   "execution_count": 159,
   "id": "b91c5244",
   "metadata": {},
   "outputs": [],
   "source": [
    "colormap = {\n",
    "    'S': '#C8042C',\n",
    "    'V': '#1A4289',\n",
    "    'DF': '#265BA4',\n",
    "    'EL': '#BF2850',\n",
    "    'SF': '#B42D27',\n",
    "    'KF': '#24573E',\n",
    "    'RV': '#D82E8A',\n",
    "    'LA': '#E7B657',\n",
    "    'ALT': '#75FB4C',\n",
    "    'NB': '#1E4B57',\n",
    "    'KD': '#566197',\n",
    "    'FG': '#E4F04E',\n",
    "    'DD': '#3470BC',\n",
    "    'M': '#7A308B',\n",
    "    'SIU': 'lightgrey',\n",
    "    'UFG': 'lightgrey'\n",
    "}"
   ]
  },
  {
   "cell_type": "code",
   "execution_count": 182,
   "id": "4fc9d991",
   "metadata": {},
   "outputs": [],
   "source": [
    "topic_df['party'] = parties\n",
    "topic_df['color'] = topic_df['party'].map(colormap)\n",
    "cmap = topic_df[['snippet', 'color']].set_index('snippet').to_dict()\n",
    "topic_df['full_name'] = grouped_docs['full_name']"
   ]
  },
  {
   "cell_type": "code",
   "execution_count": 183,
   "id": "0bab4b24",
   "metadata": {},
   "outputs": [
    {
     "data": {
      "text/html": [
       "<div>\n",
       "<style scoped>\n",
       "    .dataframe tbody tr th:only-of-type {\n",
       "        vertical-align: middle;\n",
       "    }\n",
       "\n",
       "    .dataframe tbody tr th {\n",
       "        vertical-align: top;\n",
       "    }\n",
       "\n",
       "    .dataframe thead th {\n",
       "        text-align: right;\n",
       "    }\n",
       "</style>\n",
       "<table border=\"1\" class=\"dataframe\">\n",
       "  <thead>\n",
       "    <tr style=\"text-align: right;\">\n",
       "      <th></th>\n",
       "      <th>doc</th>\n",
       "      <th>top</th>\n",
       "      <th>snippet</th>\n",
       "      <th>party</th>\n",
       "      <th>color</th>\n",
       "      <th>full_name</th>\n",
       "    </tr>\n",
       "  </thead>\n",
       "  <tbody>\n",
       "    <tr>\n",
       "      <th>0</th>\n",
       "      <td>0</td>\n",
       "      <td>14</td>\n",
       "      <td>✨Sapiillutit inuiaqatigiinni peqataasarit.✨  M...</td>\n",
       "      <td>SIU</td>\n",
       "      <td>lightgrey</td>\n",
       "      <td>Aki-Matilda Høegh-Dam</td>\n",
       "    </tr>\n",
       "    <tr>\n",
       "      <th>1</th>\n",
       "      <td>1</td>\n",
       "      <td>7</td>\n",
       "      <td>Røde Alex har kun hånlig latter til overs for ...</td>\n",
       "      <td>LA</td>\n",
       "      <td>#E7B657</td>\n",
       "      <td>Alex Vanopslagh</td>\n",
       "    </tr>\n",
       "    <tr>\n",
       "      <th>2</th>\n",
       "      <td>2</td>\n",
       "      <td>8</td>\n",
       "      <td>Til tonerne af jazz og smagen af lækker cider ...</td>\n",
       "      <td>ALT</td>\n",
       "      <td>#75FB4C</td>\n",
       "      <td>Alternativet</td>\n",
       "    </tr>\n",
       "    <tr>\n",
       "      <th>3</th>\n",
       "      <td>3</td>\n",
       "      <td>0</td>\n",
       "      <td>Udvikling til hjemstavnen. Vestjylland skal ig...</td>\n",
       "      <td>S</td>\n",
       "      <td>#C8042C</td>\n",
       "      <td>Anders Kronborg</td>\n",
       "    </tr>\n",
       "    <tr>\n",
       "      <th>4</th>\n",
       "      <td>4</td>\n",
       "      <td>5</td>\n",
       "      <td>Hvor dum og uretfærdig kan vores udlændingelov...</td>\n",
       "      <td>RV</td>\n",
       "      <td>#D82E8A</td>\n",
       "      <td>Andreas Steenberg</td>\n",
       "    </tr>\n",
       "  </tbody>\n",
       "</table>\n",
       "</div>"
      ],
      "text/plain": [
       "   doc  top                                            snippet party  \\\n",
       "0    0   14  ✨Sapiillutit inuiaqatigiinni peqataasarit.✨  M...   SIU   \n",
       "1    1    7  Røde Alex har kun hånlig latter til overs for ...    LA   \n",
       "2    2    8  Til tonerne af jazz og smagen af lækker cider ...   ALT   \n",
       "3    3    0  Udvikling til hjemstavnen. Vestjylland skal ig...     S   \n",
       "4    4    5  Hvor dum og uretfærdig kan vores udlændingelov...    RV   \n",
       "\n",
       "       color              full_name  \n",
       "0  lightgrey  Aki-Matilda Høegh-Dam  \n",
       "1    #E7B657        Alex Vanopslagh  \n",
       "2    #75FB4C           Alternativet  \n",
       "3    #C8042C        Anders Kronborg  \n",
       "4    #D82E8A      Andreas Steenberg  "
      ]
     },
     "execution_count": 183,
     "metadata": {},
     "output_type": "execute_result"
    }
   ],
   "source": [
    "topic_df.head()"
   ]
  },
  {
   "cell_type": "code",
   "execution_count": 184,
   "id": "1bd235ae",
   "metadata": {},
   "outputs": [],
   "source": [
    "partyvecs = pol2vec_model.topic_vectors\n",
    "partylabels = pd.DataFrame(topic_labels.values(), columns = ['party'])"
   ]
  },
  {
   "cell_type": "code",
   "execution_count": 185,
   "id": "336e092a",
   "metadata": {},
   "outputs": [],
   "source": [
    "combined_hover = pd.concat([topic_df, partylabels]).reset_index(drop=True)\n",
    "combined_hover['color'] = combined_hover['color'].fillna('black')"
   ]
  },
  {
   "cell_type": "code",
   "execution_count": 224,
   "id": "a2e59f14",
   "metadata": {},
   "outputs": [],
   "source": [
    "mapper = umap.UMAP(\n",
    "    n_neighbors=15,\n",
    "    metric='cosine',\n",
    "    n_components=3\n",
    "    ).fit(\n",
    "        np.vstack([\n",
    "            pol2vec_model.document_vectors,\n",
    "            pol2vec_model.topic_vectors\n",
    "            ]))"
   ]
  },
  {
   "cell_type": "code",
   "execution_count": 149,
   "id": "8516ef60",
   "metadata": {},
   "outputs": [
    {
     "data": {
      "text/html": [
       "\n",
       "  <div class=\"bk-root\" id=\"3dc770be-5001-4e1b-808c-d44839d02fc6\" data-root-id=\"7826\"></div>\n"
      ]
     },
     "metadata": {},
     "output_type": "display_data"
    },
    {
     "data": {
      "application/javascript": "(function(root) {\n  function embed_document(root) {\n  const docs_json = {\"0bacee8b-2382-4d07-9634-5ce92a5b389e\":{\"defs\":[{\"extends\":null,\"module\":null,\"name\":\"ReactiveHTML1\",\"overrides\":[],\"properties\":[]},{\"extends\":null,\"module\":null,\"name\":\"FlexBox1\",\"overrides\":[],\"properties\":[{\"default\":\"flex-start\",\"kind\":null,\"name\":\"align_content\"},{\"default\":\"flex-start\",\"kind\":null,\"name\":\"align_items\"},{\"default\":\"row\",\"kind\":null,\"name\":\"flex_direction\"},{\"default\":\"wrap\",\"kind\":null,\"name\":\"flex_wrap\"},{\"default\":\"flex-start\",\"kind\":null,\"name\":\"justify_content\"}]},{\"extends\":null,\"module\":null,\"name\":\"GridStack1\",\"overrides\":[],\"properties\":[{\"default\":\"warn\",\"kind\":null,\"name\":\"mode\"},{\"default\":null,\"kind\":null,\"name\":\"ncols\"},{\"default\":null,\"kind\":null,\"name\":\"nrows\"},{\"default\":true,\"kind\":null,\"name\":\"allow_resize\"},{\"default\":true,\"kind\":null,\"name\":\"allow_drag\"},{\"default\":[],\"kind\":null,\"name\":\"state\"}]},{\"extends\":null,\"module\":null,\"name\":\"click1\",\"overrides\":[],\"properties\":[{\"default\":\"\",\"kind\":null,\"name\":\"terminal_output\"},{\"default\":\"\",\"kind\":null,\"name\":\"debug_name\"},{\"default\":0,\"kind\":null,\"name\":\"clears\"}]},{\"extends\":null,\"module\":null,\"name\":\"NotificationAreaBase1\",\"overrides\":[],\"properties\":[{\"default\":\"bottom-right\",\"kind\":null,\"name\":\"position\"},{\"default\":0,\"kind\":null,\"name\":\"_clear\"}]},{\"extends\":null,\"module\":null,\"name\":\"NotificationArea1\",\"overrides\":[],\"properties\":[{\"default\":[],\"kind\":null,\"name\":\"notifications\"},{\"default\":\"bottom-right\",\"kind\":null,\"name\":\"position\"},{\"default\":0,\"kind\":null,\"name\":\"_clear\"},{\"default\":[{\"background\":\"#ffc107\",\"icon\":{\"className\":\"fas fa-exclamation-triangle\",\"color\":\"white\",\"tagName\":\"i\"},\"type\":\"warning\"},{\"background\":\"#007bff\",\"icon\":{\"className\":\"fas fa-info-circle\",\"color\":\"white\",\"tagName\":\"i\"},\"type\":\"info\"}],\"kind\":null,\"name\":\"types\"}]},{\"extends\":null,\"module\":null,\"name\":\"Notification\",\"overrides\":[],\"properties\":[{\"default\":null,\"kind\":null,\"name\":\"background\"},{\"default\":3000,\"kind\":null,\"name\":\"duration\"},{\"default\":null,\"kind\":null,\"name\":\"icon\"},{\"default\":\"\",\"kind\":null,\"name\":\"message\"},{\"default\":null,\"kind\":null,\"name\":\"notification_type\"},{\"default\":false,\"kind\":null,\"name\":\"_destroyed\"}]},{\"extends\":null,\"module\":null,\"name\":\"TemplateActions1\",\"overrides\":[],\"properties\":[{\"default\":0,\"kind\":null,\"name\":\"open_modal\"},{\"default\":0,\"kind\":null,\"name\":\"close_modal\"}]},{\"extends\":null,\"module\":null,\"name\":\"MaterialTemplateActions1\",\"overrides\":[],\"properties\":[{\"default\":0,\"kind\":null,\"name\":\"open_modal\"},{\"default\":0,\"kind\":null,\"name\":\"close_modal\"}]}],\"roots\":{\"references\":[{\"attributes\":{\"background_fill_color\":\"white\",\"below\":[{\"id\":\"7835\"}],\"center\":[{\"id\":\"7838\"},{\"id\":\"7842\"}],\"height\":800,\"left\":[{\"id\":\"7839\"}],\"renderers\":[{\"id\":\"7863\"}],\"title\":{\"id\":\"8162\"},\"toolbar\":{\"id\":\"7851\"},\"width\":800,\"x_range\":{\"id\":\"7827\"},\"x_scale\":{\"id\":\"7831\"},\"y_range\":{\"id\":\"7829\"},\"y_scale\":{\"id\":\"7833\"}},\"id\":\"7826\",\"subtype\":\"Figure\",\"type\":\"Plot\"},{\"attributes\":{},\"id\":\"7836\",\"type\":\"BasicTicker\"},{\"attributes\":{\"tools\":[{\"id\":\"7843\"},{\"id\":\"7844\"},{\"id\":\"7845\"},{\"id\":\"7846\"},{\"id\":\"7847\"},{\"id\":\"7848\"},{\"id\":\"7850\"}]},\"id\":\"7851\",\"type\":\"Toolbar\"},{\"attributes\":{},\"id\":\"7833\",\"type\":\"LinearScale\"},{\"attributes\":{\"fill_alpha\":{\"value\":0.1},\"fill_color\":{\"field\":\"color\"},\"hatch_alpha\":{\"value\":0.1},\"hatch_color\":{\"field\":\"color\"},\"line_alpha\":{\"value\":0.1},\"line_color\":{\"field\":\"color\"},\"size\":{\"value\":7},\"x\":{\"field\":\"x\"},\"y\":{\"field\":\"y\"}},\"id\":\"7861\",\"type\":\"Circle\"},{\"attributes\":{\"source\":{\"id\":\"7825\"}},\"id\":\"7864\",\"type\":\"CDSView\"},{\"attributes\":{\"coordinates\":null,\"data_source\":{\"id\":\"7825\"},\"glyph\":{\"id\":\"7860\"},\"group\":null,\"hover_glyph\":null,\"muted_glyph\":{\"id\":\"7862\"},\"nonselection_glyph\":{\"id\":\"7861\"},\"view\":{\"id\":\"7864\"}},\"id\":\"7863\",\"type\":\"GlyphRenderer\"},{\"attributes\":{\"callback\":null,\"tooltips\":[[\"doc\",\"@{doc}\"],[\"top\",\"@{top}\"],[\"party\",\"@{party}\"],[\"color\",\"@{color}\"],[\"full_name\",\"@{full_name}\"]]},\"id\":\"7850\",\"type\":\"HoverTool\"},{\"attributes\":{\"coordinates\":null,\"formatter\":{\"id\":\"8168\"},\"group\":null,\"major_label_policy\":{\"id\":\"8169\"},\"ticker\":{\"id\":\"7836\"},\"visible\":false},\"id\":\"7835\",\"type\":\"LinearAxis\"},{\"attributes\":{},\"id\":\"8166\",\"type\":\"AllLabels\"},{\"attributes\":{},\"id\":\"7829\",\"type\":\"DataRange1d\"},{\"attributes\":{\"coordinates\":null,\"formatter\":{\"id\":\"8165\"},\"group\":null,\"major_label_policy\":{\"id\":\"8166\"},\"ticker\":{\"id\":\"7840\"},\"visible\":false},\"id\":\"7839\",\"type\":\"LinearAxis\"},{\"attributes\":{\"bottom_units\":\"screen\",\"coordinates\":null,\"fill_alpha\":0.5,\"fill_color\":\"lightgrey\",\"group\":null,\"left_units\":\"screen\",\"level\":\"overlay\",\"line_alpha\":1.0,\"line_color\":\"black\",\"line_dash\":[4,4],\"line_width\":2,\"right_units\":\"screen\",\"syncable\":false,\"top_units\":\"screen\"},\"id\":\"7849\",\"type\":\"BoxAnnotation\"},{\"attributes\":{},\"id\":\"7846\",\"type\":\"SaveTool\"},{\"attributes\":{},\"id\":\"7848\",\"type\":\"HelpTool\"},{\"attributes\":{},\"id\":\"8165\",\"type\":\"BasicTickFormatter\"},{\"attributes\":{\"fill_alpha\":{\"field\":\"alpha\"},\"fill_color\":{\"field\":\"color\"},\"hatch_alpha\":{\"field\":\"alpha\"},\"hatch_color\":{\"field\":\"color\"},\"line_alpha\":{\"field\":\"alpha\"},\"line_color\":{\"field\":\"color\"},\"size\":{\"value\":7},\"x\":{\"field\":\"x\"},\"y\":{\"field\":\"y\"}},\"id\":\"7860\",\"type\":\"Circle\"},{\"attributes\":{},\"id\":\"7843\",\"type\":\"PanTool\"},{\"attributes\":{\"overlay\":{\"id\":\"7849\"}},\"id\":\"7845\",\"type\":\"BoxZoomTool\"},{\"attributes\":{},\"id\":\"7831\",\"type\":\"LinearScale\"},{\"attributes\":{},\"id\":\"7827\",\"type\":\"DataRange1d\"},{\"attributes\":{\"axis\":{\"id\":\"7835\"},\"coordinates\":null,\"group\":null,\"ticker\":null,\"visible\":false},\"id\":\"7838\",\"type\":\"Grid\"},{\"attributes\":{},\"id\":\"7840\",\"type\":\"BasicTicker\"},{\"attributes\":{},\"id\":\"8170\",\"type\":\"UnionRenderers\"},{\"attributes\":{},\"id\":\"8171\",\"type\":\"Selection\"},{\"attributes\":{},\"id\":\"8168\",\"type\":\"BasicTickFormatter\"},{\"attributes\":{\"coordinates\":null,\"group\":null},\"id\":\"8162\",\"type\":\"Title\"},{\"attributes\":{\"axis\":{\"id\":\"7839\"},\"coordinates\":null,\"dimension\":1,\"group\":null,\"ticker\":null,\"visible\":false},\"id\":\"7842\",\"type\":\"Grid\"},{\"attributes\":{},\"id\":\"8169\",\"type\":\"AllLabels\"},{\"attributes\":{},\"id\":\"7847\",\"type\":\"ResetTool\"},{\"attributes\":{\"data\":{\"alpha\":[1,1,1,1,1,1,1,1,1,1,1,1,1,1,1,1,1,1,1,1,1,1,1,1,1,1,1,1,1,1,1,1,1,1,1,1,1,1,1,1,1,1,1,1,1,1,1,1,1,1,1,1,1,1,1,1,1,1,1,1,1,1,1,1,1,1,1,1,1,1,1,1,1,1,1,1,1,1,1,1,1,1,1,1,1,1,1,1,1,1,1,1,1,1,1,1,1,1,1,1,1,1,1,1,1,1,1,1,1,1,1,1,1,1,1,1,1,1,1,1,1,1,1,1,1,1,1,1,1,1,1,1,1,1,1,1,1,1,1,1,1,1,1,1,1,1,1,1,1,1,1,1,1,1,1,1,1,1,1,1,1,1,1,1,1,1,1,1,1,1,1,1,1,1,1,1,1,1,1,1,1,1,1,1,1,1,1,1,1,1,1,1,1,1,1,1,1,1,1,1,1,1,1,1,1,1,1,1,1,1,1,1,1,1,1,1,1],\"color\":[\"lightgrey\",\"#E7B657\",\"#75FB4C\",\"#C8042C\",\"#D82E8A\",\"#C8042C\",\"#1A4289\",\"#C8042C\",\"#D82E8A\",\"#B42D27\",\"#C8042C\",\"#1A4289\",\"#B42D27\",\"#C8042C\",\"#C8042C\",\"#1A4289\",\"#24573E\",\"#C8042C\",\"#C8042C\",\"#24573E\",\"#24573E\",\"#1A4289\",\"#C8042C\",\"#B42D27\",\"#E7B657\",\"#1A4289\",\"#B42D27\",\"#BF2850\",\"#75FB4C\",\"#C8042C\",\"#E7B657\",\"#1A4289\",\"#1A4289\",\"#C8042C\",\"#C8042C\",\"#3470BC\",\"#265BA4\",\"#3470BC\",\"#265BA4\",\"#24573E\",\"#265BA4\",\"#1A4289\",\"#BF2850\",\"#C8042C\",\"#1A4289\",\"#BF2850\",\"#1A4289\",\"#1A4289\",\"#BF2850\",\"#E4F04E\",\"#B42D27\",\"#1A4289\",\"#1A4289\",\"#1A4289\",\"#BF2850\",\"#E7B657\",\"#C8042C\",\"#B42D27\",\"#D82E8A\",\"#C8042C\",\"#B42D27\",\"#1A4289\",\"#1A4289\",\"#B42D27\",\"#1A4289\",\"#1A4289\",\"#C8042C\",\"#265BA4\",\"#C8042C\",\"#566197\",\"#D82E8A\",\"#C8042C\",\"#E7B657\",\"#1A4289\",\"#C8042C\",\"#265BA4\",\"#265BA4\",\"#B42D27\",\"#B42D27\",\"#1A4289\",\"#C8042C\",\"#C8042C\",\"#24573E\",\"#D82E8A\",\"#D82E8A\",\"#265BA4\",\"#265BA4\",\"#1A4289\",\"#B42D27\",\"#566197\",\"#D82E8A\",\"#1A4289\",\"#1A4289\",\"#265BA4\",\"#C8042C\",\"#1E4B57\",\"lightgrey\",\"#1A4289\",\"#E7B657\",\"#C8042C\",\"#C8042C\",\"#E7B657\",\"#3470BC\",\"#265BA4\",\"#D82E8A\",\"#1A4289\",\"#1A4289\",\"#C8042C\",\"#24573E\",\"#BF2850\",\"#C8042C\",\"#1A4289\",\"#BF2850\",\"#1A4289\",\"#265BA4\",\"#1A4289\",\"#265BA4\",\"#1A4289\",\"#265BA4\",\"#D82E8A\",\"#24573E\",\"#C8042C\",\"#C8042C\",\"#265BA4\",\"#C8042C\",\"#1E4B57\",\"#1A4289\",\"#265BA4\",\"#7A308B\",\"#C8042C\",\"#24573E\",\"#C8042C\",\"#1A4289\",\"#1A4289\",\"#265BA4\",\"#265BA4\",\"#D82E8A\",\"#24573E\",\"#C8042C\",\"#24573E\",\"#BF2850\",\"#1E4B57\",\"#E7B657\",\"#C8042C\",\"#24573E\",\"#BF2850\",\"#BF2850\",\"#24573E\",\"#C8042C\",\"#BF2850\",\"#1E4B57\",\"#C8042C\",\"#265BA4\",\"#1E4B57\",\"#265BA4\",\"#265BA4\",\"#B42D27\",\"#1A4289\",\"#D82E8A\",\"#D82E8A\",\"#C8042C\",\"#24573E\",\"#75FB4C\",\"#B42D27\",\"#C8042C\",\"#C8042C\",\"#265BA4\",\"#BF2850\",\"#B42D27\",\"#B42D27\",\"#E4F04E\",\"#E7B657\",\"lightgrey\",\"#C8042C\",\"#C8042C\",\"#D82E8A\",\"#1A4289\",\"#D82E8A\",\"#1A4289\",\"#265BA4\",\"#75FB4C\",\"#E4F04E\",\"#BF2850\",\"#3470BC\",\"#1A4289\",\"#24573E\",\"#BF2850\",\"#1A4289\",\"#C8042C\",\"#1A4289\",\"#75FB4C\",\"#1A4289\",\"#C8042C\",\"#B42D27\",\"#1A4289\",\"#C8042C\",\"#1A4289\",\"#1A4289\",\"#E7B657\",\"#C8042C\",\"#D82E8A\",\"black\",\"black\",\"black\",\"black\",\"black\",\"black\",\"black\",\"black\",\"black\",\"black\",\"black\",\"black\",\"black\",\"black\",\"black\",\"black\"],\"doc\":{\"__ndarray__\":\"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\",\"dtype\":\"float64\",\"order\":\"little\",\"shape\":[217]},\"full_name\":[\"Aki-Matilda H\\u00f8egh-Dam\",\"Alex Vanopslagh\",\"Alternativet\",\"Anders Kronborg\",\"Andreas Steenberg\",\"Ane Halsboe-J\\u00f8rgensen\",\"Anne Honor\\u00e9 \\u00d8stergaard\",\"Anne Paulin\",\"Anne Sophie Callesen\",\"Anne Valentina Berthelsen\",\"Annette Lind\",\"Anni Matthiesen\",\"Astrid Car\\u00f8e\",\"Astrid Krag\",\"Benny Engelbrecht\",\"Bertel Haarder\",\"Birgitte Bergman\",\"Birgitte Vind\",\"Bj\\u00f8rn Brandenborg\",\"Brigitte Klintskov Jerkel\",\"Britt Bager\",\"Britt Bager\",\"Camilla Fabricius\",\"Carl Valentin\",\"Carsten Bach\",\"Carsten Kissmeyer\",\"Charlotte Broman M\\u00f8lb\\u00e6k\",\"Christian Juhl\",\"Christian Poll\",\"Christian Rabjerg Madsen\",\"Christina Egelund\",\"Christoffer Aagaard Melson\",\"Claus Hjort Frederiksen\",\"Dan J\\u00f8rgensen\",\"Daniel Toft Jakobsen\",\"Danmarksdemokraterne - Inger St\\u00f8jberg\",\"Dansk Folkeparti\",\"Dennis Flydtkj\\u00e6r\",\"Dennis Flydtkj\\u00e6r\",\"Det Konservative Folkeparti\",\"Dorthe Ullemose\",\"Ellen Trane N\\u00f8rby\",\"Enhedslisten\",\"Erik Christensen\",\"Erling Bonnesen\",\"Eva Flyvholm\",\"Eva Kjer Hansen\",\"Fatma \\u00d8ktem\",\"Finn S\\u00f8rensen\",\"Frie Gr\\u00f8nne\",\"Halime Oguz\",\"Hans Andersen\",\"Hans Christian Schmidt\",\"Heidi Bank\",\"Henning Hyllested\",\"Henrik Dahl\",\"Henrik M\\u00f8ller\",\"Holger K. Nielsen\",\"Ida Auken\",\"Ida Auken\",\"Ina Str\\u00f8jer-Schmidt\",\"Inger St\\u00f8jberg\",\"Jacob Jensen\",\"Jacob Mark\",\"Jakob Ellemann-Jensen\",\"Jan E. J\\u00f8rgensen\",\"Jan Johansen\",\"Jens Henrik Thulesen Dahl\",\"Jens Joel\",\"Jens Rohde\",\"Jens Rohde\",\"Jesper Petersen\",\"Joachim B. Olsen\",\"Karen Ellemann\",\"Karin Gaardsted\",\"Karin N\\u00f8dgaard\",\"Karina Due\",\"Karina Lorentzen Dehnhardt\",\"Karsten H\\u00f8nge\",\"Karsten Lauritzen\",\"Kasper Roug\",\"Kasper Sand Kj\\u00e6r\",\"Katarina Ammitzb\\u00f8ll\",\"Kathrine Olldag\",\"Katrine Robs\\u00f8e\",\"Kenneth Kristensen Berth\",\"Kim Christiansen\",\"Kim Valentin\",\"Kirsten Normann Andersen\",\"Kristendemokraterne\",\"Kristian Hegaard\",\"Kristian Jensen\",\"Kristian Pihl Lorentzen\",\"Kristian Thulesen Dahl\",\"Lars Aslan Rasmussen\",\"Lars Boje Mathiesen\",\"Lars L\\u00f8kke Rasmussen\",\"Lars L\\u00f8kke Rasmussen\",\"Laura Lindahl\",\"Lea Wermelin\",\"Leif Lahn Jensen\",\"Liberal Alliance\",\"Lise Bech\",\"Lise Bech\",\"Lotte Rod\",\"Louise Schack Elholm\",\"Mads Fuglede\",\"Magnus Heunicke\",\"Mai Mercado\",\"Mai Villadsen\",\"Malte Larsen\",\"Marcus Knuth\",\"Maria Reumert Gjerding\",\"Marie Bjerre\",\"Marie Krarup\",\"Marlene Ambo-Rasmussen\",\"Marlene Harps\\u00f8e\",\"Martin Geertsen\",\"Martin Henriksen\",\"Martin Lidegaard\",\"Mette Abildgaard\",\"Mette Frederiksen\",\"Mette Gjerskov\",\"Mette Hjermind Dencker\",\"Mette Reissmann\",\"Mette Thiesen\",\"Michael Aastrup Jensen\",\"Mikkel Dencker\",\"Moderaterne\",\"Mogens Jensen\",\"Mona Juul\",\"Morten B\\u00f8dskov\",\"Morten Dahlin\",\"Morten L\\u00f8kkegaard\",\"Morten Marinus\",\"Morten Messerschmidt\",\"Morten \\u00d8stergaard\",\"Naser Khader\",\"Nicolai Wammen\",\"Niels Flemming Hansen\",\"Nikolaj Villumsen\",\"Nye Borgerlige\",\"Ole Birk Olesen\",\"Orla Hav\",\"Orla \\u00d8sterby\",\"Peder Hvelplund\",\"Pelle Dragsted\",\"Per Larsen\",\"Pernille Rosenkrantz-Theil\",\"Pernille Skipper\",\"Pernille Vermund\",\"Peter Hummelgaard Thomsen\",\"Peter Kofod Poulsen\",\"Peter Seier Christensen\",\"Peter Skaarup\",\"Pia Kj\\u00e6rsgaard\",\"Pia Olsen Dyhr\",\"Preben Bang Henriksen\",\"Radikale Venstre\",\"Rasmus Helveg Petersen\",\"Rasmus Horn Langhoff\",\"Rasmus Jarlov\",\"Rasmus Nordqvist\",\"Rasmus Nordqvist\",\"Rasmus Prehn\",\"Rasmus Stoklund\",\"Ren\\u00e9 Christensen\",\"Rosa Lund\",\"SF\",\"Signe Munk\",\"Sikandar Siddique\",\"Simon Emil Ammitzb\\u00f8ll-Bille\",\"Simon Emil Ammitzb\\u00f8ll-Bille\",\"Simon Kollerup\",\"Socialdemokratiet\",\"Sofie Carsten Nielsen\",\"Sophie L\\u00f8hde\",\"Stinus Lindgreen\",\"St\\u00e9n Knuth\",\"Susanne Eilersen\",\"Susanne Zimmer\",\"Susanne Zimmer\",\"S\\u00f8ren Egge Rasmussen\",\"S\\u00f8ren Espersen\",\"S\\u00f8ren Gade\",\"S\\u00f8ren Pape Poulsen\",\"S\\u00f8ren S\\u00f8ndergaard\",\"Thomas Danielsen\",\"Thomas Jensen\",\"Tommy Ahlers\",\"Torsten Gejl\",\"Torsten Schack Pedersen\",\"Trine Bramsen\",\"Trine Torp\",\"Troels Lund Poulsen\",\"Troels Ravn\",\"Ulla T\\u00f8rn\\u00e6s\",\"Venstre\",\"Villum Christensen\",\"Yildiz Akdogan\",\"Zenia Stampe\",\"NaN\",\"NaN\",\"NaN\",\"NaN\",\"NaN\",\"NaN\",\"NaN\",\"NaN\",\"NaN\",\"NaN\",\"NaN\",\"NaN\",\"NaN\",\"NaN\",\"NaN\",\"NaN\"],\"index\":[0,1,2,3,4,5,6,7,8,9,10,11,12,13,14,15,16,17,18,19,20,21,22,23,24,25,26,27,28,29,30,31,32,33,34,35,36,37,38,39,40,41,42,43,44,45,46,47,48,49,50,51,52,53,54,55,56,57,58,59,60,61,62,63,64,65,66,67,68,69,70,71,72,73,74,75,76,77,78,79,80,81,82,83,84,85,86,87,88,89,90,91,92,93,94,95,96,97,98,99,100,101,102,103,104,105,106,107,108,109,110,111,112,113,114,115,116,117,118,119,120,121,122,123,124,125,126,127,128,129,130,131,132,133,134,135,136,137,138,139,140,141,142,143,144,145,146,147,148,149,150,151,152,153,154,155,156,157,158,159,160,161,162,163,164,165,166,167,168,169,170,171,172,173,174,175,176,177,178,179,180,181,182,183,184,185,186,187,188,189,190,191,192,193,194,195,196,197,198,199,200,201,202,203,204,205,206,207,208,209,210,211,212,213,214,215,216],\"label\":[\"SIU\",\"LA\",\"ALT\",\"S\",\"RV\",\"S\",\"V\",\"S\",\"RV\",\"SF\",\"S\",\"V\",\"SF\",\"S\",\"S\",\"V\",\"KF\",\"S\",\"S\",\"KF\",\"KF\",\"V\",\"S\",\"SF\",\"LA\",\"V\",\"SF\",\"EL\",\"ALT\",\"S\",\"LA\",\"V\",\"V\",\"S\",\"S\",\"DD\",\"DF\",\"DD\",\"DF\",\"KF\",\"DF\",\"V\",\"EL\",\"S\",\"V\",\"EL\",\"V\",\"V\",\"EL\",\"FG\",\"SF\",\"V\",\"V\",\"V\",\"EL\",\"LA\",\"S\",\"SF\",\"RV\",\"S\",\"SF\",\"V\",\"V\",\"SF\",\"V\",\"V\",\"S\",\"DF\",\"S\",\"KD\",\"RV\",\"S\",\"LA\",\"V\",\"S\",\"DF\",\"DF\",\"SF\",\"SF\",\"V\",\"S\",\"S\",\"KF\",\"RV\",\"RV\",\"DF\",\"DF\",\"V\",\"SF\",\"KD\",\"RV\",\"V\",\"V\",\"DF\",\"S\",\"NB\",\"UFG\",\"V\",\"LA\",\"S\",\"S\",\"LA\",\"DD\",\"DF\",\"RV\",\"V\",\"V\",\"S\",\"KF\",\"EL\",\"S\",\"V\",\"EL\",\"V\",\"DF\",\"V\",\"DF\",\"V\",\"DF\",\"RV\",\"KF\",\"S\",\"S\",\"DF\",\"S\",\"NB\",\"V\",\"DF\",\"M\",\"S\",\"KF\",\"S\",\"V\",\"V\",\"DF\",\"DF\",\"RV\",\"KF\",\"S\",\"KF\",\"EL\",\"NB\",\"LA\",\"S\",\"KF\",\"EL\",\"EL\",\"KF\",\"S\",\"EL\",\"NB\",\"S\",\"DF\",\"NB\",\"DF\",\"DF\",\"SF\",\"V\",\"RV\",\"RV\",\"S\",\"KF\",\"ALT\",\"SF\",\"S\",\"S\",\"DF\",\"EL\",\"SF\",\"SF\",\"FG\",\"LA\",\"UFG\",\"S\",\"S\",\"RV\",\"V\",\"RV\",\"V\",\"DF\",\"ALT\",\"FG\",\"EL\",\"DD\",\"V\",\"KF\",\"EL\",\"V\",\"S\",\"V\",\"ALT\",\"V\",\"S\",\"SF\",\"V\",\"S\",\"V\",\"V\",\"LA\",\"S\",\"RV\",\"Socialdemokratiet\",\"Venstre\",\"Dansk_Folkeparti\",\"SF\",\"Enhedslisten\",\"Radikale_Venstre\",\"Konservative\",\"Liberal_Alliance\",\"Alternativet\",\"Danmarksdemokraterne\",\"Nye_Borgerlige\",\"UFG\",\"Frie_Gr\\u00f8nne\",\"Kristendemokraterne\",\"Gr\\u00f8nlandsk\",\"Moderaterne\"],\"party\":[\"SIU\",\"LA\",\"ALT\",\"S\",\"RV\",\"S\",\"V\",\"S\",\"RV\",\"SF\",\"S\",\"V\",\"SF\",\"S\",\"S\",\"V\",\"KF\",\"S\",\"S\",\"KF\",\"KF\",\"V\",\"S\",\"SF\",\"LA\",\"V\",\"SF\",\"EL\",\"ALT\",\"S\",\"LA\",\"V\",\"V\",\"S\",\"S\",\"DD\",\"DF\",\"DD\",\"DF\",\"KF\",\"DF\",\"V\",\"EL\",\"S\",\"V\",\"EL\",\"V\",\"V\",\"EL\",\"FG\",\"SF\",\"V\",\"V\",\"V\",\"EL\",\"LA\",\"S\",\"SF\",\"RV\",\"S\",\"SF\",\"V\",\"V\",\"SF\",\"V\",\"V\",\"S\",\"DF\",\"S\",\"KD\",\"RV\",\"S\",\"LA\",\"V\",\"S\",\"DF\",\"DF\",\"SF\",\"SF\",\"V\",\"S\",\"S\",\"KF\",\"RV\",\"RV\",\"DF\",\"DF\",\"V\",\"SF\",\"KD\",\"RV\",\"V\",\"V\",\"DF\",\"S\",\"NB\",\"UFG\",\"V\",\"LA\",\"S\",\"S\",\"LA\",\"DD\",\"DF\",\"RV\",\"V\",\"V\",\"S\",\"KF\",\"EL\",\"S\",\"V\",\"EL\",\"V\",\"DF\",\"V\",\"DF\",\"V\",\"DF\",\"RV\",\"KF\",\"S\",\"S\",\"DF\",\"S\",\"NB\",\"V\",\"DF\",\"M\",\"S\",\"KF\",\"S\",\"V\",\"V\",\"DF\",\"DF\",\"RV\",\"KF\",\"S\",\"KF\",\"EL\",\"NB\",\"LA\",\"S\",\"KF\",\"EL\",\"EL\",\"KF\",\"S\",\"EL\",\"NB\",\"S\",\"DF\",\"NB\",\"DF\",\"DF\",\"SF\",\"V\",\"RV\",\"RV\",\"S\",\"KF\",\"ALT\",\"SF\",\"S\",\"S\",\"DF\",\"EL\",\"SF\",\"SF\",\"FG\",\"LA\",\"UFG\",\"S\",\"S\",\"RV\",\"V\",\"RV\",\"V\",\"DF\",\"ALT\",\"FG\",\"EL\",\"DD\",\"V\",\"KF\",\"EL\",\"V\",\"S\",\"V\",\"ALT\",\"V\",\"S\",\"SF\",\"V\",\"S\",\"V\",\"V\",\"LA\",\"S\",\"RV\",\"Socialdemokratiet\",\"Venstre\",\"Dansk_Folkeparti\",\"SF\",\"Enhedslisten\",\"Radikale_Venstre\",\"Konservative\",\"Liberal_Alliance\",\"Alternativet\",\"Danmarksdemokraterne\",\"Nye_Borgerlige\",\"UFG\",\"Frie_Gr\\u00f8nne\",\"Kristendemokraterne\",\"Gr\\u00f8nlandsk\",\"Moderaterne\"],\"top\":{\"__ndarray__\":\"AAAAAAAALEAAAAAAAAAcQAAAAAAAACBAAAAAAAAAAAAAAAAAAAAUQAAAAAAAAAAAAAAAAAAA8D8AAAAAAAAAAAAAAAAAABRAAAAAAAAACEAAAAAAAAAAAAAAAAAAAPA/AAAAAAAACEAAAAAAAAAAAAAAAAAAAAAAAAAAAAAA8D8AAAAAAAAYQAAAAAAAAAAAAAAAAAAAAAAAAAAAAAAYQAAAAAAAABhAAAAAAAAA8D8AAAAAAAAAAAAAAAAAAAhAAAAAAAAAHEAAAAAAAADwPwAAAAAAAAhAAAAAAAAAEEAAAAAAAAAgQAAAAAAAAAAAAAAAAAAAHEAAAAAAAADwPwAAAAAAAPA/AAAAAAAAAAAAAAAAAAAAAAAAAAAAACJAAAAAAAAAAEAAAAAAAAAiQAAAAAAAAABAAAAAAAAAGEAAAAAAAAAAQAAAAAAAAPA/AAAAAAAAEEAAAAAAAAAAAAAAAAAAAPA/AAAAAAAAEEAAAAAAAADwPwAAAAAAAPA/AAAAAAAAEEAAAAAAAAAoQAAAAAAAAAhAAAAAAAAA8D8AAAAAAAAAAAAAAAAAAPA/AAAAAAAAEEAAAAAAAAAcQAAAAAAAAAAAAAAAAAAACEAAAAAAAAAUQAAAAAAAAAAAAAAAAAAACEAAAAAAAAAiQAAAAAAAAPA/AAAAAAAACEAAAAAAAADwPwAAAAAAAPA/AAAAAAAAAAAAAAAAAAAAAAAAAAAAAAAAAAAAAAAAKkAAAAAAAAAmQAAAAAAAAAAAAAAAAAAAHEAAAAAAAADwPwAAAAAAAAAAAAAAAAAAAEAAAAAAAAAAQAAAAAAAAAhAAAAAAAAACEAAAAAAAADwPwAAAAAAAAAAAAAAAAAAAAAAAAAAAAAYQAAAAAAAABRAAAAAAAAAFEAAAAAAAAAAQAAAAAAAAABAAAAAAAAA8D8AAAAAAAAIQAAAAAAAACpAAAAAAAAAFEAAAAAAAADwPwAAAAAAAPA/AAAAAAAAAEAAAAAAAAAQQAAAAAAAACRAAAAAAAAAJkAAAAAAAADwPwAAAAAAABxAAAAAAAAAAAAAAAAAAAAAAAAAAAAAABxAAAAAAAAAIkAAAAAAAAAAQAAAAAAAABRAAAAAAAAA8D8AAAAAAADwPwAAAAAAAAAAAAAAAAAAGEAAAAAAAAAQQAAAAAAAAAAAAAAAAAAA8D8AAAAAAAAQQAAAAAAAAPA/AAAAAAAAAEAAAAAAAADwPwAAAAAAAABAAAAAAAAA8D8AAAAAAAAAQAAAAAAAABRAAAAAAAAAGEAAAAAAAAAAAAAAAAAAAAAAAAAAAAAAAEAAAAAAAAAAAAAAAAAAACRAAAAAAAAA8D8AAAAAAAAAQAAAAAAAAC5AAAAAAAAAAAAAAAAAAAAYQAAAAAAAAAAAAAAAAAAA8D8AAAAAAAAgQAAAAAAAAABAAAAAAAAAAEAAAAAAAAAUQAAAAAAAABhAAAAAAAAAAAAAAAAAAAAYQAAAAAAAABBAAAAAAAAAJEAAAAAAAAAcQAAAAAAAACZAAAAAAAAAGEAAAAAAAAAQQAAAAAAAABBAAAAAAAAAGEAAAAAAAAAAQAAAAAAAABBAAAAAAAAAJEAAAAAAAAAAAAAAAAAAAABAAAAAAAAAJEAAAAAAAAAAQAAAAAAAAABAAAAAAAAACEAAAAAAAADwPwAAAAAAABRAAAAAAAAAFEAAAAAAAAAAAAAAAAAAABhAAAAAAAAAIEAAAAAAAAAIQAAAAAAAAAAAAAAAAAAAAAAAAAAAAAAAQAAAAAAAABBAAAAAAAAACEAAAAAAAAAIQAAAAAAAAChAAAAAAAAAHEAAAAAAAAAmQAAAAAAAAAAAAAAAAAAAAAAAAAAAAAAUQAAAAAAAAPA/AAAAAAAAFEAAAAAAAADwPwAAAAAAAABAAAAAAAAAIEAAAAAAAAAoQAAAAAAAABBAAAAAAAAAIkAAAAAAAADwPwAAAAAAABhAAAAAAAAAEEAAAAAAAADwPwAAAAAAAAAAAAAAAAAA8D8AAAAAAAAgQAAAAAAAAPA/AAAAAAAAAAAAAAAAAAAIQAAAAAAAAPA/AAAAAAAAAAAAAAAAAADwPwAAAAAAAPA/AAAAAAAAHEAAAAAAAAAAAAAAAAAAABRAAAAAAAAA+H8AAAAAAAD4fwAAAAAAAPh/AAAAAAAA+H8AAAAAAAD4fwAAAAAAAPh/AAAAAAAA+H8AAAAAAAD4fwAAAAAAAPh/AAAAAAAA+H8AAAAAAAD4fwAAAAAAAPh/AAAAAAAA+H8AAAAAAAD4fwAAAAAAAPh/AAAAAAAA+H8=\",\"dtype\":\"float64\",\"order\":\"little\",\"shape\":[217]},\"x\":{\"__ndarray__\":\"6kc6QCN4pT+aLAdAgpqsPttfLEDaOoQ/MFLZPzABiT/29C1AO8p4QDjYAUDBTVg+AUpqQIL7lj9Sq3E+FsC6Pfec+T/BTic/+8xYP12elT8r7qU/YS4MPyHuHkC+tV1AWzW1P7sGQj/Ps3FAlxsdQPMD6T/xUeM+E9XEP3TELj6O1pA/RMelP4Athz9xexNAibwhQNBE/j8W+DdA+1KnPx5jKkCMeuA+/wmCQFJpED9Zh84/L9xyQHIT9j9N+FQ/EzxHQD7mB0BaAVxAdrZkPwrbpj+wf68+lCplQH9Kiz+PVMU+TGReQMXDKkALaeo/sdiAQKJPEECrsDU+PZRpQBxE4z4wXJc/LK1QP8jc1D/aSf0+2gCAQDX1J0BUA7I/joboP33vsD+YA5g/ToQwQHVK/j+U5XVAsUtSQEK8ZT/IzIM/Hk22P+qBBUC9rShAv3oUQOp7C0CgPhNAJmCEPwUbZECyvYFAbyoqQJyAtT8NrNM/4QM8QEC8bkDnQ15ADMcRQFtDzT/azd0/SqIyP0SkiD9oj+k/jdocQHp7M0CfuEdAZWo/Pym/Yz/AVKg9l72ePxqhXEA4giY/Cr3DP3RdRUD7yrU/js8SQMHXiD4aRQVAyo3pPYxMJEAwcTZARb+3P8YXWj9KurY/ZWksQP75nT/YVEtALm7TPlabJUDI5TRA4U0DP9crxD+PHQ5AVnxaPyhZ9z86kNo/zSlFQDmaKUCCyOM/nV1tPw+87j//DndAsMhbQD+GoT+PEDtAo02AP8ffV0BPandAmHzmP9OXG0B9Y39AXkVYQGlkUD+qcRZAufVPQPxaOkAIVjpAMq1uQEgxWT/AeyVAjDwXQA92ZD4rhcs/DzIAQGA0SUC6MitAkZ4pP6JaH0A202VAbgGEQCsSaEAHaQxAXuTjP6guEkBps7I/DRlBP9XONEDffRk/KO0pQIu3Qj+dI+E/Tzv1P7HRBkAHzlpA0a5HQC40hD/IeJ4/lN1hQEPtiz/5FXE/D4XdP43aO0B61nc/7nOPPwechECHcJg90ZLlP03gGj8NiAo/DCdgP8QewT/EzRlAEq+fP+LKOT+FAhVA+rtxQEfWbUCDrS9Al+SlP28Jvz/Gzvc/YHMVQLOWV0AIgBFAOC0LQAfSg0BnhjhAxmcoQA==\",\"dtype\":\"float32\",\"order\":\"little\",\"shape\":[217]},\"y\":{\"__ndarray__\":\"8W61QNx5c0DeoftAycPaQMwBz0DRFelAYoSyQCNbxEAZgOpAyvnXQCX8jUC+jKVAH/rqQEW59UD6Od9A8p23QHJDq0BcDu5AqmPpQL8rnUBE76VABS3IQJv4z0D9GsJA74N2QEHTvkBSLuFAm9/BQLIj9EDyutFAoPBwQORkt0DE2cpAYIHvQBSzz0DYi3BA9LqaQIlCdkDEcphA6pOYQI3KiUBmlatAxinAQKvV5kAeLo9AKIrEQKRhvEDGZdBA4XzAQKNt3UBdud5AjP2pQJ6X2EBde6hA8jTFQJd7g0BoV8dA7mXqQM4Y80BaJ+dALv/PQAVlcUA2nbpAUNTiQFQ9m0BAiaZACg3rQPkhwED3WdJA0VHsQJcitUDIH9NAeg14QM3gvEA7ffFAHJqsQHTzq0CMvd5AWaXNQIo6jkB6Xd1ARbjjQL93tkAf1vdAhDTyQJhHoUAsDpNAlWS0QLnCz0Bdpe9Af5zpQCPmv0Bt8ntAKPqQQD9EuEClw4RAKB3GQCSqzUBVm4xAt5DVQDrR5UCRZINA8KWAQOpEm0BRnuZAmCefQGr7r0Bskq5AfbmbQBHNvUAKb9RAOEqZQGrwzUC33qtAbNq2QNQsqkB8jJRAtBeqQHd5qkD8kuFAPLSTQHc58EAJ2PNAyfqkQKuHzUA1GX5A79GWQBDFkkDpH9pAqvHhQDw+sECpOrJAJEWgQM4R9EDmoLVAi8+mQOMn5EC4+5tAUU3cQEmPnkB1VblAfUyHQFwEhECU2sJAEHO5QHm1tEAfIL1An/ijQHElsEBvlMZA1j99QFyw4ED99plAqzKBQLRolUC1L55ARc7SQGtDg0AruOVA6QL2QJluw0D3rJxAB130QNRx1UD3GrdAGvywQG0njUD1DNpAJWvLQBzk2EB6NeFAnWmBQCS/1EAtKdpA0PDnQDZb2UAHfaVAyZLWQHmDrEAGWJ5A1v/3QDe/20DHtr5AoHyjQNoFvkDX75pAoKe2QNwut0DgmMZAVPjLQCaGvkDFQ7FA65/hQHXF5kADEK5ACOLOQGCvuEDrJ5VAbmSQQNWh6UAjsu1A5fTXQGEir0Bh8J1AnMLXQB9Sw0ApkedASRajQC51gECe7fNAQmuCQLTPgUCTo8xAVBvjQEHl8ED7VbNAS3nVQA==\",\"dtype\":\"float32\",\"order\":\"little\",\"shape\":[217]}},\"selected\":{\"id\":\"8171\"},\"selection_policy\":{\"id\":\"8170\"}},\"id\":\"7825\",\"type\":\"ColumnDataSource\"},{\"attributes\":{\"fill_alpha\":{\"value\":0.2},\"fill_color\":{\"field\":\"color\"},\"hatch_alpha\":{\"value\":0.2},\"hatch_color\":{\"field\":\"color\"},\"line_alpha\":{\"value\":0.2},\"line_color\":{\"field\":\"color\"},\"size\":{\"value\":7},\"x\":{\"field\":\"x\"},\"y\":{\"field\":\"y\"}},\"id\":\"7862\",\"type\":\"Circle\"},{\"attributes\":{},\"id\":\"7844\",\"type\":\"WheelZoomTool\"}],\"root_ids\":[\"7826\"]},\"title\":\"Bokeh Application\",\"version\":\"2.4.3\"}};\n  const render_items = [{\"docid\":\"0bacee8b-2382-4d07-9634-5ce92a5b389e\",\"root_ids\":[\"7826\"],\"roots\":{\"7826\":\"3dc770be-5001-4e1b-808c-d44839d02fc6\"}}];\n  root.Bokeh.embed.embed_items_notebook(docs_json, render_items);\n  }\n  if (root.Bokeh !== undefined) {\n    embed_document(root);\n  } else {\n    let attempts = 0;\n    const timer = setInterval(function(root) {\n      if (root.Bokeh !== undefined) {\n        clearInterval(timer);\n        embed_document(root);\n      } else {\n        attempts++;\n        if (attempts > 100) {\n          clearInterval(timer);\n          console.log(\"Bokeh: ERROR: Unable to run BokehJS code because BokehJS library is missing\");\n        }\n      }\n    }, 10, root)\n  }\n})(window);",
      "application/vnd.bokehjs_exec.v0+json": ""
     },
     "metadata": {
      "application/vnd.bokehjs_exec.v0+json": {
       "id": "7826"
      }
     },
     "output_type": "display_data"
    }
   ],
   "source": [
    "p = umap.plot.interactive(\n",
    "    mapper,\n",
    "    labels = combined_hover['party'],\n",
    "    color_key = combined_hover['color'],\n",
    "    point_size = 7,\n",
    "    hover_data = combined_hover.drop(columns=['snippet'])\n",
    "    )\n",
    "umap.plot.show(p)"
   ]
  },
  {
   "cell_type": "code",
   "execution_count": 219,
   "id": "86dddfc1",
   "metadata": {},
   "outputs": [],
   "source": [
    "from sklearn.decomposition import PCA\n",
    "from mpl_toolkits import mplot3d"
   ]
  },
  {
   "cell_type": "code",
   "execution_count": 271,
   "id": "b2a10e71",
   "metadata": {},
   "outputs": [],
   "source": [
    "pca = PCA(n_components=1)"
   ]
  },
  {
   "cell_type": "code",
   "execution_count": 272,
   "id": "3649702d",
   "metadata": {},
   "outputs": [],
   "source": [
    "reduced = pca.fit_transform(\n",
    "    np.vstack([\n",
    "        pol2vec_model.document_vectors,\n",
    "        pol2vec_model.topic_vectors\n",
    "        ]))"
   ]
  },
  {
   "cell_type": "code",
   "execution_count": 273,
   "id": "ffe5edd6",
   "metadata": {},
   "outputs": [
    {
     "data": {
      "image/png": "[encoded data removed]",
      "text/plain": [
       "<Figure size 720x720 with 1 Axes>"
      ]
     },
     "metadata": {
      "needs_background": "light"
     },
     "output_type": "display_data"
    }
   ],
   "source": [
    "fig = plt.figure(figsize=(10,10))\n",
    "\n",
    "ax = plt.scatter(\n",
    "    x = reduced,\n",
    "    y = reduced,\n",
    "    c=combined_hover['color'],\n",
    "    cmap=combined_hover['color']\n",
    "    )"
   ]
  },
  {
   "cell_type": "code",
   "execution_count": 269,
   "id": "4fd83df8",
   "metadata": {},
   "outputs": [
    {
     "data": {
      "image/png": "[encoded data removed]",
      "text/plain": [
       "<Figure size 720x720 with 1 Axes>"
      ]
     },
     "metadata": {
      "needs_background": "light"
     },
     "output_type": "display_data"
    }
   ],
   "source": [
    "fig = plt.figure(figsize=(10,10))\n",
    "ax = plt.axes(projection='3d')\n",
    "\n",
    "xdata = mapper.embedding_.T[0]\n",
    "ydata = mapper.embedding_.T[1]\n",
    "zdata = mapper.embedding_.T[2]\n",
    "\n",
    "ax.set_xlim(2.5,6)\n",
    "ax.set_ylim(4,7.5)\n",
    "ax.set_zlim(4,6.5)\n",
    "\n",
    "ax.xaxis.set_ticklabels([])\n",
    "ax.yaxis.set_ticklabels([])\n",
    "ax.zaxis.set_ticklabels([])\n",
    "\n",
    "plt.text(x=x coordinate, y=y coordinate, s=string to be displayed)\n",
    "\n",
    "ax.scatter3D(\n",
    "    xdata,\n",
    "    ydata,\n",
    "    zdata,\n",
    "    c=combined_hover['color'],\n",
    "    cmap=combined_hover['color'],\n",
    "    alpha = 0.75,\n",
    "    s = 25\n",
    "    );"
   ]
  },
  {
   "cell_type": "markdown",
   "id": "284cdc17",
   "metadata": {},
   "source": [
    "____"
   ]
  },
  {
   "cell_type": "markdown",
   "id": "cbad8dde",
   "metadata": {},
   "source": [
    "## TensorBoard exports"
   ]
  },
  {
   "cell_type": "code",
   "execution_count": null,
   "id": "a13bd00e",
   "metadata": {},
   "outputs": [],
   "source": [
    "doc2vec2tensor(\n",
    "    doc2vec_model,\n",
    "    temp_w2v_path = 'tensorboard_input/temp/doc_tensor_meta.w2v',\n",
    "    tsv_prefix = 'tensorboard_input/meta',\n",
    "    output_docvecs = True,\n",
    "    output_wordvecs = False\n",
    ")"
   ]
  },
  {
   "cell_type": "code",
   "execution_count": 79,
   "id": "038ccf66-adde-4837-8003-ae4c0ec7025c",
   "metadata": {},
   "outputs": [],
   "source": [
    "metadata2tensor(\n",
    "    topic_df,\n",
    "    metadata_path = 'tensorboard_input/meta_metadata.tsv',\n",
    "    label_list = topic_labels\n",
    ")"
   ]
  },
  {
   "cell_type": "code",
   "execution_count": 80,
   "id": "3c3131d9-5ec2-44c2-be8c-f6b4fd4265d4",
   "metadata": {},
   "outputs": [
    {
     "data": {
      "text/plain": [
       "194"
      ]
     },
     "execution_count": 80,
     "metadata": {},
     "output_type": "execute_result"
    }
   ],
   "source": [
    "# test read of tensor output\n",
    "with open('tensorboard_input/meta_tensor.tsv','r') as r:\n",
    "    lines_test = r.readlines()\n",
    "\n",
    "len(lines_test)"
   ]
  },
  {
   "cell_type": "code",
   "execution_count": 81,
   "id": "59ef2289-af9d-478d-909d-fa71c6b0390a",
   "metadata": {},
   "outputs": [],
   "source": [
    "def partyvecs2tensor(party_vecs, out_path):\n",
    "    vec_strs = []\n",
    "\n",
    "    for vec in party_vecs:\n",
    "        vec_str = ''.join([str(val) +'\\t' for val in vec]).rstrip('\\t')\n",
    "        vec_strs.append(vec_str)\n",
    "\n",
    "    tensor_str = '\\n'.join(vec_strs)\n",
    "    \n",
    "    with open(out_path, 'w') as f:\n",
    "        f.write(tensor_str)"
   ]
  },
  {
   "cell_type": "code",
   "execution_count": 82,
   "id": "48ed2518-84bd-4d85-883d-9d0ae2963240",
   "metadata": {},
   "outputs": [],
   "source": [
    "def concat_tensors(tensor_files, out_path):\n",
    "    tensor_strs = []\n",
    "    \n",
    "    for file in tensor_files:\n",
    "        tensor_str = pd.read_csv(file, sep = '\\t', header = None)\n",
    "        tensor_strs.append(tensor_str)\n",
    "    \n",
    "    concat_tensor = pd.concat(tensor_strs)\n",
    "    \n",
    "    concat_tensor.to_csv(out_path, sep = '\\t', header = False, index = False)"
   ]
  },
  {
   "cell_type": "code",
   "execution_count": 83,
   "id": "126ed041-77fb-46dd-a9c0-41b7e218b6b0",
   "metadata": {},
   "outputs": [],
   "source": [
    "partyvecs2tensor(\n",
    "    party_vecs = pol2vec_model.topic_vectors,\n",
    "    out_path = 'tensorboard_input/meta_parties.tsv'\n",
    ")"
   ]
  },
  {
   "cell_type": "code",
   "execution_count": 84,
   "id": "3fb10a62-334d-4cef-8312-6c058a229622",
   "metadata": {},
   "outputs": [],
   "source": [
    "label_df = pd.DataFrame(topic_labels, index = ['doc']).T\n",
    "#label_df['topic'] = ''"
   ]
  },
  {
   "cell_type": "code",
   "execution_count": 85,
   "id": "b4316d49-0162-4bf5-b7c0-c47d781bd912",
   "metadata": {},
   "outputs": [],
   "source": [
    "label_df.to_csv(\n",
    "    'tensorboard_input/meta_parties_metadata.tsv',\n",
    "    sep = '\\t',\n",
    "    header = False,\n",
    "    index = False\n",
    ")"
   ]
  },
  {
   "cell_type": "code",
   "execution_count": 86,
   "id": "34c8a19e-9c87-4644-a84f-cae422b456c1",
   "metadata": {},
   "outputs": [],
   "source": [
    "# Combine docvecs and partyvecs\n",
    "politician_file = 'tensorboard_input/meta_tensor.tsv'\n",
    "party_file = 'tensorboard_input/meta_parties.tsv'\n",
    "\n",
    "tensor_files = [politician_file, party_file]\n",
    "concat_tensors(tensor_files, 'tensorboard_input/meta_combined.tsv')"
   ]
  },
  {
   "cell_type": "code",
   "execution_count": 87,
   "id": "bb79895f-e50c-4886-9b7b-a8ae5ad9119d",
   "metadata": {},
   "outputs": [],
   "source": [
    "# Combine metadata\n",
    "politician_file = 'tensorboard_input/meta_metadata.tsv'\n",
    "party_file = 'tensorboard_input/meta_parties_metadata.tsv'\n",
    "\n",
    "tensor_files = [politician_file, party_file]\n",
    "concat_tensors(tensor_files, 'tensorboard_input/meta_combined_metadata.tsv')"
   ]
  }
 ],
 "metadata": {
  "kernelspec": {
   "display_name": "Python 3.7.12 ('base')",
   "language": "python",
   "name": "python3"
  },
  "language_info": {
   "codemirror_mode": {
    "name": "ipython",
    "version": 3
   },
   "file_extension": ".py",
   "mimetype": "text/x-python",
   "name": "python",
   "nbconvert_exporter": "python",
   "pygments_lexer": "ipython3",
   "version": "3.7.12"
  },
  "vscode": {
   "interpreter": {
    "hash": "df4b203bae24b8e546cac67fa1e5ed4e3ec7bcadeabf2e990fec7c51e0eb834e"
   }
  }
 },
 "nbformat": 4,
 "nbformat_minor": 5
}
