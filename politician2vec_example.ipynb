{
 "cells": [
  {
   "cell_type": "markdown",
   "id": "a012dedf-b258-44aa-8579-7d57de58b2eb",
   "metadata": {},
   "source": [
    "#### NOTES\n",
    "- Concat all docs for each politician before modelling?\n",
    "- UMAP to lower dimensions before calculating centroid?\n",
    "\n",
    "#### TO DO\n",
    "- Modify tensor utils so we can explore the embeddings including party vecs"
   ]
  },
  {
   "cell_type": "code",
   "execution_count": 15,
   "id": "0473f7d3-2a3a-41c1-84c1-133298298d2b",
   "metadata": {},
   "outputs": [
    {
     "name": "stdout",
     "output_type": "stream",
     "text": [
      "Found existing installation: politician2vec 0.0.1\n",
      "Uninstalling politician2vec-0.0.1:\n",
      "  Successfully uninstalled politician2vec-0.0.1\n"
     ]
    }
   ],
   "source": [
    "!pip uninstall politician2vec -y"
   ]
  },
  {
   "cell_type": "code",
   "execution_count": 16,
   "id": "595dc3d3-b6f4-4c88-96f2-bab320f4f3cb",
   "metadata": {},
   "outputs": [
    {
     "name": "stdout",
     "output_type": "stream",
     "text": [
      "Collecting git+ssh://****@github.com/mathiasbruun/politician2vec.git\n",
      "  Cloning ssh://****@github.com/mathiasbruun/politician2vec.git to /private/var/folders/8q/02vc3fzn3r1fv7wzycyspjz80000gn/T/pip-req-build-85eba12g\n",
      "  Running command git clone -q 'ssh://****@github.com/mathiasbruun/politician2vec.git' /private/var/folders/8q/02vc3fzn3r1fv7wzycyspjz80000gn/T/pip-req-build-85eba12g\n",
      "Building wheels for collected packages: politician2vec\n",
      "  Building wheel for politician2vec (setup.py) ... \u001b[?25ldone\n",
      "\u001b[?25h  Created wheel for politician2vec: filename=politician2vec-0.0.1-py3-none-any.whl size=26678 sha256=12f84fc96cc404218f84044cb0936d46bd655f1cfa796d1e2d3949912a626f8e\n",
      "  Stored in directory: /private/var/folders/8q/02vc3fzn3r1fv7wzycyspjz80000gn/T/pip-ephem-wheel-cache-70hck797/wheels/ac/44/62/b0b3ddf2882cd1b1d1cc4e060c5c525b951ae01496d65cd472\n",
      "Successfully built politician2vec\n",
      "Installing collected packages: politician2vec\n",
      "Successfully installed politician2vec-0.0.1\n"
     ]
    }
   ],
   "source": [
    "!pip install --upgrade git+ssh://git@github.com/mathiasbruun/politician2vec.git"
   ]
  },
  {
   "cell_type": "code",
   "execution_count": 53,
   "id": "234c25cc-11b5-456f-b2e2-9b43d1b034bd",
   "metadata": {},
   "outputs": [],
   "source": [
    "from politician2vec.Politician2Vec import Politician2Vec\n",
    "from politician2vec.utils import *\n",
    "import pickle\n",
    "import pandas as pd\n",
    "import numpy as np\n",
    "import multiprocessing\n",
    "available_workers = multiprocessing.cpu_count()"
   ]
  },
  {
   "cell_type": "code",
   "execution_count": 54,
   "id": "c36d06f1-2df1-4cda-b569-a008fc3d7cfa",
   "metadata": {},
   "outputs": [],
   "source": [
    "test_data_path = 'data/clean/combined/subset_party_imputed.p'"
   ]
  },
  {
   "cell_type": "code",
   "execution_count": 55,
   "id": "53a7de67-1803-4c9f-b94d-087a6d298218",
   "metadata": {},
   "outputs": [],
   "source": [
    "with open(test_data_path, 'rb') as p:\n",
    "    test_data = pickle.load(p)"
   ]
  },
  {
   "cell_type": "code",
   "execution_count": 56,
   "id": "9eeeb9ff-f905-4d5e-8c30-c50383a08df7",
   "metadata": {},
   "outputs": [
    {
     "data": {
      "text/plain": [
       "(349594, 7)"
      ]
     },
     "execution_count": 56,
     "metadata": {},
     "output_type": "execute_result"
    }
   ],
   "source": [
    "test_data.shape"
   ]
  },
  {
   "cell_type": "code",
   "execution_count": 57,
   "id": "8454e222-ae45-4534-bff5-b4506fc7ab9d",
   "metadata": {},
   "outputs": [],
   "source": [
    "tw_data = test_data.loc[\n",
    "    test_data['source'] == 'twitter'\n",
    "]"
   ]
  },
  {
   "cell_type": "code",
   "execution_count": 58,
   "id": "cff072b0-8268-450d-b771-5f33c43fc832",
   "metadata": {},
   "outputs": [
    {
     "data": {
      "text/plain": [
       "S      54566\n",
       "V      37099\n",
       "EL     27629\n",
       "RV     22041\n",
       "SF     21593\n",
       "ALT    18070\n",
       "LA     14566\n",
       "KF     13241\n",
       "DF     12363\n",
       "FG      4196\n",
       "NB      1834\n",
       "M        157\n",
       "K          2\n",
       "Name: party, dtype: int64"
      ]
     },
     "execution_count": 58,
     "metadata": {},
     "output_type": "execute_result"
    }
   ],
   "source": [
    "tw_data['party'].value_counts(dropna = False)"
   ]
  },
  {
   "cell_type": "code",
   "execution_count": 62,
   "id": "5383bb90-5ca1-45ec-8dd3-641102a741c1",
   "metadata": {},
   "outputs": [],
   "source": [
    "grouped_docs = tw_data.groupby(['full_name', 'party'])['doc'].apply('. '.join).reset_index()"
   ]
  },
  {
   "cell_type": "code",
   "execution_count": 66,
   "id": "20b036bc-825e-4482-935c-905bb2ccdd90",
   "metadata": {},
   "outputs": [],
   "source": [
    "#docs = [doc for doc in tw_data.doc]\n",
    "docs = [doc for doc in grouped_docs.doc]\n",
    "parties = np.array([party for party in grouped_docs.party])"
   ]
  },
  {
   "cell_type": "code",
   "execution_count": 67,
   "id": "4825e177-7c49-4c78-9352-a5a3b046a79d",
   "metadata": {},
   "outputs": [
    {
     "name": "stderr",
     "output_type": "stream",
     "text": [
      "2022-11-12 09:32:45,132 - politician2vec - INFO - Pre-processing documents for training\n",
      "2022-11-12 09:33:17,969 - politician2vec - INFO - Creating joint document/word embedding\n",
      "2022-11-12 09:38:13,886 - politician2vec - INFO - ONLY creating UMAP projection, NOT HDBSCAN!!!\n",
      "2022-11-12 09:38:22,483 - politician2vec - INFO - Finding topics\n"
     ]
    }
   ],
   "source": [
    "pol2vec_model = Politician2Vec(\n",
    "    documents = docs,\n",
    "    custom_clusters = parties,\n",
    "    tokenizer = preproc_docs,\n",
    "    embedding_model = 'doc2vec',\n",
    "    min_count = 50,\n",
    "    speed = 'fast-learn',\n",
    "    workers = available_workers\n",
    "    #hdbscan_min_cluster_size = 15,\n",
    "    #workers=4,\n",
    "    #doc2vec_vector_size = 300,\n",
    "    #doc2vec_window = 8,\n",
    "    #doc2vec_samples_threshold = 1e-5\n",
    ")"
   ]
  },
  {
   "cell_type": "code",
   "execution_count": 68,
   "id": "257c8033-e4d7-4799-953e-1a2c25b4c13d",
   "metadata": {},
   "outputs": [],
   "source": [
    "def inspect_topic(top2vec, topic_idx, n_docs=None, query_substr=None):\n",
    "    '''\n",
    "    Print top words and top docs for a given\n",
    "    topic.\n",
    "    -------\n",
    "    manual_num (int):  manually assigned topic number (i.e. 1-indexed).\n",
    "    \n",
    "    n_docs (int, optional): n top documents to print for a given topic.\n",
    "        Default is to print all docs within a given topic.\n",
    "    \n",
    "    query_substr (str, optional): if specified, only documents containing\n",
    "        this substring will be printed. Cannot be specified with n_docs,\n",
    "        as this would return only results within a subset of topic docs.\n",
    "    '''\n",
    "\n",
    "    num_topics = top2vec.get_num_topics()\n",
    "    topic_words, word_scores, topic_nums = top2vec.get_topics(num_topics)\n",
    "\n",
    "    # Get topic sizes so we know max n docs\n",
    "    topic_sizes, topic_nums = top2vec.get_topic_sizes()\n",
    "    docs_to_return = topic_sizes[topic_idx]\n",
    "\n",
    "    # Override n docs to return, if specified\n",
    "    if n_docs:\n",
    "        docs_to_return = n_docs\n",
    "\n",
    "    # Get docs for input topic id\n",
    "    documents, document_scores, document_ids = top2vec.search_documents_by_topic(\n",
    "        topic_num=topic_idx,\n",
    "        num_docs=docs_to_return\n",
    "        )\n",
    "\n",
    "    # Limit output to docs containign certain substring, if specified\n",
    "    if query_substr and n_docs:\n",
    "        raise Exception('Please do NOT specify n_docs with substring query!\\nOtherwise the search is only carried out for a subset of topic docs.')\n",
    "    \n",
    "    # Throw exception if substring query attempted on subset of docs!\n",
    "    elif query_substr:\n",
    "        documents = [doc for doc in documents if query_substr in doc.lower()]\n",
    "\n",
    "    # Print output\n",
    "    print('--- TOP 50 WORDS ---\\n', topic_words[topic_idx], '\\n')\n",
    "\n",
    "    print(f'--- TOP {docs_to_return} DOCS. SUBSTRING QUERY: {query_substr} (n = {len(documents)}) ---\\n', documents)"
   ]
  },
  {
   "cell_type": "code",
   "execution_count": 69,
   "id": "8cade07c-f42d-44f1-807a-2e3ad159cbe9",
   "metadata": {},
   "outputs": [],
   "source": [
    "word_vectors = pol2vec_model.model.wv"
   ]
  },
  {
   "cell_type": "code",
   "execution_count": 81,
   "id": "742976b0-c199-4bb1-a699-20b05945239b",
   "metadata": {},
   "outputs": [
    {
     "data": {
      "text/plain": [
       "[('to', 0.5383712649345398),\n",
       " ('ministre', 0.5155658721923828),\n",
       " ('danish', 0.5089468359947205),\n",
       " ('a', 0.49930647015571594),\n",
       " ('denmark', 0.4918190836906433),\n",
       " ('with', 0.48776963353157043),\n",
       " ('on', 0.48716092109680176),\n",
       " ('sagen', 0.48335105180740356),\n",
       " ('’', 0.4816931188106537),\n",
       " ('and', 0.477433443069458)]"
      ]
     },
     "execution_count": 81,
     "metadata": {},
     "output_type": "execute_result"
    }
   ],
   "source": [
    "word_vectors.most_similar(positive = ['minister'])"
   ]
  },
  {
   "cell_type": "code",
   "execution_count": 84,
   "id": "df9eeaee-ac69-46c6-8454-2f630001a76d",
   "metadata": {
    "tags": []
   },
   "outputs": [
    {
     "name": "stdout",
     "output_type": "stream",
     "text": [
      "--- TOP 50 WORDS ---\n",
      " ['moderaterne' 'moderaternes' 'folkepensionen' 'løsningerne'\n",
      " 'sundhedsudspil' 'midten' 'larsloekke' 'verdenskrig' 'partilederdebat'\n",
      " 'forventninger' 'sikkerhedspolitik' 'fremtiden' 'nytænkning'\n",
      " 'folkepension' 'organisering' 'omstille' 'lmå' 'skattepolitik' 'diabetes'\n",
      " 'fremlagde' 'forandring' 'reformer' 'valgdag' 'fe-sagen' 'blokpolitik'\n",
      " 'mortenhelveg' 'brydfri' 'løse' 'kandidater' 'selvstændig' 'egentlige'\n",
      " 'partiets' 'gæst' 'hen' 'skræmmekampagne' 'tænknyt' 'jonasholmdk'\n",
      " 'efterløn' 'rasmussen' 'ambitionen' 'fjernvarme' 'hovedstad'\n",
      " 'udfordringerne' '🧵' 'politikens' 'inspirere' 'løkke' 'ii' 'henover'\n",
      " 'centrum'] \n",
      "\n",
      "--- TOP 1 DOCS. SUBSTRING QUERY: None (n = 1) ---\n",
      " ['Læs hele vores reformforslag her:\\xa0\\nhttps://t.co/Y7qlZdVB5S #dkpol https://t.co/oATqigD5u5. RT @LarsSandahlS: Interessante forslag fra @moderaterne_dk og @larsloekke. Bl.a ønsket om lavere kapitalskat vil styrke #dkbiz\\'s muligheder…. RT @BrianAMikkelsen: Der er brug for alle gode idéer, hvis vi skal løse erhvervslivets udfordringer med at skaffe kvalificeret arbejdskraft…. RT @larsloekke: Netop nu: statsministeren ærger sig over, at ingen borgerlig statsministerkandidat kan se en bred regering for sig. Enig. M…. RT @TV2Nord: Lars Løkke indfrier valgløfte til pølsevogn https://t.co/MJh5RPJ7XO https://t.co/MO1Eoz0M1x. RT @larsloekke: Forfærdet over skyderi og drab i København, der i et splitsekund erstattede weekendens folkefest med et sandt mareridt. Sle…. RT @larsloekke: @JesperPark @MLundbyHansen @moderaterne_dk Vi kommer ikke til at støtte rød eller blok blå. Brug for en regering med et par…. @dorte0311 @MonikaaRubin Så lytter du de forkerte steder 🙂. @KAABCF @mohammad_rona @larsloekke Vi kan anbefale webinarerne om integration og tonen i debatten. De er på https://t.co/oGIADrtTDo under webinar. RT @BrianAMikkelsen: Stor hilsen fra @DanskErhverv og jeg til @larsloekke og @moderaterne_dk i anledning af stiftelsen og landsmødet. Fanta…. @Uzling Den er også på vej dertil. Man skal dog ikke logge ind for at se den på Vimeo.. RT @EleLund: Sygeplejersker, læger, en brandmand, gymnasieelever, iværksættere, studerende, socialrådgiver, shipping, en klimaforsker, en p…. RT @Michael62034030: Problemet med dansk politik er ikke, at politikerne er for tætte på erhvervslivet. Problemet er at politikerne er for…. RT @mettecathrine68: @MonikaaRubin @moderaterne_dk Fedt med nogen der rent faktisk ved hvad der foregår i den virkelige verden 👍. @BertilFruelund @larsloekke 😂 Ingen modkandidater har meldt sig, derfor klar og fornuftig tale i programmet. På gensyn.. RT @erick_thurmer: Konkrete problemstillinger kræver konkrete løsninger, og her kommer undertegnede sammen med @larsloekke med vores bud på…. Moderaterne ansætter partisekretær - velkommen på holdet til @AndersSchiermer - læs mere på https://t.co/JzrPxVGVPE #dkpol. RT @aftrier: På @informeren’s forside onsdag har @laurafwang interviewet @larsloekke: ’Det er farligt, når statsministeren tiltager sig så…. Lars Løkke Rasmussen og teaterdirektør Jon Stephensen har sammen skrevet en kronik. Her sætter Moderaterne for første gang ord på, hvad vi agter at kæmpe for på kulturområdet. #kultur #dkpol #kulturpolitik https://t.co/UIrvB0d85h. RT @uffeelbaek: Jeg hepper - af ren kulturpolitisk glæde - hver gang, at der er politikere eller partier der taler kunsten og kulturens bet…. RT @politiken: Corona og krigen i Ukraine har på hver sin måde vist os, at kultur og kunst er værd at kæmpe for. Derfor vil Moderaterne til…. RT @larsloekke: https://t.co/cS5uKUvIUG https://t.co/2ZgLRbULQZ. RT @johslangkilde: I fiktionens verden står Birgitte Nyborg over for russerne. Det gør vi også i den virkelig verden. Det taler jeg lige nu…. RT @MonikaaRubin: Mange timers fritid er det sidste år blevet lagt i at lave et forslag til @moderaterne_dk #sundhedsreform. Den er i dag b…. RT @larsloekke: Reg\\'s sundhedsudspil er flotte farver og løse målsætninger + et spektakulært forslag om forbud mod nikotin (ikke rygning!)…. RT @larsloekke: https://t.co/s4tqII1vyw. RT @larsloekke: Enig. Tre år siden vi vedtog en reform, der desværre døde med folketingsvalget, hvor \\'1.000 sygeplejersker\\' pludselig kunne…. RT @larsloekke: Så blev det officielt: Moderaterne er godkendt til opstilling ved næste valg under bogstavet M. \\nDanmark kan meget, meget m…. Klar! 🙂\\n\\nhttps://t.co/lj4FSUaD97 #dkpol. RT @DebattenDR2: Putin har fejllæst os. Han så os som splittede og fragmenterede. Han ventede et svækket Europa.\\n\\nMen i stedet er vi trådt…. RT @dr2deadline: Jeg er tilhænger af de to procent. Jeg er også tilhænger af at fjerne forbeholdet. Men jeg er først og fremmest tilhænger…. “Der er et før og efter den 6. marts i dansk politik. Det ’nationale kompromis’ er indgået på kort tid af fem partier, fordi ’verden er forandret’. Enig, men de har også et ansvar for ærligt at forklare, at det mildt sagt ikke er en gratis omgang.” \\nhttps://t.co/pfSloPQGSj #dkpol. RT @politiken: I velfærdsdebatten taler politikere mest om, hvor mange penge de vil sætte af til hvilke indsatser. Men diskussionen om, hva…. RT @larsloekke: @BosseStine @regeringDK @Spolitik Interessant synspunkt. Vi udelukker borgerne, for nu træffer vi beslutninger. Tænker Puti…. RT @larsloekke: TV2 har netop aflyst partilederdebat søndag. Statsministeren og andre vil ikke deltage p.g.a. igangværende forhandlinger om…. RT @larsloekke: Skuffende at @KonservativeDK står af på lov, der letter vejen for ukrainske krigsflygtning til 🇩🇰. Endnu et eksempel på, at…. RT @larsloekke: Probably the Best Beer in the World\\n\\nhttps://t.co/K8GXjjlBae. RT @berlingske: »Blokpolitikken har desværre haft en afgørende rolle i dansk politik. Der er behov for, at vi får et opgør med denne måde a…. RT @larsloekke: I går på Valentine’s Day sendte mange mænd blomster kvindernes vej. Fin tradition, men måske vi snart også skulle sende nog…. RT @larsloekke: Ved Folketingets åbning i 2009 nævnte jeg Gødstrup som stedet for et nyt supersygehus. I dag åbner det - mere end 12 år sen…. RT @larsloekke: @Jens_Joel @JanEJoergensen Den er nu 448.000. I forslår 375 og de andre 365. 10.000 mindre, men til gengæld med visse lande…. RT @larsloekke: @politiken \\'Tving\\' dem til at producere mere dansk indhold i stedet. Altså investere direkte i danske kultur - bedre end at…. Der er brug for at få brudt op i blokkene.\\n\\nhttps://t.co/MmuXhxFqEv. RT @larsloekke: https://t.co/DF02iN2rly\\nSidste år samlede vi på rekordtid mere end 25.000 vælgererklæringer, så Moderaterne må stille op ti…. RT @RLundNielsen: Jeg har en kommentar i Berlingske om, at vi mangler et parti med øje for menneskets værdighed. Måske Moderaterne bliver d…. Cordua&amp;Steno i samtale med @larsloekke om @moderaterne_dk og et par af forslagene der er lagt på https://t.co/xYBL6bLF0N - lyt podcast her https://t.co/WWHTTWM3JB. RT @esben_schj: Så er pod fra @Altingetdk med @larsloekke om @moderaterne_dk og den blokpolitik, han både har været bærende del af og nu vi…. RT @dr2deadline: Vi skal skabe forpligtende fællesskaber. Hvis vi skal værne om Danmark, skal vi også passe på Danmark på de indre linjer.…. RT @informeren: Mod alle odds kan @larsloekke være på vej mod endnu et comeback, skriver @triermogensen. https://t.co/Rms57C8Toj. RT @larsloekke: Storsindet af Politikens chefredaktør at give mig chancen for \\'politisk rehabilitering\\'. Jeg har det allerede meget bedre.…. @nyeperspektiver Læs endelig videre… :) - https://t.co/ZBaku6QAqm. RT @berlingske: »Den tidligere statsminister er i gang med at udvikle politik for fuld skrue, mens andre blå partier er gået i stå,« skrive…. @M_K_Petersen @MicBehrens Der er frihed til forskellighed.. Det er det, der er afgørende for os.\\n\\nDet er tid til, at vi taler om noget - ikke om nogen.\\n\\nDet er tid til en forandring fra midten. https://t.co/y0hSgLR4KC. Vi udfordrer også den politiske kultur, fordi vi ikke peger på en statsminister. Moderaterne går til valg på substans. For os handler det om at få den bedste handlingsplan for Danmark.. Vi mener, at blokpolitikken står i vejen for at træffe de rigtige beslutninger for Danmark, og vi tror på, at der er en mulighed for at skabe et samarbejde hen over midten. Derfor udfordrer vi det traditionelle politiske magtspil.. Vi mener, at dansk politik er blevet fastlåst og uden kraft til at tage de nødvendige drøftelser. \\nDer er alt for meget autopilot. Overskrifter frem for indhold. Symboler frem for substans. Splittelse fremfor samling.. Hvem peger Moderaterne på?\\n\\nDanmark står midt i en række store udfordringer. Derfor er der behov for at træffe vigtige beslutninger for fremtiden. \\n\\nTråd 1/5🧵. Vi lytter, og vi håber, at vi kommer til at høre din stemme.\\n\\nHjælp os med at sætte en ny retning for Danmark.\\n\\nRigtig god valgdag til hele landet.. Det forlanger samtale og samarbejde 💜\\n\\nVi ønsker et forpligtende samarbejde, der udgår fra midten af dansk politik, og hvor vi er fælles om at finde brede, visionære løsninger på de store udfordringer, Danmark står overfor.. ... videre til næste generation. I en erkendelse af, at dansk politik fejler dér, hvor der er mest brug for lederskab og erfaring.\\n\\nAt møde op, sætte sit kryds og bidrage til den politiske repræsentation er folkestyret i sin reneste form. Men demokratiet forlanger mere af os.. Enten kan du tro, at de nødvendige forandringer kommer fra politik, som vi kender det i dag: opdelt i rød og blå - dem og os. Eller også kan du stemme på et parti, der er opstået ud fra en analyse af, hvad, der er nødvendigt for, at vi kan give et stærkere og rigere Danmark.... I dag skal danskerne stemme.\\n\\nDet er et ekstraordinært valg. Vi er midt i en krisetid og en opbrudstid. Tider, der kalder på forandringer.\\n\\nTråd 1/5🧵 https://t.co/CJixHJqCLw. LLR om inflation i partilederdebatten:\\n\\n\"Det er coronapsykologi at tro, at man kan få de økonomiske problemer til at forsvinde ved at tildele checks. Vi bliver nødt til at føre en ansvarlig, økonomisk politik, hvis vi vil have inflationen væk.\". Læs mere om Moderaternes klimaplan, Grøn Konsekvens, på vores hjemmeside:\\nhttps://t.co/m67UlgYaYw. LLR om landbrug i partilederdebatten: \\n\\n\"Vi skal omstille os til mere planteproduktion. Men det kan vi ikke gøre fra den ene dag til anden. Derfor skal vi sætte os ned med landmænd og interesseorganisationer og finde en fælles løsning, så landbruget har tid til at omstille sig.\". Læs om vores akutte redningsplan på Moderaternes hjemmeside:\\nhttps://t.co/GlVYPXemtK. Løkke i aftenens partilederdebat: \\n\\n\"Vi driver vores sundhedsvæsen i fem forskellige \\'søjler\\', der ikke kan snakke sammen. En patient, der flytter fra Haderslev til Herlev, vil ikke kunne få optimal hjælp, fordi it-systemerne ikke kan snakke sammen. Det giver ikke mening.\". RT @berlingske: @moderaterne_dk s politik er ikke »mejslet i sten«, siger partiets politiske chef, @engelschmidt.\\n\\nHør hele interviewet i »…. @TClausen_ Vi er for mange ældre i fremtiden til, at dem, der arbejder, kan betale for en værdig alderdom for alle på pension.\\n\\nModeraterne vil ikke fjerne den nuværende folkepension. \\n\\nMen vi har et forslag til, hvordan næste generations folkepension kan se ud.. @TClausen_ Lad os slå fast én gang for alle: Moderaterne vil sikre danskernes pension - ikke fjerne den. \\n\\nVi vil ÆNDRE pensionen for at SIKRE den i fremtiden.\\n\\nFor vi kan ikke bevare vores velfærdsstat og pension ved bare at lade det stå til. \\n\\nVi tør sige det, som det er. @MagnusBarsoe Vi er for mange ældre i fremtiden til, at dem, der arbejder, kan betale for en værdig alderdom for alle på pension.\\n\\nModeraterne vil ikke fjerne den nuværende folkepension. \\n\\nMen vi har et forslag til, hvordan næste generations folkepension skal se ud.. @MagnusBarsoe Lad os slå fast én gang for alle: Moderaterne vil sikre danskernes pension - ikke fjerne den. \\n\\nVi vil ÆNDRE pensionen for at SIKRE den i fremtiden. For vi kan ikke bevare vores velfærdsstat og pension ved bare at lade det stå til. \\n\\nVi tør sige det, som det er.. @MaiVilladsen @larsloekke Vi er for mange ældre i fremtiden til, at dem, der arbejder, kan betale for en værdig alderdom for alle på pension.\\n\\nModeraterne vil ikke ændre den nuværende folkepension. \\n\\nMen vi har et forslag til, hvordan næste generations folkepension skal se ud.. @MaiVilladsen @larsloekke Lad os slå fast én gang for alle: Moderaterne vil sikre danskernes pension - ikke fjerne den. \\n\\nVi vil ÆNDRE pensionen for at SIKRE den i fremtiden. For vi kan ikke bevare vores velfærdsstat og pension ved bare at lade det stå til. \\n\\nVi tør sige det, som det er.. @pelledragsted Vi er for mange ældre i fremtiden til, at dem, der arbejder, kan betale for en værdig alderdom for alle på pension.\\n\\nModeraterne vil ikke ændre den nuværende folkepension. \\n\\nMen vi har et forslag til, hvordan næste generations folkepension skal se ud.. RT @rikkestenpigen: Uden at forholde mig konkret til @moderaterne_dk ‘s pensions-ide, så har vi altså lige fået en deprimerende opvisning i…. @pelledragsted Lad os slå fast en gang for alle: Moderaterne vil sikre danskernes pension - ikke fjerne den. \\n\\nVi vil ÆNDRE pensionen for at SIKRE den i fremtiden. For vi kan ikke bevare vores velfærdsstat og pension ved bare at lade det stå til. \\n\\nVi tør sige det, som det er.. Hvorfor skal dagens generation af politikere være mindre modige og mere kortsigtede?. Politik kan ikke kun handle om små symboler i nutiden. Nogen må turde tale højt om, hvordan det skal hænge sammen om 50 år. Det turde de f.eks. i 1987, hvor man visionært tog hul på at opbygge det danske arbejdsmarkedssystem.. Helt ærligt, vi bliver alle dummere af at diskutere politik på den måde. Tænk, om der havde været ægte interesse for at lytte til vores tanker og idéer lidt tidligere og ikke først når den socialdemokratiske kampagnemaskine tipper journalisterne med en bevidst misforstået vinkel.. Med udsigt til, at ‘det røde flertal’ er i fare for at forsvinde på tirsdag, sættes nu fuld blus under den socialdemokratiske skræmmekampagne. Tænk, hvis man kunne bilde pensionisterne ind, at vi ville fjerne folkepensionen!. Med den vinkel, at vi vil fjerne folkepensionen og skabe ulighed. \\nAlle medierne har talt med eksperter, og nogle har endda allerede indhentet socialdemokraternes reaktion før, de taler med os😀\\n\\nSådan er politik også.. Skræmmekampagnen er desværre i gang. Da vi blev stiftet på grundlovsdag, da fremlagde vi principprogrammet ‘Det mener Moderaterne’. Her fem dage før valget får vi pludselig indenfor 1 time henvendelser fra fire forskellige medier om vores afsnit på side 31-33 om pension. 👇🏼#dkpol. Vi har sat en mur op dér, hvor vi ellers skulle mødes. Det er tid til at rive den ned.\\n\\nTid til en forandring fra midten.. Både Venstre og Socialdemokratiet har budt ind med lignende forslag inden for de sidste par år, men i blokkenes verdener vil man hellere være modstandere af det, der kommer fra ”de andre” end at tage stilling til det, der bliver sagt.. I stedet for at forringe vores uddannelser foreslår vi, at en del af SU’en på kandidatuddannelserne omlægges til et lån, som hver enkelt studerende vil få tilbagebetalt en-til-en gennem en særlig skatterabat - hvis den studerende vælger at finde arbejde i DK efter udanelse.. Men Danmark har netop brug for at tiltrække internationale studerende, hvis vores lille land også skal kunne konkurrere i den store verden i fremtiden.. Derfor vil Folketinget nu lukke de engelsksprogede universitetsuddannelser i håb om at sætte en grænse for, hvor mange udenlandske studerende, der skal lukkes ind på de danske uddannelser.. Det gælder blandt andet SU’en. \\nVi har opbygget den mest generøse studiestøtteordning i verden uden at have råd til at finansiere den i længden.. De \\'upopulære\\' emner bliver ofte undgået i en valgkamp, men det skal ikke afholde os fra at tale om de ting, vi ved, der er afgørende for fremtiden.\\nTråd 1/🧵\\n#dkpol https://t.co/oSmn1mJi49. Samtalen modereres af Charlotte Flindt Pedersen, direktør i Det Udenrigspolitiske Selskab.\\n\\nDato: 26. okt. 2022 17.00-18.30\\n\\nFølg med live på følgende link:\\nhttps://t.co/gjdSM713Y2. Kom til samtale med Lars Løkke Rasmussen og Jeppe Kofod, som vil tale om de konkrete udenrigspolitiske og sikkerhedspolitiske udfordringer, Danmark står overfor. Sammen vil de tegne fremtidsperspektivet for dansk udenrigs- og sikkerhedspolitik, som de ser dem.. Og i EU har vi en energikrise, der presser priserne i vejret og potentielt kan udfordre sammenholdet i EU.. Mod øst har vi den største konventionelle krig i Europa siden Anden Verdenskrig, og med den sænker der sig et nyt jerntæppe over Europa. \\n\\nMod syd sætter klimaforandringer, sammen med faldende befolkningstilvækst, allerede skrøbelige samfund under yderligere pres. https://t.co/vNgEZXTVCz. Vi har brug for at gentænke, hvordan vi indretter ældreplejen.\\nVi foreslår en helt ny ledelsesmodel for vores offentlige velfærdsinstitutioner inspireret af de private virksomheder, så der er mere tid til kerneopgaverne.\\n \\nLæs mere i vores partiprogram:\\nhttps://t.co/eJ7PF7LrFn. Moderaternes ValgTV - dag 20 https://t.co/9wSRkAvI3m. Tænk hvad det kan give af identitet, nytænkning og fokus på kerneopgaverne, hvis hver enkelt plejehjem, skole, daginstitution får frihed til at koncentrere sig om egen drift fremfor at skulle orientere sig opad mod forvaltning, byråd og folketing. #dkpol. MODERATERNE vil organisere velfærdsinstitutioner som ’Offentlige Selskaber’ – offentligt ejede og regulerede, men med samme frihedsgrader som private virksomheder eller selvejende institutioner. #dkpol. Vi skal finde den rigtige balance mellem de ansattes faglige frihed, trivsel, udviklingsmuligheder og brugernes forventninger om service, kvalitet og retssikkerhed – og samfundets berettigede forventninger om, at skatteborgernes penge forvaltes optimalt. #dkpol. Det er i daginstitutionen, skolen og i ældreplejen vi møder velfærdssamfundet. Der er bred politisk enighed om at værne om den danske model. Intentionerne er gode gode, men bunder alligevel i en opfattelse af, at alting kan styres politisk, fra folketinget eller byrådet #dkpol. Moderaternes ValgTV - dag 19 https://t.co/wGd23bIBh3. Moderaternes ValgTV - dag 18 https://t.co/cXbMYjNCfk. En stemme på Moderaterne er derfor den eneste mulighed for at bryde dødvandet, så vi får lavet fornuftige og gennemtænkte reformer af Danmark, så bl.a. et sygehusvæsen i frit fald kan rettes op igen. #dkpol. Vi håber, at både Venstre, Konservative og Socialdemokratiet vil indgå i et forpligtende samarbejde om at løse de enorme udfordringer, Danmark står overfor. Det er rent spin at oversætte den ambition til, at en stemme på os er en stemme på en bestemt statsminister. #dkpol. Vi går til valg på, at de ansvarlige politiske partier samles over midten og tager et bærende ansvar for at igangsætte de nødvendige reformer for Danmark.\\n\\u200b\\n#dkpol. 3 uger inde i valgkampen, hvor det politiske spin kører på sit højeste, er det på sin plads at slå fast, at Moderaterne ikke peger på ’nogen’ men på ’noget’.\\n\\u200b\\n#dkpol. Moderaternes ValgTV - Løkke om regeringsdannelser https://t.co/UsJiA6Uuiy. Moderaternes ValgTV - dag 16 https://t.co/AAYRywhaFk. Moderaternes ValgTV - dag 15 https://t.co/SAGeE4umJU. Moderaternes ValgTV - dag 14 https://t.co/tx2PCfJMRO. RT @LarsArneC: ”Hvem peger du på - Mette, Søren eller Jakob?”. Det er jeg blevet spurgt om 117 gange, inden valget overhovedet er blevet ud…. Moderaternes ValgTV - dag 13 https://t.co/uqLxAIJKXk. Moderaterne vil tilbyde de bedste rammer for iværksættere.\\nVi foreslår blandt andet at:\\n\\n-       Sænke aktieindkomstskatten markant og derved gøre det attraktivt at investere i Danmark.\\n\\nLæs resten af udspillet her: https://t.co/cEMw356yn5\\n\\n#dkpol #Moderaterne #dkbiz https://t.co/Fhapjw23Qw. Moderaternes ValgTV - dag 12 https://t.co/ueJWBQPgU4. RT @EleLund: Jes Søgaard \\nDirektør, professor, SDU om @moderaterne_dk nye sundhedsudspil. Det mest innovative og konkrete forslag. Tydeligt…. Moderaternes ValgTV - dag 11 https://t.co/hOak1b3QrN. Moderaternes ValgTV - dag 10 https://t.co/pHnDn2ugvJ. RT @AnneKaltoft: Vores sundhedsvæsen ér udfordret, som @larsloekke og @moderaterne_dk fastslår. Det er vigtigt med fokus på, hvordan vi sik…. @larsloekke om Moderaternes nye sundhedsudspil: \\n\\n“Det er en akut redningsplan med fokus på 2023. Sådan at vi (…) kan få noget håb tilbage i sundhedsvæsnet”\\n\\nLæs mere om vores udspil:\\nhttps://t.co/GlVYPWWL5a. RT @SebRisboel: Opsigtsvækkende melding fra formand for Fødevareforbundet NFF: @Spolitik @venstredk og @moderaterne_dk bør danne en SMV-reg…. RT @berlingske: Nu præsenterer @larsloekke sin »redningsplan« for sundhedsvæsenet. Følg med her. \\n\\n#dkpol #FV22 @moderaterne_dk \\n\\nhttps://t…. Moderaterne præsenterer i dag en gennemarbejdet løsning, der er baseret på den faglighed og fornuft, der skal til for at sikre et frit og lige sundhedsvæsen i fremtiden.\\n\\u200b\\nLæs hele reformen her: https://t.co/GlVYPXeUji\\n\\n#dkpol #sundhed #moderaterne. Moderaternes ValgTV - dag 9 https://t.co/4XJ4LMUdAX. RT @QvortrupHenrik: Valgkampen er gået ind i sin anden uge.\\nHer efter de første syv dage kårer jeg to vindere - og en klar taber.\\nDagens \"Q…. RT @GamPedersen: Det er egentlig ret tankevækkende og skræmmende, at vi bruger tiden på at diskutere om ældre må sige nej til ansatte med t…. Moderaternes ValgTV - 12. oktober https://t.co/kcTLLe7coo. RT @LarsArneC: Iført lange underbukser, skitøj og waders var jeg på tømmerflåden hos den @DenGroenneUng og tale klimapolitik. Hos @Moderate…. RT @Firmaidraetten: \"Idræt binder folk sammen. Vi mødes på tværs af skel.\" Tak til @km_frydensbjerg fra @moderaterne_dk for nysgerrigheden…. RT @DMCamilla: SÅDAN!👏🏼Stærk melding fra @engelschmidt @moderaterne_dk:\\n”Danmark har ikke råd til at blive fattigere på viden, og ingen bli…. ”Det ville svare til, at vi vælger kaptajnen på skibet uden at have haft indflydelse på, hvor vi skal sejle hen. Vi vil bruge vores stemme til at få lavet en sejlplan for, hvor skibet Danmark skal sejle hen.” @larsloekke #dkpol #ftvalg22 https://t.co/7rV0CCiMgF. Moderaternes ValgTV - 11 oktober https://t.co/9DSygtKKPB. Moderaternes ValgTV - 10. oktober https://t.co/bkQG1kUiIj. Løsningerne kommer ikke fra rød eller fra blå, fra venstre eller fra højre.\\n\\u200b\\nDe kommer fra en forandring fra midten. \\n\\u200b#dkpol #moderaterne https://t.co/RehueYgCcw. @Dinamofidi Sejt. Moderaterne ValgTV - dag 5 - 9. oktober https://t.co/aTsbtCN7cE. “@larsloekke’s parti, Moderaterne, står nok engang med de afgørende mandater og nyder i denne måling også godt af en fremgang, der sikrer partiet 12 mandater.” - @tv2nyhederne \\n#dkpol #dkmedier #megafon. Ligesom krisens årsager er komplekse, er løsningerne derpå også komplekse. Vi skal gøre en indsats for at se krisen i sin helhed, for ellers kan overfladeløsninger let skabe større permanente udfordringer. \\n#dkpol #energikrise #inflation #dkmedier https://t.co/QWQAg4mbgT. Moderaternes ValgTV - dag 4 https://t.co/yHe0A9GGD0. Vores kandidater repræsenterer enormt mange forskellige mennesker, og det er absolut, hvad dansk politik har brug for.\\n\\u200b\\nI dag bliver Danmark lilla!\\n\\n#dkpol #moderaterne #politik. Læge, kromand, selvstændig, scenemester, sygeplejerske, fabrikant, vicevært, folkeskolelærer, tandlæge, skatterådgiver, iværksætter, psykolog, direktør, gadejurist, advokat, studerende, brandmand, pædagog, landmand, offentlig ansat, journalist og tjener. #dkpol #moderaterne. Moderaternes ValgTV - 7. okt. - dag 3 https://t.co/qd124Dpczb. At frisætte plejehjemmene er ikke et ultraliberalistisk projekt, hvor vi privatiserer det hele, men vi skal lade os inspirere af den frie organisering. \\nKommunerne skal forpligtes på at indrette ældreplejen, som om de var selvejende. #dkpol #moderaterne https://t.co/hVUWYjgcfX. ModeraterneTV - 6. oktober - dag 2 https://t.co/PFDEj0Zo8w. RT @sorenpind: Nu gir Gallup også Løkke 6.1 - og tallene er fra før debatten i går. Mand, its crazy.. Danmark er et stort fællesskab, hvor der er nogle, der vil bo i henholdsvis rød og blå stue. Det bør ikke være en kamp om rød eller blå, for hvad nytter det, når det regner ind gennem taget? #dkpol #moderaterne https://t.co/rHLWGziV4g. RT @jonasholmdk: Vild måling. Valgets første Gallup giver  \\u2066@moderaterne_dk\\u2069 6,1%. Det er noget af et comeback for \\u2066@larsloekke\\u2069, hvis han…. ”Tryghed i fremtiden – kræver forandring i nutiden” - @larsloekke \\n\\nFantastisk 1. valgdag! Morgendagen er Moderat #dkpol #valgkamp #moderaterne https://t.co/Y34JymEw57. RT @Morten_Crone: Min gymnasielærer havde kun uddelt ét 13-tal i sin tid som samfundsfagslærer. Det var til @larsloekke. \\nI aften er han sø…. RT @sorenpind: Løkke bliver livsfarlig for både S, V &amp; K i positionen som den kloge, rolige, myndige, der gerne vil snakke rigtig politik f…. RT @nikolailang: @ammitzbollbille @larsloekke @moderaterne_dk The come back kid. RT @ammitzbollbille: Løkke owner da den debat for vildt. Når Løkke er god, er han bare bedre end de bedste #dkpol\\n@larsloekke @moderaterne_…. RT @QvortrupHenrik: I debatten tager @larsloekke tager alt det shine, som hans tidligere partikammerat @JakobEllemann ville give sin højre…. RT @engelschmidt: “Jeg er slet ikke i tvivl om, at vi alle kommer til at spise mindre kød i fremtiden. Jeg forslår derfor, at vi laver en k…. ValgTV fra Moderaterne https://t.co/hGmaQuH0nt. RT @QvortrupHenrik: .@larsloekke brillerer i snakken om udfordringerne i sundhedsvæsenet. Erfaring fornægter sig ikke.. RT @larsloekke: Meget fin åbning af statsministeren med italesættelse af tre anerkendte parlamentarikere, der stopper ved valget: Marianne…']\n"
     ]
    }
   ],
   "source": [
    "inspect_topic(pol2vec_model, 12, n_docs=1, query_substr=None)"
   ]
  },
  {
   "cell_type": "code",
   "execution_count": 85,
   "id": "a12194ad-074f-45b2-9e47-c1cf6ed9f096",
   "metadata": {},
   "outputs": [],
   "source": [
    "model_path = 'embedding_models/politician2vec_test_v1.txt'"
   ]
  },
  {
   "cell_type": "code",
   "execution_count": 86,
   "id": "fdfc7eff-6349-4e87-8af2-f605fcdb2351",
   "metadata": {},
   "outputs": [],
   "source": [
    "pol2vec_model.save(model_path)"
   ]
  },
  {
   "cell_type": "markdown",
   "id": "0622949d-fbea-486a-b7d8-37e4a2e165b4",
   "metadata": {},
   "source": [
    "### Viz dev below"
   ]
  },
  {
   "cell_type": "code",
   "execution_count": 87,
   "id": "53ac4339-ab37-41ca-9aaf-77c0f93ea5bf",
   "metadata": {},
   "outputs": [
    {
     "name": "stdout",
     "output_type": "stream",
     "text": [
      "Loading Politician2Vec model...\n",
      "Retrieving document embedding...\n",
      "All done!\n"
     ]
    }
   ],
   "source": [
    "pol2vec_model, doc2vec_model = load_politician2vec_from_txt(model_path)"
   ]
  },
  {
   "cell_type": "code",
   "execution_count": 103,
   "id": "33350c40-b001-424a-94ad-006ad9597c5c",
   "metadata": {},
   "outputs": [
    {
     "name": "stdout",
     "output_type": "stream",
     "text": [
      "You have elected to extract only document vectors.\n",
      "Please note that further preprocessing -- such as filtering based on topics of\n",
      "interest -- may be desired in order to facilitate TensorBoard visualisation.\n",
      "Please see get_doc_topic_df(), vector_subset2tensor_without_words(), and\n",
      "metadata2tensor()\n",
      "\n",
      "Saving temp w2v file and converting to tensor. This may take a while...\n"
     ]
    },
    {
     "name": "stderr",
     "output_type": "stream",
     "text": [
      "2022-11-12 10:03:52,778 - word2vec2tensor - INFO - running /Users/mathiasbruun/me/anaconda3/lib/python3.7/site-packages/gensim/scripts/word2vec2tensor.py -i tensorboard_input/temp/doc_tensor_no_wv.w2v -o tensorboard_input/TENSOR_TEST_V1\n",
      "2022-11-12 10:03:52,779 - keyedvectors - INFO - loading projection weights from tensorboard_input/temp/doc_tensor_no_wv.w2v\n",
      "2022-11-12 10:03:52,820 - utils - INFO - KeyedVectors lifecycle event {'msg': 'loaded (154, 300) matrix of type float32 from tensorboard_input/temp/doc_tensor_no_wv.w2v', 'binary': False, 'encoding': 'utf8', 'datetime': '2022-11-12T10:03:52.802900', 'gensim': '4.1.2', 'python': '3.7.12 | packaged by conda-forge | (default, Oct 26 2021, 05:57:50) \\n[Clang 11.1.0 ]', 'platform': 'Darwin-21.4.0-x86_64-i386-64bit', 'event': 'load_word2vec_format'}\n",
      "2022-11-12 10:03:52,872 - word2vec2tensor - INFO - 2D tensor file saved to tensorboard_input/TENSOR_TEST_V1_tensor.tsv\n",
      "2022-11-12 10:03:52,872 - word2vec2tensor - INFO - Tensor metadata file saved to tensorboard_input/TENSOR_TEST_V1_metadata.tsv\n",
      "2022-11-12 10:03:52,872 - word2vec2tensor - INFO - finished running word2vec2tensor.py\n"
     ]
    }
   ],
   "source": [
    "doc2vec2tensor(\n",
    "    doc2vec_model,\n",
    "    temp_w2v_path = 'tensorboard_input/temp/doc_tensor_no_wv.w2v',\n",
    "    tsv_prefix = 'tensorboard_input/TENSOR_TEST_V1',\n",
    "    output_docvecs = True,\n",
    "    output_wordvecs = False\n",
    ")"
   ]
  },
  {
   "cell_type": "code",
   "execution_count": 88,
   "id": "4e4c9095-3864-4dbc-95e2-ce5cebb325da",
   "metadata": {},
   "outputs": [],
   "source": [
    "n_words = len(doc2vec_model.wv)\n",
    "n_docs = len(doc2vec_model.dv)\n",
    "vocab = pol2vec_model.vocab"
   ]
  },
  {
   "cell_type": "code",
   "execution_count": 89,
   "id": "912b443b-38b9-4ea2-841e-a1d8a7d89e34",
   "metadata": {},
   "outputs": [],
   "source": [
    "topic_labels = {\n",
    "    0: 'Parti 1',\n",
    "    1: 'Parti 2',\n",
    "    2: 'Parti 3',\n",
    "    3: 'Parti 4',\n",
    "    4: 'Parti 5',\n",
    "    5: 'Parti 6',\n",
    "    6: 'Parti 7',\n",
    "    7: 'Parti 8',\n",
    "    8: 'Parti 9',\n",
    "    9: 'Parti 10',\n",
    "    10: 'Parti 11',\n",
    "    11: 'Parti 12',\n",
    "    12: 'Parti 13'\n",
    "}"
   ]
  },
  {
   "cell_type": "code",
   "execution_count": 121,
   "id": "d3bf42bf-c492-498b-bba4-63978cbddfe9",
   "metadata": {},
   "outputs": [
    {
     "name": "stdout",
     "output_type": "stream",
     "text": [
      "Topic sizes before filtering (topic 13 is \"Other\"):\n",
      "\n",
      "[[ 0 35]\n",
      " [ 1 31]\n",
      " [ 2 16]\n",
      " [ 3 14]\n",
      " [ 4 13]\n",
      " [ 5 11]\n",
      " [ 6 10]\n",
      " [ 7  6]\n",
      " [ 8  5]\n",
      " [ 9  5]\n",
      " [10  5]\n",
      " [11  2]\n",
      " [12  1]]\n"
     ]
    }
   ],
   "source": [
    "topic_df = get_doc_topic_df(\n",
    "    pol2vec_model,\n",
    "    no_substantive_topics = 13,\n",
    "    snippets = True\n",
    ")"
   ]
  },
  {
   "cell_type": "code",
   "execution_count": 122,
   "id": "225876bb-d447-4f7b-b022-910848e82f0e",
   "metadata": {},
   "outputs": [
    {
     "data": {
      "text/html": [
       "<div>\n",
       "<style scoped>\n",
       "    .dataframe tbody tr th:only-of-type {\n",
       "        vertical-align: middle;\n",
       "    }\n",
       "\n",
       "    .dataframe tbody tr th {\n",
       "        vertical-align: top;\n",
       "    }\n",
       "\n",
       "    .dataframe thead th {\n",
       "        text-align: right;\n",
       "    }\n",
       "</style>\n",
       "<table border=\"1\" class=\"dataframe\">\n",
       "  <thead>\n",
       "    <tr style=\"text-align: right;\">\n",
       "      <th></th>\n",
       "      <th>doc</th>\n",
       "      <th>top</th>\n",
       "      <th>snippet</th>\n",
       "    </tr>\n",
       "  </thead>\n",
       "  <tbody>\n",
       "    <tr>\n",
       "      <th>0</th>\n",
       "      <td>0</td>\n",
       "      <td>7</td>\n",
       "      <td>Det offentlige forbrug er steget med 9 mia. kr...</td>\n",
       "    </tr>\n",
       "    <tr>\n",
       "      <th>1</th>\n",
       "      <td>1</td>\n",
       "      <td>8</td>\n",
       "      <td>RT @TFKortholm: Vi er klar til valgkampen 💚🖖 S...</td>\n",
       "    </tr>\n",
       "    <tr>\n",
       "      <th>2</th>\n",
       "      <td>2</td>\n",
       "      <td>8</td>\n",
       "      <td>Vores super seje @OlumekoC er på den internati...</td>\n",
       "    </tr>\n",
       "    <tr>\n",
       "      <th>3</th>\n",
       "      <td>3</td>\n",
       "      <td>1</td>\n",
       "      <td>RT @DSU_1920: Statsministeren underskriver DSU...</td>\n",
       "    </tr>\n",
       "    <tr>\n",
       "      <th>4</th>\n",
       "      <td>4</td>\n",
       "      <td>4</td>\n",
       "      <td>Hvad er egentlig @SorenPape, @KonservativeDK, ...</td>\n",
       "    </tr>\n",
       "    <tr>\n",
       "      <th>...</th>\n",
       "      <td>...</td>\n",
       "      <td>...</td>\n",
       "      <td>...</td>\n",
       "    </tr>\n",
       "    <tr>\n",
       "      <th>149</th>\n",
       "      <td>149</td>\n",
       "      <td>0</td>\n",
       "      <td>RT @JakobEllemann: Danskerne drømmer om at bo ...</td>\n",
       "    </tr>\n",
       "    <tr>\n",
       "      <th>150</th>\n",
       "      <td>150</td>\n",
       "      <td>0</td>\n",
       "      <td>RT @AndreasBachM: 75.135 ‼️ gange tak til alle...</td>\n",
       "    </tr>\n",
       "    <tr>\n",
       "      <th>151</th>\n",
       "      <td>151</td>\n",
       "      <td>0</td>\n",
       "      <td>En borgerlig statsminister forudsætter et borg...</td>\n",
       "    </tr>\n",
       "    <tr>\n",
       "      <th>152</th>\n",
       "      <td>152</td>\n",
       "      <td>1</td>\n",
       "      <td>@JackPGB Ja, man får det dårligt 😔. Det her gø...</td>\n",
       "    </tr>\n",
       "    <tr>\n",
       "      <th>153</th>\n",
       "      <td>153</td>\n",
       "      <td>4</td>\n",
       "      <td>Fantastisk nyhed for alle os, der har børn i s...</td>\n",
       "    </tr>\n",
       "  </tbody>\n",
       "</table>\n",
       "<p>154 rows × 3 columns</p>\n",
       "</div>"
      ],
      "text/plain": [
       "     doc  top                                            snippet\n",
       "0      0    7  Det offentlige forbrug er steget med 9 mia. kr...\n",
       "1      1    8  RT @TFKortholm: Vi er klar til valgkampen 💚🖖 S...\n",
       "2      2    8  Vores super seje @OlumekoC er på den internati...\n",
       "3      3    1  RT @DSU_1920: Statsministeren underskriver DSU...\n",
       "4      4    4  Hvad er egentlig @SorenPape, @KonservativeDK, ...\n",
       "..   ...  ...                                                ...\n",
       "149  149    0  RT @JakobEllemann: Danskerne drømmer om at bo ...\n",
       "150  150    0  RT @AndreasBachM: 75.135 ‼️ gange tak til alle...\n",
       "151  151    0  En borgerlig statsminister forudsætter et borg...\n",
       "152  152    1  @JackPGB Ja, man får det dårligt 😔. Det her gø...\n",
       "153  153    4  Fantastisk nyhed for alle os, der har børn i s...\n",
       "\n",
       "[154 rows x 3 columns]"
      ]
     },
     "execution_count": 122,
     "metadata": {},
     "output_type": "execute_result"
    }
   ],
   "source": [
    "topic_df"
   ]
  },
  {
   "cell_type": "code",
   "execution_count": 123,
   "id": "468b7780-471e-4b88-8352-d5166a4fbe20",
   "metadata": {},
   "outputs": [],
   "source": [
    "# TODO: Okay, we have clearly made a mistake. By swapping party classes for politicians,\n",
    "# we are now telling the model to find politician-level centroids wrt. politician superdocs, yielding...\n",
    "# ... well, obviously, 154 centroids, correspodning to the 154 super documents. That makes no sense,\n",
    "# since the centroid and the superdocument will be the same by construction.\n",
    "#\n",
    "# We either want document-level centroids clustered by politician OR politician-level centroids clustered\n",
    "# by party. So politician superdocs + input party label array.\n",
    "#\n",
    "# TODO: Also extract topic vectors themselves, which we usually never do!\n",
    "#\n",
    "# TODO: Perhaps chunk input superdocs according to certain special character that we join them on initially"
   ]
  },
  {
   "cell_type": "code",
   "execution_count": 124,
   "id": "218be225-d553-4ca2-aee8-9860aa0371a6",
   "metadata": {},
   "outputs": [
    {
     "data": {
      "text/html": [
       "<div>\n",
       "<style scoped>\n",
       "    .dataframe tbody tr th:only-of-type {\n",
       "        vertical-align: middle;\n",
       "    }\n",
       "\n",
       "    .dataframe tbody tr th {\n",
       "        vertical-align: top;\n",
       "    }\n",
       "\n",
       "    .dataframe thead th {\n",
       "        text-align: right;\n",
       "    }\n",
       "</style>\n",
       "<table border=\"1\" class=\"dataframe\">\n",
       "  <thead>\n",
       "    <tr style=\"text-align: right;\">\n",
       "      <th></th>\n",
       "      <th>doc</th>\n",
       "      <th>top</th>\n",
       "      <th>snippet</th>\n",
       "    </tr>\n",
       "  </thead>\n",
       "  <tbody>\n",
       "    <tr>\n",
       "      <th>0</th>\n",
       "      <td>0</td>\n",
       "      <td>7</td>\n",
       "      <td>Det offentlige forbrug er steget med 9 mia. kr...</td>\n",
       "    </tr>\n",
       "    <tr>\n",
       "      <th>1</th>\n",
       "      <td>1</td>\n",
       "      <td>8</td>\n",
       "      <td>RT @TFKortholm: Vi er klar til valgkampen 💚🖖 S...</td>\n",
       "    </tr>\n",
       "    <tr>\n",
       "      <th>2</th>\n",
       "      <td>2</td>\n",
       "      <td>8</td>\n",
       "      <td>Vores super seje @OlumekoC er på den internati...</td>\n",
       "    </tr>\n",
       "    <tr>\n",
       "      <th>3</th>\n",
       "      <td>3</td>\n",
       "      <td>1</td>\n",
       "      <td>RT @DSU_1920: Statsministeren underskriver DSU...</td>\n",
       "    </tr>\n",
       "    <tr>\n",
       "      <th>4</th>\n",
       "      <td>4</td>\n",
       "      <td>4</td>\n",
       "      <td>Hvad er egentlig @SorenPape, @KonservativeDK, ...</td>\n",
       "    </tr>\n",
       "    <tr>\n",
       "      <th>...</th>\n",
       "      <td>...</td>\n",
       "      <td>...</td>\n",
       "      <td>...</td>\n",
       "    </tr>\n",
       "    <tr>\n",
       "      <th>149</th>\n",
       "      <td>149</td>\n",
       "      <td>0</td>\n",
       "      <td>RT @JakobEllemann: Danskerne drømmer om at bo ...</td>\n",
       "    </tr>\n",
       "    <tr>\n",
       "      <th>150</th>\n",
       "      <td>150</td>\n",
       "      <td>0</td>\n",
       "      <td>RT @AndreasBachM: 75.135 ‼️ gange tak til alle...</td>\n",
       "    </tr>\n",
       "    <tr>\n",
       "      <th>151</th>\n",
       "      <td>151</td>\n",
       "      <td>0</td>\n",
       "      <td>En borgerlig statsminister forudsætter et borg...</td>\n",
       "    </tr>\n",
       "    <tr>\n",
       "      <th>152</th>\n",
       "      <td>152</td>\n",
       "      <td>1</td>\n",
       "      <td>@JackPGB Ja, man får det dårligt 😔. Det her gø...</td>\n",
       "    </tr>\n",
       "    <tr>\n",
       "      <th>153</th>\n",
       "      <td>153</td>\n",
       "      <td>4</td>\n",
       "      <td>Fantastisk nyhed for alle os, der har børn i s...</td>\n",
       "    </tr>\n",
       "  </tbody>\n",
       "</table>\n",
       "<p>154 rows × 3 columns</p>\n",
       "</div>"
      ],
      "text/plain": [
       "     doc  top                                            snippet\n",
       "0      0    7  Det offentlige forbrug er steget med 9 mia. kr...\n",
       "1      1    8  RT @TFKortholm: Vi er klar til valgkampen 💚🖖 S...\n",
       "2      2    8  Vores super seje @OlumekoC er på den internati...\n",
       "3      3    1  RT @DSU_1920: Statsministeren underskriver DSU...\n",
       "4      4    4  Hvad er egentlig @SorenPape, @KonservativeDK, ...\n",
       "..   ...  ...                                                ...\n",
       "149  149    0  RT @JakobEllemann: Danskerne drømmer om at bo ...\n",
       "150  150    0  RT @AndreasBachM: 75.135 ‼️ gange tak til alle...\n",
       "151  151    0  En borgerlig statsminister forudsætter et borg...\n",
       "152  152    1  @JackPGB Ja, man får det dårligt 😔. Det her gø...\n",
       "153  153    4  Fantastisk nyhed for alle os, der har børn i s...\n",
       "\n",
       "[154 rows x 3 columns]"
      ]
     },
     "execution_count": 124,
     "metadata": {},
     "output_type": "execute_result"
    }
   ],
   "source": [
    "topic_df"
   ]
  },
  {
   "cell_type": "code",
   "execution_count": 125,
   "id": "4d29f0e1-e1f6-422c-b039-74197be8f213",
   "metadata": {},
   "outputs": [],
   "source": [
    "topic_df['snippet'] = grouped_docs['full_name']"
   ]
  },
  {
   "cell_type": "code",
   "execution_count": 126,
   "id": "2a3d0664-6138-4cd9-828c-31020574e52b",
   "metadata": {},
   "outputs": [
    {
     "data": {
      "text/html": [
       "<div>\n",
       "<style scoped>\n",
       "    .dataframe tbody tr th:only-of-type {\n",
       "        vertical-align: middle;\n",
       "    }\n",
       "\n",
       "    .dataframe tbody tr th {\n",
       "        vertical-align: top;\n",
       "    }\n",
       "\n",
       "    .dataframe thead th {\n",
       "        text-align: right;\n",
       "    }\n",
       "</style>\n",
       "<table border=\"1\" class=\"dataframe\">\n",
       "  <thead>\n",
       "    <tr style=\"text-align: right;\">\n",
       "      <th></th>\n",
       "      <th>doc</th>\n",
       "      <th>top</th>\n",
       "      <th>snippet</th>\n",
       "    </tr>\n",
       "  </thead>\n",
       "  <tbody>\n",
       "    <tr>\n",
       "      <th>0</th>\n",
       "      <td>0</td>\n",
       "      <td>7</td>\n",
       "      <td>Alex Vanopslagh</td>\n",
       "    </tr>\n",
       "    <tr>\n",
       "      <th>1</th>\n",
       "      <td>1</td>\n",
       "      <td>8</td>\n",
       "      <td>Alternativet</td>\n",
       "    </tr>\n",
       "    <tr>\n",
       "      <th>2</th>\n",
       "      <td>2</td>\n",
       "      <td>8</td>\n",
       "      <td>Alternativets Unge</td>\n",
       "    </tr>\n",
       "    <tr>\n",
       "      <th>3</th>\n",
       "      <td>3</td>\n",
       "      <td>1</td>\n",
       "      <td>Anders Kronborg</td>\n",
       "    </tr>\n",
       "    <tr>\n",
       "      <th>4</th>\n",
       "      <td>4</td>\n",
       "      <td>4</td>\n",
       "      <td>Andreas Steenberg</td>\n",
       "    </tr>\n",
       "    <tr>\n",
       "      <th>...</th>\n",
       "      <td>...</td>\n",
       "      <td>...</td>\n",
       "      <td>...</td>\n",
       "    </tr>\n",
       "    <tr>\n",
       "      <th>149</th>\n",
       "      <td>149</td>\n",
       "      <td>0</td>\n",
       "      <td>Ulla Tørnæs</td>\n",
       "    </tr>\n",
       "    <tr>\n",
       "      <th>150</th>\n",
       "      <td>150</td>\n",
       "      <td>0</td>\n",
       "      <td>Venstre</td>\n",
       "    </tr>\n",
       "    <tr>\n",
       "      <th>151</th>\n",
       "      <td>151</td>\n",
       "      <td>0</td>\n",
       "      <td>Venstres Ungdom</td>\n",
       "    </tr>\n",
       "    <tr>\n",
       "      <th>152</th>\n",
       "      <td>152</td>\n",
       "      <td>1</td>\n",
       "      <td>Yildiz Akdogan</td>\n",
       "    </tr>\n",
       "    <tr>\n",
       "      <th>153</th>\n",
       "      <td>153</td>\n",
       "      <td>4</td>\n",
       "      <td>Zenia Stampe</td>\n",
       "    </tr>\n",
       "  </tbody>\n",
       "</table>\n",
       "<p>154 rows × 3 columns</p>\n",
       "</div>"
      ],
      "text/plain": [
       "     doc  top             snippet\n",
       "0      0    7     Alex Vanopslagh\n",
       "1      1    8        Alternativet\n",
       "2      2    8  Alternativets Unge\n",
       "3      3    1     Anders Kronborg\n",
       "4      4    4   Andreas Steenberg\n",
       "..   ...  ...                 ...\n",
       "149  149    0         Ulla Tørnæs\n",
       "150  150    0             Venstre\n",
       "151  151    0     Venstres Ungdom\n",
       "152  152    1      Yildiz Akdogan\n",
       "153  153    4        Zenia Stampe\n",
       "\n",
       "[154 rows x 3 columns]"
      ]
     },
     "execution_count": 126,
     "metadata": {},
     "output_type": "execute_result"
    }
   ],
   "source": [
    "topic_df"
   ]
  },
  {
   "cell_type": "code",
   "execution_count": 127,
   "id": "e8618fb2-2003-4a03-bfea-63fe7ec4b095",
   "metadata": {},
   "outputs": [
    {
     "data": {
      "text/plain": [
       "13"
      ]
     },
     "execution_count": 127,
     "metadata": {},
     "output_type": "execute_result"
    }
   ],
   "source": [
    "len(pol2vec_model.topic_vectors)"
   ]
  },
  {
   "cell_type": "code",
   "execution_count": 128,
   "id": "038ccf66-adde-4837-8003-ae4c0ec7025c",
   "metadata": {},
   "outputs": [],
   "source": [
    "metadata2tensor(\n",
    "    topic_df,\n",
    "    metadata_path = 'tensorboard_input/TENSOR_TEST_V1_METADATA.tsv',\n",
    "    label_list = topic_labels\n",
    ")"
   ]
  },
  {
   "cell_type": "code",
   "execution_count": null,
   "id": "a89e9872-5429-473f-97c0-afcec6818f80",
   "metadata": {},
   "outputs": [],
   "source": [
    "#vector_subset2tensor_without_words(\n",
    "#    topic_df,\n",
    "#    orig_vec_path = 'tensorboard_input/TENSOR_TEST_V1',\n",
    "#    out_path = 'tensorboard_input/TENSOR_TEST_V1'\n",
    "#)"
   ]
  }
 ],
 "metadata": {
  "kernelspec": {
   "display_name": "Python 3 (ipykernel)",
   "language": "python",
   "name": "python3"
  },
  "language_info": {
   "codemirror_mode": {
    "name": "ipython",
    "version": 3
   },
   "file_extension": ".py",
   "mimetype": "text/x-python",
   "name": "python",
   "nbconvert_exporter": "python",
   "pygments_lexer": "ipython3",
   "version": "3.7.12"
  }
 },
 "nbformat": 4,
 "nbformat_minor": 5
}
