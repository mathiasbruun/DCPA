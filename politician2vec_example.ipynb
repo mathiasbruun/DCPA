{
 "cells": [
  {
   "cell_type": "markdown",
   "id": "758966fb-f998-4d60-8820-760c9a6a727e",
   "metadata": {},
   "source": [
    "# First `politician2vec` demo"
   ]
  },
  {
   "cell_type": "markdown",
   "id": "083459f6-2d4e-474a-b797-f026abe57804",
   "metadata": {},
   "source": [
    "## To do\n",
    "- Descriptive statistics/viz for entire dataset\n",
    "- Settle on centroid calculation method (handle outliers better, remove alt method?)\n",
    "- Compile populism-related words for constructing axes\n",
    "- Determine possibilities of comparative analysis\n",
    "- Consistently change \"topic\" to \"party\"/\"cluster\" or the like"
   ]
  },
  {
   "cell_type": "code",
   "execution_count": 1,
   "id": "c05d8fdb-6e05-4234-a5d2-d78f07ec6cf5",
   "metadata": {},
   "outputs": [
    {
     "name": "stdout",
     "output_type": "stream",
     "text": [
      "Found existing installation: politician2vec 0.0.1\n",
      "Uninstalling politician2vec-0.0.1:\n",
      "  Successfully uninstalled politician2vec-0.0.1\n",
      "Note: you may need to restart the kernel to use updated packages.\n"
     ]
    }
   ],
   "source": [
    "%pip uninstall politician2vec -y"
   ]
  },
  {
   "cell_type": "code",
   "execution_count": 2,
   "id": "c5fe62bc-30f3-4a7f-b2c5-82062cd7abdb",
   "metadata": {},
   "outputs": [
    {
     "name": "stdout",
     "output_type": "stream",
     "text": [
      "Collecting git+ssh://****@github.com/mathiasbruun/politician2vec.git\n",
      "  Cloning ssh://****@github.com/mathiasbruun/politician2vec.git to /private/var/folders/8q/02vc3fzn3r1fv7wzycyspjz80000gn/T/pip-req-build-7_1xy0e5\n",
      "  Running command git clone -q 'ssh://****@github.com/mathiasbruun/politician2vec.git' /private/var/folders/8q/02vc3fzn3r1fv7wzycyspjz80000gn/T/pip-req-build-7_1xy0e5\n",
      "Building wheels for collected packages: politician2vec\n",
      "  Building wheel for politician2vec (setup.py) ... \u001b[?25ldone\n",
      "\u001b[?25h  Created wheel for politician2vec: filename=politician2vec-0.0.1-py3-none-any.whl size=27418 sha256=54eca48890b4bf060429ce14c88f06e1c5172f1c5298f82fef97eb3503aa62e5\n",
      "  Stored in directory: /private/var/folders/8q/02vc3fzn3r1fv7wzycyspjz80000gn/T/pip-ephem-wheel-cache-64_l8cex/wheels/ac/44/62/b0b3ddf2882cd1b1d1cc4e060c5c525b951ae01496d65cd472\n",
      "Successfully built politician2vec\n",
      "Installing collected packages: politician2vec\n",
      "Successfully installed politician2vec-0.0.1\n",
      "Note: you may need to restart the kernel to use updated packages.\n"
     ]
    }
   ],
   "source": [
    "%pip install git+ssh://git@github.com/mathiasbruun/politician2vec.git"
   ]
  },
  {
   "cell_type": "code",
   "execution_count": 3,
   "id": "bad045e5-4959-4813-a433-383760381766",
   "metadata": {},
   "outputs": [
    {
     "name": "stderr",
     "output_type": "stream",
     "text": [
      "[nltk_data] Downloading package punkt to\n",
      "[nltk_data]     /Users/mathiasbruun/nltk_data...\n",
      "[nltk_data]   Package punkt is already up-to-date!\n",
      "[nltk_data] Downloading package wordnet to\n",
      "[nltk_data]     /Users/mathiasbruun/nltk_data...\n",
      "[nltk_data]   Package wordnet is already up-to-date!\n",
      "[nltk_data] Downloading package omw-1.4 to\n",
      "[nltk_data]     /Users/mathiasbruun/nltk_data...\n",
      "[nltk_data]   Package omw-1.4 is already up-to-date!\n",
      "[nltk_data] Downloading package stopwords to\n",
      "[nltk_data]     /Users/mathiasbruun/nltk_data...\n",
      "[nltk_data]   Package stopwords is already up-to-date!\n",
      "[nltk_data] Downloading package averaged_perceptron_tagger to\n",
      "[nltk_data]     /Users/mathiasbruun/nltk_data...\n",
      "[nltk_data]   Package averaged_perceptron_tagger is already up-to-\n",
      "[nltk_data]       date!\n"
     ]
    }
   ],
   "source": [
    "from politician2vec import Politician2Vec\n",
    "from politician2vec.utils import *\n",
    "import pickle\n",
    "import pandas as pd\n",
    "import numpy as np\n",
    "import multiprocessing\n",
    "available_workers = multiprocessing.cpu_count()"
   ]
  },
  {
   "cell_type": "code",
   "execution_count": 4,
   "id": "3f04b4d9-247d-4bc1-b9ad-ad7ce97ef9c2",
   "metadata": {},
   "outputs": [],
   "source": [
    "test_data_path = 'data/clean/combined/subset_party_imputed_v2.p'"
   ]
  },
  {
   "cell_type": "code",
   "execution_count": 5,
   "id": "d80504e4-37cf-4c05-825f-6f5f4e9587af",
   "metadata": {},
   "outputs": [
    {
     "data": {
      "text/plain": [
       "(349594, 7)"
      ]
     },
     "execution_count": 5,
     "metadata": {},
     "output_type": "execute_result"
    }
   ],
   "source": [
    "with open(test_data_path, 'rb') as p:\n",
    "    test_data = pickle.load(p)\n",
    "\n",
    "test_data.shape"
   ]
  },
  {
   "cell_type": "code",
   "execution_count": 6,
   "id": "66235c0e-9843-4e4c-8b58-69d2f3c0b37d",
   "metadata": {},
   "outputs": [],
   "source": [
    "# parl_data = test_data.loc[\n",
    "#     (test_data['source'] == 'parliament') &\n",
    "#     ~(test_data['party'].isin(['SIU', 'NQ', 'JF', 'SP']))\n",
    "# ]\n",
    "#\n",
    "# tw_data = test_data.loc[\n",
    "#     test_data['source'] == 'twitter'\n",
    "# ]\n",
    "#\n",
    "meta_data = test_data.loc[\n",
    "    (test_data['source'] == 'meta') &\n",
    "    test_data['doc'].notna()\n",
    "]"
   ]
  },
  {
   "cell_type": "code",
   "execution_count": 7,
   "id": "ad98caa3-a8b4-4f6a-859f-9df0bf39655e",
   "metadata": {},
   "outputs": [
    {
     "data": {
      "text/plain": [
       "V      7182\n",
       "SF     4900\n",
       "S      3465\n",
       "LA     3424\n",
       "KF     2825\n",
       "DF     2059\n",
       "NB     1909\n",
       "RV     1565\n",
       "EL      823\n",
       "FG      689\n",
       "ALT     175\n",
       "DD       76\n",
       "M        28\n",
       "KD       18\n",
       "SIU       9\n",
       "UFG       5\n",
       "Name: party, dtype: int64"
      ]
     },
     "execution_count": 7,
     "metadata": {},
     "output_type": "execute_result"
    }
   ],
   "source": [
    "meta_data['party'].value_counts(dropna = False)"
   ]
  },
  {
   "cell_type": "code",
   "execution_count": 8,
   "id": "08f3e52e-b23a-4712-8526-9b4b6a346940",
   "metadata": {},
   "outputs": [],
   "source": [
    "grouped_docs = meta_data.groupby(['full_name', 'party'])['doc'].apply('. '.join).reset_index()"
   ]
  },
  {
   "cell_type": "code",
   "execution_count": 9,
   "id": "faf6a41d-5de4-44c6-9a6d-cc65d8cb60f5",
   "metadata": {},
   "outputs": [],
   "source": [
    "#docs = [doc for doc in tw_data.doc]\n",
    "docs = [doc for doc in grouped_docs.doc]\n",
    "parties = np.array([party for party in grouped_docs.party])\n",
    "#parties = {i: party for i, party in enumerate(set(grouped_docs.party))}"
   ]
  },
  {
   "cell_type": "code",
   "execution_count": 10,
   "id": "34d92917",
   "metadata": {},
   "outputs": [],
   "source": [
    "#party_lab_map = {party: i for i, party in enumerate(set(parties))}"
   ]
  },
  {
   "cell_type": "code",
   "execution_count": 11,
   "id": "368c3901",
   "metadata": {},
   "outputs": [],
   "source": [
    "#num_party_labs = grouped_docs['party'].map(party_lab_map).tolist()"
   ]
  },
  {
   "cell_type": "code",
   "execution_count": 10,
   "id": "5f2c5f8d-f036-4995-a1d6-e28b031dd924",
   "metadata": {},
   "outputs": [],
   "source": [
    "ngram_options = {\n",
    "    'min_count': 5,\n",
    "    'threshold': 1,\n",
    "    'delimiter': ' '\n",
    "}"
   ]
  },
  {
   "cell_type": "code",
   "execution_count": 12,
   "id": "f709bbde-4760-455d-87ea-cdcfe1e2ee90",
   "metadata": {},
   "outputs": [
    {
     "name": "stderr",
     "output_type": "stream",
     "text": [
      "2022-11-26 17:03:09,568 - politician2vec - INFO - Pre-processing documents for training\n",
      "2022-11-26 17:03:27,115 - politician2vec - INFO - Creating joint document/word embedding\n",
      "2022-11-26 17:06:44,001 - politician2vec - INFO - Estimating party positions using mean...\n",
      "2022-11-26 17:06:44,263 - politician2vec - INFO - All done!\n"
     ]
    }
   ],
   "source": [
    "pol2vec_model = Politician2Vec(\n",
    "    documents = docs,\n",
    "    custom_clusters = parties,\n",
    "    party_inference_method = 'mean',\n",
    "    tokenizer = preproc_docs,\n",
    "    embedding_model = 'doc2vec',\n",
    "    min_count = 50,\n",
    "    ngram_vocab = True,\n",
    "    ngram_vocab_args = ngram_options,\n",
    "    speed = 'fast-learn', # CHANGE FOR REAL RUNS\n",
    "    workers = available_workers\n",
    "    #doc2vec_vector_size = 300,\n",
    "    #doc2vec_window = 8,\n",
    "    #doc2vec_samples_threshold = 1e-5\n",
    ")"
   ]
  },
  {
   "cell_type": "code",
   "execution_count": 14,
   "id": "ed72bac1-cd3b-48b6-8f50-dae9893bc8a1",
   "metadata": {},
   "outputs": [],
   "source": [
    "# TODO: This should probably be implemented as a method of the Politician2Vec class\n",
    "#\n",
    "# NOTE: As of 2022-11-26, it has been decided to keep party 'inference' parallel to the original top2vec implementation.\n",
    "#       This funtionality may prove useful in outlier detection, but--importantly--it requires the ex ante known party affilaitions\n",
    "#       to be mapped to model output ex post instead of relying on inferred parties. Specifically, the 'estimated' party affiliations\n",
    "#       may vary from ground truth labels in the case of semantically outlying politicians with only few data points.\n",
    "\n",
    "def inspect_topic(politician2vec_model, topic_idx, n_docs=None, query_substr=None):\n",
    "    '''\n",
    "    Print top words and top docs for a given\n",
    "    topic.\n",
    "    -------\n",
    "    manual_num (int):  automatically assigned topic number (i.e. 0-indexed).\n",
    "    \n",
    "    n_docs (int, optional): n top documents to print for a given topic.\n",
    "        Default is to print all docs within a given topic.\n",
    "    \n",
    "    query_substr (str, optional): if specified, only documents containing\n",
    "        this substring will be printed. Cannot be specified with n_docs,\n",
    "        as this would return only results within a subset of topic docs.\n",
    "    '''\n",
    "\n",
    "    num_topics = politician2vec_model.get_num_topics()\n",
    "    topic_words, word_scores, topic_nums = politician2vec_model.get_topics(num_topics)\n",
    "\n",
    "    # Get topic sizes so we know max n docs\n",
    "    topic_sizes, topic_nums = politician2vec_model.get_topic_sizes()\n",
    "    docs_to_return = topic_sizes[topic_idx]\n",
    "\n",
    "    # Override n docs to return, if specified\n",
    "    if n_docs:\n",
    "        docs_to_return = n_docs\n",
    "\n",
    "    # Get docs for input topic id\n",
    "    documents, document_scores, document_ids = politician2vec_model.search_documents_by_topic(\n",
    "        topic_num=topic_idx,\n",
    "        num_docs=docs_to_return\n",
    "        )\n",
    "\n",
    "    # Limit output to docs containign certain substring, if specified\n",
    "    if query_substr and n_docs:\n",
    "        raise Exception('Please do NOT specify n_docs with substring query!\\nOtherwise the search is only carried out for a subset of topic docs.')\n",
    "    \n",
    "    # Throw exception if substring query attempted on subset of docs!\n",
    "    elif query_substr:\n",
    "        documents = [doc for doc in documents if query_substr in doc.lower()]\n",
    "\n",
    "    # Print output\n",
    "    print('--- TOP 50 WORDS ---\\n', topic_words[topic_idx], '\\n')\n",
    "\n",
    "    print(f'--- TOP {docs_to_return} DOCS. SUBSTRING QUERY: {query_substr} (n = {len(documents)}) ---\\n', documents)"
   ]
  },
  {
   "cell_type": "code",
   "execution_count": 15,
   "id": "d2ada869",
   "metadata": {},
   "outputs": [
    {
     "data": {
      "text/plain": [
       "(array([12]),\n",
       " array([0.5790218], dtype=float32),\n",
       " array([['danmark fremad', 'fremad kan', 'tørvikanvi fremad',\n",
       "         'politik plads', 'ved 💚', 'kommer løse', 'så rørt',\n",
       "         'klippekortsordningen så', 'hævder lige', 'samfund danner',\n",
       "         'fremad virkelighedenkalder', 'kræver løsninger',\n",
       "         'lige medlemskab', 'tigger hjælp', 'så hovedløst', 'gøre livet',\n",
       "         'løsninger vores', 'partiet både', 'vendes så', 'gøre næste',\n",
       "         'mulighed komme', 'tage næste', 'næste store', 'flere får',\n",
       "         'partiet plads', 'løse klima', 'hjemmehjælpen så', 'tid plads',\n",
       "         'tungen lige', 'gøre nytte', 'reserver plads',\n",
       "         'omstændigheder så', 'erfaringer kan', 'kan tage', 'tid se',\n",
       "         'politiske administrative', 'så kan', 'dag tage',\n",
       "         'vores finanslovsudspil', 'grønne løsninger', 'store græssere',\n",
       "         'løse store', 'ingen kæmper', 'gymnasietid får', 'se lige',\n",
       "         'mener brug', 'politiske sæson', 'lige nui', '💪 stadig',\n",
       "         'fremad tør']], dtype='<U47'),\n",
       " array([[0.68141305, 0.67964894, 0.6745963 , 0.67382145, 0.67309827,\n",
       "         0.66921705, 0.6683924 , 0.665691  , 0.66444707, 0.66315615,\n",
       "         0.66299236, 0.662373  , 0.6618848 , 0.66133976, 0.6611483 ,\n",
       "         0.6608552 , 0.6598537 , 0.6590879 , 0.659011  , 0.65815926,\n",
       "         0.65796304, 0.6570202 , 0.6557675 , 0.6550079 , 0.65406597,\n",
       "         0.65375626, 0.65367126, 0.6531167 , 0.65219605, 0.65164757,\n",
       "         0.651464  , 0.651386  , 0.65085053, 0.65083694, 0.6506621 ,\n",
       "         0.6501642 , 0.65000117, 0.6496062 , 0.6494918 , 0.64925414,\n",
       "         0.64908963, 0.6487694 , 0.6485282 , 0.648391  , 0.6483138 ,\n",
       "         0.6483028 , 0.6480441 , 0.64763045, 0.6475068 , 0.64738405]],\n",
       "       dtype=float32))"
      ]
     },
     "execution_count": 15,
     "metadata": {},
     "output_type": "execute_result"
    }
   ],
   "source": [
    "pol2vec_model.get_documents_topics([143])"
   ]
  },
  {
   "cell_type": "code",
   "execution_count": 16,
   "id": "1dd4df12-f6d3-4be7-b7dc-0a5767db72fd",
   "metadata": {},
   "outputs": [
    {
     "data": {
      "text/plain": [
       "[('nye', 0.5160134434700012),\n",
       " ('seier', 0.4674854576587677),\n",
       " ('udlændinge', 0.4106956422328949),\n",
       " ('christensen', 0.404934287071228),\n",
       " ('borgerliges', 0.402588427066803),\n",
       " ('udvises', 0.3882119953632355),\n",
       " ('🦢', 0.38634029030799866),\n",
       " ('politikerne', 0.3846708834171295),\n",
       " ('venstrefløjen', 0.36683985590934753),\n",
       " ('partier', 0.3573037087917328),\n",
       " ('asylstop', 0.3544532060623169),\n",
       " ('politikernes', 0.3408563435077667),\n",
       " ('df', 0.336365282535553),\n",
       " ('peter', 0.3342103958129883),\n",
       " ('islam', 0.33332639932632446),\n",
       " ('uacceptabelt', 0.3332825303077698),\n",
       " ('jobcentrene', 0.3306253254413605),\n",
       " ('stemte', 0.32915198802948),\n",
       " ('dom', 0.32888272404670715),\n",
       " ('indflydelse', 0.3235616683959961),\n",
       " ('nedlægge', 0.3232681155204773),\n",
       " ('boje', 0.32262131571769714),\n",
       " ('kriminelle', 0.32082024216651917),\n",
       " ('vanvid', 0.32075250148773193),\n",
       " ('nej', 0.31394249200820923)]"
      ]
     },
     "execution_count": 16,
     "metadata": {},
     "output_type": "execute_result"
    }
   ],
   "source": [
    "word_vectors = pol2vec_model.model.wv\n",
    "word_vectors.most_similar(positive = ['borgerlige'], topn = 25)"
   ]
  },
  {
   "cell_type": "code",
   "execution_count": 21,
   "id": "c63203b3-96b8-4b2d-b049-f0b6a608a344",
   "metadata": {
    "collapsed": true,
    "jupyter": {
     "outputs_hidden": true
    },
    "tags": []
   },
   "outputs": [
    {
     "name": "stdout",
     "output_type": "stream",
     "text": [
      "--- TOP 50 WORDS ---\n",
      " ['danmark fremad' 'fremad kan' 'tørvikanvi fremad' 'politik plads' 'ved 💚'\n",
      " 'kommer løse' 'så rørt' 'klippekortsordningen så' 'hævder lige'\n",
      " 'samfund danner' 'fremad virkelighedenkalder' 'kræver løsninger'\n",
      " 'lige medlemskab' 'tigger hjælp' 'så hovedløst' 'gøre livet'\n",
      " 'løsninger vores' 'partiet både' 'vendes så' 'gøre næste'\n",
      " 'mulighed komme' 'tage næste' 'næste store' 'flere får' 'partiet plads'\n",
      " 'løse klima' 'hjemmehjælpen så' 'tid plads' 'tungen lige' 'gøre nytte'\n",
      " 'reserver plads' 'omstændigheder så' 'erfaringer kan' 'kan tage' 'tid se'\n",
      " 'politiske administrative' 'så kan' 'dag tage' 'vores finanslovsudspil'\n",
      " 'grønne løsninger' 'store græssere' 'løse store' 'ingen kæmper'\n",
      " 'gymnasietid får' 'se lige' 'mener brug' 'politiske sæson' 'lige nui'\n",
      " '💪 stadig' 'fremad tør'] \n",
      "\n",
      "--- TOP 3 DOCS. SUBSTRING QUERY: None (n = 3) ---\n",
      " ['Kom med i \"Det politiske mødested\", hvor vi finder løsninger på tidens udfordringer - gennem samtale om fælles erfaringer, fremfor regneark.'\n",
      " 'Mange tak. Vi fortsætter Fremad!\\n\\nFor en måned siden var medierne fulde af historien om, at det gik tilbage for Partiet Fremad. Kun 24 godkendte vælgererklæringer på en måned.\\nOg ja, den historie skulle da skrives, og det var form for kulmination på et år, hvor jeg først fik kræft, partiet blev slået ud af coronaen, og jeg blev far til (endnu) en fantastisk pige.\\nMen kræftfri og foældrelykkelig tilbage gav jeg den en skalle sammen med Christina Egelund og andre gode mennesker. \\nSå nu går det fremad for Fremad!\\n691 godkendte vælgererklæringer i juni. Og det endda uden gadeindsamlinger eller kommercielle aktiviteter.\\nOg så fik vi også oprettet vores første storkredsforening. Efter sommerferien fortsætter vi med at udbygge organisationen.\\nSå stor tak for hjælpen. Smilet er - som I kan se - stort.\\nDu kan gøre en forskel ved at skrive under på, at vi må stille op til næste valg. Eller melde dig ind i partiet. Eller give en skærv, så vi kan reklamere for projektet.\\nSe mere her - www.partietfremad.dk\\n(En underskrifter tager max 30 sekunder)\\nEller send en besked vis Messenger.\\nMvh Simon Emil. Gør som serieiværksætteren Martin Thorborg og hjælp Fremad med at komme på stemmesedlen ved næste folketingsvalg. Skriv under her: www.partietfremad.dk/skrivunder.. Gør som serieiværksætteren Martin Thorborg og hjælp Fremad med at komme på stemmesedlen ved næste folketingsvalg. Skriv under her: www.partietfremad.dk/skrivunder.. Seks mennesker der gerne vil gøre Jakob Ellemann-Jensen til statsminister :-)\\n\\nHvis du mener, at der brug for et parti i blå blok, der kæmper for en fair udlændingepolitik og tager klimaforandringerne alvorligt, så vær med til at give os lov til at stå på stemmesedlen ved at skrive under her - https://www.partietfremad.dk/skrivunder/'\n",
      " 'Vi kan alle bidrage til et bedre miljø i hverdagen.\\nVi prøver med små midler at bruge naturens egne processer!']\n"
     ]
    }
   ],
   "source": [
    "inspect_topic(pol2vec_model, 12, n_docs=3, query_substr=None)"
   ]
  },
  {
   "cell_type": "code",
   "execution_count": 22,
   "id": "078f69d0",
   "metadata": {},
   "outputs": [
    {
     "data": {
      "text/html": [
       "<div>\n",
       "<style scoped>\n",
       "    .dataframe tbody tr th:only-of-type {\n",
       "        vertical-align: middle;\n",
       "    }\n",
       "\n",
       "    .dataframe tbody tr th {\n",
       "        vertical-align: top;\n",
       "    }\n",
       "\n",
       "    .dataframe thead th {\n",
       "        text-align: right;\n",
       "    }\n",
       "</style>\n",
       "<table border=\"1\" class=\"dataframe\">\n",
       "  <thead>\n",
       "    <tr style=\"text-align: right;\">\n",
       "      <th></th>\n",
       "      <th>full_name</th>\n",
       "      <th>party</th>\n",
       "      <th>doc</th>\n",
       "    </tr>\n",
       "  </thead>\n",
       "  <tbody>\n",
       "    <tr>\n",
       "      <th>143</th>\n",
       "      <td>Orla Hav</td>\n",
       "      <td>S</td>\n",
       "      <td>Vi kan alle bidrage til et bedre miljø i hverd...</td>\n",
       "    </tr>\n",
       "  </tbody>\n",
       "</table>\n",
       "</div>"
      ],
      "text/plain": [
       "    full_name party                                                doc\n",
       "143  Orla Hav     S  Vi kan alle bidrage til et bedre miljø i hverd..."
      ]
     },
     "execution_count": 22,
     "metadata": {},
     "output_type": "execute_result"
    }
   ],
   "source": [
    "grouped_docs.loc[grouped_docs['doc'] == 'Vi kan alle bidrage til et bedre miljø i hverdagen.\\nVi prøver med små midler at bruge naturens egne processer!']"
   ]
  },
  {
   "cell_type": "code",
   "execution_count": 102,
   "id": "a2c8507a-8782-4d52-a2b4-41fab473f432",
   "metadata": {},
   "outputs": [],
   "source": [
    "model_path = 'embedding_models/politician2vec_test_meta_v1.txt'"
   ]
  },
  {
   "cell_type": "code",
   "execution_count": 103,
   "id": "fd159a62-0ece-47c6-8b77-6e3c32b2a46f",
   "metadata": {},
   "outputs": [],
   "source": [
    "pol2vec_model.save(model_path)"
   ]
  },
  {
   "cell_type": "markdown",
   "id": "0622949d-fbea-486a-b7d8-37e4a2e165b4",
   "metadata": {},
   "source": [
    "### Viz dev below"
   ]
  },
  {
   "cell_type": "code",
   "execution_count": 68,
   "id": "53ac4339-ab37-41ca-9aaf-77c0f93ea5bf",
   "metadata": {},
   "outputs": [
    {
     "name": "stdout",
     "output_type": "stream",
     "text": [
      "Loading Politician2Vec model...\n",
      "Retrieving document embedding...\n",
      "All done!\n"
     ]
    }
   ],
   "source": [
    "pol2vec_model, doc2vec_model = load_politician2vec_from_txt(model_path)"
   ]
  },
  {
   "cell_type": "code",
   "execution_count": 55,
   "id": "33350c40-b001-424a-94ad-006ad9597c5c",
   "metadata": {},
   "outputs": [
    {
     "name": "stdout",
     "output_type": "stream",
     "text": [
      "You have elected to extract only document vectors.\n",
      "Please note that further preprocessing -- such as filtering based on topics of\n",
      "interest -- may be desired in order to facilitate TensorBoard visualisation.\n",
      "Please see get_doc_topic_df(), vector_subset2tensor_without_words(), and\n",
      "metadata2tensor()\n",
      "\n",
      "Saving temp w2v file and converting to tensor. This may take a while...\n"
     ]
    },
    {
     "name": "stderr",
     "output_type": "stream",
     "text": [
      "2022-11-25 11:47:41,558 - word2vec2tensor - INFO - running /Users/mathiasbruun/me/anaconda3/lib/python3.7/site-packages/gensim/scripts/word2vec2tensor.py -i tensorboard_input/temp/doc_tensor_meta.w2v -o tensorboard_input/meta\n",
      "2022-11-25 11:47:41,559 - keyedvectors - INFO - loading projection weights from tensorboard_input/temp/doc_tensor_meta.w2v\n",
      "2022-11-25 11:47:41,601 - utils - INFO - KeyedVectors lifecycle event {'msg': 'loaded (194, 300) matrix of type float32 from tensorboard_input/temp/doc_tensor_meta.w2v', 'binary': False, 'encoding': 'utf8', 'datetime': '2022-11-25T11:47:41.590260', 'gensim': '4.1.2', 'python': '3.7.12 | packaged by conda-forge | (default, Oct 26 2021, 05:57:50) \\n[Clang 11.1.0 ]', 'platform': 'Darwin-21.4.0-x86_64-i386-64bit', 'event': 'load_word2vec_format'}\n",
      "2022-11-25 11:47:41,643 - word2vec2tensor - INFO - 2D tensor file saved to tensorboard_input/meta_tensor.tsv\n",
      "2022-11-25 11:47:41,644 - word2vec2tensor - INFO - Tensor metadata file saved to tensorboard_input/meta_metadata.tsv\n",
      "2022-11-25 11:47:41,644 - word2vec2tensor - INFO - finished running word2vec2tensor.py\n"
     ]
    }
   ],
   "source": [
    "doc2vec2tensor(\n",
    "    doc2vec_model,\n",
    "    temp_w2v_path = 'tensorboard_input/temp/doc_tensor_meta.w2v',\n",
    "    tsv_prefix = 'tensorboard_input/meta',\n",
    "    output_docvecs = True,\n",
    "    output_wordvecs = False\n",
    ")"
   ]
  },
  {
   "cell_type": "code",
   "execution_count": 70,
   "id": "4e4c9095-3864-4dbc-95e2-ce5cebb325da",
   "metadata": {},
   "outputs": [],
   "source": [
    "n_words = len(doc2vec_model.wv)\n",
    "n_docs = len(doc2vec_model.dv)\n",
    "vocab = pol2vec_model.vocab"
   ]
  },
  {
   "cell_type": "code",
   "execution_count": 417,
   "id": "912b443b-38b9-4ea2-841e-a1d8a7d89e34",
   "metadata": {},
   "outputs": [],
   "source": [
    "## TWITTER DEEPLEARN\n",
    "#topic_labels = {\n",
    "#    0: 'Venstre',\n",
    "#    1: 'Socialdemokratiet',\n",
    "#    2: 'Dansk_Folkeparti',\n",
    "#    3: 'Enhedslisten',\n",
    "#    4: 'Radikale_Venstre',\n",
    "#    5: 'SF',\n",
    "#    6: 'Konservative',\n",
    "#    7: 'Liberal_Alliance',\n",
    "#    8: 'Alternativet',\n",
    "#    9: 'Nye_Borgerlige',\n",
    "#    10: 'Frie_Grønne',\n",
    "#    11: 'Kristendemokraterne',\n",
    "#    12: 'Moderaterne'\n",
    "#}"
   ]
  },
  {
   "cell_type": "code",
   "execution_count": 419,
   "id": "2de68d38-25a3-4729-86f5-861f03c43e8c",
   "metadata": {},
   "outputs": [],
   "source": [
    "## PARLIAMENT FASTLEARN\n",
    "#topic_labels = {\n",
    "#    0: 'Socialdemokratiet',\n",
    "#    1: 'Venstre',\n",
    "#    2: 'Dansk_Folkeparti',\n",
    "#    3: 'Enhedslisten',\n",
    "#    4: 'Radikale Venstre',\n",
    "#    5: 'SF',\n",
    "#    6: 'Konservative',\n",
    "#    7: 'Liberal_Alliance',\n",
    "#    8: 'UFG',\n",
    "#    9: 'Alternativet',\n",
    "#    10: 'Danmarksdemokraterne',\n",
    "#    11: 'Nye Borgerlige',\n",
    "#    12: 'Frie Grønne',\n",
    "#    13: 'Moderaterne',\n",
    "#    14: 'Kristendemokraterne'\n",
    "#}"
   ]
  },
  {
   "cell_type": "code",
   "execution_count": 24,
   "id": "3db0082b",
   "metadata": {},
   "outputs": [],
   "source": [
    "# META FASTLEARN\n",
    "topic_labels = {\n",
    "   0: 'Socialdemokratiet',\n",
    "   1: 'Venstre',\n",
    "   2: 'Dansk_Folkeparti',\n",
    "   3: 'SF',\n",
    "   4: 'Radikale_Venstre',\n",
    "   5: 'Konservative',\n",
    "   6: 'Enhedslisten',\n",
    "   7: 'Liberal_Alliance',\n",
    "   8: 'Alternativet',\n",
    "   9: 'Danmarksdemokraterne',\n",
    "   10: 'Nye_Borgerlige',\n",
    "   11: 'Frie_Grønne',\n",
    "   12: 'UFG',\n",
    "   13: 'Kristendemokraterne',\n",
    "   14: 'Grønlandsk',\n",
    "   15: 'Moderaterne'\n",
    "}"
   ]
  },
  {
   "cell_type": "code",
   "execution_count": 25,
   "id": "d3bf42bf-c492-498b-bba4-63978cbddfe9",
   "metadata": {},
   "outputs": [
    {
     "name": "stdout",
     "output_type": "stream",
     "text": [
      "Topic sizes before filtering (topic 16 is \"Other\"):\n",
      "\n",
      "[[ 0 44]\n",
      " [ 1 42]\n",
      " [ 2 22]\n",
      " [ 3 16]\n",
      " [ 4 14]\n",
      " [ 5 14]\n",
      " [ 6 14]\n",
      " [ 7 10]\n",
      " [ 8  5]\n",
      " [ 9  5]\n",
      " [10  5]\n",
      " [11  3]\n",
      " [12  3]\n",
      " [13  2]\n",
      " [14  1]\n",
      " [15  1]]\n"
     ]
    }
   ],
   "source": [
    "topic_df = get_doc_topic_df(\n",
    "    pol2vec_model,\n",
    "    no_substantive_topics = 16,\n",
    "    snippets = True\n",
    ")"
   ]
  },
  {
   "cell_type": "code",
   "execution_count": 26,
   "id": "468b7780-471e-4b88-8352-d5166a4fbe20",
   "metadata": {},
   "outputs": [],
   "source": [
    "# TODO: Okay, we have clearly made a mistake. By swapping party classes for politicians,\n",
    "# we are now telling the model to find politician-level centroids wrt. politician superdocs, yielding...\n",
    "# ... well, obviously, 154 centroids, correspodning to the 154 super documents. That makes no sense,\n",
    "# since the centroid and the superdocument will be the same by construction.\n",
    "#\n",
    "# We either want document-level centroids clustered by politician OR politician-level centroids clustered\n",
    "# by party. So politician superdocs + input party label array.\n",
    "#\n",
    "# TODO: Also extract topic vectors themselves, which we usually never do!\n",
    "#\n",
    "# TODO: Calculate medioid instead of centroid? To account for noisy estimates of politician positions?\n",
    "#\n",
    "# TODO: Perhaps chunk the politician-level superdocuments according to a certain special character used\n",
    "# to join them? Could increase performance in doc2vec."
   ]
  },
  {
   "cell_type": "code",
   "execution_count": 27,
   "id": "4d29f0e1-e1f6-422c-b039-74197be8f213",
   "metadata": {},
   "outputs": [],
   "source": [
    "topic_df['snippet'] = grouped_docs['full_name']\n",
    "topic_df['party'] = topic_df['top'].map(topic_labels)"
   ]
  },
  {
   "cell_type": "code",
   "execution_count": 28,
   "id": "025eb757",
   "metadata": {},
   "outputs": [
    {
     "data": {
      "text/plain": [
       "array(['SIU', 'LA', 'ALT', 'S', 'RV', 'S', 'V', 'S', 'RV', 'SF', 'S', 'V',\n",
       "       'SF', 'S', 'S', 'V', 'KF', 'S', 'S', 'KF', 'KF', 'V', 'S', 'SF',\n",
       "       'LA', 'V', 'SF', 'EL', 'ALT', 'S', 'LA', 'V', 'V', 'S', 'S', 'DD',\n",
       "       'DF', 'DD', 'DF', 'KF', 'DF', 'V', 'EL', 'S', 'V', 'EL', 'V', 'V',\n",
       "       'EL', 'FG', 'SF', 'V', 'V', 'V', 'EL', 'LA', 'S', 'SF', 'RV', 'S',\n",
       "       'SF', 'V', 'V', 'SF', 'V', 'V', 'S', 'DF', 'S', 'KD', 'RV', 'S',\n",
       "       'LA', 'V', 'S', 'DF', 'DF', 'SF', 'SF', 'V', 'S', 'S', 'KF', 'RV',\n",
       "       'RV', 'DF', 'DF', 'V', 'SF', 'KD', 'RV', 'V', 'V', 'DF', 'S', 'NB',\n",
       "       'UFG', 'V', 'LA', 'S', 'S', 'LA', 'DD', 'DF', 'RV', 'V', 'V', 'S',\n",
       "       'KF', 'EL', 'S', 'V', 'EL', 'V', 'DF', 'V', 'DF', 'V', 'DF', 'RV',\n",
       "       'KF', 'S', 'S', 'DF', 'S', 'NB', 'V', 'DF', 'M', 'S', 'KF', 'S',\n",
       "       'V', 'V', 'DF', 'DF', 'RV', 'KF', 'S', 'KF', 'EL', 'NB', 'LA', 'S',\n",
       "       'KF', 'EL', 'EL', 'KF', 'S', 'EL', 'NB', 'S', 'DF', 'NB', 'DF',\n",
       "       'DF', 'SF', 'V', 'RV', 'RV', 'S', 'KF', 'ALT', 'SF', 'S', 'S',\n",
       "       'DF', 'EL', 'SF', 'SF', 'FG', 'LA', 'UFG', 'S', 'S', 'RV', 'V',\n",
       "       'RV', 'V', 'DF', 'ALT', 'FG', 'EL', 'DD', 'V', 'KF', 'EL', 'V',\n",
       "       'S', 'V', 'ALT', 'V', 'S', 'SF', 'V', 'S', 'V', 'V', 'LA', 'S',\n",
       "       'RV'], dtype='<U3')"
      ]
     },
     "execution_count": 28,
     "metadata": {},
     "output_type": "execute_result"
    }
   ],
   "source": [
    "parties"
   ]
  },
  {
   "cell_type": "code",
   "execution_count": 29,
   "id": "3efee873",
   "metadata": {},
   "outputs": [
    {
     "data": {
      "text/plain": [
       "array([14,  7,  8,  0,  4,  0,  1,  0,  4,  3,  0,  1,  3,  0,  0,  1,  5,\n",
       "        0,  0,  5,  5,  1,  0,  3,  7,  1,  3,  6,  8,  0,  7,  1,  1,  0,\n",
       "        0,  9,  2,  9,  2,  5,  2,  1,  6,  0,  1,  6,  1,  1,  6, 11,  3,\n",
       "        1,  1,  1,  6,  7,  0,  3,  4,  0,  3,  9,  1,  3,  1,  1,  0,  0,\n",
       "        0, 13,  0,  0,  7,  1,  0,  2,  2,  3,  3,  1,  0,  0,  5,  4,  4,\n",
       "        2,  2,  1,  3, 13,  4,  1,  1,  2,  0, 10, 12,  1,  7,  0,  0,  7,\n",
       "        9,  2,  4,  1,  1,  0,  5,  6,  0,  1,  6,  1,  2,  1,  2,  1,  2,\n",
       "        4,  5,  0,  0,  2,  0, 10,  1,  2, 15,  0,  5,  0,  1,  1,  2,  2,\n",
       "        4,  5,  0,  5,  6, 10,  7, 12,  5,  6,  6,  5,  2,  6, 10,  0,  2,\n",
       "       10,  2,  2,  3,  1,  4,  4,  0,  5,  8,  3,  0,  0,  2,  6,  3,  3,\n",
       "       11,  7, 12,  0,  0,  4,  1,  4,  1,  2,  8, 11,  6,  9,  1,  5,  6,\n",
       "        1,  0,  1,  8,  1,  0,  3,  1,  0,  1,  1,  7,  0,  4])"
      ]
     },
     "execution_count": 29,
     "metadata": {},
     "output_type": "execute_result"
    }
   ],
   "source": [
    "pol2vec_model.doc_top"
   ]
  },
  {
   "cell_type": "code",
   "execution_count": 30,
   "id": "a2730f44",
   "metadata": {},
   "outputs": [
    {
     "data": {
      "text/html": [
       "<div class=\"bk-root\">\n",
       "        <a href=\"https://bokeh.org\" target=\"_blank\" class=\"bk-logo bk-logo-small bk-logo-notebook\"></a>\n",
       "        <span id=\"1002\">Loading BokehJS ...</span>\n",
       "    </div>\n"
      ]
     },
     "metadata": {},
     "output_type": "display_data"
    },
    {
     "data": {
      "application/javascript": "(function(root) {\n  function now() {\n    return new Date();\n  }\n\n  const force = true;\n\n  if (typeof root._bokeh_onload_callbacks === \"undefined\" || force === true) {\n    root._bokeh_onload_callbacks = [];\n    root._bokeh_is_loading = undefined;\n  }\n\nconst JS_MIME_TYPE = 'application/javascript';\n  const HTML_MIME_TYPE = 'text/html';\n  const EXEC_MIME_TYPE = 'application/vnd.bokehjs_exec.v0+json';\n  const CLASS_NAME = 'output_bokeh rendered_html';\n\n  /**\n   * Render data to the DOM node\n   */\n  function render(props, node) {\n    const script = document.createElement(\"script\");\n    node.appendChild(script);\n  }\n\n  /**\n   * Handle when an output is cleared or removed\n   */\n  function handleClearOutput(event, handle) {\n    const cell = handle.cell;\n\n    const id = cell.output_area._bokeh_element_id;\n    const server_id = cell.output_area._bokeh_server_id;\n    // Clean up Bokeh references\n    if (id != null && id in Bokeh.index) {\n      Bokeh.index[id].model.document.clear();\n      delete Bokeh.index[id];\n    }\n\n    if (server_id !== undefined) {\n      // Clean up Bokeh references\n      const cmd_clean = \"from bokeh.io.state import curstate; print(curstate().uuid_to_server['\" + server_id + \"'].get_sessions()[0].document.roots[0]._id)\";\n      cell.notebook.kernel.execute(cmd_clean, {\n        iopub: {\n          output: function(msg) {\n            const id = msg.content.text.trim();\n            if (id in Bokeh.index) {\n              Bokeh.index[id].model.document.clear();\n              delete Bokeh.index[id];\n            }\n          }\n        }\n      });\n      // Destroy server and session\n      const cmd_destroy = \"import bokeh.io.notebook as ion; ion.destroy_server('\" + server_id + \"')\";\n      cell.notebook.kernel.execute(cmd_destroy);\n    }\n  }\n\n  /**\n   * Handle when a new output is added\n   */\n  function handleAddOutput(event, handle) {\n    const output_area = handle.output_area;\n    const output = handle.output;\n\n    // limit handleAddOutput to display_data with EXEC_MIME_TYPE content only\n    if ((output.output_type != \"display_data\") || (!Object.prototype.hasOwnProperty.call(output.data, EXEC_MIME_TYPE))) {\n      return\n    }\n\n    const toinsert = output_area.element.find(\".\" + CLASS_NAME.split(' ')[0]);\n\n    if (output.metadata[EXEC_MIME_TYPE][\"id\"] !== undefined) {\n      toinsert[toinsert.length - 1].firstChild.textContent = output.data[JS_MIME_TYPE];\n      // store reference to embed id on output_area\n      output_area._bokeh_element_id = output.metadata[EXEC_MIME_TYPE][\"id\"];\n    }\n    if (output.metadata[EXEC_MIME_TYPE][\"server_id\"] !== undefined) {\n      const bk_div = document.createElement(\"div\");\n      bk_div.innerHTML = output.data[HTML_MIME_TYPE];\n      const script_attrs = bk_div.children[0].attributes;\n      for (let i = 0; i < script_attrs.length; i++) {\n        toinsert[toinsert.length - 1].firstChild.setAttribute(script_attrs[i].name, script_attrs[i].value);\n        toinsert[toinsert.length - 1].firstChild.textContent = bk_div.children[0].textContent\n      }\n      // store reference to server id on output_area\n      output_area._bokeh_server_id = output.metadata[EXEC_MIME_TYPE][\"server_id\"];\n    }\n  }\n\n  function register_renderer(events, OutputArea) {\n\n    function append_mime(data, metadata, element) {\n      // create a DOM node to render to\n      const toinsert = this.create_output_subarea(\n        metadata,\n        CLASS_NAME,\n        EXEC_MIME_TYPE\n      );\n      this.keyboard_manager.register_events(toinsert);\n      // Render to node\n      const props = {data: data, metadata: metadata[EXEC_MIME_TYPE]};\n      render(props, toinsert[toinsert.length - 1]);\n      element.append(toinsert);\n      return toinsert\n    }\n\n    /* Handle when an output is cleared or removed */\n    events.on('clear_output.CodeCell', handleClearOutput);\n    events.on('delete.Cell', handleClearOutput);\n\n    /* Handle when a new output is added */\n    events.on('output_added.OutputArea', handleAddOutput);\n\n    /**\n     * Register the mime type and append_mime function with output_area\n     */\n    OutputArea.prototype.register_mime_type(EXEC_MIME_TYPE, append_mime, {\n      /* Is output safe? */\n      safe: true,\n      /* Index of renderer in `output_area.display_order` */\n      index: 0\n    });\n  }\n\n  // register the mime type if in Jupyter Notebook environment and previously unregistered\n  if (root.Jupyter !== undefined) {\n    const events = require('base/js/events');\n    const OutputArea = require('notebook/js/outputarea').OutputArea;\n\n    if (OutputArea.prototype.mime_types().indexOf(EXEC_MIME_TYPE) == -1) {\n      register_renderer(events, OutputArea);\n    }\n  }\n  if (typeof (root._bokeh_timeout) === \"undefined\" || force === true) {\n    root._bokeh_timeout = Date.now() + 5000;\n    root._bokeh_failed_load = false;\n  }\n\n  const NB_LOAD_WARNING = {'data': {'text/html':\n     \"<div style='background-color: #fdd'>\\n\"+\n     \"<p>\\n\"+\n     \"BokehJS does not appear to have successfully loaded. If loading BokehJS from CDN, this \\n\"+\n     \"may be due to a slow or bad network connection. Possible fixes:\\n\"+\n     \"</p>\\n\"+\n     \"<ul>\\n\"+\n     \"<li>re-rerun `output_notebook()` to attempt to load from CDN again, or</li>\\n\"+\n     \"<li>use INLINE resources instead, as so:</li>\\n\"+\n     \"</ul>\\n\"+\n     \"<code>\\n\"+\n     \"from bokeh.resources import INLINE\\n\"+\n     \"output_notebook(resources=INLINE)\\n\"+\n     \"</code>\\n\"+\n     \"</div>\"}};\n\n  function display_loaded() {\n    const el = document.getElementById(\"1002\");\n    if (el != null) {\n      el.textContent = \"BokehJS is loading...\";\n    }\n    if (root.Bokeh !== undefined) {\n      if (el != null) {\n        el.textContent = \"BokehJS \" + root.Bokeh.version + \" successfully loaded.\";\n      }\n    } else if (Date.now() < root._bokeh_timeout) {\n      setTimeout(display_loaded, 100)\n    }\n  }\n\n  function run_callbacks() {\n    try {\n      root._bokeh_onload_callbacks.forEach(function(callback) {\n        if (callback != null)\n          callback();\n      });\n    } finally {\n      delete root._bokeh_onload_callbacks\n    }\n    console.debug(\"Bokeh: all callbacks have finished\");\n  }\n\n  function load_libs(css_urls, js_urls, callback) {\n    if (css_urls == null) css_urls = [];\n    if (js_urls == null) js_urls = [];\n\n    root._bokeh_onload_callbacks.push(callback);\n    if (root._bokeh_is_loading > 0) {\n      console.debug(\"Bokeh: BokehJS is being loaded, scheduling callback at\", now());\n      return null;\n    }\n    if (js_urls == null || js_urls.length === 0) {\n      run_callbacks();\n      return null;\n    }\n    console.debug(\"Bokeh: BokehJS not loaded, scheduling load and callback at\", now());\n    root._bokeh_is_loading = css_urls.length + js_urls.length;\n\n    function on_load() {\n      root._bokeh_is_loading--;\n      if (root._bokeh_is_loading === 0) {\n        console.debug(\"Bokeh: all BokehJS libraries/stylesheets loaded\");\n        run_callbacks()\n      }\n    }\n\n    function on_error(url) {\n      console.error(\"failed to load \" + url);\n    }\n\n    for (let i = 0; i < css_urls.length; i++) {\n      const url = css_urls[i];\n      const element = document.createElement(\"link\");\n      element.onload = on_load;\n      element.onerror = on_error.bind(null, url);\n      element.rel = \"stylesheet\";\n      element.type = \"text/css\";\n      element.href = url;\n      console.debug(\"Bokeh: injecting link tag for BokehJS stylesheet: \", url);\n      document.body.appendChild(element);\n    }\n\n    for (let i = 0; i < js_urls.length; i++) {\n      const url = js_urls[i];\n      const element = document.createElement('script');\n      element.onload = on_load;\n      element.onerror = on_error.bind(null, url);\n      element.async = false;\n      element.src = url;\n      console.debug(\"Bokeh: injecting script tag for BokehJS library: \", url);\n      document.head.appendChild(element);\n    }\n  };\n\n  function inject_raw_css(css) {\n    const element = document.createElement(\"style\");\n    element.appendChild(document.createTextNode(css));\n    document.body.appendChild(element);\n  }\n\n  const js_urls = [\"https://cdn.bokeh.org/bokeh/release/bokeh-2.4.3.min.js\", \"https://cdn.bokeh.org/bokeh/release/bokeh-gl-2.4.3.min.js\", \"https://cdn.bokeh.org/bokeh/release/bokeh-widgets-2.4.3.min.js\", \"https://cdn.bokeh.org/bokeh/release/bokeh-tables-2.4.3.min.js\", \"https://cdn.bokeh.org/bokeh/release/bokeh-mathjax-2.4.3.min.js\", \"https://unpkg.com/@holoviz/panel@0.14.1/dist/panel.min.js\"];\n  const css_urls = [];\n\n  const inline_js = [    function(Bokeh) {\n      Bokeh.set_log_level(\"info\");\n    },\nfunction(Bokeh) {\n    }\n  ];\n\n  function run_inline_js() {\n    if (root.Bokeh !== undefined || force === true) {\n          for (let i = 0; i < inline_js.length; i++) {\n      inline_js[i].call(root, root.Bokeh);\n    }\nif (force === true) {\n        display_loaded();\n      }} else if (Date.now() < root._bokeh_timeout) {\n      setTimeout(run_inline_js, 100);\n    } else if (!root._bokeh_failed_load) {\n      console.log(\"Bokeh: BokehJS failed to load within specified timeout.\");\n      root._bokeh_failed_load = true;\n    } else if (force !== true) {\n      const cell = $(document.getElementById(\"1002\")).parents('.cell').data().cell;\n      cell.output_area.append_execute_result(NB_LOAD_WARNING)\n    }\n  }\n\n  if (root._bokeh_is_loading === 0) {\n    console.debug(\"Bokeh: BokehJS loaded, going straight to plotting\");\n    run_inline_js();\n  } else {\n    load_libs(css_urls, js_urls, function() {\n      console.debug(\"Bokeh: BokehJS plotting callback run at\", now());\n      run_inline_js();\n    });\n  }\n}(window));",
      "application/vnd.bokehjs_load.v0+json": ""
     },
     "metadata": {},
     "output_type": "display_data"
    }
   ],
   "source": [
    "import umap\n",
    "import umap.plot\n",
    "umap.plot.output_notebook()"
   ]
  },
  {
   "cell_type": "code",
   "execution_count": 31,
   "id": "b91c5244",
   "metadata": {},
   "outputs": [],
   "source": [
    "colormap = {\n",
    "    'Socialdemokratiet': '#C8042C',\n",
    "    'Venstre': '#1A4289',\n",
    "    'Dansk_Folkeparti': '#265BA4',\n",
    "    'Enhedslisten': '#BF2850',\n",
    "    'SF': '#B42D27',\n",
    "    'Konservative': '#24573E',\n",
    "    'Radikale_Venstre': '#D82E8A',\n",
    "    'Liberal_Alliance': '#E7B657',\n",
    "    'Alternativet': '#75FB4C',\n",
    "    'Nye_Borgerlige': '#1E4B57',\n",
    "    'Kristendemokraterne': '#566197',\n",
    "    'Frie_Grønne': '#E4F04E',\n",
    "    'Danmarksdemokraterne': '#3470BC',\n",
    "    'Moderaterne': '#7A308B',\n",
    "    'UFG': 'red'\n",
    "}"
   ]
  },
  {
   "cell_type": "code",
   "execution_count": 32,
   "id": "4fc9d991",
   "metadata": {},
   "outputs": [],
   "source": [
    "topic_df['color'] = topic_df['party'].map(colormap)\n",
    "cmap = topic_df[['snippet', 'color']].set_index('snippet').to_dict()"
   ]
  },
  {
   "cell_type": "code",
   "execution_count": 33,
   "id": "a2e59f14",
   "metadata": {},
   "outputs": [],
   "source": [
    "mapper = umap.UMAP(n_neighbors=15, metric='cosine', n_components=2).fit(pol2vec_model.document_vectors)"
   ]
  },
  {
   "cell_type": "code",
   "execution_count": 34,
   "id": "56e36962",
   "metadata": {},
   "outputs": [
    {
     "data": {
      "text/html": [
       "<div>\n",
       "<style scoped>\n",
       "    .dataframe tbody tr th:only-of-type {\n",
       "        vertical-align: middle;\n",
       "    }\n",
       "\n",
       "    .dataframe tbody tr th {\n",
       "        vertical-align: top;\n",
       "    }\n",
       "\n",
       "    .dataframe thead th {\n",
       "        text-align: right;\n",
       "    }\n",
       "</style>\n",
       "<table border=\"1\" class=\"dataframe\">\n",
       "  <thead>\n",
       "    <tr style=\"text-align: right;\">\n",
       "      <th></th>\n",
       "      <th>full_name</th>\n",
       "      <th>party</th>\n",
       "      <th>doc</th>\n",
       "    </tr>\n",
       "  </thead>\n",
       "  <tbody>\n",
       "    <tr>\n",
       "      <th>96</th>\n",
       "      <td>Lars Løkke Rasmussen</td>\n",
       "      <td>UFG</td>\n",
       "      <td>Kom med i \"Det politiske mødested\", hvor vi fi...</td>\n",
       "    </tr>\n",
       "    <tr>\n",
       "      <th>97</th>\n",
       "      <td>Lars Løkke Rasmussen</td>\n",
       "      <td>V</td>\n",
       "      <td>Danmark bør ledes fra midten. Snart flyver Sør...</td>\n",
       "    </tr>\n",
       "  </tbody>\n",
       "</table>\n",
       "</div>"
      ],
      "text/plain": [
       "               full_name party  \\\n",
       "96  Lars Løkke Rasmussen   UFG   \n",
       "97  Lars Løkke Rasmussen     V   \n",
       "\n",
       "                                                  doc  \n",
       "96  Kom med i \"Det politiske mødested\", hvor vi fi...  \n",
       "97  Danmark bør ledes fra midten. Snart flyver Sør...  "
      ]
     },
     "execution_count": 34,
     "metadata": {},
     "output_type": "execute_result"
    }
   ],
   "source": [
    "grouped_docs.loc[grouped_docs.full_name == 'Lars Løkke Rasmussen']"
   ]
  },
  {
   "cell_type": "code",
   "execution_count": 35,
   "id": "842e19a5",
   "metadata": {},
   "outputs": [
    {
     "data": {
      "text/html": [
       "<div>\n",
       "<style scoped>\n",
       "    .dataframe tbody tr th:only-of-type {\n",
       "        vertical-align: middle;\n",
       "    }\n",
       "\n",
       "    .dataframe tbody tr th {\n",
       "        vertical-align: top;\n",
       "    }\n",
       "\n",
       "    .dataframe thead th {\n",
       "        text-align: right;\n",
       "    }\n",
       "</style>\n",
       "<table border=\"1\" class=\"dataframe\">\n",
       "  <thead>\n",
       "    <tr style=\"text-align: right;\">\n",
       "      <th></th>\n",
       "      <th>doc</th>\n",
       "      <th>top</th>\n",
       "      <th>snippet</th>\n",
       "      <th>party</th>\n",
       "      <th>color</th>\n",
       "    </tr>\n",
       "  </thead>\n",
       "  <tbody>\n",
       "    <tr>\n",
       "      <th>143</th>\n",
       "      <td>143</td>\n",
       "      <td>12</td>\n",
       "      <td>Orla Hav</td>\n",
       "      <td>UFG</td>\n",
       "      <td>red</td>\n",
       "    </tr>\n",
       "  </tbody>\n",
       "</table>\n",
       "</div>"
      ],
      "text/plain": [
       "     doc  top   snippet party color\n",
       "143  143   12  Orla Hav   UFG   red"
      ]
     },
     "execution_count": 35,
     "metadata": {},
     "output_type": "execute_result"
    }
   ],
   "source": [
    "topic_df.loc[topic_df['snippet'] == 'Orla Hav']"
   ]
  },
  {
   "cell_type": "code",
   "execution_count": 36,
   "id": "8516ef60",
   "metadata": {},
   "outputs": [
    {
     "data": {
      "text/html": [
       "\n",
       "  <div class=\"bk-root\" id=\"0bf27a36-bbaf-47ac-935c-b5c95c612dfb\" data-root-id=\"1004\"></div>\n"
      ]
     },
     "metadata": {},
     "output_type": "display_data"
    },
    {
     "data": {
      "application/javascript": "(function(root) {\n  function embed_document(root) {\n  const docs_json = {\"bda25c8c-17b9-4f38-8636-8cd80f28a29b\":{\"defs\":[{\"extends\":null,\"module\":null,\"name\":\"ReactiveHTML1\",\"overrides\":[],\"properties\":[]},{\"extends\":null,\"module\":null,\"name\":\"FlexBox1\",\"overrides\":[],\"properties\":[{\"default\":\"flex-start\",\"kind\":null,\"name\":\"align_content\"},{\"default\":\"flex-start\",\"kind\":null,\"name\":\"align_items\"},{\"default\":\"row\",\"kind\":null,\"name\":\"flex_direction\"},{\"default\":\"wrap\",\"kind\":null,\"name\":\"flex_wrap\"},{\"default\":\"flex-start\",\"kind\":null,\"name\":\"justify_content\"}]},{\"extends\":null,\"module\":null,\"name\":\"GridStack1\",\"overrides\":[],\"properties\":[{\"default\":\"warn\",\"kind\":null,\"name\":\"mode\"},{\"default\":null,\"kind\":null,\"name\":\"ncols\"},{\"default\":null,\"kind\":null,\"name\":\"nrows\"},{\"default\":true,\"kind\":null,\"name\":\"allow_resize\"},{\"default\":true,\"kind\":null,\"name\":\"allow_drag\"},{\"default\":[],\"kind\":null,\"name\":\"state\"}]},{\"extends\":null,\"module\":null,\"name\":\"click1\",\"overrides\":[],\"properties\":[{\"default\":\"\",\"kind\":null,\"name\":\"terminal_output\"},{\"default\":\"\",\"kind\":null,\"name\":\"debug_name\"},{\"default\":0,\"kind\":null,\"name\":\"clears\"}]},{\"extends\":null,\"module\":null,\"name\":\"NotificationAreaBase1\",\"overrides\":[],\"properties\":[{\"default\":\"bottom-right\",\"kind\":null,\"name\":\"position\"},{\"default\":0,\"kind\":null,\"name\":\"_clear\"}]},{\"extends\":null,\"module\":null,\"name\":\"NotificationArea1\",\"overrides\":[],\"properties\":[{\"default\":[],\"kind\":null,\"name\":\"notifications\"},{\"default\":\"bottom-right\",\"kind\":null,\"name\":\"position\"},{\"default\":0,\"kind\":null,\"name\":\"_clear\"},{\"default\":[{\"background\":\"#ffc107\",\"icon\":{\"className\":\"fas fa-exclamation-triangle\",\"color\":\"white\",\"tagName\":\"i\"},\"type\":\"warning\"},{\"background\":\"#007bff\",\"icon\":{\"className\":\"fas fa-info-circle\",\"color\":\"white\",\"tagName\":\"i\"},\"type\":\"info\"}],\"kind\":null,\"name\":\"types\"}]},{\"extends\":null,\"module\":null,\"name\":\"Notification\",\"overrides\":[],\"properties\":[{\"default\":null,\"kind\":null,\"name\":\"background\"},{\"default\":3000,\"kind\":null,\"name\":\"duration\"},{\"default\":null,\"kind\":null,\"name\":\"icon\"},{\"default\":\"\",\"kind\":null,\"name\":\"message\"},{\"default\":null,\"kind\":null,\"name\":\"notification_type\"},{\"default\":false,\"kind\":null,\"name\":\"_destroyed\"}]},{\"extends\":null,\"module\":null,\"name\":\"TemplateActions1\",\"overrides\":[],\"properties\":[{\"default\":0,\"kind\":null,\"name\":\"open_modal\"},{\"default\":0,\"kind\":null,\"name\":\"close_modal\"}]},{\"extends\":null,\"module\":null,\"name\":\"MaterialTemplateActions1\",\"overrides\":[],\"properties\":[{\"default\":0,\"kind\":null,\"name\":\"open_modal\"},{\"default\":0,\"kind\":null,\"name\":\"close_modal\"}]}],\"roots\":{\"references\":[{\"attributes\":{\"background_fill_color\":\"white\",\"below\":[{\"id\":\"1013\"}],\"center\":[{\"id\":\"1016\"},{\"id\":\"1020\"}],\"height\":800,\"left\":[{\"id\":\"1017\"}],\"renderers\":[{\"id\":\"1041\"}],\"title\":{\"id\":\"1043\"},\"toolbar\":{\"id\":\"1029\"},\"width\":800,\"x_range\":{\"id\":\"1005\"},\"x_scale\":{\"id\":\"1009\"},\"y_range\":{\"id\":\"1007\"},\"y_scale\":{\"id\":\"1011\"}},\"id\":\"1004\",\"subtype\":\"Figure\",\"type\":\"Plot\"},{\"attributes\":{},\"id\":\"1014\",\"type\":\"BasicTicker\"},{\"attributes\":{},\"id\":\"1047\",\"type\":\"AllLabels\"},{\"attributes\":{},\"id\":\"1021\",\"type\":\"PanTool\"},{\"attributes\":{},\"id\":\"1052\",\"type\":\"Selection\"},{\"attributes\":{\"axis\":{\"id\":\"1017\"},\"coordinates\":null,\"dimension\":1,\"group\":null,\"ticker\":null,\"visible\":false},\"id\":\"1020\",\"type\":\"Grid\"},{\"attributes\":{},\"id\":\"1049\",\"type\":\"BasicTickFormatter\"},{\"attributes\":{},\"id\":\"1050\",\"type\":\"AllLabels\"},{\"attributes\":{},\"id\":\"1009\",\"type\":\"LinearScale\"},{\"attributes\":{\"fill_alpha\":{\"value\":0.1},\"fill_color\":{\"field\":\"color\"},\"hatch_alpha\":{\"value\":0.1},\"hatch_color\":{\"field\":\"color\"},\"line_alpha\":{\"value\":0.1},\"line_color\":{\"field\":\"color\"},\"size\":{\"value\":8},\"x\":{\"field\":\"x\"},\"y\":{\"field\":\"y\"}},\"id\":\"1039\",\"type\":\"Circle\"},{\"attributes\":{},\"id\":\"1022\",\"type\":\"WheelZoomTool\"},{\"attributes\":{},\"id\":\"1005\",\"type\":\"DataRange1d\"},{\"attributes\":{\"coordinates\":null,\"formatter\":{\"id\":\"1046\"},\"group\":null,\"major_label_policy\":{\"id\":\"1047\"},\"ticker\":{\"id\":\"1018\"},\"visible\":false},\"id\":\"1017\",\"type\":\"LinearAxis\"},{\"attributes\":{},\"id\":\"1025\",\"type\":\"ResetTool\"},{\"attributes\":{\"coordinates\":null,\"formatter\":{\"id\":\"1049\"},\"group\":null,\"major_label_policy\":{\"id\":\"1050\"},\"ticker\":{\"id\":\"1014\"},\"visible\":false},\"id\":\"1013\",\"type\":\"LinearAxis\"},{\"attributes\":{\"overlay\":{\"id\":\"1027\"}},\"id\":\"1023\",\"type\":\"BoxZoomTool\"},{\"attributes\":{\"fill_alpha\":{\"value\":0.2},\"fill_color\":{\"field\":\"color\"},\"hatch_alpha\":{\"value\":0.2},\"hatch_color\":{\"field\":\"color\"},\"line_alpha\":{\"value\":0.2},\"line_color\":{\"field\":\"color\"},\"size\":{\"value\":8},\"x\":{\"field\":\"x\"},\"y\":{\"field\":\"y\"}},\"id\":\"1040\",\"type\":\"Circle\"},{\"attributes\":{\"source\":{\"id\":\"1003\"}},\"id\":\"1042\",\"type\":\"CDSView\"},{\"attributes\":{},\"id\":\"1011\",\"type\":\"LinearScale\"},{\"attributes\":{\"coordinates\":null,\"group\":null},\"id\":\"1043\",\"type\":\"Title\"},{\"attributes\":{\"coordinates\":null,\"data_source\":{\"id\":\"1003\"},\"glyph\":{\"id\":\"1038\"},\"group\":null,\"hover_glyph\":null,\"muted_glyph\":{\"id\":\"1040\"},\"nonselection_glyph\":{\"id\":\"1039\"},\"view\":{\"id\":\"1042\"}},\"id\":\"1041\",\"type\":\"GlyphRenderer\"},{\"attributes\":{\"data\":{\"alpha\":[1,1,1,1,1,1,1,1,1,1,1,1,1,1,1,1,1,1,1,1,1,1,1,1,1,1,1,1,1,1,1,1,1,1,1,1,1,1,1,1,1,1,1,1,1,1,1,1,1,1,1,1,1,1,1,1,1,1,1,1,1,1,1,1,1,1,1,1,1,1,1,1,1,1,1,1,1,1,1,1,1,1,1,1,1,1,1,1,1,1,1,1,1,1,1,1,1,1,1,1,1,1,1,1,1,1,1,1,1,1,1,1,1,1,1,1,1,1,1,1,1,1,1,1,1,1,1,1,1,1,1,1,1,1,1,1,1,1,1,1,1,1,1,1,1,1,1,1,1,1,1,1,1,1,1,1,1,1,1,1,1,1,1,1,1,1,1,1,1,1,1,1,1,1,1,1,1,1,1,1,1,1,1,1,1,1,1,1,1,1,1,1,1,1,1,1,1,1,1,1,1],\"color\":[\"NaN\",\"#E7B657\",\"#75FB4C\",\"#C8042C\",\"#D82E8A\",\"#C8042C\",\"#1A4289\",\"#C8042C\",\"#D82E8A\",\"#B42D27\",\"#C8042C\",\"#1A4289\",\"#B42D27\",\"#C8042C\",\"#C8042C\",\"#1A4289\",\"#24573E\",\"#C8042C\",\"#C8042C\",\"#24573E\",\"#24573E\",\"#1A4289\",\"#C8042C\",\"#B42D27\",\"#E7B657\",\"#1A4289\",\"#B42D27\",\"#BF2850\",\"#75FB4C\",\"#C8042C\",\"#E7B657\",\"#1A4289\",\"#1A4289\",\"#C8042C\",\"#C8042C\",\"#3470BC\",\"#265BA4\",\"#3470BC\",\"#265BA4\",\"#24573E\",\"#265BA4\",\"#1A4289\",\"#BF2850\",\"#C8042C\",\"#1A4289\",\"#BF2850\",\"#1A4289\",\"#1A4289\",\"#BF2850\",\"#E4F04E\",\"#B42D27\",\"#1A4289\",\"#1A4289\",\"#1A4289\",\"#BF2850\",\"#E7B657\",\"#C8042C\",\"#B42D27\",\"#D82E8A\",\"#C8042C\",\"#B42D27\",\"#3470BC\",\"#1A4289\",\"#B42D27\",\"#1A4289\",\"#1A4289\",\"#C8042C\",\"#C8042C\",\"#C8042C\",\"#566197\",\"#C8042C\",\"#C8042C\",\"#E7B657\",\"#1A4289\",\"#C8042C\",\"#265BA4\",\"#265BA4\",\"#B42D27\",\"#B42D27\",\"#1A4289\",\"#C8042C\",\"#C8042C\",\"#24573E\",\"#D82E8A\",\"#D82E8A\",\"#265BA4\",\"#265BA4\",\"#1A4289\",\"#B42D27\",\"#566197\",\"#D82E8A\",\"#1A4289\",\"#1A4289\",\"#265BA4\",\"#C8042C\",\"#1E4B57\",\"red\",\"#1A4289\",\"#E7B657\",\"#C8042C\",\"#C8042C\",\"#E7B657\",\"#3470BC\",\"#265BA4\",\"#D82E8A\",\"#1A4289\",\"#1A4289\",\"#C8042C\",\"#24573E\",\"#BF2850\",\"#C8042C\",\"#1A4289\",\"#BF2850\",\"#1A4289\",\"#265BA4\",\"#1A4289\",\"#265BA4\",\"#1A4289\",\"#265BA4\",\"#D82E8A\",\"#24573E\",\"#C8042C\",\"#C8042C\",\"#265BA4\",\"#C8042C\",\"#1E4B57\",\"#1A4289\",\"#265BA4\",\"#7A308B\",\"#C8042C\",\"#24573E\",\"#C8042C\",\"#1A4289\",\"#1A4289\",\"#265BA4\",\"#265BA4\",\"#D82E8A\",\"#24573E\",\"#C8042C\",\"#24573E\",\"#BF2850\",\"#1E4B57\",\"#E7B657\",\"red\",\"#24573E\",\"#BF2850\",\"#BF2850\",\"#24573E\",\"#265BA4\",\"#BF2850\",\"#1E4B57\",\"#C8042C\",\"#265BA4\",\"#1E4B57\",\"#265BA4\",\"#265BA4\",\"#B42D27\",\"#1A4289\",\"#D82E8A\",\"#D82E8A\",\"#C8042C\",\"#24573E\",\"#75FB4C\",\"#B42D27\",\"#C8042C\",\"#C8042C\",\"#265BA4\",\"#BF2850\",\"#B42D27\",\"#B42D27\",\"#E4F04E\",\"#E7B657\",\"red\",\"#C8042C\",\"#C8042C\",\"#D82E8A\",\"#1A4289\",\"#D82E8A\",\"#1A4289\",\"#265BA4\",\"#75FB4C\",\"#E4F04E\",\"#BF2850\",\"#3470BC\",\"#1A4289\",\"#24573E\",\"#BF2850\",\"#1A4289\",\"#C8042C\",\"#1A4289\",\"#75FB4C\",\"#1A4289\",\"#C8042C\",\"#B42D27\",\"#1A4289\",\"#C8042C\",\"#1A4289\",\"#1A4289\",\"#E7B657\",\"#C8042C\",\"#D82E8A\"],\"doc\":[0,1,2,3,4,5,6,7,8,9,10,11,12,13,14,15,16,17,18,19,20,21,22,23,24,25,26,27,28,29,30,31,32,33,34,35,36,37,38,39,40,41,42,43,44,45,46,47,48,49,50,51,52,53,54,55,56,57,58,59,60,61,62,63,64,65,66,67,68,69,70,71,72,73,74,75,76,77,78,79,80,81,82,83,84,85,86,87,88,89,90,91,92,93,94,95,96,97,98,99,100,101,102,103,104,105,106,107,108,109,110,111,112,113,114,115,116,117,118,119,120,121,122,123,124,125,126,127,128,129,130,131,132,133,134,135,136,137,138,139,140,141,142,143,144,145,146,147,148,149,150,151,152,153,154,155,156,157,158,159,160,161,162,163,164,165,166,167,168,169,170,171,172,173,174,175,176,177,178,179,180,181,182,183,184,185,186,187,188,189,190,191,192,193,194,195,196,197,198,199,200],\"index\":[0,1,2,3,4,5,6,7,8,9,10,11,12,13,14,15,16,17,18,19,20,21,22,23,24,25,26,27,28,29,30,31,32,33,34,35,36,37,38,39,40,41,42,43,44,45,46,47,48,49,50,51,52,53,54,55,56,57,58,59,60,61,62,63,64,65,66,67,68,69,70,71,72,73,74,75,76,77,78,79,80,81,82,83,84,85,86,87,88,89,90,91,92,93,94,95,96,97,98,99,100,101,102,103,104,105,106,107,108,109,110,111,112,113,114,115,116,117,118,119,120,121,122,123,124,125,126,127,128,129,130,131,132,133,134,135,136,137,138,139,140,141,142,143,144,145,146,147,148,149,150,151,152,153,154,155,156,157,158,159,160,161,162,163,164,165,166,167,168,169,170,171,172,173,174,175,176,177,178,179,180,181,182,183,184,185,186,187,188,189,190,191,192,193,194,195,196,197,198,199,200],\"label\":[\"Gr\\u00f8nlandsk\",\"Liberal_Alliance\",\"Alternativet\",\"Socialdemokratiet\",\"Radikale_Venstre\",\"Socialdemokratiet\",\"Venstre\",\"Socialdemokratiet\",\"Radikale_Venstre\",\"SF\",\"Socialdemokratiet\",\"Venstre\",\"SF\",\"Socialdemokratiet\",\"Socialdemokratiet\",\"Venstre\",\"Konservative\",\"Socialdemokratiet\",\"Socialdemokratiet\",\"Konservative\",\"Konservative\",\"Venstre\",\"Socialdemokratiet\",\"SF\",\"Liberal_Alliance\",\"Venstre\",\"SF\",\"Enhedslisten\",\"Alternativet\",\"Socialdemokratiet\",\"Liberal_Alliance\",\"Venstre\",\"Venstre\",\"Socialdemokratiet\",\"Socialdemokratiet\",\"Danmarksdemokraterne\",\"Dansk_Folkeparti\",\"Danmarksdemokraterne\",\"Dansk_Folkeparti\",\"Konservative\",\"Dansk_Folkeparti\",\"Venstre\",\"Enhedslisten\",\"Socialdemokratiet\",\"Venstre\",\"Enhedslisten\",\"Venstre\",\"Venstre\",\"Enhedslisten\",\"Frie_Gr\\u00f8nne\",\"SF\",\"Venstre\",\"Venstre\",\"Venstre\",\"Enhedslisten\",\"Liberal_Alliance\",\"Socialdemokratiet\",\"SF\",\"Radikale_Venstre\",\"Socialdemokratiet\",\"SF\",\"Danmarksdemokraterne\",\"Venstre\",\"SF\",\"Venstre\",\"Venstre\",\"Socialdemokratiet\",\"Socialdemokratiet\",\"Socialdemokratiet\",\"Kristendemokraterne\",\"Socialdemokratiet\",\"Socialdemokratiet\",\"Liberal_Alliance\",\"Venstre\",\"Socialdemokratiet\",\"Dansk_Folkeparti\",\"Dansk_Folkeparti\",\"SF\",\"SF\",\"Venstre\",\"Socialdemokratiet\",\"Socialdemokratiet\",\"Konservative\",\"Radikale_Venstre\",\"Radikale_Venstre\",\"Dansk_Folkeparti\",\"Dansk_Folkeparti\",\"Venstre\",\"SF\",\"Kristendemokraterne\",\"Radikale_Venstre\",\"Venstre\",\"Venstre\",\"Dansk_Folkeparti\",\"Socialdemokratiet\",\"Nye_Borgerlige\",\"UFG\",\"Venstre\",\"Liberal_Alliance\",\"Socialdemokratiet\",\"Socialdemokratiet\",\"Liberal_Alliance\",\"Danmarksdemokraterne\",\"Dansk_Folkeparti\",\"Radikale_Venstre\",\"Venstre\",\"Venstre\",\"Socialdemokratiet\",\"Konservative\",\"Enhedslisten\",\"Socialdemokratiet\",\"Venstre\",\"Enhedslisten\",\"Venstre\",\"Dansk_Folkeparti\",\"Venstre\",\"Dansk_Folkeparti\",\"Venstre\",\"Dansk_Folkeparti\",\"Radikale_Venstre\",\"Konservative\",\"Socialdemokratiet\",\"Socialdemokratiet\",\"Dansk_Folkeparti\",\"Socialdemokratiet\",\"Nye_Borgerlige\",\"Venstre\",\"Dansk_Folkeparti\",\"Moderaterne\",\"Socialdemokratiet\",\"Konservative\",\"Socialdemokratiet\",\"Venstre\",\"Venstre\",\"Dansk_Folkeparti\",\"Dansk_Folkeparti\",\"Radikale_Venstre\",\"Konservative\",\"Socialdemokratiet\",\"Konservative\",\"Enhedslisten\",\"Nye_Borgerlige\",\"Liberal_Alliance\",\"UFG\",\"Konservative\",\"Enhedslisten\",\"Enhedslisten\",\"Konservative\",\"Dansk_Folkeparti\",\"Enhedslisten\",\"Nye_Borgerlige\",\"Socialdemokratiet\",\"Dansk_Folkeparti\",\"Nye_Borgerlige\",\"Dansk_Folkeparti\",\"Dansk_Folkeparti\",\"SF\",\"Venstre\",\"Radikale_Venstre\",\"Radikale_Venstre\",\"Socialdemokratiet\",\"Konservative\",\"Alternativet\",\"SF\",\"Socialdemokratiet\",\"Socialdemokratiet\",\"Dansk_Folkeparti\",\"Enhedslisten\",\"SF\",\"SF\",\"Frie_Gr\\u00f8nne\",\"Liberal_Alliance\",\"UFG\",\"Socialdemokratiet\",\"Socialdemokratiet\",\"Radikale_Venstre\",\"Venstre\",\"Radikale_Venstre\",\"Venstre\",\"Dansk_Folkeparti\",\"Alternativet\",\"Frie_Gr\\u00f8nne\",\"Enhedslisten\",\"Danmarksdemokraterne\",\"Venstre\",\"Konservative\",\"Enhedslisten\",\"Venstre\",\"Socialdemokratiet\",\"Venstre\",\"Alternativet\",\"Venstre\",\"Socialdemokratiet\",\"SF\",\"Venstre\",\"Socialdemokratiet\",\"Venstre\",\"Venstre\",\"Liberal_Alliance\",\"Socialdemokratiet\",\"Radikale_Venstre\"],\"party\":[\"Gr\\u00f8nlandsk\",\"Liberal_Alliance\",\"Alternativet\",\"Socialdemokratiet\",\"Radikale_Venstre\",\"Socialdemokratiet\",\"Venstre\",\"Socialdemokratiet\",\"Radikale_Venstre\",\"SF\",\"Socialdemokratiet\",\"Venstre\",\"SF\",\"Socialdemokratiet\",\"Socialdemokratiet\",\"Venstre\",\"Konservative\",\"Socialdemokratiet\",\"Socialdemokratiet\",\"Konservative\",\"Konservative\",\"Venstre\",\"Socialdemokratiet\",\"SF\",\"Liberal_Alliance\",\"Venstre\",\"SF\",\"Enhedslisten\",\"Alternativet\",\"Socialdemokratiet\",\"Liberal_Alliance\",\"Venstre\",\"Venstre\",\"Socialdemokratiet\",\"Socialdemokratiet\",\"Danmarksdemokraterne\",\"Dansk_Folkeparti\",\"Danmarksdemokraterne\",\"Dansk_Folkeparti\",\"Konservative\",\"Dansk_Folkeparti\",\"Venstre\",\"Enhedslisten\",\"Socialdemokratiet\",\"Venstre\",\"Enhedslisten\",\"Venstre\",\"Venstre\",\"Enhedslisten\",\"Frie_Gr\\u00f8nne\",\"SF\",\"Venstre\",\"Venstre\",\"Venstre\",\"Enhedslisten\",\"Liberal_Alliance\",\"Socialdemokratiet\",\"SF\",\"Radikale_Venstre\",\"Socialdemokratiet\",\"SF\",\"Danmarksdemokraterne\",\"Venstre\",\"SF\",\"Venstre\",\"Venstre\",\"Socialdemokratiet\",\"Socialdemokratiet\",\"Socialdemokratiet\",\"Kristendemokraterne\",\"Socialdemokratiet\",\"Socialdemokratiet\",\"Liberal_Alliance\",\"Venstre\",\"Socialdemokratiet\",\"Dansk_Folkeparti\",\"Dansk_Folkeparti\",\"SF\",\"SF\",\"Venstre\",\"Socialdemokratiet\",\"Socialdemokratiet\",\"Konservative\",\"Radikale_Venstre\",\"Radikale_Venstre\",\"Dansk_Folkeparti\",\"Dansk_Folkeparti\",\"Venstre\",\"SF\",\"Kristendemokraterne\",\"Radikale_Venstre\",\"Venstre\",\"Venstre\",\"Dansk_Folkeparti\",\"Socialdemokratiet\",\"Nye_Borgerlige\",\"UFG\",\"Venstre\",\"Liberal_Alliance\",\"Socialdemokratiet\",\"Socialdemokratiet\",\"Liberal_Alliance\",\"Danmarksdemokraterne\",\"Dansk_Folkeparti\",\"Radikale_Venstre\",\"Venstre\",\"Venstre\",\"Socialdemokratiet\",\"Konservative\",\"Enhedslisten\",\"Socialdemokratiet\",\"Venstre\",\"Enhedslisten\",\"Venstre\",\"Dansk_Folkeparti\",\"Venstre\",\"Dansk_Folkeparti\",\"Venstre\",\"Dansk_Folkeparti\",\"Radikale_Venstre\",\"Konservative\",\"Socialdemokratiet\",\"Socialdemokratiet\",\"Dansk_Folkeparti\",\"Socialdemokratiet\",\"Nye_Borgerlige\",\"Venstre\",\"Dansk_Folkeparti\",\"Moderaterne\",\"Socialdemokratiet\",\"Konservative\",\"Socialdemokratiet\",\"Venstre\",\"Venstre\",\"Dansk_Folkeparti\",\"Dansk_Folkeparti\",\"Radikale_Venstre\",\"Konservative\",\"Socialdemokratiet\",\"Konservative\",\"Enhedslisten\",\"Nye_Borgerlige\",\"Liberal_Alliance\",\"UFG\",\"Konservative\",\"Enhedslisten\",\"Enhedslisten\",\"Konservative\",\"Dansk_Folkeparti\",\"Enhedslisten\",\"Nye_Borgerlige\",\"Socialdemokratiet\",\"Dansk_Folkeparti\",\"Nye_Borgerlige\",\"Dansk_Folkeparti\",\"Dansk_Folkeparti\",\"SF\",\"Venstre\",\"Radikale_Venstre\",\"Radikale_Venstre\",\"Socialdemokratiet\",\"Konservative\",\"Alternativet\",\"SF\",\"Socialdemokratiet\",\"Socialdemokratiet\",\"Dansk_Folkeparti\",\"Enhedslisten\",\"SF\",\"SF\",\"Frie_Gr\\u00f8nne\",\"Liberal_Alliance\",\"UFG\",\"Socialdemokratiet\",\"Socialdemokratiet\",\"Radikale_Venstre\",\"Venstre\",\"Radikale_Venstre\",\"Venstre\",\"Dansk_Folkeparti\",\"Alternativet\",\"Frie_Gr\\u00f8nne\",\"Enhedslisten\",\"Danmarksdemokraterne\",\"Venstre\",\"Konservative\",\"Enhedslisten\",\"Venstre\",\"Socialdemokratiet\",\"Venstre\",\"Alternativet\",\"Venstre\",\"Socialdemokratiet\",\"SF\",\"Venstre\",\"Socialdemokratiet\",\"Venstre\",\"Venstre\",\"Liberal_Alliance\",\"Socialdemokratiet\",\"Radikale_Venstre\"],\"snippet\":[\"Aki-Matilda H\\u00f8egh-Dam\",\"Alex Vanopslagh\",\"Alternativet\",\"Anders Kronborg\",\"Andreas Steenberg\",\"Ane Halsboe-J\\u00f8rgensen\",\"Anne Honor\\u00e9 \\u00d8stergaard\",\"Anne Paulin\",\"Anne Sophie Callesen\",\"Anne Valentina Berthelsen\",\"Annette Lind\",\"Anni Matthiesen\",\"Astrid Car\\u00f8e\",\"Astrid Krag\",\"Benny Engelbrecht\",\"Bertel Haarder\",\"Birgitte Bergman\",\"Birgitte Vind\",\"Bj\\u00f8rn Brandenborg\",\"Brigitte Klintskov Jerkel\",\"Britt Bager\",\"Britt Bager\",\"Camilla Fabricius\",\"Carl Valentin\",\"Carsten Bach\",\"Carsten Kissmeyer\",\"Charlotte Broman M\\u00f8lb\\u00e6k\",\"Christian Juhl\",\"Christian Poll\",\"Christian Rabjerg Madsen\",\"Christina Egelund\",\"Christoffer Aagaard Melson\",\"Claus Hjort Frederiksen\",\"Dan J\\u00f8rgensen\",\"Daniel Toft Jakobsen\",\"Danmarksdemokraterne - Inger St\\u00f8jberg\",\"Dansk Folkeparti\",\"Dennis Flydtkj\\u00e6r\",\"Dennis Flydtkj\\u00e6r\",\"Det Konservative Folkeparti\",\"Dorthe Ullemose\",\"Ellen Trane N\\u00f8rby\",\"Enhedslisten\",\"Erik Christensen\",\"Erling Bonnesen\",\"Eva Flyvholm\",\"Eva Kjer Hansen\",\"Fatma \\u00d8ktem\",\"Finn S\\u00f8rensen\",\"Frie Gr\\u00f8nne\",\"Halime Oguz\",\"Hans Andersen\",\"Hans Christian Schmidt\",\"Heidi Bank\",\"Henning Hyllested\",\"Henrik Dahl\",\"Henrik M\\u00f8ller\",\"Holger K. Nielsen\",\"Ida Auken\",\"Ida Auken\",\"Ina Str\\u00f8jer-Schmidt\",\"Inger St\\u00f8jberg\",\"Jacob Jensen\",\"Jacob Mark\",\"Jakob Ellemann-Jensen\",\"Jan E. J\\u00f8rgensen\",\"Jan Johansen\",\"Jens Henrik Thulesen Dahl\",\"Jens Joel\",\"Jens Rohde\",\"Jens Rohde\",\"Jesper Petersen\",\"Joachim B. Olsen\",\"Karen Ellemann\",\"Karin Gaardsted\",\"Karin N\\u00f8dgaard\",\"Karina Due\",\"Karina Lorentzen Dehnhardt\",\"Karsten H\\u00f8nge\",\"Karsten Lauritzen\",\"Kasper Roug\",\"Kasper Sand Kj\\u00e6r\",\"Katarina Ammitzb\\u00f8ll\",\"Kathrine Olldag\",\"Katrine Robs\\u00f8e\",\"Kenneth Kristensen Berth\",\"Kim Christiansen\",\"Kim Valentin\",\"Kirsten Normann Andersen\",\"Kristendemokraterne\",\"Kristian Hegaard\",\"Kristian Jensen\",\"Kristian Pihl Lorentzen\",\"Kristian Thulesen Dahl\",\"Lars Aslan Rasmussen\",\"Lars Boje Mathiesen\",\"Lars L\\u00f8kke Rasmussen\",\"Lars L\\u00f8kke Rasmussen\",\"Laura Lindahl\",\"Lea Wermelin\",\"Leif Lahn Jensen\",\"Liberal Alliance\",\"Lise Bech\",\"Lise Bech\",\"Lotte Rod\",\"Louise Schack Elholm\",\"Mads Fuglede\",\"Magnus Heunicke\",\"Mai Mercado\",\"Mai Villadsen\",\"Malte Larsen\",\"Marcus Knuth\",\"Maria Reumert Gjerding\",\"Marie Bjerre\",\"Marie Krarup\",\"Marlene Ambo-Rasmussen\",\"Marlene Harps\\u00f8e\",\"Martin Geertsen\",\"Martin Henriksen\",\"Martin Lidegaard\",\"Mette Abildgaard\",\"Mette Frederiksen\",\"Mette Gjerskov\",\"Mette Hjermind Dencker\",\"Mette Reissmann\",\"Mette Thiesen\",\"Michael Aastrup Jensen\",\"Mikkel Dencker\",\"Moderaterne\",\"Mogens Jensen\",\"Mona Juul\",\"Morten B\\u00f8dskov\",\"Morten Dahlin\",\"Morten L\\u00f8kkegaard\",\"Morten Marinus\",\"Morten Messerschmidt\",\"Morten \\u00d8stergaard\",\"Naser Khader\",\"Nicolai Wammen\",\"Niels Flemming Hansen\",\"Nikolaj Villumsen\",\"Nye Borgerlige\",\"Ole Birk Olesen\",\"Orla Hav\",\"Orla \\u00d8sterby\",\"Peder Hvelplund\",\"Pelle Dragsted\",\"Per Larsen\",\"Pernille Rosenkrantz-Theil\",\"Pernille Skipper\",\"Pernille Vermund\",\"Peter Hummelgaard Thomsen\",\"Peter Kofod Poulsen\",\"Peter Seier Christensen\",\"Peter Skaarup\",\"Pia Kj\\u00e6rsgaard\",\"Pia Olsen Dyhr\",\"Preben Bang Henriksen\",\"Radikale Venstre\",\"Rasmus Helveg Petersen\",\"Rasmus Horn Langhoff\",\"Rasmus Jarlov\",\"Rasmus Nordqvist\",\"Rasmus Nordqvist\",\"Rasmus Prehn\",\"Rasmus Stoklund\",\"Ren\\u00e9 Christensen\",\"Rosa Lund\",\"SF\",\"Signe Munk\",\"Sikandar Siddique\",\"Simon Emil Ammitzb\\u00f8ll-Bille\",\"Simon Emil Ammitzb\\u00f8ll-Bille\",\"Simon Kollerup\",\"Socialdemokratiet\",\"Sofie Carsten Nielsen\",\"Sophie L\\u00f8hde\",\"Stinus Lindgreen\",\"St\\u00e9n Knuth\",\"Susanne Eilersen\",\"Susanne Zimmer\",\"Susanne Zimmer\",\"S\\u00f8ren Egge Rasmussen\",\"S\\u00f8ren Espersen\",\"S\\u00f8ren Gade\",\"S\\u00f8ren Pape Poulsen\",\"S\\u00f8ren S\\u00f8ndergaard\",\"Thomas Danielsen\",\"Thomas Jensen\",\"Tommy Ahlers\",\"Torsten Gejl\",\"Torsten Schack Pedersen\",\"Trine Bramsen\",\"Trine Torp\",\"Troels Lund Poulsen\",\"Troels Ravn\",\"Ulla T\\u00f8rn\\u00e6s\",\"Venstre\",\"Villum Christensen\",\"Yildiz Akdogan\",\"Zenia Stampe\"],\"top\":[14,7,8,0,4,0,1,0,4,3,0,1,3,0,0,1,5,0,0,5,5,1,0,3,7,1,3,6,8,0,7,1,1,0,0,9,2,9,2,5,2,1,6,0,1,6,1,1,6,11,3,1,1,1,6,7,0,3,4,0,3,9,1,3,1,1,0,0,0,13,0,0,7,1,0,2,2,3,3,1,0,0,5,4,4,2,2,1,3,13,4,1,1,2,0,10,12,1,7,0,0,7,9,2,4,1,1,0,5,6,0,1,6,1,2,1,2,1,2,4,5,0,0,2,0,10,1,2,15,0,5,0,1,1,2,2,4,5,0,5,6,10,7,12,5,6,6,5,2,6,10,0,2,10,2,2,3,1,4,4,0,5,8,3,0,0,2,6,3,3,11,7,12,0,0,4,1,4,1,2,8,11,6,9,1,5,6,1,0,1,8,1,0,3,1,0,1,1,7,0,4],\"x\":{\"__ndarray__\":\"8m4MQXTJHkE6yxZBjfHSQBL9FUGzCvtAY3kVQSsszEDqKRpBcRYhQa2J+0Bcq+ZAgnssQR8L80CAKs5A9Uz3QC7MK0GRSg9BPTXYQO6O/EAgXfBAMvkIQdVPI0ErzhxBxpTvQKQM00B4VitBRaQiQZ0kEkF9sshA5T4KQZEe9EC9BwxBnP0JQeuK3EAtuOhAekn/QPKZ60D1URNB/qoCQVreCEEvW+lAIhQqQYEO/UC/u95A29wnQSe65EAWCQNB1XIJQUMOEUFQDStBhjn/QMp3DEEzgPJAZC0mQekX+kCSVehAHtIIQVf6FkGcFRZBpbgaQcIG6kDhmfZArxQoQQIIA0EcqARBVfL2QLKq40DRIeBAulQRQWRVDkEjefRARhEDQTj8BUH61O1AJyAMQb74AUH0liBBPWUiQTkF90CKK95AuQnxQNJcD0HUhxdBB/4cQWQGCkF5HQBB990GQXHEGUEgag1BfkEOQTEk2kDcMNdAmIQTQeRCFkHPyBRBjysUQYtH/0DuIghBtHMBQXeNBEGRMwhB507hQE5/EUGMbh5BPSrdQEo520Cl4O5A1ScAQbSeKEFxjeZAWHQMQVITDUFBQ9dAlSTuQBJt60AGtQFBcTb5QL2gFkEFaAVBhuIDQbgH/UBwsgxBClMZQVB4xkBx6g1BKzjiQDyWBEH95xVBoXXLQBQ5DEHwwulAWnX2QMdT4ECtYQFB8GcQQcOsGkGXzBVBgCcCQV5IC0FsLidBUQMTQUMnBkHCQBJB7kfRQA4vH0Fw7iVBFuoFQY3pCEEo2iRB54gRQaJ43UAIoAFBGH8QQc2KE0H7vRdBzA4gQRg+6EDYbxlB2gIZQcLG80DckNlAE7cfQRaMEEHV1QlBIujrQDvr5kD73SVB7IgXQVzrFkHGRA5BysYEQQB1EUGk0dJAPCz9QKXrGkHdJABBnnEVQb+U70CEo/1Abm0OQZ0KCkFbqQ1BH6YRQXYn10Dj0wNBPJ4jQTXg6EAnON5APbkLQbofHEE6ptBAs6AJQcl3H0FKOPlAv0UAQV0H30CIpghBo4T0QI7oAUHrbRxB\",\"dtype\":\"float32\",\"order\":\"little\",\"shape\":[201]},\"y\":{\"__ndarray__\":\"SlQcP6yfmD7+dw9Au7siQPcvpz7OFDFAr97fPk4smD+R+f8//ysevkSgwb34PYM/XTXoP70AX0DithFAJ8TOP26dlj+5GUtAFUMfQPiuoD8Oubk+uYkiQEh9oD+01XE+O2XovZVSdz/+IvA/EkE4PY5nI0Ai4Og/yOYLvhHEjj/iPRxA1y5MQFdqREBKKzy/ceAYv5XSF7/hbDS+Z01rP6xGTb90itQ/b9JxP47jAECi1vc9GfXVPyqI3T64+yJAdv/5P/f+LD+N5MY/YHdtPgW+OED0jls/AXt+P5gJfj4SFAZA04YJQFJr5j97JjNABRINP3qMHr/oN+Y/Frn+Pwo9xz94834+cPJGQAyzpz4/njlAYLvSPzS07D7izgtAtiftvu4vL0AINSVAt5sHP7Hkfj+Dx/Y/IpFXP8JNQ74CV/Y+eqE9QD9rBEAnwl0/TZSjP5ZrGb+oe9W+4quOvhHbuT8SSOg/sH2PPzBbyz8QYAs/nKYbv7ix7T5yuHy/jqOoPzMzDkA14mq9MOI6QJzEMkAh9aC+A4+pvuKIK7+nIfE/vCBIQDtprD/dbWs/llSNP2IlQj9QbSZAzOoFvPSaxj/5bHo/h4QmP89Mwj9iPwg/uQKkP9IdtL5djPE/ZnX4PpUHV0Duf0VA1Vs8vp0luj/5CnG/zWwrvlgbM7/C5VY/K6TyP3jr5j4W/GU+EBecPh9FAEC/AUc/f9MLQPk85j+dt/y99w9IQBWvxD6W7uo+3CWCvxSmCT7pERg/k/CuP/y2OT/OMDI/SnwYP+F3/j1X6ac/c3mJvzA8K0CSZg+/tjRhv7PHEr/COMu+BRLaP93mw75G4NI/vXThP7O+L0BsUgFACn2YP1GGpD8WhUQ/8XdKQAjlGb4kW+I/ZHGUP3bCkz/s+DU/GPmgvv40eT/qpAs/ioRSQK1HpT8iKzRAoUNYP4eXzD9kGSk/JxIvQAfOrT9osL4/T/SQPHCWmj/yKqU/MV3nPrqjgT8F1vY/4wQRQEjhZz/GsF8/Gl4yQC/Toz/XggVAmewYQKp2rz+5e7U/BzRvP4wNSkDUqAE/\",\"dtype\":\"float32\",\"order\":\"little\",\"shape\":[201]}},\"selected\":{\"id\":\"1052\"},\"selection_policy\":{\"id\":\"1051\"}},\"id\":\"1003\",\"type\":\"ColumnDataSource\"},{\"attributes\":{},\"id\":\"1024\",\"type\":\"SaveTool\"},{\"attributes\":{\"axis\":{\"id\":\"1013\"},\"coordinates\":null,\"group\":null,\"ticker\":null,\"visible\":false},\"id\":\"1016\",\"type\":\"Grid\"},{\"attributes\":{},\"id\":\"1051\",\"type\":\"UnionRenderers\"},{\"attributes\":{\"callback\":null,\"tooltips\":[[\"doc\",\"@{doc}\"],[\"top\",\"@{top}\"],[\"snippet\",\"@{snippet}\"],[\"party\",\"@{party}\"],[\"color\",\"@{color}\"]]},\"id\":\"1028\",\"type\":\"HoverTool\"},{\"attributes\":{\"bottom_units\":\"screen\",\"coordinates\":null,\"fill_alpha\":0.5,\"fill_color\":\"lightgrey\",\"group\":null,\"left_units\":\"screen\",\"level\":\"overlay\",\"line_alpha\":1.0,\"line_color\":\"black\",\"line_dash\":[4,4],\"line_width\":2,\"right_units\":\"screen\",\"syncable\":false,\"top_units\":\"screen\"},\"id\":\"1027\",\"type\":\"BoxAnnotation\"},{\"attributes\":{},\"id\":\"1046\",\"type\":\"BasicTickFormatter\"},{\"attributes\":{},\"id\":\"1026\",\"type\":\"HelpTool\"},{\"attributes\":{\"fill_alpha\":{\"field\":\"alpha\"},\"fill_color\":{\"field\":\"color\"},\"hatch_alpha\":{\"field\":\"alpha\"},\"hatch_color\":{\"field\":\"color\"},\"line_alpha\":{\"field\":\"alpha\"},\"line_color\":{\"field\":\"color\"},\"size\":{\"value\":8},\"x\":{\"field\":\"x\"},\"y\":{\"field\":\"y\"}},\"id\":\"1038\",\"type\":\"Circle\"},{\"attributes\":{},\"id\":\"1007\",\"type\":\"DataRange1d\"},{\"attributes\":{},\"id\":\"1018\",\"type\":\"BasicTicker\"},{\"attributes\":{\"tools\":[{\"id\":\"1021\"},{\"id\":\"1022\"},{\"id\":\"1023\"},{\"id\":\"1024\"},{\"id\":\"1025\"},{\"id\":\"1026\"},{\"id\":\"1028\"}]},\"id\":\"1029\",\"type\":\"Toolbar\"}],\"root_ids\":[\"1004\"]},\"title\":\"Bokeh Application\",\"version\":\"2.4.3\"}};\n  const render_items = [{\"docid\":\"bda25c8c-17b9-4f38-8636-8cd80f28a29b\",\"root_ids\":[\"1004\"],\"roots\":{\"1004\":\"0bf27a36-bbaf-47ac-935c-b5c95c612dfb\"}}];\n  root.Bokeh.embed.embed_items_notebook(docs_json, render_items);\n  }\n  if (root.Bokeh !== undefined) {\n    embed_document(root);\n  } else {\n    let attempts = 0;\n    const timer = setInterval(function(root) {\n      if (root.Bokeh !== undefined) {\n        clearInterval(timer);\n        embed_document(root);\n      } else {\n        attempts++;\n        if (attempts > 100) {\n          clearInterval(timer);\n          console.log(\"Bokeh: ERROR: Unable to run BokehJS code because BokehJS library is missing\");\n        }\n      }\n    }, 10, root)\n  }\n})(window);",
      "application/vnd.bokehjs_exec.v0+json": ""
     },
     "metadata": {
      "application/vnd.bokehjs_exec.v0+json": {
       "id": "1004"
      }
     },
     "output_type": "display_data"
    }
   ],
   "source": [
    "p = umap.plot.interactive(\n",
    "    mapper,\n",
    "    labels = topic_df['top'].map(topic_labels),\n",
    "    color_key=cmap['color'],\n",
    "    point_size = 8,\n",
    "    hover_data = topic_df\n",
    "    )\n",
    "umap.plot.show(p)"
   ]
  },
  {
   "cell_type": "code",
   "execution_count": 78,
   "id": "e8618fb2-2003-4a03-bfea-63fe7ec4b095",
   "metadata": {},
   "outputs": [
    {
     "data": {
      "text/plain": [
       "16"
      ]
     },
     "execution_count": 78,
     "metadata": {},
     "output_type": "execute_result"
    }
   ],
   "source": [
    "len(pol2vec_model.topic_vectors)"
   ]
  },
  {
   "cell_type": "code",
   "execution_count": 79,
   "id": "038ccf66-adde-4837-8003-ae4c0ec7025c",
   "metadata": {},
   "outputs": [],
   "source": [
    "metadata2tensor(\n",
    "    topic_df,\n",
    "    metadata_path = 'tensorboard_input/meta_metadata.tsv',\n",
    "    label_list = topic_labels\n",
    ")"
   ]
  },
  {
   "cell_type": "code",
   "execution_count": 80,
   "id": "3c3131d9-5ec2-44c2-be8c-f6b4fd4265d4",
   "metadata": {},
   "outputs": [
    {
     "data": {
      "text/plain": [
       "194"
      ]
     },
     "execution_count": 80,
     "metadata": {},
     "output_type": "execute_result"
    }
   ],
   "source": [
    "# test read of tensor output\n",
    "with open('tensorboard_input/meta_tensor.tsv','r') as r:\n",
    "    lines_test = r.readlines()\n",
    "\n",
    "len(lines_test)"
   ]
  },
  {
   "cell_type": "code",
   "execution_count": 81,
   "id": "59ef2289-af9d-478d-909d-fa71c6b0390a",
   "metadata": {},
   "outputs": [],
   "source": [
    "def partyvecs2tensor(party_vecs, out_path):\n",
    "    vec_strs = []\n",
    "\n",
    "    for vec in party_vecs:\n",
    "        vec_str = ''.join([str(val) +'\\t' for val in vec]).rstrip('\\t')\n",
    "        vec_strs.append(vec_str)\n",
    "\n",
    "    tensor_str = '\\n'.join(vec_strs)\n",
    "    \n",
    "    with open(out_path, 'w') as f:\n",
    "        f.write(tensor_str)"
   ]
  },
  {
   "cell_type": "code",
   "execution_count": 82,
   "id": "48ed2518-84bd-4d85-883d-9d0ae2963240",
   "metadata": {},
   "outputs": [],
   "source": [
    "def concat_tensors(tensor_files, out_path):\n",
    "    tensor_strs = []\n",
    "    \n",
    "    for file in tensor_files:\n",
    "        tensor_str = pd.read_csv(file, sep = '\\t', header = None)\n",
    "        tensor_strs.append(tensor_str)\n",
    "    \n",
    "    concat_tensor = pd.concat(tensor_strs)\n",
    "    \n",
    "    concat_tensor.to_csv(out_path, sep = '\\t', header = False, index = False)"
   ]
  },
  {
   "cell_type": "code",
   "execution_count": 83,
   "id": "126ed041-77fb-46dd-a9c0-41b7e218b6b0",
   "metadata": {},
   "outputs": [],
   "source": [
    "partyvecs2tensor(\n",
    "    party_vecs = pol2vec_model.topic_vectors,\n",
    "    out_path = 'tensorboard_input/meta_parties.tsv'\n",
    ")"
   ]
  },
  {
   "cell_type": "code",
   "execution_count": 84,
   "id": "3fb10a62-334d-4cef-8312-6c058a229622",
   "metadata": {},
   "outputs": [],
   "source": [
    "label_df = pd.DataFrame(topic_labels, index = ['doc']).T\n",
    "#label_df['topic'] = ''"
   ]
  },
  {
   "cell_type": "code",
   "execution_count": 85,
   "id": "b4316d49-0162-4bf5-b7c0-c47d781bd912",
   "metadata": {},
   "outputs": [],
   "source": [
    "label_df.to_csv(\n",
    "    'tensorboard_input/meta_parties_metadata.tsv',\n",
    "    sep = '\\t',\n",
    "    header = False,\n",
    "    index = False\n",
    ")"
   ]
  },
  {
   "cell_type": "code",
   "execution_count": 86,
   "id": "34c8a19e-9c87-4644-a84f-cae422b456c1",
   "metadata": {},
   "outputs": [],
   "source": [
    "# Combine docvecs and partyvecs\n",
    "politician_file = 'tensorboard_input/meta_tensor.tsv'\n",
    "party_file = 'tensorboard_input/meta_parties.tsv'\n",
    "\n",
    "tensor_files = [politician_file, party_file]\n",
    "concat_tensors(tensor_files, 'tensorboard_input/meta_combined.tsv')"
   ]
  },
  {
   "cell_type": "code",
   "execution_count": 87,
   "id": "bb79895f-e50c-4886-9b7b-a8ae5ad9119d",
   "metadata": {},
   "outputs": [],
   "source": [
    "# Combine metadata\n",
    "politician_file = 'tensorboard_input/meta_metadata.tsv'\n",
    "party_file = 'tensorboard_input/meta_parties_metadata.tsv'\n",
    "\n",
    "tensor_files = [politician_file, party_file]\n",
    "concat_tensors(tensor_files, 'tensorboard_input/meta_combined_metadata.tsv')"
   ]
  }
 ],
 "metadata": {
  "kernelspec": {
   "display_name": "Python 3.7.12 ('base')",
   "language": "python",
   "name": "python3"
  },
  "language_info": {
   "codemirror_mode": {
    "name": "ipython",
    "version": 3
   },
   "file_extension": ".py",
   "mimetype": "text/x-python",
   "name": "python",
   "nbconvert_exporter": "python",
   "pygments_lexer": "ipython3",
   "version": "3.7.12"
  },
  "vscode": {
   "interpreter": {
    "hash": "df4b203bae24b8e546cac67fa1e5ed4e3ec7bcadeabf2e990fec7c51e0eb834e"
   }
  }
 },
 "nbformat": 4,
 "nbformat_minor": 5
}
