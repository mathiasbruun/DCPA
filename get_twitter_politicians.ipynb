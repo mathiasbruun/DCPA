{
 "cells": [
  {
   "cell_type": "code",
   "execution_count": 3,
   "id": "22f6563c-867c-420c-97fa-c7440047a91d",
   "metadata": {},
   "outputs": [],
   "source": [
    "from twitter_utils import scrape_politician_handles"
   ]
  },
  {
   "cell_type": "code",
   "execution_count": 4,
   "id": "d6a2b66d-e0dc-452f-b412-9ec71f17f66c",
   "metadata": {},
   "outputs": [],
   "source": [
    "politician_url = 'https://filip.sdu.dk/twitter/politikere/'"
   ]
  },
  {
   "cell_type": "code",
   "execution_count": 5,
   "id": "53749e37-d2c2-426c-a333-52e982e12d69",
   "metadata": {},
   "outputs": [
    {
     "name": "stdout",
     "output_type": "stream",
     "text": [
      "Link retrieval info: No href found for <a id=\"overblik\"></a>\n",
      "\n",
      "All done. 695 Twitter handles retrieved.\n",
      "\n",
      "Preview:\n",
      "IngemannDj\n",
      "birgitte_vind\n",
      "ErlingBonnesen\n",
      "Ulla_Tornaes\n",
      "claushojrup\n",
      "Katrine133\n",
      "Wollese\n",
      "larsfolm\n",
      "vindum\n",
      "MF_K_Lorentzen\n"
     ]
    }
   ],
   "source": [
    "usernames = scrape_politician_handles(politician_url)"
   ]
  },
  {
   "cell_type": "code",
   "execution_count": null,
   "id": "e7433904-4a77-4272-a296-231cda43b931",
   "metadata": {},
   "outputs": [],
   "source": []
  }
 ],
 "metadata": {
  "kernelspec": {
   "display_name": "Python 3 (ipykernel)",
   "language": "python",
   "name": "python3"
  },
  "language_info": {
   "codemirror_mode": {
    "name": "ipython",
    "version": 3
   },
   "file_extension": ".py",
   "mimetype": "text/x-python",
   "name": "python",
   "nbconvert_exporter": "python",
   "pygments_lexer": "ipython3",
   "version": "3.7.12"
  }
 },
 "nbformat": 4,
 "nbformat_minor": 5
}
