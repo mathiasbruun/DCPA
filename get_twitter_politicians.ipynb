{
 "cells": [
  {
   "cell_type": "markdown",
   "id": "f310939d-c1f0-4908-8a25-2c88ffae7d93",
   "metadata": {},
   "source": [
    "# Collection of politician tweets"
   ]
  },
  {
   "cell_type": "markdown",
   "id": "edc5db54-6a6d-4faa-8705-452d0f7e18ad",
   "metadata": {},
   "source": [
    "Documentation here.\n",
    "\n",
    "\n",
    "- Predicting a \"broad\" framing technique (as in the populism paper) which may across topics (using random forest to account fo uncertainty)?\n",
    "- Evolution over time\n",
    "- Intensity of use by different parties"
   ]
  },
  {
   "cell_type": "markdown",
   "id": "45971f10-c79f-4df8-8f0b-0eeca6083387",
   "metadata": {},
   "source": [
    "___"
   ]
  },
  {
   "cell_type": "code",
   "execution_count": 5,
   "id": "22f6563c-867c-420c-97fa-c7440047a91d",
   "metadata": {},
   "outputs": [],
   "source": [
    "import pandas as pd\n",
    "import pickle\n",
    "\n",
    "from utils.twitter_utils import (\n",
    "    scrape_politician_handles,\n",
    "    load_handles_from_txt,\n",
    "    collect_single_user_tweets,\n",
    "    collect_all_user_tweets,\n",
    "    get_new_user_tweets,\n",
    "    tweet_chunks2df\n",
    ")"
   ]
  },
  {
   "cell_type": "code",
   "execution_count": 2,
   "id": "d6a2b66d-e0dc-452f-b412-9ec71f17f66c",
   "metadata": {},
   "outputs": [],
   "source": [
    "politician_url = 'https://web.archive.org/web/20220328101917/https://filip.sdu.dk/twitter/politikere/'"
   ]
  },
  {
   "cell_type": "code",
   "execution_count": 3,
   "id": "53749e37-d2c2-426c-a333-52e982e12d69",
   "metadata": {},
   "outputs": [
    {
     "name": "stderr",
     "output_type": "stream",
     "text": [
      "2022-09-18 16:24:03.469 | INFO     | utils.twitter_utils:scrape_politician_handles:31 - Scraping twitter handles...\n",
      "2022-09-18 16:24:11.883 | DEBUG    | utils.twitter_utils:scrape_politician_handles:46 - Link retrieval info: No href found for <a id=\"overblik\"></a>\n",
      "2022-09-18 16:24:11.887 | INFO     | utils.twitter_utils:scrape_politician_handles:54 - All done. 705 Twitter handles retrieved.\n"
     ]
    }
   ],
   "source": [
    "usernames = scrape_politician_handles(politician_url)"
   ]
  },
  {
   "cell_type": "code",
   "execution_count": 10,
   "id": "e7433904-4a77-4272-a296-231cda43b931",
   "metadata": {},
   "outputs": [],
   "source": [
    "#with open('data/raw/twitter/twitter_handles_politicians.txt', 'w') as f:\n",
    "#    f.write('\\n'.join(usernames))"
   ]
  },
  {
   "cell_type": "code",
   "execution_count": 6,
   "id": "3d307469-4cd7-4123-aeef-879fbe3fab5f",
   "metadata": {},
   "outputs": [],
   "source": [
    "party_handles = [\n",
    "    'KonservativeDK',\n",
    "    'KU_DK',\n",
    "    'radikale',\n",
    "    'radiaklungdom',\n",
    "    'LibaralAlliance',\n",
    "    'LiberalUngdomDK',\n",
    "    'SFpolitik',\n",
    "    'SF_Ungdom',\n",
    "    'Enhedslisten',\n",
    "    'sufnet',\n",
    "    'venstredk',\n",
    "    'VUngdom',\n",
    "    'Spolitik',\n",
    "    'DSU_1920',\n",
    "    'DanskDf1995',\n",
    "    'DFUngdom',\n",
    "    'alternativet_',\n",
    "    'AlternativeUnge',\n",
    "    'NyeBorgerlige',\n",
    "    'gronalliance',\n",
    "    'KDpolitik',\n",
    "    'moderaterne_dk',\n",
    "    'friegronne'\n",
    "]"
   ]
  },
  {
   "cell_type": "code",
   "execution_count": 26,
   "id": "af602f36-e02a-43d3-8845-1165eac8965a",
   "metadata": {},
   "outputs": [],
   "source": [
    "#with open('data/raw/twitter/twitter_handles_politicians.txt', 'r+') as f:\n",
    "#    current_handles = f.read().split('\\n')\n",
    "#    handles_to_append = [handle for handle in party_handles if handle not in current_handles]\n",
    "#    \n",
    "#    all_handles = current_handles + handles_to_append\n",
    "#    \n",
    "#    f.seek(0)\n",
    "#    f.write('\\n'.join(all_handles))"
   ]
  },
  {
   "cell_type": "markdown",
   "id": "cacf7cf4-549c-4716-9a78-972f200e7470",
   "metadata": {},
   "source": [
    "___"
   ]
  },
  {
   "cell_type": "code",
   "execution_count": 2,
   "id": "06cea921-f4d8-4176-aebb-61003310efdb",
   "metadata": {},
   "outputs": [],
   "source": [
    "politician_handles = load_handles_from_txt('data/raw/twitter/twitter_handles_politicians.txt')"
   ]
  },
  {
   "cell_type": "code",
   "execution_count": 3,
   "id": "7872b944-2e44-455c-84cc-db3c7d1c8c5d",
   "metadata": {},
   "outputs": [],
   "source": [
    "politician_handles = politician_handles[200:]"
   ]
  },
  {
   "cell_type": "code",
   "execution_count": 6,
   "id": "06d708eb-365f-49ed-b8a0-6ab37e270d0a",
   "metadata": {},
   "outputs": [
    {
     "name": "stderr",
     "output_type": "stream",
     "text": [
      "2022-09-19 13:52:05.713 | INFO     | utils.twitter_utils:collect_all_user_tweets:99 - Dividing handles into 6.0 chunk(s)...\n",
      "2022-09-19 13:52:05.715 | INFO     | utils.twitter_utils:collect_all_user_tweets:103 - Beginning collection...\n",
      "2022-09-19 13:52:05.715 | INFO     | utils.twitter_utils:collect_all_user_tweets:110 - --- CHUNK NO. 1 ---\n"
     ]
    },
    {
     "data": {
      "application/vnd.jupyter.widget-view+json": {
       "model_id": "c2bd92910de84d399bd3813ce6465aca",
       "version_major": 2,
       "version_minor": 0
      },
      "text/plain": [
       "  0%|          | 0/100 [00:00<?, ?it/s]"
      ]
     },
     "metadata": {},
     "output_type": "display_data"
    },
    {
     "name": "stderr",
     "output_type": "stream",
     "text": [
      "Rate limit reached. Sleeping for: 421\n",
      "2022-09-19 14:07:58.759 | ERROR    | utils.twitter_utils:collect_all_user_tweets:119 - Failed to send request: HTTPSConnectionPool(host='api.twitter.com', port=443): Read timed out. (read timeout=120)! Unable to collect tweets for @mariabrumvig\n",
      "Rate limit reached. Sleeping for: 415\n",
      "2022-09-19 14:23:27.204 | ERROR    | utils.twitter_utils:collect_all_user_tweets:119 - Failed to send request: HTTPSConnectionPool(host='api.twitter.com', port=443): Read timed out. (read timeout=120)! Unable to collect tweets for @larsloekke\n",
      "2022-09-19 14:23:42.133 | ERROR    | utils.twitter_utils:collect_all_user_tweets:119 - 404 Not Found\n",
      "34 - Sorry, that page does not exist.! Unable to collect tweets for @skaarup_df\n",
      "Rate limit reached. Sleeping for: 409\n",
      "2022-09-19 14:38:56.519 | ERROR    | utils.twitter_utils:collect_all_user_tweets:119 - Failed to send request: HTTPSConnectionPool(host='api.twitter.com', port=443): Read timed out. (read timeout=120)! Unable to collect tweets for @DKsundhed\n",
      "Rate limit reached. Sleeping for: 418\n",
      "2022-09-19 14:54:49.890 | ERROR    | utils.twitter_utils:collect_all_user_tweets:119 - Failed to send request: HTTPSConnectionPool(host='api.twitter.com', port=443): Read timed out. (read timeout=120)! Unable to collect tweets for @jesperkiel\n",
      "Rate limit reached. Sleeping for: 419\n",
      "2022-09-19 15:10:18.239 | ERROR    | utils.twitter_utils:collect_all_user_tweets:119 - Failed to send request: HTTPSConnectionPool(host='api.twitter.com', port=443): Read timed out. (read timeout=120)! Unable to collect tweets for @EllenTraneNorby\n",
      "2022-09-19 15:11:51.826 | INFO     | utils.twitter_utils:collect_all_user_tweets:110 - --- CHUNK NO. 2 ---\n"
     ]
    },
    {
     "data": {
      "application/vnd.jupyter.widget-view+json": {
       "model_id": "f96de220d0a34d3287c81a4fd167035b",
       "version_major": 2,
       "version_minor": 0
      },
      "text/plain": [
       "  0%|          | 0/100 [00:00<?, ?it/s]"
      ]
     },
     "metadata": {},
     "output_type": "display_data"
    },
    {
     "name": "stderr",
     "output_type": "stream",
     "text": [
      "Rate limit reached. Sleeping for: 412\n",
      "2022-09-19 15:25:47.533 | ERROR    | utils.twitter_utils:collect_all_user_tweets:119 - Failed to send request: HTTPSConnectionPool(host='api.twitter.com', port=443): Read timed out. (read timeout=120)! Unable to collect tweets for @DanJoergensen\n",
      "Rate limit reached. Sleeping for: 414\n",
      "2022-09-19 15:41:17.218 | ERROR    | utils.twitter_utils:collect_all_user_tweets:119 - Failed to send request: HTTPSConnectionPool(host='api.twitter.com', port=443): Read timed out. (read timeout=120)! Unable to collect tweets for @SociologenHD\n",
      "Rate limit reached. Sleeping for: 421\n",
      "2022-09-19 15:56:59.439 | ERROR    | utils.twitter_utils:collect_all_user_tweets:119 - Failed to send request: HTTPSConnectionPool(host='api.twitter.com', port=443): Read timed out. (read timeout=120)! Unable to collect tweets for @PerClausen3\n",
      "2022-09-19 16:03:00.878 | ERROR    | utils.twitter_utils:collect_all_user_tweets:119 - 404 Not Found\n",
      "34 - Sorry, that page does not exist.! Unable to collect tweets for @MartinH_DF\n",
      "Rate limit reached. Sleeping for: 415\n",
      "2022-09-19 16:12:52.777 | ERROR    | utils.twitter_utils:collect_all_user_tweets:119 - Failed to send request: HTTPSConnectionPool(host='api.twitter.com', port=443): Read timed out. (read timeout=120)! Unable to collect tweets for @jeppelindberg\n",
      "2022-09-19 16:20:15.023 | INFO     | utils.twitter_utils:collect_all_user_tweets:110 - --- CHUNK NO. 3 ---\n"
     ]
    },
    {
     "data": {
      "application/vnd.jupyter.widget-view+json": {
       "model_id": "52f4b6d4211145a29d6851817ac78d90",
       "version_major": 2,
       "version_minor": 0
      },
      "text/plain": [
       "  0%|          | 0/100 [00:00<?, ?it/s]"
      ]
     },
     "metadata": {},
     "output_type": "display_data"
    },
    {
     "name": "stderr",
     "output_type": "stream",
     "text": [
      "Rate limit reached. Sleeping for: 414\n",
      "2022-09-19 16:29:54.680 | ERROR    | utils.twitter_utils:collect_all_user_tweets:119 - Failed to send request: HTTPSConnectionPool(host='api.twitter.com', port=443): Read timed out. (read timeout=120)! Unable to collect tweets for @rasmushorn\n",
      "Rate limit reached. Sleeping for: 420\n",
      "2022-09-19 16:45:22.687 | ERROR    | utils.twitter_utils:collect_all_user_tweets:119 - Failed to send request: HTTPSConnectionPool(host='api.twitter.com', port=443): Read timed out. (read timeout=120)! Unable to collect tweets for @CharlotteCre\n",
      "Rate limit reached. Sleeping for: 424\n",
      "2022-09-19 17:00:49.587 | ERROR    | utils.twitter_utils:collect_all_user_tweets:119 - Failed to send request: HTTPSConnectionPool(host='api.twitter.com', port=443): Read timed out. (read timeout=120)! Unable to collect tweets for @signe_munk\n",
      "Rate limit reached. Sleeping for: 423\n",
      "2022-09-19 17:16:31.906 | ERROR    | utils.twitter_utils:collect_all_user_tweets:119 - Failed to send request: HTTPSConnectionPool(host='api.twitter.com', port=443): Read timed out. (read timeout=120)! Unable to collect tweets for @MrMesserschmidt\n",
      "Rate limit reached. Sleeping for: 416\n",
      "2022-09-19 17:32:08.446 | ERROR    | utils.twitter_utils:collect_all_user_tweets:119 - Failed to send request: HTTPSConnectionPool(host='api.twitter.com', port=443): Read timed out. (read timeout=120)! Unable to collect tweets for @rasmusnordqvist\n",
      "Rate limit reached. Sleeping for: 419\n",
      "2022-09-19 17:47:37.852 | ERROR    | utils.twitter_utils:collect_all_user_tweets:119 - Failed to send request: HTTPSConnectionPool(host='api.twitter.com', port=443): Read timed out. (read timeout=120)! Unable to collect tweets for @AneHalsboe\n",
      "2022-09-19 17:55:36.816 | INFO     | utils.twitter_utils:collect_all_user_tweets:110 - --- CHUNK NO. 4 ---\n"
     ]
    },
    {
     "data": {
      "application/vnd.jupyter.widget-view+json": {
       "model_id": "addf243cc3dd412ab20b575aeeb35427",
       "version_major": 2,
       "version_minor": 0
      },
      "text/plain": [
       "  0%|          | 0/100 [00:00<?, ?it/s]"
      ]
     },
     "metadata": {},
     "output_type": "display_data"
    },
    {
     "name": "stderr",
     "output_type": "stream",
     "text": [
      "Rate limit reached. Sleeping for: 416\n",
      "2022-09-19 18:03:04.975 | ERROR    | utils.twitter_utils:collect_all_user_tweets:119 - Failed to send request: HTTPSConnectionPool(host='api.twitter.com', port=443): Read timed out. (read timeout=120)! Unable to collect tweets for @PerZeidler\n",
      "Rate limit reached. Sleeping for: 421\n",
      "2022-09-19 18:18:36.374 | ERROR    | utils.twitter_utils:collect_all_user_tweets:119 - Failed to send request: HTTPSConnectionPool(host='api.twitter.com', port=443): Read timed out. (read timeout=120)! Unable to collect tweets for @elisabeth_ildal\n",
      "Rate limit reached. Sleeping for: 416\n",
      "2022-09-19 18:34:32.823 | ERROR    | utils.twitter_utils:collect_all_user_tweets:119 - Failed to send request: HTTPSConnectionPool(host='api.twitter.com', port=443): Read timed out. (read timeout=120)! Unable to collect tweets for @_MaiMercado\n",
      "Rate limit reached. Sleeping for: 423\n",
      "2022-09-19 18:50:09.652 | ERROR    | utils.twitter_utils:collect_all_user_tweets:119 - Failed to send request: HTTPSConnectionPool(host='api.twitter.com', port=443): Read timed out. (read timeout=120)! Unable to collect tweets for @DanmarksNatur\n",
      "Rate limit reached. Sleeping for: 413\n",
      "2022-09-19 19:05:42.957 | ERROR    | utils.twitter_utils:collect_all_user_tweets:119 - Failed to send request: HTTPSConnectionPool(host='api.twitter.com', port=443): Read timed out. (read timeout=120)! Unable to collect tweets for @HanneRoed\n",
      "Rate limit reached. Sleeping for: 425\n",
      "2022-09-19 19:21:26.901 | ERROR    | utils.twitter_utils:collect_all_user_tweets:119 - Failed to send request: HTTPSConnectionPool(host='api.twitter.com', port=443): Read timed out. (read timeout=120)! Unable to collect tweets for @Susanne_Zimmer_\n",
      "2022-09-19 19:27:09.688 | INFO     | utils.twitter_utils:collect_all_user_tweets:110 - --- CHUNK NO. 5 ---\n"
     ]
    },
    {
     "data": {
      "application/vnd.jupyter.widget-view+json": {
       "model_id": "78f67fa52bb84c34bd2e1a713743b730",
       "version_major": 2,
       "version_minor": 0
      },
      "text/plain": [
       "  0%|          | 0/100 [00:00<?, ?it/s]"
      ]
     },
     "metadata": {},
     "output_type": "display_data"
    },
    {
     "name": "stderr",
     "output_type": "stream",
     "text": [
      "Rate limit reached. Sleeping for: 417\n",
      "2022-09-19 19:37:03.322 | ERROR    | utils.twitter_utils:collect_all_user_tweets:119 - Failed to send request: HTTPSConnectionPool(host='api.twitter.com', port=443): Read timed out. (read timeout=120)! Unable to collect tweets for @FasaelRehman\n",
      "Rate limit reached. Sleeping for: 420\n",
      "2022-09-19 19:52:32.825 | ERROR    | utils.twitter_utils:collect_all_user_tweets:119 - Failed to send request: HTTPSConnectionPool(host='api.twitter.com', port=443): Read timed out. (read timeout=120)! Unable to collect tweets for @sfBalder\n",
      "Rate limit reached. Sleeping for: 419\n",
      "2022-09-19 20:08:01.997 | ERROR    | utils.twitter_utils:collect_all_user_tweets:119 - Failed to send request: HTTPSConnectionPool(host='api.twitter.com', port=443): Read timed out. (read timeout=120)! Unable to collect tweets for @ClHalv\n",
      "2022-09-19 20:08:35.741 | ERROR    | utils.twitter_utils:collect_all_user_tweets:119 - 401 Unauthorized! Unable to collect tweets for @OehlenschlagerM\n",
      "2022-09-19 20:10:08.717 | ERROR    | utils.twitter_utils:collect_all_user_tweets:119 - 401 Unauthorized! Unable to collect tweets for @flemse68\n",
      "Rate limit reached. Sleeping for: 402\n",
      "2022-09-19 20:23:50.096 | ERROR    | utils.twitter_utils:collect_all_user_tweets:119 - Failed to send request: HTTPSConnectionPool(host='api.twitter.com', port=443): Read timed out. (read timeout=120)! Unable to collect tweets for @mariestaerke\n",
      "Rate limit reached. Sleeping for: 423\n",
      "2022-09-19 20:39:18.008 | ERROR    | utils.twitter_utils:collect_all_user_tweets:119 - Failed to send request: HTTPSConnectionPool(host='api.twitter.com', port=443): Read timed out. (read timeout=120)! Unable to collect tweets for @nikogrunfeld\n",
      "2022-09-19 20:45:10.999 | INFO     | utils.twitter_utils:collect_all_user_tweets:110 - --- CHUNK NO. 6 ---\n"
     ]
    },
    {
     "data": {
      "application/vnd.jupyter.widget-view+json": {
       "model_id": "7b7ae192eb4840cea65cfbe1bfa60a3f",
       "version_major": 2,
       "version_minor": 0
      },
      "text/plain": [
       "  0%|          | 0/26 [00:00<?, ?it/s]"
      ]
     },
     "metadata": {},
     "output_type": "display_data"
    },
    {
     "name": "stderr",
     "output_type": "stream",
     "text": [
      "Rate limit reached. Sleeping for: 416\n",
      "2022-09-19 20:54:47.364 | ERROR    | utils.twitter_utils:collect_all_user_tweets:119 - Failed to send request: HTTPSConnectionPool(host='api.twitter.com', port=443): Read timed out. (read timeout=120)! Unable to collect tweets for @AajaCL\n",
      "2022-09-19 20:58:15.326 | ERROR    | utils.twitter_utils:collect_all_user_tweets:119 - 404 Not Found\n",
      "34 - Sorry, that page does not exist.! Unable to collect tweets for @radiaklungdom\n",
      "2022-09-19 20:58:30.004 | ERROR    | utils.twitter_utils:collect_all_user_tweets:119 - 404 Not Found\n",
      "34 - Sorry, that page does not exist.! Unable to collect tweets for @LibaralAlliance\n",
      "Rate limit reached. Sleeping for: 399\n",
      "2022-09-19 21:10:49.030 | ERROR    | utils.twitter_utils:collect_all_user_tweets:119 - Failed to send request: HTTPSConnectionPool(host='api.twitter.com', port=443): Read timed out. (read timeout=120)! Unable to collect tweets for @Spolitik\n",
      "2022-09-19 21:16:25.353 | INFO     | utils.twitter_utils:collect_all_user_tweets:126 - Collection completed for 526 twitter handles!\n"
     ]
    }
   ],
   "source": [
    "collect_all_user_tweets(politician_handles)"
   ]
  },
  {
   "cell_type": "code",
   "execution_count": 2,
   "id": "e3e908d1-09c0-4ed8-8092-38e0ab1128ba",
   "metadata": {},
   "outputs": [
    {
     "data": {
      "application/vnd.jupyter.widget-view+json": {
       "model_id": "ceff8799868943ca8b03ddcb40092946",
       "version_major": 2,
       "version_minor": 0
      },
      "text/plain": [
       "  0%|          | 0/8 [00:00<?, ?it/s]"
      ]
     },
     "metadata": {},
     "output_type": "display_data"
    }
   ],
   "source": [
    "full_df = tweet_chunks2df()"
   ]
  },
  {
   "cell_type": "code",
   "execution_count": 7,
   "id": "c2758d6e-09c8-4f2f-ad64-f41d991b9b0a",
   "metadata": {},
   "outputs": [
    {
     "data": {
      "text/plain": [
       "(669469, 7)"
      ]
     },
     "execution_count": 7,
     "metadata": {},
     "output_type": "execute_result"
    }
   ],
   "source": [
    "full_df.shape"
   ]
  },
  {
   "cell_type": "code",
   "execution_count": 29,
   "id": "8b8b18a5-f749-4876-8554-645c4255bb50",
   "metadata": {},
   "outputs": [
    {
     "data": {
      "text/plain": [
       "TommyPetersenDK    3200\n",
       "benediktekiaer     3200\n",
       "jakobgorm          3200\n",
       "KHegaard           3200\n",
       "khoenge            3200\n",
       "                   ... \n",
       "LotteRod           3200\n",
       "RuneLundEL         3200\n",
       "DMCamilla          3200\n",
       "LisbethBNielsen    3200\n",
       "alternativet_      3200\n",
       "Name: screen_name, Length: 107, dtype: int64"
      ]
     },
     "execution_count": 29,
     "metadata": {},
     "output_type": "execute_result"
    }
   ],
   "source": [
    "(\n",
    "    full_df[\n",
    "        full_df['screen_name']\n",
    "            .isin(full_df['screen_name']\n",
    "            .value_counts()[full_df['screen_name']\n",
    "            .value_counts() == 3200].index)\n",
    "    ]['screen_name']\n",
    "    .value_counts()\n",
    ")"
   ]
  },
  {
   "cell_type": "markdown",
   "id": "f61434c0-63c2-42e8-9775-dd9be959742c",
   "metadata": {},
   "source": [
    "## TODO:\n",
    "- Attempt collection for those accounts who failed\n",
    "- Modify supplementing function to be able to collect older tweets for those with more than 3200? I don't seem to have full academic access."
   ]
  },
  {
   "cell_type": "code",
   "execution_count": 5,
   "id": "95e348bb-4051-4db9-8e73-5c04722a01c6",
   "metadata": {},
   "outputs": [],
   "source": [
    "with open('data/clean/twitter/full_tweet_df_19-09-22.p', 'wb') as p:\n",
    "    pickle.dump(full_df, p)"
   ]
  },
  {
   "cell_type": "code",
   "execution_count": 6,
   "id": "b449e692-375d-4a51-815f-f50391b0714b",
   "metadata": {},
   "outputs": [],
   "source": [
    "with open('data/clean/twitter/full_tweet_df_19-09-22.p', 'rb') as p:\n",
    "    full_df = pickle.load(p)"
   ]
  },
  {
   "cell_type": "code",
   "execution_count": null,
   "id": "49ac64a1-5cd2-4d74-9d95-20a0f750e1d9",
   "metadata": {},
   "outputs": [],
   "source": [
    "#test = get_new_user_tweets(df_tweets[-5:])"
   ]
  },
  {
   "cell_type": "code",
   "execution_count": null,
   "id": "31afae64-0a6e-4493-8806-b489482c9caf",
   "metadata": {},
   "outputs": [],
   "source": []
  }
 ],
 "metadata": {
  "kernelspec": {
   "display_name": "Python 3 (ipykernel)",
   "language": "python",
   "name": "python3"
  },
  "language_info": {
   "codemirror_mode": {
    "name": "ipython",
    "version": 3
   },
   "file_extension": ".py",
   "mimetype": "text/x-python",
   "name": "python",
   "nbconvert_exporter": "python",
   "pygments_lexer": "ipython3",
   "version": "3.7.12"
  }
 },
 "nbformat": 4,
 "nbformat_minor": 5
}
