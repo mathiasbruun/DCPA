{
 "cells": [
  {
   "cell_type": "code",
   "execution_count": 1,
   "id": "cc12278a-3de5-42ee-bb37-7bab5e7ff81e",
   "metadata": {},
   "outputs": [],
   "source": [
    "# Make sure that we reload custom-written modules each time to facilitate development\n",
    "%reload_ext autoreload\n",
    "%autoreload 2"
   ]
  },
  {
   "cell_type": "code",
   "execution_count": 11,
   "id": "6e7862ed-5f0c-4f9d-9bf5-2281131c22b6",
   "metadata": {},
   "outputs": [],
   "source": [
    "from utils.meta_credentials import META_TEMP_TOKEN\n",
    "import requests\n",
    "from tqdm.notebook import tqdm\n",
    "import pandas as pd\n",
    "import numpy as np\n",
    "import time\n",
    "import datetime\n",
    "from loguru import logger\n",
    "import pickle"
   ]
  },
  {
   "cell_type": "code",
   "execution_count": null,
   "id": "8a427c85-7750-4f48-ac6a-da600fe7ebdf",
   "metadata": {},
   "outputs": [],
   "source": [
    "logger.add(\"logs/meta_ads_api_calls_{time}.log\")"
   ]
  },
  {
   "cell_type": "code",
   "execution_count": 3,
   "id": "a59f6f05-569d-426a-99b3-0ab4bf79aedb",
   "metadata": {},
   "outputs": [],
   "source": [
    "return_fields = [\n",
    "    'page_id',\n",
    "    'page_name',\n",
    "    'bylines',\n",
    "    'ad_creative_bodies',\n",
    "    'ad_creative_link_captions',\n",
    "    'ad_creative_link_descriptions',\n",
    "    'ad_creative_link_titles',\n",
    "    'ad_delivery_start_time',\n",
    "    'ad_delivery_stop_time',\n",
    "    'ad_snapshot_url',\n",
    "    'demographic_distribution',\n",
    "    'delivery_by_region',\n",
    "    'estimated_audience_size',\n",
    "    'publisher_platforms',\n",
    "    'spend',\n",
    "    'currency',\n",
    "    'impressions'\n",
    "]"
   ]
  },
  {
   "cell_type": "code",
   "execution_count": 4,
   "id": "ecff9a6a-aed9-4da7-9d47-f82f5bd162c7",
   "metadata": {},
   "outputs": [],
   "source": [
    "def update_page_status(pages):\n",
    "    pages += 1\n",
    "    print(f'Pages collected: {pages}', end='\\r')\n",
    "    \n",
    "    return pages"
   ]
  },
  {
   "cell_type": "code",
   "execution_count": 5,
   "id": "c1ba7a94-3316-41c8-8caa-a453f33985b9",
   "metadata": {},
   "outputs": [],
   "source": [
    "class ResponseError(Exception):\n",
    "    pass"
   ]
  },
  {
   "cell_type": "code",
   "execution_count": 6,
   "id": "046759cf-f399-4545-988c-36dc5f27eb65",
   "metadata": {},
   "outputs": [],
   "source": [
    "def request_ads_handle_errors(base_url, cursor, wait_on_rate_limit, max_retries = 3):\n",
    "    \n",
    "    # Construct URL for next page\n",
    "    next_url = base_url + f\"&after={cursor}\"\n",
    "    \n",
    "    # Get contents of next page\n",
    "    response = requests.request(\"GET\", next_url)\n",
    "    \n",
    "    if 'data' in response.json().keys():\n",
    "        output = response\n",
    "    \n",
    "    # If we hit the (unknown) rate limit, the API will\n",
    "    # return a JSON containing an error message, which\n",
    "    # we'll print and handle accordingly\n",
    "    elif 'error' in response.json().keys():\n",
    "        \n",
    "        retries = 0\n",
    "        success = False\n",
    "        \n",
    "        error_message = response.json()['error']['message']\n",
    "        logger.debug(f'ERROR: {error_message} at {next_url}.\\nSleeping for {wait_on_rate_limit/60} mins. Retries: {retries}')\n",
    "        \n",
    "        # We'll sleep and try again up to 2 times\n",
    "        while not success and retries < max_retries:\n",
    "            \n",
    "            time.sleep(wait_on_rate_limit)\n",
    "            \n",
    "            # Attempt to get contents of same page again,\n",
    "            # until we reach max_retries\n",
    "            response = requests.request(\"GET\", next_url)\n",
    "            retries += 1\n",
    "            logger.debug(f'Retries: {retries}')\n",
    "            \n",
    "            if 'data' in response.json().keys():\n",
    "                success = True\n",
    "                output = response\n",
    "            \n",
    "            elif 'error' in response.json().keys():\n",
    "                continue\n",
    "            \n",
    "            else:\n",
    "                logger.debug(f'No response. Retry from {next_url} next time.')\n",
    "                ResponseError(f'Data not in response after {retries}. Quitting.')\n",
    "    \n",
    "    return output"
   ]
  },
  {
   "cell_type": "code",
   "execution_count": 7,
   "id": "3ecdb344-62e9-4116-a955-49222095ef9c",
   "metadata": {},
   "outputs": [],
   "source": [
    "def json_responses2df(chunks: 'list'):\n",
    "    df_list = [pd.DataFrame(chunk) for chunk in chunks]\n",
    "    return pd.concat(df_list)"
   ]
  },
  {
   "cell_type": "code",
   "execution_count": 8,
   "id": "0954bef4-a337-4b3e-b39d-4e99a22989ef",
   "metadata": {},
   "outputs": [],
   "source": [
    "mps = pd.read_csv('data/raw/parliament/MP_names_15_19.csv')"
   ]
  },
  {
   "cell_type": "code",
   "execution_count": 9,
   "id": "474d7882-e092-4588-9944-1012d3a47d21",
   "metadata": {},
   "outputs": [],
   "source": [
    "name2id = mps.loc[pd.notna(mps['page_id']), ['name', 'page_id']]\n",
    "name2id['page_id'] = name2id['page_id'].astype(int).astype(str)"
   ]
  },
  {
   "cell_type": "code",
   "execution_count": 12,
   "id": "00b6f6dd-fdac-410f-b83b-e88f6bbadffe",
   "metadata": {},
   "outputs": [],
   "source": [
    "page_id_splits = [list(split) for split in np.array_split(name2id['page_id'], 23)]"
   ]
  },
  {
   "cell_type": "code",
   "execution_count": 16,
   "id": "06cf29a1-7fea-4aed-8141-4716141d01e5",
   "metadata": {},
   "outputs": [],
   "source": [
    "def get_meta_ads(page_ids, return_fields, access_token, wait_on_rate_limit = 3600, limit = 1000):\n",
    "\n",
    "    chunks = []\n",
    "    pages = 0\n",
    "    more_pages = False\n",
    "\n",
    "    base_url = (\n",
    "        \"https://graph.facebook.com/v15.0/ads_archive?\"\n",
    "        f\"access_token={META_TEMP_TOKEN}&\"\n",
    "        f\"search_page_ids={page_ids}&\"\n",
    "        #f\"search_terms=''&\"\n",
    "        \"ad_type=POLITICAL_AND_ISSUE_ADS&\"\n",
    "        \"ad_reached_countries=['DK']&\"\n",
    "        \"ad_delivery_date_min=2018-05-07&\" #2018-05-07\n",
    "        f\"fields={return_fields}&\"\n",
    "        f\"limit={limit}\"\n",
    "    )\n",
    "\n",
    "    # First run to retrieve cursor\n",
    "    logger.info(f'Calling Meta API...')\n",
    "    response = requests.request(\"GET\", base_url)\n",
    "    chunks.append(response.json())\n",
    "    pages = update_page_status(pages)\n",
    "\n",
    "    if 'paging' in chunks[0].keys():\n",
    "        more_pages = True\n",
    "\n",
    "    # Keep looping as long as there are more pages\n",
    "    while more_pages:\n",
    "\n",
    "        try:\n",
    "            cursor = response.json()['paging']['cursors']['after']\n",
    "\n",
    "            response = request_ads_handle_errors(\n",
    "                base_url,\n",
    "                cursor,\n",
    "                wait_on_rate_limit,\n",
    "                max_retries = 3\n",
    "            )\n",
    "\n",
    "            # The error-handled API call ensures that we\n",
    "            # only append reponses with valid data fields\n",
    "            chunks.append(response.json())\n",
    "            pages = update_page_status(pages)\n",
    "\n",
    "            # Sleep just in case -- multiple consecutive\n",
    "            # requests empirically result in strange API\n",
    "            # behaviour (undocumented burst limit)?\n",
    "            time.sleep(2)\n",
    "\n",
    "        # If unable to access cursor key, assume that the\n",
    "        # last page has been collected and break out of\n",
    "        # the loop, printing last data payload\n",
    "        except KeyError:\n",
    "            logger.info('Last page reached. All done!')\n",
    "            more_pages = False\n",
    "\n",
    "    return chunks"
   ]
  },
  {
   "cell_type": "code",
   "execution_count": 919,
   "id": "24ff5da7-b1b3-4baa-b173-cbd7b625c089",
   "metadata": {},
   "outputs": [],
   "source": [
    "# TODO:\n",
    "# Get parties and MPs inducted during period!!!!!!\n",
    "# Make sure to get alternative text fields for carousel ads...\n",
    "# Check if we get larger payloads if not specifyin empty search term\n",
    "\n",
    "# Below we go on combining the collected splits"
   ]
  },
  {
   "cell_type": "code",
   "execution_count": 28,
   "id": "c9be9126-a602-4050-bece-dfd82fa3833e",
   "metadata": {},
   "outputs": [
    {
     "name": "stderr",
     "output_type": "stream",
     "text": [
      "2022-10-23 14:46:44.354 | INFO     | __main__:get_meta_ads:20 - Calling Meta API...\n"
     ]
    },
    {
     "name": "stdout",
     "output_type": "stream",
     "text": [
      "Pages collected: 3\r"
     ]
    },
    {
     "name": "stderr",
     "output_type": "stream",
     "text": [
      "2022-10-23 14:46:55.028 | INFO     | __main__:get_meta_ads:55 - Last page reached. All done!\n",
      "2022-10-23 14:46:55.030 | INFO     | __main__:get_meta_ads:20 - Calling Meta API...\n"
     ]
    },
    {
     "name": "stdout",
     "output_type": "stream",
     "text": [
      "Pages collected: 2\r"
     ]
    },
    {
     "name": "stderr",
     "output_type": "stream",
     "text": [
      "2022-10-23 14:47:00.013 | INFO     | __main__:get_meta_ads:55 - Last page reached. All done!\n",
      "2022-10-23 14:47:00.015 | INFO     | __main__:get_meta_ads:20 - Calling Meta API...\n"
     ]
    },
    {
     "name": "stdout",
     "output_type": "stream",
     "text": [
      "Pages collected: 2\r"
     ]
    },
    {
     "name": "stderr",
     "output_type": "stream",
     "text": [
      "2022-10-23 14:47:06.999 | INFO     | __main__:get_meta_ads:55 - Last page reached. All done!\n",
      "2022-10-23 14:47:07.000 | INFO     | __main__:get_meta_ads:20 - Calling Meta API...\n"
     ]
    },
    {
     "name": "stdout",
     "output_type": "stream",
     "text": [
      "Pages collected: 2\r"
     ]
    },
    {
     "name": "stderr",
     "output_type": "stream",
     "text": [
      "2022-10-23 14:47:11.082 | INFO     | __main__:get_meta_ads:55 - Last page reached. All done!\n",
      "2022-10-23 14:47:11.083 | INFO     | __main__:get_meta_ads:20 - Calling Meta API...\n"
     ]
    },
    {
     "name": "stdout",
     "output_type": "stream",
     "text": [
      "Pages collected: 2\r"
     ]
    },
    {
     "name": "stderr",
     "output_type": "stream",
     "text": [
      "2022-10-23 14:47:16.727 | INFO     | __main__:get_meta_ads:55 - Last page reached. All done!\n",
      "2022-10-23 14:47:16.729 | INFO     | __main__:get_meta_ads:20 - Calling Meta API...\n"
     ]
    },
    {
     "name": "stdout",
     "output_type": "stream",
     "text": [
      "Pages collected: 2\r"
     ]
    },
    {
     "name": "stderr",
     "output_type": "stream",
     "text": [
      "2022-10-23 14:47:20.858 | INFO     | __main__:get_meta_ads:55 - Last page reached. All done!\n",
      "2022-10-23 14:47:20.859 | INFO     | __main__:get_meta_ads:20 - Calling Meta API...\n"
     ]
    },
    {
     "name": "stdout",
     "output_type": "stream",
     "text": [
      "Pages collected: 3\r"
     ]
    },
    {
     "name": "stderr",
     "output_type": "stream",
     "text": [
      "2022-10-23 14:47:30.893 | INFO     | __main__:get_meta_ads:55 - Last page reached. All done!\n",
      "2022-10-23 14:47:30.894 | INFO     | __main__:get_meta_ads:20 - Calling Meta API...\n"
     ]
    },
    {
     "name": "stdout",
     "output_type": "stream",
     "text": [
      "Pages collected: 2\r"
     ]
    },
    {
     "name": "stderr",
     "output_type": "stream",
     "text": [
      "2022-10-23 14:47:34.647 | INFO     | __main__:get_meta_ads:55 - Last page reached. All done!\n",
      "2022-10-23 14:47:34.648 | INFO     | __main__:get_meta_ads:20 - Calling Meta API...\n"
     ]
    },
    {
     "name": "stdout",
     "output_type": "stream",
     "text": [
      "Pages collected: 2\r"
     ]
    },
    {
     "name": "stderr",
     "output_type": "stream",
     "text": [
      "2022-10-23 14:47:37.517 | INFO     | __main__:get_meta_ads:55 - Last page reached. All done!\n",
      "2022-10-23 14:47:37.519 | INFO     | __main__:get_meta_ads:20 - Calling Meta API...\n"
     ]
    },
    {
     "name": "stdout",
     "output_type": "stream",
     "text": [
      "Pages collected: 2\r"
     ]
    },
    {
     "name": "stderr",
     "output_type": "stream",
     "text": [
      "2022-10-23 14:47:44.171 | INFO     | __main__:get_meta_ads:55 - Last page reached. All done!\n",
      "2022-10-23 14:47:44.172 | INFO     | __main__:get_meta_ads:20 - Calling Meta API...\n"
     ]
    },
    {
     "name": "stdout",
     "output_type": "stream",
     "text": [
      "Pages collected: 3\r"
     ]
    },
    {
     "name": "stderr",
     "output_type": "stream",
     "text": [
      "2022-10-23 14:47:53.815 | INFO     | __main__:get_meta_ads:55 - Last page reached. All done!\n",
      "2022-10-23 14:47:53.817 | INFO     | __main__:get_meta_ads:20 - Calling Meta API...\n"
     ]
    },
    {
     "name": "stdout",
     "output_type": "stream",
     "text": [
      "Pages collected: 2\r"
     ]
    },
    {
     "name": "stderr",
     "output_type": "stream",
     "text": [
      "2022-10-23 14:48:00.136 | INFO     | __main__:get_meta_ads:55 - Last page reached. All done!\n",
      "2022-10-23 14:48:00.137 | INFO     | __main__:get_meta_ads:20 - Calling Meta API...\n"
     ]
    },
    {
     "name": "stdout",
     "output_type": "stream",
     "text": [
      "Pages collected: 2\r"
     ]
    },
    {
     "name": "stderr",
     "output_type": "stream",
     "text": [
      "2022-10-23 14:48:05.055 | INFO     | __main__:get_meta_ads:55 - Last page reached. All done!\n",
      "2022-10-23 14:48:05.058 | INFO     | __main__:get_meta_ads:20 - Calling Meta API...\n"
     ]
    },
    {
     "name": "stdout",
     "output_type": "stream",
     "text": [
      "Pages collected: 2\r"
     ]
    },
    {
     "name": "stderr",
     "output_type": "stream",
     "text": [
      "2022-10-23 14:48:09.459 | INFO     | __main__:get_meta_ads:55 - Last page reached. All done!\n",
      "2022-10-23 14:48:09.461 | INFO     | __main__:get_meta_ads:20 - Calling Meta API...\n"
     ]
    },
    {
     "name": "stdout",
     "output_type": "stream",
     "text": [
      "Pages collected: 2\r"
     ]
    },
    {
     "name": "stderr",
     "output_type": "stream",
     "text": [
      "2022-10-23 14:48:15.659 | INFO     | __main__:get_meta_ads:55 - Last page reached. All done!\n",
      "2022-10-23 14:48:15.660 | INFO     | __main__:get_meta_ads:20 - Calling Meta API...\n"
     ]
    },
    {
     "name": "stdout",
     "output_type": "stream",
     "text": [
      "Pages collected: 3\r"
     ]
    },
    {
     "name": "stderr",
     "output_type": "stream",
     "text": [
      "2022-10-23 14:48:26.294 | INFO     | __main__:get_meta_ads:55 - Last page reached. All done!\n",
      "2022-10-23 14:48:26.296 | INFO     | __main__:get_meta_ads:20 - Calling Meta API...\n"
     ]
    },
    {
     "name": "stdout",
     "output_type": "stream",
     "text": [
      "Pages collected: 2\r"
     ]
    },
    {
     "name": "stderr",
     "output_type": "stream",
     "text": [
      "2022-10-23 14:48:31.798 | INFO     | __main__:get_meta_ads:55 - Last page reached. All done!\n",
      "2022-10-23 14:48:31.800 | INFO     | __main__:get_meta_ads:20 - Calling Meta API...\n"
     ]
    },
    {
     "name": "stdout",
     "output_type": "stream",
     "text": [
      "Pages collected: 3\r"
     ]
    },
    {
     "name": "stderr",
     "output_type": "stream",
     "text": [
      "2022-10-23 14:48:47.041 | INFO     | __main__:get_meta_ads:55 - Last page reached. All done!\n",
      "2022-10-23 14:48:47.042 | INFO     | __main__:get_meta_ads:20 - Calling Meta API...\n"
     ]
    },
    {
     "name": "stdout",
     "output_type": "stream",
     "text": [
      "Pages collected: 3\r"
     ]
    },
    {
     "name": "stderr",
     "output_type": "stream",
     "text": [
      "2022-10-23 14:48:57.540 | INFO     | __main__:get_meta_ads:55 - Last page reached. All done!\n",
      "2022-10-23 14:48:57.543 | INFO     | __main__:get_meta_ads:20 - Calling Meta API...\n"
     ]
    },
    {
     "name": "stdout",
     "output_type": "stream",
     "text": [
      "Pages collected: 2\r"
     ]
    },
    {
     "name": "stderr",
     "output_type": "stream",
     "text": [
      "2022-10-23 14:49:01.375 | INFO     | __main__:get_meta_ads:55 - Last page reached. All done!\n",
      "2022-10-23 14:49:01.377 | INFO     | __main__:get_meta_ads:20 - Calling Meta API...\n"
     ]
    },
    {
     "name": "stdout",
     "output_type": "stream",
     "text": [
      "Pages collected: 2\r"
     ]
    },
    {
     "name": "stderr",
     "output_type": "stream",
     "text": [
      "2022-10-23 14:49:05.575 | INFO     | __main__:get_meta_ads:55 - Last page reached. All done!\n",
      "2022-10-23 14:49:05.577 | INFO     | __main__:get_meta_ads:20 - Calling Meta API...\n"
     ]
    },
    {
     "name": "stdout",
     "output_type": "stream",
     "text": [
      "Pages collected: 2\r"
     ]
    },
    {
     "name": "stderr",
     "output_type": "stream",
     "text": [
      "2022-10-23 14:49:10.184 | INFO     | __main__:get_meta_ads:55 - Last page reached. All done!\n",
      "2022-10-23 14:49:10.185 | INFO     | __main__:get_meta_ads:20 - Calling Meta API...\n"
     ]
    },
    {
     "name": "stdout",
     "output_type": "stream",
     "text": [
      "Pages collected: 2\r"
     ]
    },
    {
     "name": "stderr",
     "output_type": "stream",
     "text": [
      "2022-10-23 14:49:16.121 | INFO     | __main__:get_meta_ads:55 - Last page reached. All done!\n"
     ]
    }
   ],
   "source": [
    "all_politicians = []\n",
    "\n",
    "for i, page_ids in enumerate(page_id_splits):\n",
    "    \n",
    "    chunks = get_meta_ads(\n",
    "        page_ids,\n",
    "        return_fields,\n",
    "        META_TEMP_TOKEN,\n",
    "        wait_on_rate_limit = 3600,\n",
    "        limit = 1000\n",
    "    )\n",
    "    \n",
    "    chunks_unpacked = [chunk['data'] for chunk in chunks]\n",
    "    all_politicians.extend(chunks_unpacked)"
   ]
  },
  {
   "cell_type": "code",
   "execution_count": 33,
   "id": "a6d54463-36da-43c2-b324-e6b5a3d9b56f",
   "metadata": {},
   "outputs": [],
   "source": [
    "politician_ads_df = json_responses2df(all_politicians)"
   ]
  },
  {
   "cell_type": "code",
   "execution_count": 43,
   "id": "29e8f00c-212b-457f-9f63-cdb18cceb35b",
   "metadata": {},
   "outputs": [
    {
     "data": {
      "text/plain": [
       "(16065, 18)"
      ]
     },
     "execution_count": 43,
     "metadata": {},
     "output_type": "execute_result"
    }
   ],
   "source": [
    "politician_ads_df.shape"
   ]
  },
  {
   "cell_type": "code",
   "execution_count": 47,
   "id": "2b1d805e-386f-4859-aafb-ab83592b3a51",
   "metadata": {},
   "outputs": [
    {
     "data": {
      "text/plain": [
       "'https://www.facebook.com/ads/archive/render_ad/?id=478938860954115&access_token=EAB0JThpjjzABADZB590C8OiCR1DGXReMiztOZCJBoZCVuZA7yDKk3TEEqH86zL4zjEaiEl63nuJXJbJycdUH1dFTVU2S5otBsZA1ZBEO3q9ZBl0dj1BUYsEfezZAA0YWomq7EHGsjOk1Dkm7yeEr9cE2G0hbmYBAtHgNFeIddWIYlAZDZD'"
      ]
     },
     "execution_count": 47,
     "metadata": {},
     "output_type": "execute_result"
    }
   ],
   "source": [
    "politician_ads_df.iloc[197]['ad_snapshot_url']"
   ]
  },
  {
   "cell_type": "code",
   "execution_count": 48,
   "id": "47d5caaf-ba32-43ec-b1a2-0ef557fd3d34",
   "metadata": {},
   "outputs": [],
   "source": [
    "with open(f'data/clean/meta/politician_ads_v1.p', 'wb') as p:    \n",
    "    pickle.dump(politician_ads_df, p)"
   ]
  },
  {
   "cell_type": "code",
   "execution_count": 929,
   "id": "565a9232-e55a-4ae2-90e3-a6b45220566f",
   "metadata": {},
   "outputs": [],
   "source": [
    "party_dict = {\n",
    "    'Alternativet': '676061179094769',\n",
    "    'Danmarksdemokraterne': '108041771950114',\n",
    "    'Dansk Folkeparti': '520449347983427',\n",
    "    'Enhedslisten': '223040066022',\n",
    "    'Frie Grønne': '104695404710124',\n",
    "    'Konservative': '39233495912',\n",
    "    'Kristendemokraterne': '180658048629404',\n",
    "    'Liberal Alliance': '106952222676974',\n",
    "    'Moderaterne': '108273171366317',\n",
    "    'Nye Borgerlige': '646746285466931',\n",
    "    'Radikale Venstre': '12458150929',\n",
    "    'SF': '74796954245',\n",
    "    'Socialdemokratiet': '41459763029',\n",
    "    'Venstre': '21465928829'\n",
    "}"
   ]
  },
  {
   "cell_type": "code",
   "execution_count": null,
   "id": "b59ee818-e871-4000-be95-3d42315574ea",
   "metadata": {},
   "outputs": [],
   "source": [
    "# Split once again in order not to exceed permitted no. of IDs per API call\n",
    "party_id_splits = [list(v) for v in np.array_split(list(party_dict.values()), 2)]"
   ]
  },
  {
   "cell_type": "code",
   "execution_count": 960,
   "id": "ecd783ba-9ef4-4cd0-9c99-a52024eaf7a2",
   "metadata": {},
   "outputs": [
    {
     "name": "stderr",
     "output_type": "stream",
     "text": [
      "2022-10-22 23:10:07.909 | INFO     | __main__:get_meta_ads:20 - Calling Meta API...\n"
     ]
    },
    {
     "name": "stdout",
     "output_type": "stream",
     "text": [
      "Pages collected: 5\r"
     ]
    },
    {
     "name": "stderr",
     "output_type": "stream",
     "text": [
      "2022-10-22 23:10:35.928 | INFO     | __main__:get_meta_ads:55 - Last page reached. All done!\n",
      "2022-10-22 23:10:36.005 | INFO     | __main__:get_meta_ads:20 - Calling Meta API...\n"
     ]
    },
    {
     "name": "stdout",
     "output_type": "stream",
     "text": [
      "Pages collected: 9\r"
     ]
    },
    {
     "name": "stderr",
     "output_type": "stream",
     "text": [
      "2022-10-22 23:11:35.423 | INFO     | __main__:get_meta_ads:55 - Last page reached. All done!\n"
     ]
    }
   ],
   "source": [
    "both_tables = []\n",
    "\n",
    "for split in party_id_splits:\n",
    "\n",
    "    chunks = get_meta_ads(\n",
    "        page_ids = split,\n",
    "        return_fields = return_fields,\n",
    "        access_token = META_TEMP_TOKEN\n",
    "    )\n",
    "\n",
    "    chunks_unpacked = [chunk['data'] for chunk in chunks]\n",
    "    df = json_responses2df(chunks_unpacked)\n",
    "\n",
    "    both_tables.append(df)"
   ]
  },
  {
   "cell_type": "code",
   "execution_count": 965,
   "id": "536d5d99-e9d4-44ba-833f-abe4f8ac1bd9",
   "metadata": {},
   "outputs": [],
   "source": [
    "party_ads = pd.concat(both_tables)"
   ]
  },
  {
   "cell_type": "code",
   "execution_count": 966,
   "id": "5aa8d4e4-ebb5-4daf-8f2a-4d04ceee30c3",
   "metadata": {},
   "outputs": [
    {
     "data": {
      "text/html": [
       "<div>\n",
       "<style scoped>\n",
       "    .dataframe tbody tr th:only-of-type {\n",
       "        vertical-align: middle;\n",
       "    }\n",
       "\n",
       "    .dataframe tbody tr th {\n",
       "        vertical-align: top;\n",
       "    }\n",
       "\n",
       "    .dataframe thead th {\n",
       "        text-align: right;\n",
       "    }\n",
       "</style>\n",
       "<table border=\"1\" class=\"dataframe\">\n",
       "  <thead>\n",
       "    <tr style=\"text-align: right;\">\n",
       "      <th></th>\n",
       "      <th>page_id</th>\n",
       "      <th>page_name</th>\n",
       "      <th>bylines</th>\n",
       "      <th>ad_creative_bodies</th>\n",
       "      <th>ad_delivery_start_time</th>\n",
       "      <th>ad_delivery_stop_time</th>\n",
       "      <th>ad_snapshot_url</th>\n",
       "      <th>demographic_distribution</th>\n",
       "      <th>delivery_by_region</th>\n",
       "      <th>estimated_audience_size</th>\n",
       "      <th>publisher_platforms</th>\n",
       "      <th>spend</th>\n",
       "      <th>currency</th>\n",
       "      <th>impressions</th>\n",
       "      <th>id</th>\n",
       "      <th>ad_creative_link_captions</th>\n",
       "      <th>ad_creative_link_titles</th>\n",
       "      <th>ad_creative_link_descriptions</th>\n",
       "    </tr>\n",
       "  </thead>\n",
       "  <tbody>\n",
       "    <tr>\n",
       "      <th>0</th>\n",
       "      <td>39233495912</td>\n",
       "      <td>Det Konservative Folkeparti</td>\n",
       "      <td>Det Konservative Folkeparti</td>\n",
       "      <td>[Vi skylder vores børn en grønnere verden! 💚\\n...</td>\n",
       "      <td>2022-10-12</td>\n",
       "      <td>2022-10-17</td>\n",
       "      <td>https://www.facebook.com/ads/archive/render_ad...</td>\n",
       "      <td>[{'percentage': '0.000113', 'age': '18-24', 'g...</td>\n",
       "      <td>[{'percentage': '0.25926', 'region': 'Central ...</td>\n",
       "      <td>{'lower_bound': '1000001'}</td>\n",
       "      <td>[facebook]</td>\n",
       "      <td>{'lower_bound': '5000', 'upper_bound': '5999'}</td>\n",
       "      <td>DKK</td>\n",
       "      <td>{'lower_bound': '150000', 'upper_bound': '1749...</td>\n",
       "      <td>612062180591821</td>\n",
       "      <td>NaN</td>\n",
       "      <td>NaN</td>\n",
       "      <td>NaN</td>\n",
       "    </tr>\n",
       "    <tr>\n",
       "      <th>1</th>\n",
       "      <td>39233495912</td>\n",
       "      <td>Det Konservative Folkeparti</td>\n",
       "      <td>Det Konservative Folkeparti</td>\n",
       "      <td>[Det her har vi diskuteret alt for længe 👇\\n\\n...</td>\n",
       "      <td>2022-10-07</td>\n",
       "      <td>2022-10-14</td>\n",
       "      <td>https://www.facebook.com/ads/archive/render_ad...</td>\n",
       "      <td>[{'percentage': '0.001011', 'age': '25-34', 'g...</td>\n",
       "      <td>[{'percentage': '0.241245', 'region': 'Central...</td>\n",
       "      <td>{'lower_bound': '500001', 'upper_bound': '1000...</td>\n",
       "      <td>[facebook]</td>\n",
       "      <td>{'lower_bound': '5000', 'upper_bound': '5999'}</td>\n",
       "      <td>DKK</td>\n",
       "      <td>{'lower_bound': '150000', 'upper_bound': '1749...</td>\n",
       "      <td>617047266824389</td>\n",
       "      <td>NaN</td>\n",
       "      <td>NaN</td>\n",
       "      <td>NaN</td>\n",
       "    </tr>\n",
       "    <tr>\n",
       "      <th>2</th>\n",
       "      <td>39233495912</td>\n",
       "      <td>Det Konservative Folkeparti</td>\n",
       "      <td>Det Konservative Folkeparti</td>\n",
       "      <td>[Vores ældre fortjener en værdig alderdom.\\n\\n...</td>\n",
       "      <td>2022-10-05</td>\n",
       "      <td>2022-10-14</td>\n",
       "      <td>https://www.facebook.com/ads/archive/render_ad...</td>\n",
       "      <td>[{'percentage': '0.003019', 'age': '65+', 'gen...</td>\n",
       "      <td>[{'percentage': '0.244393', 'region': 'Central...</td>\n",
       "      <td>{'lower_bound': '500001', 'upper_bound': '1000...</td>\n",
       "      <td>[facebook]</td>\n",
       "      <td>{'lower_bound': '500', 'upper_bound': '599'}</td>\n",
       "      <td>DKK</td>\n",
       "      <td>{'lower_bound': '25000', 'upper_bound': '29999'}</td>\n",
       "      <td>446322100749756</td>\n",
       "      <td>[konservative.dk]</td>\n",
       "      <td>[Du fortjener en værdig alderdom efter et lang...</td>\n",
       "      <td>NaN</td>\n",
       "    </tr>\n",
       "    <tr>\n",
       "      <th>3</th>\n",
       "      <td>39233495912</td>\n",
       "      <td>Det Konservative Folkeparti</td>\n",
       "      <td>Det Konservative Folkeparti</td>\n",
       "      <td>[Vores ældre fortjener en værdig alderdom.\\n\\n...</td>\n",
       "      <td>2022-10-05</td>\n",
       "      <td>2022-10-14</td>\n",
       "      <td>https://www.facebook.com/ads/archive/render_ad...</td>\n",
       "      <td>[{'percentage': '0.023848', 'age': '55-64', 'g...</td>\n",
       "      <td>[{'percentage': '0.25044', 'region': 'Central ...</td>\n",
       "      <td>{'lower_bound': '500001', 'upper_bound': '1000...</td>\n",
       "      <td>[facebook]</td>\n",
       "      <td>{'lower_bound': '400', 'upper_bound': '499'}</td>\n",
       "      <td>DKK</td>\n",
       "      <td>{'lower_bound': '20000', 'upper_bound': '24999'}</td>\n",
       "      <td>871921477117885</td>\n",
       "      <td>[konservative.dk]</td>\n",
       "      <td>[Du fortjener en værdig alderdom efter et lang...</td>\n",
       "      <td>NaN</td>\n",
       "    </tr>\n",
       "    <tr>\n",
       "      <th>4</th>\n",
       "      <td>39233495912</td>\n",
       "      <td>Det Konservative Folkeparti</td>\n",
       "      <td>Det Konservative Folkeparti</td>\n",
       "      <td>[Vores børn skal gå en røgfri fremtid i møde.\\...</td>\n",
       "      <td>2022-10-05</td>\n",
       "      <td>2022-10-14</td>\n",
       "      <td>https://www.facebook.com/ads/archive/render_ad...</td>\n",
       "      <td>[{'percentage': '0.004535', 'age': '65+', 'gen...</td>\n",
       "      <td>[{'percentage': '0.255952', 'region': 'Central...</td>\n",
       "      <td>{'lower_bound': '500001', 'upper_bound': '1000...</td>\n",
       "      <td>[facebook]</td>\n",
       "      <td>{'lower_bound': '0', 'upper_bound': '99'}</td>\n",
       "      <td>DKK</td>\n",
       "      <td>{'lower_bound': '1000', 'upper_bound': '1999'}</td>\n",
       "      <td>1119192425343430</td>\n",
       "      <td>[konservative.dk]</td>\n",
       "      <td>[Der findes ingen sygdomme i Danmark, som slår...</td>\n",
       "      <td>NaN</td>\n",
       "    </tr>\n",
       "    <tr>\n",
       "      <th>...</th>\n",
       "      <td>...</td>\n",
       "      <td>...</td>\n",
       "      <td>...</td>\n",
       "      <td>...</td>\n",
       "      <td>...</td>\n",
       "      <td>...</td>\n",
       "      <td>...</td>\n",
       "      <td>...</td>\n",
       "      <td>...</td>\n",
       "      <td>...</td>\n",
       "      <td>...</td>\n",
       "      <td>...</td>\n",
       "      <td>...</td>\n",
       "      <td>...</td>\n",
       "      <td>...</td>\n",
       "      <td>...</td>\n",
       "      <td>...</td>\n",
       "      <td>...</td>\n",
       "    </tr>\n",
       "    <tr>\n",
       "      <th>736</th>\n",
       "      <td>74796954245</td>\n",
       "      <td>SF</td>\n",
       "      <td>NaN</td>\n",
       "      <td>[Den danske natur er fantastisk! Men vi skal h...</td>\n",
       "      <td>2018-05-17</td>\n",
       "      <td>2018-05-23</td>\n",
       "      <td>https://www.facebook.com/ads/archive/render_ad...</td>\n",
       "      <td>[{'percentage': '0.002937', 'age': '18-24', 'g...</td>\n",
       "      <td>[{'percentage': '0.000528', 'region': 'Unknown...</td>\n",
       "      <td>NaN</td>\n",
       "      <td>NaN</td>\n",
       "      <td>{'lower_bound': '100', 'upper_bound': '199'}</td>\n",
       "      <td>DKK</td>\n",
       "      <td>{'lower_bound': '4000', 'upper_bound': '4999'}</td>\n",
       "      <td>366735390851431</td>\n",
       "      <td>NaN</td>\n",
       "      <td>NaN</td>\n",
       "      <td>NaN</td>\n",
       "    </tr>\n",
       "    <tr>\n",
       "      <th>737</th>\n",
       "      <td>74796954245</td>\n",
       "      <td>SF</td>\n",
       "      <td>NaN</td>\n",
       "      <td>[Den danske natur er fantastisk. Men vi skal h...</td>\n",
       "      <td>2018-05-17</td>\n",
       "      <td>2018-05-23</td>\n",
       "      <td>https://www.facebook.com/ads/archive/render_ad...</td>\n",
       "      <td>[{'percentage': '0.003027', 'age': '18-24', 'g...</td>\n",
       "      <td>[{'percentage': '0.000341', 'region': 'Unknown...</td>\n",
       "      <td>NaN</td>\n",
       "      <td>NaN</td>\n",
       "      <td>{'lower_bound': '200', 'upper_bound': '299'}</td>\n",
       "      <td>DKK</td>\n",
       "      <td>{'lower_bound': '3000', 'upper_bound': '3999'}</td>\n",
       "      <td>309108026436856</td>\n",
       "      <td>NaN</td>\n",
       "      <td>NaN</td>\n",
       "      <td>NaN</td>\n",
       "    </tr>\n",
       "    <tr>\n",
       "      <th>738</th>\n",
       "      <td>74796954245</td>\n",
       "      <td>SF</td>\n",
       "      <td>NaN</td>\n",
       "      <td>[Den danske natur er fantastisk! Men vi skal h...</td>\n",
       "      <td>2018-05-17</td>\n",
       "      <td>2018-05-23</td>\n",
       "      <td>https://www.facebook.com/ads/archive/render_ad...</td>\n",
       "      <td>[{'percentage': '0.051916', 'age': '18-24', 'g...</td>\n",
       "      <td>[{'percentage': '0.21201', 'region': 'Central ...</td>\n",
       "      <td>NaN</td>\n",
       "      <td>NaN</td>\n",
       "      <td>{'lower_bound': '0', 'upper_bound': '99'}</td>\n",
       "      <td>DKK</td>\n",
       "      <td>{'lower_bound': '0', 'upper_bound': '999'}</td>\n",
       "      <td>2097782130298398</td>\n",
       "      <td>NaN</td>\n",
       "      <td>NaN</td>\n",
       "      <td>NaN</td>\n",
       "    </tr>\n",
       "    <tr>\n",
       "      <th>739</th>\n",
       "      <td>74796954245</td>\n",
       "      <td>SF</td>\n",
       "      <td>NaN</td>\n",
       "      <td>[Den danske natur er fantastisk. Men vi skal h...</td>\n",
       "      <td>2018-05-17</td>\n",
       "      <td>2018-05-23</td>\n",
       "      <td>https://www.facebook.com/ads/archive/render_ad...</td>\n",
       "      <td>[{'percentage': '0.000985', 'age': '18-24', 'g...</td>\n",
       "      <td>[{'percentage': '0.294747', 'region': 'Central...</td>\n",
       "      <td>NaN</td>\n",
       "      <td>NaN</td>\n",
       "      <td>{'lower_bound': '200', 'upper_bound': '299'}</td>\n",
       "      <td>DKK</td>\n",
       "      <td>{'lower_bound': '5000', 'upper_bound': '5999'}</td>\n",
       "      <td>404462130101559</td>\n",
       "      <td>NaN</td>\n",
       "      <td>NaN</td>\n",
       "      <td>NaN</td>\n",
       "    </tr>\n",
       "    <tr>\n",
       "      <th>740</th>\n",
       "      <td>74796954245</td>\n",
       "      <td>SF</td>\n",
       "      <td>NaN</td>\n",
       "      <td>[Den danske natur er fantastisk! Men vi skal h...</td>\n",
       "      <td>2018-05-17</td>\n",
       "      <td>2018-05-23</td>\n",
       "      <td>https://www.facebook.com/ads/archive/render_ad...</td>\n",
       "      <td>[{'percentage': '0.042775', 'age': '18-24', 'g...</td>\n",
       "      <td>[{'percentage': '0.000572', 'region': 'Unknown...</td>\n",
       "      <td>NaN</td>\n",
       "      <td>NaN</td>\n",
       "      <td>{'lower_bound': '0', 'upper_bound': '99'}</td>\n",
       "      <td>DKK</td>\n",
       "      <td>{'lower_bound': '1000', 'upper_bound': '1999'}</td>\n",
       "      <td>2406528689392054</td>\n",
       "      <td>NaN</td>\n",
       "      <td>NaN</td>\n",
       "      <td>NaN</td>\n",
       "    </tr>\n",
       "  </tbody>\n",
       "</table>\n",
       "<p>10774 rows × 18 columns</p>\n",
       "</div>"
      ],
      "text/plain": [
       "         page_id                    page_name                      bylines  \\\n",
       "0    39233495912  Det Konservative Folkeparti  Det Konservative Folkeparti   \n",
       "1    39233495912  Det Konservative Folkeparti  Det Konservative Folkeparti   \n",
       "2    39233495912  Det Konservative Folkeparti  Det Konservative Folkeparti   \n",
       "3    39233495912  Det Konservative Folkeparti  Det Konservative Folkeparti   \n",
       "4    39233495912  Det Konservative Folkeparti  Det Konservative Folkeparti   \n",
       "..           ...                          ...                          ...   \n",
       "736  74796954245                           SF                          NaN   \n",
       "737  74796954245                           SF                          NaN   \n",
       "738  74796954245                           SF                          NaN   \n",
       "739  74796954245                           SF                          NaN   \n",
       "740  74796954245                           SF                          NaN   \n",
       "\n",
       "                                    ad_creative_bodies ad_delivery_start_time  \\\n",
       "0    [Vi skylder vores børn en grønnere verden! 💚\\n...             2022-10-12   \n",
       "1    [Det her har vi diskuteret alt for længe 👇\\n\\n...             2022-10-07   \n",
       "2    [Vores ældre fortjener en værdig alderdom.\\n\\n...             2022-10-05   \n",
       "3    [Vores ældre fortjener en værdig alderdom.\\n\\n...             2022-10-05   \n",
       "4    [Vores børn skal gå en røgfri fremtid i møde.\\...             2022-10-05   \n",
       "..                                                 ...                    ...   \n",
       "736  [Den danske natur er fantastisk! Men vi skal h...             2018-05-17   \n",
       "737  [Den danske natur er fantastisk. Men vi skal h...             2018-05-17   \n",
       "738  [Den danske natur er fantastisk! Men vi skal h...             2018-05-17   \n",
       "739  [Den danske natur er fantastisk. Men vi skal h...             2018-05-17   \n",
       "740  [Den danske natur er fantastisk! Men vi skal h...             2018-05-17   \n",
       "\n",
       "    ad_delivery_stop_time                                    ad_snapshot_url  \\\n",
       "0              2022-10-17  https://www.facebook.com/ads/archive/render_ad...   \n",
       "1              2022-10-14  https://www.facebook.com/ads/archive/render_ad...   \n",
       "2              2022-10-14  https://www.facebook.com/ads/archive/render_ad...   \n",
       "3              2022-10-14  https://www.facebook.com/ads/archive/render_ad...   \n",
       "4              2022-10-14  https://www.facebook.com/ads/archive/render_ad...   \n",
       "..                    ...                                                ...   \n",
       "736            2018-05-23  https://www.facebook.com/ads/archive/render_ad...   \n",
       "737            2018-05-23  https://www.facebook.com/ads/archive/render_ad...   \n",
       "738            2018-05-23  https://www.facebook.com/ads/archive/render_ad...   \n",
       "739            2018-05-23  https://www.facebook.com/ads/archive/render_ad...   \n",
       "740            2018-05-23  https://www.facebook.com/ads/archive/render_ad...   \n",
       "\n",
       "                              demographic_distribution  \\\n",
       "0    [{'percentage': '0.000113', 'age': '18-24', 'g...   \n",
       "1    [{'percentage': '0.001011', 'age': '25-34', 'g...   \n",
       "2    [{'percentage': '0.003019', 'age': '65+', 'gen...   \n",
       "3    [{'percentage': '0.023848', 'age': '55-64', 'g...   \n",
       "4    [{'percentage': '0.004535', 'age': '65+', 'gen...   \n",
       "..                                                 ...   \n",
       "736  [{'percentage': '0.002937', 'age': '18-24', 'g...   \n",
       "737  [{'percentage': '0.003027', 'age': '18-24', 'g...   \n",
       "738  [{'percentage': '0.051916', 'age': '18-24', 'g...   \n",
       "739  [{'percentage': '0.000985', 'age': '18-24', 'g...   \n",
       "740  [{'percentage': '0.042775', 'age': '18-24', 'g...   \n",
       "\n",
       "                                    delivery_by_region  \\\n",
       "0    [{'percentage': '0.25926', 'region': 'Central ...   \n",
       "1    [{'percentage': '0.241245', 'region': 'Central...   \n",
       "2    [{'percentage': '0.244393', 'region': 'Central...   \n",
       "3    [{'percentage': '0.25044', 'region': 'Central ...   \n",
       "4    [{'percentage': '0.255952', 'region': 'Central...   \n",
       "..                                                 ...   \n",
       "736  [{'percentage': '0.000528', 'region': 'Unknown...   \n",
       "737  [{'percentage': '0.000341', 'region': 'Unknown...   \n",
       "738  [{'percentage': '0.21201', 'region': 'Central ...   \n",
       "739  [{'percentage': '0.294747', 'region': 'Central...   \n",
       "740  [{'percentage': '0.000572', 'region': 'Unknown...   \n",
       "\n",
       "                               estimated_audience_size publisher_platforms  \\\n",
       "0                           {'lower_bound': '1000001'}          [facebook]   \n",
       "1    {'lower_bound': '500001', 'upper_bound': '1000...          [facebook]   \n",
       "2    {'lower_bound': '500001', 'upper_bound': '1000...          [facebook]   \n",
       "3    {'lower_bound': '500001', 'upper_bound': '1000...          [facebook]   \n",
       "4    {'lower_bound': '500001', 'upper_bound': '1000...          [facebook]   \n",
       "..                                                 ...                 ...   \n",
       "736                                                NaN                 NaN   \n",
       "737                                                NaN                 NaN   \n",
       "738                                                NaN                 NaN   \n",
       "739                                                NaN                 NaN   \n",
       "740                                                NaN                 NaN   \n",
       "\n",
       "                                              spend currency  \\\n",
       "0    {'lower_bound': '5000', 'upper_bound': '5999'}      DKK   \n",
       "1    {'lower_bound': '5000', 'upper_bound': '5999'}      DKK   \n",
       "2      {'lower_bound': '500', 'upper_bound': '599'}      DKK   \n",
       "3      {'lower_bound': '400', 'upper_bound': '499'}      DKK   \n",
       "4         {'lower_bound': '0', 'upper_bound': '99'}      DKK   \n",
       "..                                              ...      ...   \n",
       "736    {'lower_bound': '100', 'upper_bound': '199'}      DKK   \n",
       "737    {'lower_bound': '200', 'upper_bound': '299'}      DKK   \n",
       "738       {'lower_bound': '0', 'upper_bound': '99'}      DKK   \n",
       "739    {'lower_bound': '200', 'upper_bound': '299'}      DKK   \n",
       "740       {'lower_bound': '0', 'upper_bound': '99'}      DKK   \n",
       "\n",
       "                                           impressions                id  \\\n",
       "0    {'lower_bound': '150000', 'upper_bound': '1749...   612062180591821   \n",
       "1    {'lower_bound': '150000', 'upper_bound': '1749...   617047266824389   \n",
       "2     {'lower_bound': '25000', 'upper_bound': '29999'}   446322100749756   \n",
       "3     {'lower_bound': '20000', 'upper_bound': '24999'}   871921477117885   \n",
       "4       {'lower_bound': '1000', 'upper_bound': '1999'}  1119192425343430   \n",
       "..                                                 ...               ...   \n",
       "736     {'lower_bound': '4000', 'upper_bound': '4999'}   366735390851431   \n",
       "737     {'lower_bound': '3000', 'upper_bound': '3999'}   309108026436856   \n",
       "738         {'lower_bound': '0', 'upper_bound': '999'}  2097782130298398   \n",
       "739     {'lower_bound': '5000', 'upper_bound': '5999'}   404462130101559   \n",
       "740     {'lower_bound': '1000', 'upper_bound': '1999'}  2406528689392054   \n",
       "\n",
       "    ad_creative_link_captions  \\\n",
       "0                         NaN   \n",
       "1                         NaN   \n",
       "2           [konservative.dk]   \n",
       "3           [konservative.dk]   \n",
       "4           [konservative.dk]   \n",
       "..                        ...   \n",
       "736                       NaN   \n",
       "737                       NaN   \n",
       "738                       NaN   \n",
       "739                       NaN   \n",
       "740                       NaN   \n",
       "\n",
       "                               ad_creative_link_titles  \\\n",
       "0                                                  NaN   \n",
       "1                                                  NaN   \n",
       "2    [Du fortjener en værdig alderdom efter et lang...   \n",
       "3    [Du fortjener en værdig alderdom efter et lang...   \n",
       "4    [Der findes ingen sygdomme i Danmark, som slår...   \n",
       "..                                                 ...   \n",
       "736                                                NaN   \n",
       "737                                                NaN   \n",
       "738                                                NaN   \n",
       "739                                                NaN   \n",
       "740                                                NaN   \n",
       "\n",
       "    ad_creative_link_descriptions  \n",
       "0                             NaN  \n",
       "1                             NaN  \n",
       "2                             NaN  \n",
       "3                             NaN  \n",
       "4                             NaN  \n",
       "..                            ...  \n",
       "736                           NaN  \n",
       "737                           NaN  \n",
       "738                           NaN  \n",
       "739                           NaN  \n",
       "740                           NaN  \n",
       "\n",
       "[10774 rows x 18 columns]"
      ]
     },
     "execution_count": 966,
     "metadata": {},
     "output_type": "execute_result"
    }
   ],
   "source": [
    "party_ads"
   ]
  },
  {
   "cell_type": "code",
   "execution_count": 850,
   "id": "dc0f7688-1baf-4ba9-9393-9c45ba07fb05",
   "metadata": {},
   "outputs": [],
   "source": [
    "ad_splits = []\n",
    "\n",
    "for i in range(0, 22+1):\n",
    "    \n",
    "    with open(f'data/raw/parliament/splits/split{i}.p', 'rb') as p:\n",
    "        \n",
    "        ad_split = pickle.load(p)\n",
    "        ad_splits.append(ad_split)"
   ]
  },
  {
   "cell_type": "code",
   "execution_count": 853,
   "id": "a00ffa89-3c59-4f84-8ade-91f2d53b1ee6",
   "metadata": {},
   "outputs": [],
   "source": [
    "politician_ads = pd.concat(ad_splits).reset_index(drop = True)"
   ]
  },
  {
   "cell_type": "code",
   "execution_count": 868,
   "id": "b946449d-19cf-4403-8dd5-5bab243f1c71",
   "metadata": {},
   "outputs": [
    {
     "data": {
      "text/plain": [
       "0         132364993978468\n",
       "1        1719764131664489\n",
       "2        1719764131664489\n",
       "3        1719764131664489\n",
       "4        1719764131664489\n",
       "               ...       \n",
       "15951     127344360615074\n",
       "15952     127344360615074\n",
       "15953     127344360615074\n",
       "15954     673183069445618\n",
       "15955     673183069445618\n",
       "Name: page_id, Length: 15956, dtype: object"
      ]
     },
     "execution_count": 868,
     "metadata": {},
     "output_type": "execute_result"
    }
   ],
   "source": [
    "mps['page_id'] = mps['page_id'].astype('Int64').astype(str)\n",
    "politician_ads['page_id'].astype(str)"
   ]
  },
  {
   "cell_type": "code",
   "execution_count": 881,
   "id": "663a968d-02c3-4ce1-acd8-0a63d6e963c4",
   "metadata": {},
   "outputs": [],
   "source": [
    "politician_ads_merged = politician_ads.merge(mps, on = 'page_id', how = 'left')"
   ]
  },
  {
   "cell_type": "code",
   "execution_count": 915,
   "id": "52f84d4a-b175-4c0e-b7c3-1e8d220e41f9",
   "metadata": {},
   "outputs": [
    {
     "data": {
      "text/plain": [
       "'https://www.facebook.com/ads/archive/render_ad/?id=312786937708736&access_token=EAB0JThpjjzABADZB590C8OiCR1DGXReMiztOZCJBoZCVuZA7yDKk3TEEqH86zL4zjEaiEl63nuJXJbJycdUH1dFTVU2S5otBsZA1ZBEO3q9ZBl0dj1BUYsEfezZAA0YWomq7EHGsjOk1Dkm7yeEr9cE2G0hbmYBAtHgNFeIddWIYlAZDZD'"
      ]
     },
     "execution_count": 915,
     "metadata": {},
     "output_type": "execute_result"
    }
   ],
   "source": [
    "politician_ads_merged.iloc[1695]['ad_snapshot_url']"
   ]
  },
  {
   "cell_type": "code",
   "execution_count": 997,
   "id": "5bc94697-72e2-4cf1-bab3-34c96908d47d",
   "metadata": {},
   "outputs": [],
   "source": [
    "with open(f'data/raw/parliament/splits/party_ads_v1.p', 'wb') as p:    \n",
    "    pickle.dump(party_ads, p)"
   ]
  },
  {
   "cell_type": "code",
   "execution_count": null,
   "id": "9e9ca619-5930-4735-ab2c-f33e50970b96",
   "metadata": {},
   "outputs": [],
   "source": []
  }
 ],
 "metadata": {
  "kernelspec": {
   "display_name": "Python 3 (ipykernel)",
   "language": "python",
   "name": "python3"
  },
  "language_info": {
   "codemirror_mode": {
    "name": "ipython",
    "version": 3
   },
   "file_extension": ".py",
   "mimetype": "text/x-python",
   "name": "python",
   "nbconvert_exporter": "python",
   "pygments_lexer": "ipython3",
   "version": "3.7.12"
  }
 },
 "nbformat": 4,
 "nbformat_minor": 5
}
