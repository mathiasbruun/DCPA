{
 "cells": [
  {
   "cell_type": "code",
   "execution_count": 90,
   "id": "dd7dc168-079f-4281-aea0-f4986750e012",
   "metadata": {},
   "outputs": [],
   "source": [
    "from utils.parliament_utils import *\n",
    "import numpy as np\n",
    "import pickle\n",
    "from tqdm.notebook import tqdm\n",
    "tqdm.pandas()"
   ]
  },
  {
   "cell_type": "markdown",
   "id": "b499a452-f4e4-462d-8e23-245f38f11f9c",
   "metadata": {},
   "source": [
    "## Collection"
   ]
  },
  {
   "cell_type": "code",
   "execution_count": 22,
   "id": "27c78a32-6053-489b-9f4c-ff2dae343632",
   "metadata": {},
   "outputs": [],
   "source": [
    "url = 'ftp://oda.ft.dk/ODAXML/Referat/samling'\n",
    "out_path = 'data/raw/parliament/legislative_sessions_dir.xml'\n",
    "save_xml_from_ftp(url, out_path)"
   ]
  },
  {
   "cell_type": "code",
   "execution_count": 23,
   "id": "7116c708-53bf-4f15-92ec-9b201e4628df",
   "metadata": {},
   "outputs": [],
   "source": [
    "with open(out_path, 'r') as f:\n",
    "    sessions_dir = f.readlines()"
   ]
  },
  {
   "cell_type": "code",
   "execution_count": 24,
   "id": "88d82fcf-f9d5-4335-8b61-95a447095855",
   "metadata": {},
   "outputs": [],
   "source": [
    "parliamentary_sessions = [line.replace('\\n', '').split('>          ')[-1] for line in sessions_dir]"
   ]
  },
  {
   "cell_type": "code",
   "execution_count": 25,
   "id": "dfa67a68-714b-45c7-82f5-ffe3928caf92",
   "metadata": {},
   "outputs": [
    {
     "data": {
      "text/plain": [
       "['20091',\n",
       " '20101',\n",
       " '20102',\n",
       " '20111',\n",
       " '20121',\n",
       " '20131',\n",
       " '20141',\n",
       " '20142',\n",
       " '20151',\n",
       " '20161',\n",
       " '20171',\n",
       " '20181',\n",
       " '20182',\n",
       " '20191',\n",
       " '20201',\n",
       " '20211',\n",
       " '20221']"
      ]
     },
     "execution_count": 25,
     "metadata": {},
     "output_type": "execute_result"
    }
   ],
   "source": [
    "parliamentary_sessions"
   ]
  },
  {
   "cell_type": "code",
   "execution_count": 26,
   "id": "1d22eb18-7e6d-4430-b37a-f1cffaa5d855",
   "metadata": {},
   "outputs": [
    {
     "data": {
      "application/vnd.jupyter.widget-view+json": {
       "model_id": "0f8dfd9f2806424c89fce3319fb02d27",
       "version_major": 2,
       "version_minor": 0
      },
      "text/plain": [
       "  0%|          | 0/17 [00:00<?, ?it/s]"
      ]
     },
     "metadata": {},
     "output_type": "display_data"
    }
   ],
   "source": [
    "filenames = list_meetings_in_sessions(parliamentary_sessions)"
   ]
  },
  {
   "cell_type": "code",
   "execution_count": 29,
   "id": "b60be396-af49-401c-8077-4eedc84cea7d",
   "metadata": {},
   "outputs": [
    {
     "data": {
      "text/plain": [
       "['data/raw/parliament/session_docs/session_20091.xml',\n",
       " 'data/raw/parliament/session_docs/session_20101.xml',\n",
       " 'data/raw/parliament/session_docs/session_20102.xml']"
      ]
     },
     "execution_count": 29,
     "metadata": {},
     "output_type": "execute_result"
    }
   ],
   "source": [
    "filenames[:3]"
   ]
  },
  {
   "cell_type": "code",
   "execution_count": 30,
   "id": "72e10355-b7b5-4e78-bece-221dcb5d0a81",
   "metadata": {},
   "outputs": [
    {
     "data": {
      "application/vnd.jupyter.widget-view+json": {
       "model_id": "6304f48c842a42f59bd38b96e5efda32",
       "version_major": 2,
       "version_minor": 0
      },
      "text/plain": [
       "  0%|          | 0/17 [00:00<?, ?it/s]"
      ]
     },
     "metadata": {},
     "output_type": "display_data"
    }
   ],
   "source": [
    "all_transcript_filenames = extract_transcript_filenames(filenames)"
   ]
  },
  {
   "cell_type": "code",
   "execution_count": 33,
   "id": "46779a3c-2301-4b92-9c73-c2b684179646",
   "metadata": {},
   "outputs": [
    {
     "data": {
      "text/plain": [
       "['20221_M1_helemoedet.xml',\n",
       " '20221_M2_helemoedet.xml',\n",
       " '20221_M3_helemoedet.xml']"
      ]
     },
     "execution_count": 33,
     "metadata": {},
     "output_type": "execute_result"
    }
   ],
   "source": [
    "all_transcript_filenames['20221']"
   ]
  },
  {
   "cell_type": "code",
   "execution_count": 34,
   "id": "a6cfaff7-a19f-44a6-b43b-68d4637675b4",
   "metadata": {},
   "outputs": [],
   "source": [
    "subset_list = [\n",
    "     '20211',\n",
    "     '20221',\n",
    "]"
   ]
  },
  {
   "cell_type": "code",
   "execution_count": 35,
   "id": "4a34a898-2a82-4f2d-8c4d-6e9809b29f1a",
   "metadata": {},
   "outputs": [],
   "source": [
    "subset_dict = {k: all_transcript_filenames[k] for k in subset_list}"
   ]
  },
  {
   "cell_type": "code",
   "execution_count": 37,
   "id": "50374eed-b3d3-4702-8312-f4aff5d580e6",
   "metadata": {},
   "outputs": [
    {
     "name": "stdout",
     "output_type": "stream",
     "text": [
      "\n",
      "Collecting transcripts from session 20211...\n"
     ]
    },
    {
     "data": {
      "application/vnd.jupyter.widget-view+json": {
       "model_id": "b0bae790e19d4e3b8f8bff31d553861e",
       "version_major": 2,
       "version_minor": 0
      },
      "text/plain": [
       "  0%|          | 0/135 [00:00<?, ?it/s]"
      ]
     },
     "metadata": {},
     "output_type": "display_data"
    },
    {
     "name": "stdout",
     "output_type": "stream",
     "text": [
      "\n",
      "Collecting transcripts from session 20221...\n"
     ]
    },
    {
     "data": {
      "application/vnd.jupyter.widget-view+json": {
       "model_id": "0d9d70ecbeca46ca84da7b84c51a76bf",
       "version_major": 2,
       "version_minor": 0
      },
      "text/plain": [
       "  0%|          | 0/3 [00:00<?, ?it/s]"
      ]
     },
     "metadata": {},
     "output_type": "display_data"
    }
   ],
   "source": [
    "save_transcripts_from_ftp(subset_dict)"
   ]
  },
  {
   "cell_type": "markdown",
   "id": "3791e8db-ca01-4cb2-b4c7-5fb1a862ec0d",
   "metadata": {},
   "source": [
    "## Parsing XML"
   ]
  },
  {
   "cell_type": "code",
   "execution_count": null,
   "id": "fd096222-15ed-421e-8872-5ca4fa5365b1",
   "metadata": {},
   "outputs": [],
   "source": [
    "xml_str = xml_to_str(xml_file)"
   ]
  },
  {
   "cell_type": "code",
   "execution_count": 30,
   "id": "c3aec36c-0fc9-4e67-a265-82181fb4bf47",
   "metadata": {},
   "outputs": [],
   "source": [
    "xml_dicts = xml_str_to_rows(xml_str)"
   ]
  },
  {
   "cell_type": "code",
   "execution_count": 43,
   "id": "6fc21306-464f-42ef-af77-32fe9e795318",
   "metadata": {},
   "outputs": [
    {
     "data": {
      "text/plain": [
       "'Jeg tager ordet, også, fordi vi, som der står i vores betænkningsbidrag, faktisk var lidt overraskede over, at man blander tingene sammen, for det synes vi man gør her. Vi er meget indstillet på at hjælpe, hvor vi kan, i forhold til ukrainerne. Vi er gået så vidt, at vi også stemmer for en særlov. Men vi var meget undrende, da det gik op for os – og i forhandlingen bagefter virkede det, som om også integrationsministeren var lidt overrasket over, at afghanere også kommer ind under den her ordning. Det er jo placeret i to ministerier, altså også i Beskæftigelsesministeriet, så måske har der ikke været en ordentlig koordinering imellem ministerierne. Derfor vil vi bede om, at forslaget bliver delt op, sådan at man kan stemme individuelt, og så vi kan give vores tilslutning til Ukraine, men ikke til de afghanske tolke.'"
      ]
     },
     "execution_count": 43,
     "metadata": {},
     "output_type": "execute_result"
    }
   ],
   "source": [
    "pd.DataFrame(xml_dicts)['text'][4]"
   ]
  },
  {
   "cell_type": "code",
   "execution_count": 39,
   "id": "9589dca5-258c-4f33-a1cd-0898e8b6b362",
   "metadata": {},
   "outputs": [
    {
     "data": {
      "application/vnd.jupyter.widget-view+json": {
       "model_id": "93b916a609f94eb0a14dcb3f3e9b486c",
       "version_major": 2,
       "version_minor": 0
      },
      "text/plain": [
       "  0%|          | 0/1505 [00:00<?, ?it/s]"
      ]
     },
     "metadata": {},
     "output_type": "display_data"
    },
    {
     "name": "stdout",
     "output_type": "stream",
     "text": [
      "Whoops, IsADirectoryError encountered in data/raw/parliament/xml_transcripts/.ipynb_checkpoints!\n"
     ]
    }
   ],
   "source": [
    "all_xml_to_df('data/raw/parliament/xml_transcripts', 'data/clean/parliament/transcripts_v3.csv')"
   ]
  },
  {
   "cell_type": "code",
   "execution_count": 67,
   "id": "76d6b928-d37f-4460-afd6-07da85c370db",
   "metadata": {},
   "outputs": [],
   "source": [
    "df_politicians = pd.read_csv('data/clean/parliament/transcripts_v3.csv')"
   ]
  },
  {
   "cell_type": "code",
   "execution_count": 68,
   "id": "96ba5218-8a37-48a9-b976-6079f81ddac8",
   "metadata": {},
   "outputs": [
    {
     "data": {
      "text/html": [
       "<div>\n",
       "<style scoped>\n",
       "    .dataframe tbody tr th:only-of-type {\n",
       "        vertical-align: middle;\n",
       "    }\n",
       "\n",
       "    .dataframe tbody tr th {\n",
       "        vertical-align: top;\n",
       "    }\n",
       "\n",
       "    .dataframe thead th {\n",
       "        text-align: right;\n",
       "    }\n",
       "</style>\n",
       "<table border=\"1\" class=\"dataframe\">\n",
       "  <thead>\n",
       "    <tr style=\"text-align: right;\">\n",
       "      <th></th>\n",
       "      <th>first_name</th>\n",
       "      <th>last_name</th>\n",
       "      <th>group_name</th>\n",
       "      <th>role</th>\n",
       "      <th>start_time</th>\n",
       "      <th>end_time</th>\n",
       "      <th>text</th>\n",
       "    </tr>\n",
       "  </thead>\n",
       "  <tbody>\n",
       "    <tr>\n",
       "      <th>0</th>\n",
       "      <td>Niels Helveg</td>\n",
       "      <td>Petersen</td>\n",
       "      <td>RV</td>\n",
       "      <td>aldersformanden</td>\n",
       "      <td>2009-10-06T12:00:32</td>\n",
       "      <td>2009-10-06T12:02:08</td>\n",
       "      <td>Mødet er åbnet. I henhold til grundloven er Fo...</td>\n",
       "    </tr>\n",
       "    <tr>\n",
       "      <th>1</th>\n",
       "      <td>Thor</td>\n",
       "      <td>Pedersen</td>\n",
       "      <td>V</td>\n",
       "      <td>formand</td>\n",
       "      <td>2009-10-06T12:02:08</td>\n",
       "      <td>2009-10-06T12:04:01</td>\n",
       "      <td>Jeg vil gerne takke for den tillid, som Tinget...</td>\n",
       "    </tr>\n",
       "    <tr>\n",
       "      <th>2</th>\n",
       "      <td>Lars Løkke</td>\n",
       "      <td>Rasmussen</td>\n",
       "      <td>NaN</td>\n",
       "      <td>minister</td>\n",
       "      <td>2009-10-06T12:04:01</td>\n",
       "      <td>2009-10-06T12:50:39</td>\n",
       "      <td>Danmark er et godt land at leve i. Vi har bygg...</td>\n",
       "    </tr>\n",
       "    <tr>\n",
       "      <th>3</th>\n",
       "      <td>Thor</td>\n",
       "      <td>Pedersen</td>\n",
       "      <td>V</td>\n",
       "      <td>formand</td>\n",
       "      <td>2009-10-06T12:50:39</td>\n",
       "      <td>2009-10-06T12:51:10</td>\n",
       "      <td>Tak til statsministeren. Jeg kan oplyse Folket...</td>\n",
       "    </tr>\n",
       "    <tr>\n",
       "      <th>4</th>\n",
       "      <td>MødeSlut</td>\n",
       "      <td>MødeSlut</td>\n",
       "      <td>MødeSlut</td>\n",
       "      <td>MødeSlut</td>\n",
       "      <td>2009-10-06T12:51:10</td>\n",
       "      <td>NaN</td>\n",
       "      <td>Mødet er hævet. (Kl. 12:51).</td>\n",
       "    </tr>\n",
       "    <tr>\n",
       "      <th>...</th>\n",
       "      <td>...</td>\n",
       "      <td>...</td>\n",
       "      <td>...</td>\n",
       "      <td>...</td>\n",
       "      <td>...</td>\n",
       "      <td>...</td>\n",
       "      <td>...</td>\n",
       "    </tr>\n",
       "    <tr>\n",
       "      <th>635791</th>\n",
       "      <td>Mette</td>\n",
       "      <td>Frederiksen</td>\n",
       "      <td>NaN</td>\n",
       "      <td>minister</td>\n",
       "      <td>2022-10-06T23:19:22</td>\n",
       "      <td>2022-10-06T23:19:57</td>\n",
       "      <td>Jeg er ikke i tvivl om, at vi har behov for at...</td>\n",
       "    </tr>\n",
       "    <tr>\n",
       "      <th>635792</th>\n",
       "      <td>Henrik Dam</td>\n",
       "      <td>Kristensen</td>\n",
       "      <td>S</td>\n",
       "      <td>formand</td>\n",
       "      <td>2022-10-06T23:19:57</td>\n",
       "      <td>2022-10-06T23:21:46</td>\n",
       "      <td>Nu skal statsministeren have fri. Det var det ...</td>\n",
       "    </tr>\n",
       "    <tr>\n",
       "      <th>635793</th>\n",
       "      <td>Henrik Dam</td>\n",
       "      <td>Kristensen</td>\n",
       "      <td>S</td>\n",
       "      <td>formand</td>\n",
       "      <td>2022-10-06T23:21:46</td>\n",
       "      <td>2022-10-06T23:22:30</td>\n",
       "      <td>Der stemmes først om forslag til vedtagelse nr...</td>\n",
       "    </tr>\n",
       "    <tr>\n",
       "      <th>635794</th>\n",
       "      <td>Henrik Dam</td>\n",
       "      <td>Kristensen</td>\n",
       "      <td>S</td>\n",
       "      <td>formand</td>\n",
       "      <td>2022-10-06T23:22:30</td>\n",
       "      <td>2022-10-06T23:22:50</td>\n",
       "      <td>Mødet er slut. God valgkamp.</td>\n",
       "    </tr>\n",
       "    <tr>\n",
       "      <th>635795</th>\n",
       "      <td>MødeSlut</td>\n",
       "      <td>MødeSlut</td>\n",
       "      <td>MødeSlut</td>\n",
       "      <td>MødeSlut</td>\n",
       "      <td>2022-10-06T23:22:50</td>\n",
       "      <td>NaN</td>\n",
       "      <td>Mødet er hævet. (Kl. 23:22).</td>\n",
       "    </tr>\n",
       "  </tbody>\n",
       "</table>\n",
       "<p>635796 rows × 7 columns</p>\n",
       "</div>"
      ],
      "text/plain": [
       "          first_name    last_name group_name             role  \\\n",
       "0       Niels Helveg     Petersen         RV  aldersformanden   \n",
       "1               Thor     Pedersen          V          formand   \n",
       "2         Lars Løkke    Rasmussen        NaN         minister   \n",
       "3               Thor     Pedersen          V          formand   \n",
       "4           MødeSlut     MødeSlut   MødeSlut         MødeSlut   \n",
       "...              ...          ...        ...              ...   \n",
       "635791         Mette  Frederiksen        NaN         minister   \n",
       "635792    Henrik Dam   Kristensen          S          formand   \n",
       "635793    Henrik Dam   Kristensen          S          formand   \n",
       "635794    Henrik Dam   Kristensen          S          formand   \n",
       "635795      MødeSlut     MødeSlut   MødeSlut         MødeSlut   \n",
       "\n",
       "                 start_time             end_time  \\\n",
       "0       2009-10-06T12:00:32  2009-10-06T12:02:08   \n",
       "1       2009-10-06T12:02:08  2009-10-06T12:04:01   \n",
       "2       2009-10-06T12:04:01  2009-10-06T12:50:39   \n",
       "3       2009-10-06T12:50:39  2009-10-06T12:51:10   \n",
       "4       2009-10-06T12:51:10                  NaN   \n",
       "...                     ...                  ...   \n",
       "635791  2022-10-06T23:19:22  2022-10-06T23:19:57   \n",
       "635792  2022-10-06T23:19:57  2022-10-06T23:21:46   \n",
       "635793  2022-10-06T23:21:46  2022-10-06T23:22:30   \n",
       "635794  2022-10-06T23:22:30  2022-10-06T23:22:50   \n",
       "635795  2022-10-06T23:22:50                  NaN   \n",
       "\n",
       "                                                     text  \n",
       "0       Mødet er åbnet. I henhold til grundloven er Fo...  \n",
       "1       Jeg vil gerne takke for den tillid, som Tinget...  \n",
       "2       Danmark er et godt land at leve i. Vi har bygg...  \n",
       "3       Tak til statsministeren. Jeg kan oplyse Folket...  \n",
       "4                            Mødet er hævet. (Kl. 12:51).  \n",
       "...                                                   ...  \n",
       "635791  Jeg er ikke i tvivl om, at vi har behov for at...  \n",
       "635792  Nu skal statsministeren have fri. Det var det ...  \n",
       "635793  Der stemmes først om forslag til vedtagelse nr...  \n",
       "635794                       Mødet er slut. God valgkamp.  \n",
       "635795                       Mødet er hævet. (Kl. 23:22).  \n",
       "\n",
       "[635796 rows x 7 columns]"
      ]
     },
     "execution_count": 68,
     "metadata": {},
     "output_type": "execute_result"
    }
   ],
   "source": [
    "df_politicians"
   ]
  },
  {
   "cell_type": "code",
   "execution_count": 69,
   "id": "dbef9705-2b21-4697-9deb-8c23308a8331",
   "metadata": {},
   "outputs": [
    {
     "data": {
      "text/plain": [
       "2152"
      ]
     },
     "execution_count": 69,
     "metadata": {},
     "output_type": "execute_result"
    }
   ],
   "source": [
    "635796 - 633644"
   ]
  },
  {
   "cell_type": "code",
   "execution_count": 70,
   "id": "ea106d79-9c06-496d-a5de-80e291ae57ca",
   "metadata": {},
   "outputs": [],
   "source": [
    "pol_filtered = df_politicians.loc[\n",
    "    (df_politicians['first_name'] != 'MødeSlut') &\n",
    "    (df_politicians['role'] != 'Pause') &\n",
    "    (df_politicians['role'] != 'formand') &\n",
    "    (df_politicians['role'] != 'aldersformanden')\n",
    "].dropna(\n",
    "    subset=['first_name', 'last_name', 'group_name', 'role'], # these are questions that have been rescinded\n",
    "    how='all'\n",
    ").copy()"
   ]
  },
  {
   "cell_type": "code",
   "execution_count": 71,
   "id": "585a860a-c1f1-49f1-b097-a8327f6dccfb",
   "metadata": {},
   "outputs": [
    {
     "data": {
      "text/html": [
       "<div>\n",
       "<style scoped>\n",
       "    .dataframe tbody tr th:only-of-type {\n",
       "        vertical-align: middle;\n",
       "    }\n",
       "\n",
       "    .dataframe tbody tr th {\n",
       "        vertical-align: top;\n",
       "    }\n",
       "\n",
       "    .dataframe thead th {\n",
       "        text-align: right;\n",
       "    }\n",
       "</style>\n",
       "<table border=\"1\" class=\"dataframe\">\n",
       "  <thead>\n",
       "    <tr style=\"text-align: right;\">\n",
       "      <th></th>\n",
       "      <th>first_name</th>\n",
       "      <th>last_name</th>\n",
       "      <th>group_name</th>\n",
       "      <th>role</th>\n",
       "      <th>start_time</th>\n",
       "      <th>end_time</th>\n",
       "      <th>text</th>\n",
       "    </tr>\n",
       "  </thead>\n",
       "  <tbody>\n",
       "    <tr>\n",
       "      <th>2</th>\n",
       "      <td>Lars Løkke</td>\n",
       "      <td>Rasmussen</td>\n",
       "      <td>NaN</td>\n",
       "      <td>minister</td>\n",
       "      <td>2009-10-06T12:04:01</td>\n",
       "      <td>2009-10-06T12:50:39</td>\n",
       "      <td>Danmark er et godt land at leve i. Vi har bygg...</td>\n",
       "    </tr>\n",
       "    <tr>\n",
       "      <th>8</th>\n",
       "      <td>Bjarne</td>\n",
       "      <td>Laustsen</td>\n",
       "      <td>S</td>\n",
       "      <td>medlem</td>\n",
       "      <td>2009-10-07T13:04:25</td>\n",
       "      <td>2009-10-07T13:06:31</td>\n",
       "      <td>Tak, hr. formand. Den sag, jeg vil bringe på b...</td>\n",
       "    </tr>\n",
       "    <tr>\n",
       "      <th>10</th>\n",
       "      <td>Eva Kjer</td>\n",
       "      <td>Hansen</td>\n",
       "      <td>NaN</td>\n",
       "      <td>minister</td>\n",
       "      <td>2009-10-07T13:06:41</td>\n",
       "      <td>2009-10-07T13:08:09</td>\n",
       "      <td>Jeg må starte med at rette hr. Bjarne Laustsen...</td>\n",
       "    </tr>\n",
       "    <tr>\n",
       "      <th>12</th>\n",
       "      <td>Bjarne</td>\n",
       "      <td>Laustsen</td>\n",
       "      <td>S</td>\n",
       "      <td>medlem</td>\n",
       "      <td>2009-10-07T13:08:10</td>\n",
       "      <td>2009-10-07T13:09:17</td>\n",
       "      <td>Tak. Der er ikke så meget nyt under solen, mås...</td>\n",
       "    </tr>\n",
       "    <tr>\n",
       "      <th>14</th>\n",
       "      <td>Eva Kjer</td>\n",
       "      <td>Hansen</td>\n",
       "      <td>NaN</td>\n",
       "      <td>minister</td>\n",
       "      <td>2009-10-07T13:09:19</td>\n",
       "      <td>2009-10-07T13:10:17</td>\n",
       "      <td>Jeg synes, at det sidste, der blev sagt fra hr...</td>\n",
       "    </tr>\n",
       "    <tr>\n",
       "      <th>...</th>\n",
       "      <td>...</td>\n",
       "      <td>...</td>\n",
       "      <td>...</td>\n",
       "      <td>...</td>\n",
       "      <td>...</td>\n",
       "      <td>...</td>\n",
       "      <td>...</td>\n",
       "    </tr>\n",
       "    <tr>\n",
       "      <th>635783</th>\n",
       "      <td>Mette</td>\n",
       "      <td>Frederiksen</td>\n",
       "      <td>NaN</td>\n",
       "      <td>minister</td>\n",
       "      <td>2022-10-06T23:16:13</td>\n",
       "      <td>2022-10-06T23:16:46</td>\n",
       "      <td>Vi er jo meget langt nede nu i noget materiale...</td>\n",
       "    </tr>\n",
       "    <tr>\n",
       "      <th>635785</th>\n",
       "      <td>Anne Valentina</td>\n",
       "      <td>Berthelsen</td>\n",
       "      <td>SF</td>\n",
       "      <td>medlem</td>\n",
       "      <td>2022-10-06T23:16:47</td>\n",
       "      <td>2022-10-06T23:17:56</td>\n",
       "      <td>Tak til statsministeren for talen og for samar...</td>\n",
       "    </tr>\n",
       "    <tr>\n",
       "      <th>635787</th>\n",
       "      <td>Mette</td>\n",
       "      <td>Frederiksen</td>\n",
       "      <td>NaN</td>\n",
       "      <td>minister</td>\n",
       "      <td>2022-10-06T23:17:57</td>\n",
       "      <td>2022-10-06T23:18:43</td>\n",
       "      <td>Altså, hvis vi både kigger på Østersøregionen ...</td>\n",
       "    </tr>\n",
       "    <tr>\n",
       "      <th>635789</th>\n",
       "      <td>Anne Valentina</td>\n",
       "      <td>Berthelsen</td>\n",
       "      <td>SF</td>\n",
       "      <td>medlem</td>\n",
       "      <td>2022-10-06T23:18:44</td>\n",
       "      <td>2022-10-06T23:19:20</td>\n",
       "      <td>Jo, men kunne man ikke forestille sig, at vi, ...</td>\n",
       "    </tr>\n",
       "    <tr>\n",
       "      <th>635791</th>\n",
       "      <td>Mette</td>\n",
       "      <td>Frederiksen</td>\n",
       "      <td>NaN</td>\n",
       "      <td>minister</td>\n",
       "      <td>2022-10-06T23:19:22</td>\n",
       "      <td>2022-10-06T23:19:57</td>\n",
       "      <td>Jeg er ikke i tvivl om, at vi har behov for at...</td>\n",
       "    </tr>\n",
       "  </tbody>\n",
       "</table>\n",
       "<p>302588 rows × 7 columns</p>\n",
       "</div>"
      ],
      "text/plain": [
       "            first_name    last_name group_name      role           start_time  \\\n",
       "2           Lars Løkke    Rasmussen        NaN  minister  2009-10-06T12:04:01   \n",
       "8               Bjarne     Laustsen          S    medlem  2009-10-07T13:04:25   \n",
       "10            Eva Kjer       Hansen        NaN  minister  2009-10-07T13:06:41   \n",
       "12              Bjarne     Laustsen          S    medlem  2009-10-07T13:08:10   \n",
       "14            Eva Kjer       Hansen        NaN  minister  2009-10-07T13:09:19   \n",
       "...                ...          ...        ...       ...                  ...   \n",
       "635783           Mette  Frederiksen        NaN  minister  2022-10-06T23:16:13   \n",
       "635785  Anne Valentina   Berthelsen         SF    medlem  2022-10-06T23:16:47   \n",
       "635787           Mette  Frederiksen        NaN  minister  2022-10-06T23:17:57   \n",
       "635789  Anne Valentina   Berthelsen         SF    medlem  2022-10-06T23:18:44   \n",
       "635791           Mette  Frederiksen        NaN  minister  2022-10-06T23:19:22   \n",
       "\n",
       "                   end_time                                               text  \n",
       "2       2009-10-06T12:50:39  Danmark er et godt land at leve i. Vi har bygg...  \n",
       "8       2009-10-07T13:06:31  Tak, hr. formand. Den sag, jeg vil bringe på b...  \n",
       "10      2009-10-07T13:08:09  Jeg må starte med at rette hr. Bjarne Laustsen...  \n",
       "12      2009-10-07T13:09:17  Tak. Der er ikke så meget nyt under solen, mås...  \n",
       "14      2009-10-07T13:10:17  Jeg synes, at det sidste, der blev sagt fra hr...  \n",
       "...                     ...                                                ...  \n",
       "635783  2022-10-06T23:16:46  Vi er jo meget langt nede nu i noget materiale...  \n",
       "635785  2022-10-06T23:17:56  Tak til statsministeren for talen og for samar...  \n",
       "635787  2022-10-06T23:18:43  Altså, hvis vi både kigger på Østersøregionen ...  \n",
       "635789  2022-10-06T23:19:20  Jo, men kunne man ikke forestille sig, at vi, ...  \n",
       "635791  2022-10-06T23:19:57  Jeg er ikke i tvivl om, at vi har behov for at...  \n",
       "\n",
       "[302588 rows x 7 columns]"
      ]
     },
     "execution_count": 71,
     "metadata": {},
     "output_type": "execute_result"
    }
   ],
   "source": [
    "pol_filtered"
   ]
  },
  {
   "cell_type": "code",
   "execution_count": 72,
   "id": "d96a8dde-87c7-48fd-ab9d-ef7de64d8cc4",
   "metadata": {},
   "outputs": [],
   "source": [
    "# Create full name from first + last name\n",
    "pol_filtered['full_name'] = pol_filtered['first_name'] + ' ' + pol_filtered['last_name']"
   ]
  },
  {
   "cell_type": "code",
   "execution_count": 73,
   "id": "ec5790cc-d3ec-48da-9669-25286831899e",
   "metadata": {},
   "outputs": [
    {
     "data": {
      "text/plain": [
       "Ole Birk Olesen          4071\n",
       "Finn Sørensen            3359\n",
       "Mette Frederiksen        3325\n",
       "Christian Juhl           3270\n",
       "Inger Støjberg           3035\n",
       "                         ... \n",
       "Jens Arne Hedegaard         1\n",
       "Niels Høiby                 1\n",
       "Peder Christensen           1\n",
       "Sisse Marie Welling         1\n",
       "Anders G. Christensen       1\n",
       "Name: full_name, Length: 484, dtype: int64"
      ]
     },
     "execution_count": 73,
     "metadata": {},
     "output_type": "execute_result"
    }
   ],
   "source": [
    "pol_filtered['full_name'].value_counts(dropna = False)"
   ]
  },
  {
   "cell_type": "code",
   "execution_count": 74,
   "id": "3d339660-bcb6-4b3c-9e39-fe89aafc0db1",
   "metadata": {},
   "outputs": [
    {
     "data": {
      "text/plain": [
       "Mette Frederiksen           2736\n",
       "Inger Støjberg              2348\n",
       "Morten Bødskov              1900\n",
       "Nick Hækkerup               1771\n",
       "Lars Løkke Rasmussen        1726\n",
       "                            ... \n",
       "Christian Rabjerg Madsen      54\n",
       "Jonas Dahl                    35\n",
       "Søren Gade                    33\n",
       "Kaare Dybvad                  32\n",
       "Connie Hedegaard              23\n",
       "Name: full_name, Length: 98, dtype: int64"
      ]
     },
     "execution_count": 74,
     "metadata": {},
     "output_type": "execute_result"
    }
   ],
   "source": [
    "pol_filtered.loc[pol_filtered.isna().any(axis=1), 'full_name'].value_counts()"
   ]
  },
  {
   "cell_type": "code",
   "execution_count": 75,
   "id": "7865d36f-3360-48a2-aef6-f10fb0c1f8c1",
   "metadata": {},
   "outputs": [],
   "source": [
    "# It would seem that we have to impute party affiliation for ministers and other special cases,\n",
    "# since title is included instead of party info when, for instance, the speaker is Minister of X.\n",
    "#\n",
    "# Since a given cabinet may consist of more than one party, the most fail-safe procedure seems to\n",
    "# be imputing current party membership by locating the most recent extant record of membership\n",
    "# prior to appointment as minister."
   ]
  },
  {
   "cell_type": "code",
   "execution_count": 76,
   "id": "257adb03-a5e2-4346-a5e5-120901c8292d",
   "metadata": {},
   "outputs": [],
   "source": [
    "def impute_party_membership(df, politician_list):\n",
    "    '''\n",
    "    TODO...\n",
    "    '''\n",
    "    \n",
    "    new_df = df.copy()\n",
    "    \n",
    "    for politician in tqdm(politician_list):\n",
    "        \n",
    "        # Get party affiliation (potentially multiple parties)\n",
    "        party_affiliations = new_df.loc[\n",
    "            (new_df['full_name'] == politician) &\n",
    "            new_df['group_name'].notna(),\n",
    "            'group_name'\n",
    "        ].drop_duplicates().tolist()\n",
    "        \n",
    "        try:\n",
    "            (party_imputation,) = party_affiliations # unpack party list if it only contains 1 element\n",
    "\n",
    "        except ValueError:\n",
    "            party_imputation = ','.join(party_affiliations) # return entire list as str, if more than one membership\n",
    "            print(f'{politician} has been a member of multiple parties,\\nor party affiliation could not be determined: {party_imputation}.\\n')\n",
    "\n",
    "        # Write party membership where missing\n",
    "        new_df.loc[\n",
    "            (new_df['full_name'] == politician) &\n",
    "            new_df['group_name'].isna(),\n",
    "            ['group_name']\n",
    "        ] = party_imputation\n",
    "    \n",
    "    return new_df"
   ]
  },
  {
   "cell_type": "code",
   "execution_count": 77,
   "id": "8e2af68a-7d12-4cad-8f15-17d2afcab690",
   "metadata": {},
   "outputs": [],
   "source": [
    "unknown_party_politicians = (\n",
    "    pol_filtered\n",
    "        .loc[pol_filtered['group_name'].isna(), 'full_name']\n",
    "        .drop_duplicates()\n",
    "        .tolist()\n",
    ")"
   ]
  },
  {
   "cell_type": "code",
   "execution_count": 81,
   "id": "c12f8c58-031f-472c-9446-d59a6f7b100a",
   "metadata": {},
   "outputs": [
    {
     "data": {
      "text/plain": [
       "['Lars Løkke Rasmussen',\n",
       " 'Eva Kjer Hansen',\n",
       " 'Claus Hjort Frederiksen',\n",
       " 'Troels Lund Poulsen',\n",
       " 'Karen Ellemann']"
      ]
     },
     "execution_count": 81,
     "metadata": {},
     "output_type": "execute_result"
    }
   ],
   "source": [
    "unknown_party_politicians[:5]"
   ]
  },
  {
   "cell_type": "code",
   "execution_count": 82,
   "id": "511fd4ae-413b-454e-bc64-af59401b027d",
   "metadata": {},
   "outputs": [
    {
     "data": {
      "application/vnd.jupyter.widget-view+json": {
       "model_id": "26d09d62e1434f9b89ebed34d4f2f064",
       "version_major": 2,
       "version_minor": 0
      },
      "text/plain": [
       "  0%|          | 0/98 [00:00<?, ?it/s]"
      ]
     },
     "metadata": {},
     "output_type": "display_data"
    },
    {
     "name": "stdout",
     "output_type": "stream",
     "text": [
      "Lars Løkke Rasmussen has been a member of multiple parties,\n",
      "or party affiliation could not be determined: V,UFG,M.\n",
      "\n",
      "Inger Støjberg has been a member of multiple parties,\n",
      "or party affiliation could not be determined: V,UFG.\n",
      "\n",
      "Connie Hedegaard has been a member of multiple parties,\n",
      "or party affiliation could not be determined: .\n",
      "\n",
      "Charlotte Sahl-Madsen has been a member of multiple parties,\n",
      "or party affiliation could not be determined: .\n",
      "\n",
      "Thor Möger Pedersen has been a member of multiple parties,\n",
      "or party affiliation could not be determined: .\n",
      "\n",
      "Astrid Krag has been a member of multiple parties,\n",
      "or party affiliation could not be determined: SF,S.\n",
      "\n",
      "Uffe Elbæk has been a member of multiple parties,\n",
      "or party affiliation could not be determined: RV,UFG,ALT,FG.\n",
      "\n",
      "Ida Auken has been a member of multiple parties,\n",
      "or party affiliation could not be determined: SF,RV,S.\n",
      "\n",
      "Jørn Neergaard Larsen has been a member of multiple parties,\n",
      "or party affiliation could not be determined: .\n",
      "\n",
      "Simon Emil Ammitzbøll-Bille has been a member of multiple parties,\n",
      "or party affiliation could not be determined: LA,UFG.\n",
      "\n",
      "Peter Hummelgaard has been a member of multiple parties,\n",
      "or party affiliation could not be determined: .\n",
      "\n",
      "Kaare Dybvad Bek has been a member of multiple parties,\n",
      "or party affiliation could not be determined: .\n",
      "\n",
      "Joy Mogensen has been a member of multiple parties,\n",
      "or party affiliation could not be determined: .\n",
      "\n",
      "Jesper Petersen has been a member of multiple parties,\n",
      "or party affiliation could not be determined: SF,S.\n",
      "\n"
     ]
    }
   ],
   "source": [
    "pol_imputed = impute_party_membership(pol_filtered, unknown_party_politicians)"
   ]
  },
  {
   "cell_type": "code",
   "execution_count": 83,
   "id": "58cd9559-1ca5-402a-85cc-083610505628",
   "metadata": {},
   "outputs": [
    {
     "data": {
      "text/plain": [
       "['Connie Hedegaard',\n",
       " 'Charlotte Sahl-Madsen',\n",
       " 'Thor Möger Pedersen',\n",
       " 'Jørn Neergaard Larsen',\n",
       " 'Peter Hummelgaard',\n",
       " 'Kaare Dybvad Bek',\n",
       " 'Joy Mogensen']"
      ]
     },
     "execution_count": 83,
     "metadata": {},
     "output_type": "execute_result"
    }
   ],
   "source": [
    "(\n",
    "    pol_imputed\n",
    "        .loc[pol_imputed['group_name'] == '', 'full_name']\n",
    "        .drop_duplicates()\n",
    "        .tolist()\n",
    ")"
   ]
  },
  {
   "cell_type": "code",
   "execution_count": 84,
   "id": "c224a3a9-7aa5-430f-8856-857cb03f72ce",
   "metadata": {},
   "outputs": [],
   "source": [
    "manual_party_map = {\n",
    "    'Connie Hedegaard': 'KF',\n",
    "    'Charlotte Sahl-Madsen': 'KF',\n",
    "    'Thor Möger Pedersen': 'SF',\n",
    "    'Jørn Neergaard Larsen': 'V',\n",
    "    'Peter Hummelgaard': 'S',\n",
    "    'Kaare Dybvad Bek': 'S',\n",
    "    'Joy Mogensen': 'S'\n",
    "}"
   ]
  },
  {
   "cell_type": "code",
   "execution_count": 85,
   "id": "85880fdd-3093-4820-8699-4a2c761f5b86",
   "metadata": {},
   "outputs": [],
   "source": [
    "# Replace empty strings with NaN\n",
    "pol_imputed['group_name'] = pol_imputed['group_name'].replace('', np.nan)\n",
    "\n",
    "# Fillna using manual map\n",
    "pol_imputed['group_name'] = pol_imputed['group_name'].fillna(pol_imputed['full_name'].map(manual_party_map))"
   ]
  },
  {
   "cell_type": "code",
   "execution_count": 86,
   "id": "cc559321-87f8-43b8-9f73-3dd730771171",
   "metadata": {},
   "outputs": [
    {
     "data": {
      "application/vnd.jupyter.widget-view+json": {
       "model_id": "5d6ee737d1a344eb9dd53133e7a70d70",
       "version_major": 2,
       "version_minor": 0
      },
      "text/plain": [
       "  0%|          | 0/302588 [00:00<?, ?it/s]"
      ]
     },
     "metadata": {},
     "output_type": "display_data"
    }
   ],
   "source": [
    "pol_imputed['year'] = pol_imputed['start_time'].str.extract(r'(\\d\\d\\d\\d)').astype(int)\n",
    "pol_imputed['day'] = pol_imputed['start_time'].str.extract(r'\\d\\d\\d\\d-(\\d\\d-\\d\\d)T\\d\\d:\\d\\d:\\d\\d')\n",
    "pol_imputed['time'] = pol_imputed['start_time'].str.extract(r'\\d\\d\\d\\d-\\d\\d-\\d\\dT(\\d\\d:\\d\\d:\\d\\d)')\n",
    "pol_imputed['duration'] = pol_imputed.progress_apply(lambda row: parse_datetime(row['end_time']) - parse_datetime(row['start_time']), axis = 1)"
   ]
  },
  {
   "cell_type": "code",
   "execution_count": 87,
   "id": "2cdd90af-fce4-423b-8361-dc478fc8a566",
   "metadata": {},
   "outputs": [],
   "source": [
    "col_order = [\n",
    "    'first_name',\n",
    "    'last_name',\n",
    "    'full_name',\n",
    "    'group_name',\n",
    "    'role',\n",
    "    'text',\n",
    "    'year',\n",
    "    'day',\n",
    "    'time',\n",
    "    'start_time',\n",
    "    'end_time',\n",
    "    'duration'\n",
    "]"
   ]
  },
  {
   "cell_type": "code",
   "execution_count": 88,
   "id": "9be983c0-98a9-476c-8875-fb88b3c5cd73",
   "metadata": {},
   "outputs": [],
   "source": [
    "pol_final = pol_imputed.reset_index(drop = True)[col_order]"
   ]
  },
  {
   "cell_type": "code",
   "execution_count": 91,
   "id": "729306f7-9e17-4410-8249-6fe2617a44be",
   "metadata": {},
   "outputs": [],
   "source": [
    "#pol_final.to_pickle('data/clean/parliament/transcripts_imputed_v2.p')"
   ]
  },
  {
   "cell_type": "code",
   "execution_count": 92,
   "id": "22c37df7-4ce7-49ad-a399-d367b785aada",
   "metadata": {},
   "outputs": [],
   "source": [
    "with open('data/clean/parliament/transcripts_imputed_v2.p', 'rb') as p:\n",
    "    test = pickle.load(p)"
   ]
  },
  {
   "cell_type": "code",
   "execution_count": 93,
   "id": "ac12dd9b-145a-48d4-9e26-b839fc30f0b1",
   "metadata": {},
   "outputs": [
    {
     "data": {
      "text/plain": [
       "(113699, 12)"
      ]
     },
     "execution_count": 93,
     "metadata": {},
     "output_type": "execute_result"
    }
   ],
   "source": [
    "test.loc[test['year'] >= 2018].shape"
   ]
  },
  {
   "cell_type": "code",
   "execution_count": 94,
   "id": "a888e588-ada9-405a-8d80-8fc81c1b74d4",
   "metadata": {},
   "outputs": [
    {
     "data": {
      "text/plain": [
       "(302588, 12)"
      ]
     },
     "execution_count": 94,
     "metadata": {},
     "output_type": "execute_result"
    }
   ],
   "source": [
    "test.shape"
   ]
  },
  {
   "cell_type": "code",
   "execution_count": 96,
   "id": "8c32ce6e-7d44-4724-9c87-b0c370bcad6f",
   "metadata": {},
   "outputs": [
    {
     "data": {
      "text/html": [
       "<div>\n",
       "<style scoped>\n",
       "    .dataframe tbody tr th:only-of-type {\n",
       "        vertical-align: middle;\n",
       "    }\n",
       "\n",
       "    .dataframe tbody tr th {\n",
       "        vertical-align: top;\n",
       "    }\n",
       "\n",
       "    .dataframe thead th {\n",
       "        text-align: right;\n",
       "    }\n",
       "</style>\n",
       "<table border=\"1\" class=\"dataframe\">\n",
       "  <thead>\n",
       "    <tr style=\"text-align: right;\">\n",
       "      <th></th>\n",
       "      <th>first_name</th>\n",
       "      <th>last_name</th>\n",
       "      <th>full_name</th>\n",
       "      <th>group_name</th>\n",
       "      <th>role</th>\n",
       "      <th>text</th>\n",
       "      <th>year</th>\n",
       "      <th>day</th>\n",
       "      <th>time</th>\n",
       "      <th>start_time</th>\n",
       "      <th>end_time</th>\n",
       "      <th>duration</th>\n",
       "    </tr>\n",
       "  </thead>\n",
       "  <tbody>\n",
       "    <tr>\n",
       "      <th>286959</th>\n",
       "      <td>Troels</td>\n",
       "      <td>Ravn</td>\n",
       "      <td>Troels Ravn</td>\n",
       "      <td>S</td>\n",
       "      <td>medlem</td>\n",
       "      <td>Tak for ordet. I Socialdemokratiet er vi glade...</td>\n",
       "      <td>2022</td>\n",
       "      <td>01-11</td>\n",
       "      <td>13:02:59</td>\n",
       "      <td>2022-01-11T13:02:59</td>\n",
       "      <td>2022-01-11T13:04:35</td>\n",
       "      <td>0 days 00:01:36</td>\n",
       "    </tr>\n",
       "    <tr>\n",
       "      <th>286960</th>\n",
       "      <td>Louise Schack</td>\n",
       "      <td>Elholm</td>\n",
       "      <td>Louise Schack Elholm</td>\n",
       "      <td>V</td>\n",
       "      <td>medlem</td>\n",
       "      <td>Tak. Det her er det årlige lovforslag om at sæ...</td>\n",
       "      <td>2022</td>\n",
       "      <td>01-11</td>\n",
       "      <td>13:04:58</td>\n",
       "      <td>2022-01-11T13:04:58</td>\n",
       "      <td>2022-01-11T13:05:29</td>\n",
       "      <td>0 days 00:00:31</td>\n",
       "    </tr>\n",
       "    <tr>\n",
       "      <th>286961</th>\n",
       "      <td>Dennis</td>\n",
       "      <td>Flydtkjær</td>\n",
       "      <td>Dennis Flydtkjær</td>\n",
       "      <td>DF</td>\n",
       "      <td>medlem</td>\n",
       "      <td>Tak. Der er jo tit genfremsættelser af forslag...</td>\n",
       "      <td>2022</td>\n",
       "      <td>01-11</td>\n",
       "      <td>13:05:44</td>\n",
       "      <td>2022-01-11T13:05:44</td>\n",
       "      <td>2022-01-11T13:06:31</td>\n",
       "      <td>0 days 00:00:47</td>\n",
       "    </tr>\n",
       "    <tr>\n",
       "      <th>286962</th>\n",
       "      <td>Jan Bjergskov</td>\n",
       "      <td>Larsen</td>\n",
       "      <td>Jan Bjergskov Larsen</td>\n",
       "      <td>SF</td>\n",
       "      <td>medlem</td>\n",
       "      <td>Mange tak for ordet. Jeg er her som vikar for ...</td>\n",
       "      <td>2022</td>\n",
       "      <td>01-11</td>\n",
       "      <td>13:06:47</td>\n",
       "      <td>2022-01-11T13:06:47</td>\n",
       "      <td>2022-01-11T13:08:08</td>\n",
       "      <td>0 days 00:01:21</td>\n",
       "    </tr>\n",
       "    <tr>\n",
       "      <th>286963</th>\n",
       "      <td>Kathrine</td>\n",
       "      <td>Olldag</td>\n",
       "      <td>Kathrine Olldag</td>\n",
       "      <td>RV</td>\n",
       "      <td>medlem</td>\n",
       "      <td>Tusind tak, formand. Det skal også være en kor...</td>\n",
       "      <td>2022</td>\n",
       "      <td>01-11</td>\n",
       "      <td>13:08:23</td>\n",
       "      <td>2022-01-11T13:08:23</td>\n",
       "      <td>2022-01-11T13:08:52</td>\n",
       "      <td>0 days 00:00:29</td>\n",
       "    </tr>\n",
       "    <tr>\n",
       "      <th>...</th>\n",
       "      <td>...</td>\n",
       "      <td>...</td>\n",
       "      <td>...</td>\n",
       "      <td>...</td>\n",
       "      <td>...</td>\n",
       "      <td>...</td>\n",
       "      <td>...</td>\n",
       "      <td>...</td>\n",
       "      <td>...</td>\n",
       "      <td>...</td>\n",
       "      <td>...</td>\n",
       "      <td>...</td>\n",
       "    </tr>\n",
       "    <tr>\n",
       "      <th>302583</th>\n",
       "      <td>Mette</td>\n",
       "      <td>Frederiksen</td>\n",
       "      <td>Mette Frederiksen</td>\n",
       "      <td>S</td>\n",
       "      <td>minister</td>\n",
       "      <td>Vi er jo meget langt nede nu i noget materiale...</td>\n",
       "      <td>2022</td>\n",
       "      <td>10-06</td>\n",
       "      <td>23:16:13</td>\n",
       "      <td>2022-10-06T23:16:13</td>\n",
       "      <td>2022-10-06T23:16:46</td>\n",
       "      <td>0 days 00:00:33</td>\n",
       "    </tr>\n",
       "    <tr>\n",
       "      <th>302584</th>\n",
       "      <td>Anne Valentina</td>\n",
       "      <td>Berthelsen</td>\n",
       "      <td>Anne Valentina Berthelsen</td>\n",
       "      <td>SF</td>\n",
       "      <td>medlem</td>\n",
       "      <td>Tak til statsministeren for talen og for samar...</td>\n",
       "      <td>2022</td>\n",
       "      <td>10-06</td>\n",
       "      <td>23:16:47</td>\n",
       "      <td>2022-10-06T23:16:47</td>\n",
       "      <td>2022-10-06T23:17:56</td>\n",
       "      <td>0 days 00:01:09</td>\n",
       "    </tr>\n",
       "    <tr>\n",
       "      <th>302585</th>\n",
       "      <td>Mette</td>\n",
       "      <td>Frederiksen</td>\n",
       "      <td>Mette Frederiksen</td>\n",
       "      <td>S</td>\n",
       "      <td>minister</td>\n",
       "      <td>Altså, hvis vi både kigger på Østersøregionen ...</td>\n",
       "      <td>2022</td>\n",
       "      <td>10-06</td>\n",
       "      <td>23:17:57</td>\n",
       "      <td>2022-10-06T23:17:57</td>\n",
       "      <td>2022-10-06T23:18:43</td>\n",
       "      <td>0 days 00:00:46</td>\n",
       "    </tr>\n",
       "    <tr>\n",
       "      <th>302586</th>\n",
       "      <td>Anne Valentina</td>\n",
       "      <td>Berthelsen</td>\n",
       "      <td>Anne Valentina Berthelsen</td>\n",
       "      <td>SF</td>\n",
       "      <td>medlem</td>\n",
       "      <td>Jo, men kunne man ikke forestille sig, at vi, ...</td>\n",
       "      <td>2022</td>\n",
       "      <td>10-06</td>\n",
       "      <td>23:18:44</td>\n",
       "      <td>2022-10-06T23:18:44</td>\n",
       "      <td>2022-10-06T23:19:20</td>\n",
       "      <td>0 days 00:00:36</td>\n",
       "    </tr>\n",
       "    <tr>\n",
       "      <th>302587</th>\n",
       "      <td>Mette</td>\n",
       "      <td>Frederiksen</td>\n",
       "      <td>Mette Frederiksen</td>\n",
       "      <td>S</td>\n",
       "      <td>minister</td>\n",
       "      <td>Jeg er ikke i tvivl om, at vi har behov for at...</td>\n",
       "      <td>2022</td>\n",
       "      <td>10-06</td>\n",
       "      <td>23:19:22</td>\n",
       "      <td>2022-10-06T23:19:22</td>\n",
       "      <td>2022-10-06T23:19:57</td>\n",
       "      <td>0 days 00:00:35</td>\n",
       "    </tr>\n",
       "  </tbody>\n",
       "</table>\n",
       "<p>15629 rows × 12 columns</p>\n",
       "</div>"
      ],
      "text/plain": [
       "            first_name    last_name                  full_name group_name  \\\n",
       "286959          Troels         Ravn                Troels Ravn          S   \n",
       "286960   Louise Schack       Elholm       Louise Schack Elholm          V   \n",
       "286961          Dennis    Flydtkjær           Dennis Flydtkjær         DF   \n",
       "286962   Jan Bjergskov       Larsen       Jan Bjergskov Larsen         SF   \n",
       "286963        Kathrine       Olldag            Kathrine Olldag         RV   \n",
       "...                ...          ...                        ...        ...   \n",
       "302583           Mette  Frederiksen          Mette Frederiksen          S   \n",
       "302584  Anne Valentina   Berthelsen  Anne Valentina Berthelsen         SF   \n",
       "302585           Mette  Frederiksen          Mette Frederiksen          S   \n",
       "302586  Anne Valentina   Berthelsen  Anne Valentina Berthelsen         SF   \n",
       "302587           Mette  Frederiksen          Mette Frederiksen          S   \n",
       "\n",
       "            role                                               text  year  \\\n",
       "286959    medlem  Tak for ordet. I Socialdemokratiet er vi glade...  2022   \n",
       "286960    medlem  Tak. Det her er det årlige lovforslag om at sæ...  2022   \n",
       "286961    medlem  Tak. Der er jo tit genfremsættelser af forslag...  2022   \n",
       "286962    medlem  Mange tak for ordet. Jeg er her som vikar for ...  2022   \n",
       "286963    medlem  Tusind tak, formand. Det skal også være en kor...  2022   \n",
       "...          ...                                                ...   ...   \n",
       "302583  minister  Vi er jo meget langt nede nu i noget materiale...  2022   \n",
       "302584    medlem  Tak til statsministeren for talen og for samar...  2022   \n",
       "302585  minister  Altså, hvis vi både kigger på Østersøregionen ...  2022   \n",
       "302586    medlem  Jo, men kunne man ikke forestille sig, at vi, ...  2022   \n",
       "302587  minister  Jeg er ikke i tvivl om, at vi har behov for at...  2022   \n",
       "\n",
       "          day      time           start_time             end_time  \\\n",
       "286959  01-11  13:02:59  2022-01-11T13:02:59  2022-01-11T13:04:35   \n",
       "286960  01-11  13:04:58  2022-01-11T13:04:58  2022-01-11T13:05:29   \n",
       "286961  01-11  13:05:44  2022-01-11T13:05:44  2022-01-11T13:06:31   \n",
       "286962  01-11  13:06:47  2022-01-11T13:06:47  2022-01-11T13:08:08   \n",
       "286963  01-11  13:08:23  2022-01-11T13:08:23  2022-01-11T13:08:52   \n",
       "...       ...       ...                  ...                  ...   \n",
       "302583  10-06  23:16:13  2022-10-06T23:16:13  2022-10-06T23:16:46   \n",
       "302584  10-06  23:16:47  2022-10-06T23:16:47  2022-10-06T23:17:56   \n",
       "302585  10-06  23:17:57  2022-10-06T23:17:57  2022-10-06T23:18:43   \n",
       "302586  10-06  23:18:44  2022-10-06T23:18:44  2022-10-06T23:19:20   \n",
       "302587  10-06  23:19:22  2022-10-06T23:19:22  2022-10-06T23:19:57   \n",
       "\n",
       "              duration  \n",
       "286959 0 days 00:01:36  \n",
       "286960 0 days 00:00:31  \n",
       "286961 0 days 00:00:47  \n",
       "286962 0 days 00:01:21  \n",
       "286963 0 days 00:00:29  \n",
       "...                ...  \n",
       "302583 0 days 00:00:33  \n",
       "302584 0 days 00:01:09  \n",
       "302585 0 days 00:00:46  \n",
       "302586 0 days 00:00:36  \n",
       "302587 0 days 00:00:35  \n",
       "\n",
       "[15629 rows x 12 columns]"
      ]
     },
     "execution_count": 96,
     "metadata": {},
     "output_type": "execute_result"
    }
   ],
   "source": [
    "test.loc[test['year'] > 2021]"
   ]
  },
  {
   "cell_type": "code",
   "execution_count": null,
   "id": "71222fc3-6b50-4ca9-a52a-cd88c1f6741c",
   "metadata": {},
   "outputs": [],
   "source": []
  }
 ],
 "metadata": {
  "interpreter": {
   "hash": "df4b203bae24b8e546cac67fa1e5ed4e3ec7bcadeabf2e990fec7c51e0eb834e"
  },
  "kernelspec": {
   "display_name": "Python 3 (ipykernel)",
   "language": "python",
   "name": "python3"
  },
  "language_info": {
   "codemirror_mode": {
    "name": "ipython",
    "version": 3
   },
   "file_extension": ".py",
   "mimetype": "text/x-python",
   "name": "python",
   "nbconvert_exporter": "python",
   "pygments_lexer": "ipython3",
   "version": "3.7.12"
  }
 },
 "nbformat": 4,
 "nbformat_minor": 5
}
