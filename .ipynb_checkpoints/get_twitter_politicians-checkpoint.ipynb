{
 "cells": [
  {
   "cell_type": "code",
   "execution_count": 85,
   "id": "22f6563c-867c-420c-97fa-c7440047a91d",
   "metadata": {},
   "outputs": [],
   "source": [
    "import requests\n",
    "import numpy as np\n",
    "import pandas as pd\n",
    "from bs4 import BeautifulSoup\n",
    "import re"
   ]
  },
  {
   "cell_type": "code",
   "execution_count": 86,
   "id": "53749e37-d2c2-426c-a333-52e982e12d69",
   "metadata": {},
   "outputs": [],
   "source": [
    "url = 'https://filip.sdu.dk/twitter/politikere/'"
   ]
  },
  {
   "cell_type": "code",
   "execution_count": 87,
   "id": "a4edb532-e82d-4552-b3be-a4e9e3e9be04",
   "metadata": {},
   "outputs": [],
   "source": [
    "response = requests.get(url)\n",
    "soup = BeautifulSoup(page.text, 'html.parser')"
   ]
  },
  {
   "cell_type": "code",
   "execution_count": 88,
   "id": "58b22e3b-6c9b-4b38-8310-0d5bb2c4cd67",
   "metadata": {},
   "outputs": [],
   "source": [
    "links = soup.find_all('a')"
   ]
  },
  {
   "cell_type": "code",
   "execution_count": 89,
   "id": "6a7d76bd-a4e5-41b2-ad60-a1d5b6fe821d",
   "metadata": {},
   "outputs": [
    {
     "name": "stdout",
     "output_type": "stream",
     "text": [
      "No href found for <a id=\"overblik\"></a>\n"
     ]
    }
   ],
   "source": [
    "urls = []\n",
    "\n",
    "for link in links:\n",
    "    \n",
    "    try:\n",
    "        urls.append(link['href'])\n",
    "    \n",
    "    except KeyError:\n",
    "        print(f'No href found for {link}')"
   ]
  },
  {
   "cell_type": "code",
   "execution_count": 90,
   "id": "75305628-058e-4bae-80c3-614d03f6fd41",
   "metadata": {},
   "outputs": [],
   "source": [
    "twitter_url_regex = re.compile(r'https:\\/\\/twitter\\.com\\/[A-zæøå1-9]+')\n",
    "\n",
    "politician_urls = [url for url in urls if twitter_url_regex.match(url) and len(url) < 37]"
   ]
  },
  {
   "cell_type": "code",
   "execution_count": 91,
   "id": "7b326a74-6c32-48d7-be90-b6425065ca9b",
   "metadata": {},
   "outputs": [],
   "source": [
    "extract_username_regex = r'^https?:\\/\\/(?:www\\.)?twitter\\.com\\/(?:#!\\/)?@?([^\\/?#]*)(?:[?#].*)?$'\n",
    "\n",
    "usernames = list(set(re.split(extract_username_regex, url)[1] for url in politician_urls))"
   ]
  },
  {
   "cell_type": "code",
   "execution_count": null,
   "id": "b87855bb-0a25-413a-9d9b-152fdf1864f9",
   "metadata": {},
   "outputs": [],
   "source": [
    "len"
   ]
  }
 ],
 "metadata": {
  "kernelspec": {
   "display_name": "Python 3 (ipykernel)",
   "language": "python",
   "name": "python3"
  },
  "language_info": {
   "codemirror_mode": {
    "name": "ipython",
    "version": 3
   },
   "file_extension": ".py",
   "mimetype": "text/x-python",
   "name": "python",
   "nbconvert_exporter": "python",
   "pygments_lexer": "ipython3",
   "version": "3.7.12"
  }
 },
 "nbformat": 4,
 "nbformat_minor": 5
}
