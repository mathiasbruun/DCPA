{
 "cells": [
  {
   "cell_type": "code",
   "execution_count": 1,
   "id": "22f6563c-867c-420c-97fa-c7440047a91d",
   "metadata": {},
   "outputs": [],
   "source": [
    "from utils.twitter_utils import scrape_politician_handles"
   ]
  },
  {
   "cell_type": "code",
   "execution_count": 2,
   "id": "d6a2b66d-e0dc-452f-b412-9ec71f17f66c",
   "metadata": {},
   "outputs": [],
   "source": [
    "politician_url = 'https://web.archive.org/web/20220328101917/https://filip.sdu.dk/twitter/politikere/'"
   ]
  },
  {
   "cell_type": "code",
   "execution_count": 3,
   "id": "53749e37-d2c2-426c-a333-52e982e12d69",
   "metadata": {},
   "outputs": [
    {
     "name": "stdout",
     "output_type": "stream",
     "text": [
      "Link retrieval info: No href found for <a id=\"overblik\"></a>\n",
      "\n",
      "All done. 705 Twitter handles retrieved.\n",
      "\n",
      "Preview:\n",
      "Katrine133\n",
      "rasmussen_frost\n",
      "ChristianJuhl2\n",
      "TinaFrench71\n",
      "brittbager\n",
      "khoenge\n",
      "AnjaDaugaard\n",
      "JaneHeitmann\n",
      "SonjaMJensen\n",
      "Roerbak\n"
     ]
    }
   ],
   "source": [
    "usernames = scrape_politician_handles(politician_url)"
   ]
  },
  {
   "cell_type": "code",
   "execution_count": 10,
   "id": "e7433904-4a77-4272-a296-231cda43b931",
   "metadata": {},
   "outputs": [],
   "source": [
    "#with open('data/raw/twitter/twitter_handles_politicians.txt', 'w') as f:\n",
    "#    f.write('\\n'.join(usernames))"
   ]
  },
  {
   "cell_type": "code",
   "execution_count": null,
   "id": "3d307469-4cd7-4123-aeef-879fbe3fab5f",
   "metadata": {},
   "outputs": [],
   "source": []
  }
 ],
 "metadata": {
  "kernelspec": {
   "display_name": "Python 3 (ipykernel)",
   "language": "python",
   "name": "python3"
  },
  "language_info": {
   "codemirror_mode": {
    "name": "ipython",
    "version": 3
   },
   "file_extension": ".py",
   "mimetype": "text/x-python",
   "name": "python",
   "nbconvert_exporter": "python",
   "pygments_lexer": "ipython3",
   "version": "3.7.12"
  }
 },
 "nbformat": 4,
 "nbformat_minor": 5
}
