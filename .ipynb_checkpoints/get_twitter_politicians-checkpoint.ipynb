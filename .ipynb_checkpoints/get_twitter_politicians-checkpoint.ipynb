{
 "cells": [
  {
   "cell_type": "code",
   "execution_count": 1,
   "id": "22f6563c-867c-420c-97fa-c7440047a91d",
   "metadata": {},
   "outputs": [],
   "source": [
    "from utils.twitter_utils import scrape_politician_handles"
   ]
  },
  {
   "cell_type": "code",
   "execution_count": 2,
   "id": "d6a2b66d-e0dc-452f-b412-9ec71f17f66c",
   "metadata": {},
   "outputs": [],
   "source": [
    "politician_url = 'https://filip.sdu.dk/twitter/politikere/'"
   ]
  },
  {
   "cell_type": "code",
   "execution_count": 3,
   "id": "53749e37-d2c2-426c-a333-52e982e12d69",
   "metadata": {},
   "outputs": [
    {
     "name": "stdout",
     "output_type": "stream",
     "text": [
      "Link retrieval info: No href found for <a id=\"overblik\"></a>\n",
      "\n",
      "All done. 693 Twitter handles retrieved.\n",
      "\n",
      "Preview:\n",
      "EjsingKasper\n",
      "JtoOlsen\n",
      "AnneEbensgaard\n",
      "venstredk\n",
      "MortenDahlin\n",
      "mette_bjerre1\n",
      "else_kayser\n",
      "FlemmingDL\n",
      "LiselotteLyngeJ\n",
      "SonjaMJensen\n"
     ]
    }
   ],
   "source": [
    "usernames = scrape_politician_handles(politician_url)"
   ]
  },
  {
   "cell_type": "code",
   "execution_count": null,
   "id": "e7433904-4a77-4272-a296-231cda43b931",
   "metadata": {},
   "outputs": [],
   "source": []
  }
 ],
 "metadata": {
  "kernelspec": {
   "display_name": "Python 3 (ipykernel)",
   "language": "python",
   "name": "python3"
  },
  "language_info": {
   "codemirror_mode": {
    "name": "ipython",
    "version": 3
   },
   "file_extension": ".py",
   "mimetype": "text/x-python",
   "name": "python",
   "nbconvert_exporter": "python",
   "pygments_lexer": "ipython3",
   "version": "3.7.12"
  }
 },
 "nbformat": 4,
 "nbformat_minor": 5
}
