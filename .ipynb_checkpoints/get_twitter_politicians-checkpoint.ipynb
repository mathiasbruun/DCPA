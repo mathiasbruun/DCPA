{
 "cells": [
  {
   "cell_type": "markdown",
   "id": "f310939d-c1f0-4908-8a25-2c88ffae7d93",
   "metadata": {},
   "source": [
    "# Collection of politician tweets"
   ]
  },
  {
   "cell_type": "markdown",
   "id": "edc5db54-6a6d-4faa-8705-452d0f7e18ad",
   "metadata": {},
   "source": [
    "Documentation here."
   ]
  },
  {
   "cell_type": "markdown",
   "id": "45971f10-c79f-4df8-8f0b-0eeca6083387",
   "metadata": {},
   "source": [
    "___"
   ]
  },
  {
   "cell_type": "code",
   "execution_count": 1,
   "id": "22f6563c-867c-420c-97fa-c7440047a91d",
   "metadata": {},
   "outputs": [],
   "source": [
    "from utils.twitter_utils import (\n",
    "    scrape_politician_handles,\n",
    "    load_handles_from_txt,\n",
    "    collect_all_user_tweets,\n",
    "    construct_tweet_df,\n",
    "    get_new_user_tweets\n",
    ")"
   ]
  },
  {
   "cell_type": "code",
   "execution_count": 2,
   "id": "d6a2b66d-e0dc-452f-b412-9ec71f17f66c",
   "metadata": {},
   "outputs": [],
   "source": [
    "politician_url = 'https://web.archive.org/web/20220328101917/https://filip.sdu.dk/twitter/politikere/'"
   ]
  },
  {
   "cell_type": "code",
   "execution_count": 3,
   "id": "53749e37-d2c2-426c-a333-52e982e12d69",
   "metadata": {},
   "outputs": [
    {
     "name": "stderr",
     "output_type": "stream",
     "text": [
      "2022-09-18 16:24:03.469 | INFO     | utils.twitter_utils:scrape_politician_handles:31 - Scraping twitter handles...\n",
      "2022-09-18 16:24:11.883 | DEBUG    | utils.twitter_utils:scrape_politician_handles:46 - Link retrieval info: No href found for <a id=\"overblik\"></a>\n",
      "2022-09-18 16:24:11.887 | INFO     | utils.twitter_utils:scrape_politician_handles:54 - All done. 705 Twitter handles retrieved.\n"
     ]
    }
   ],
   "source": [
    "usernames = scrape_politician_handles(politician_url)"
   ]
  },
  {
   "cell_type": "code",
   "execution_count": 10,
   "id": "e7433904-4a77-4272-a296-231cda43b931",
   "metadata": {},
   "outputs": [],
   "source": [
    "#with open('data/raw/twitter/twitter_handles_politicians.txt', 'w') as f:\n",
    "#    f.write('\\n'.join(usernames))"
   ]
  },
  {
   "cell_type": "code",
   "execution_count": 6,
   "id": "3d307469-4cd7-4123-aeef-879fbe3fab5f",
   "metadata": {},
   "outputs": [],
   "source": [
    "party_handles = [\n",
    "    'KonservativeDK',\n",
    "    'KU_DK',\n",
    "    'radikale',\n",
    "    'radiaklungdom',\n",
    "    'LibaralAlliance',\n",
    "    'LiberalUngdomDK',\n",
    "    'SFpolitik',\n",
    "    'SF_Ungdom',\n",
    "    'Enhedslisten',\n",
    "    'sufnet',\n",
    "    'venstredk',\n",
    "    'VUngdom',\n",
    "    'Spolitik',\n",
    "    'DSU_1920',\n",
    "    'DanskDf1995',\n",
    "    'DFUngdom',\n",
    "    'alternativet_',\n",
    "    'AlternativeUnge',\n",
    "    'NyeBorgerlige',\n",
    "    'gronalliance',\n",
    "    'KDpolitik',\n",
    "    'moderaterne_dk',\n",
    "    'friegronne'\n",
    "]"
   ]
  },
  {
   "cell_type": "code",
   "execution_count": 26,
   "id": "af602f36-e02a-43d3-8845-1165eac8965a",
   "metadata": {},
   "outputs": [],
   "source": [
    "#with open('data/raw/twitter/twitter_handles_politicians.txt', 'r+') as f:\n",
    "#    current_handles = f.read().split('\\n')\n",
    "#    handles_to_append = [handle for handle in party_handles if handle not in current_handles]\n",
    "#    \n",
    "#    all_handles = current_handles + handles_to_append\n",
    "#    \n",
    "#    f.seek(0)\n",
    "#    f.write('\\n'.join(all_handles))"
   ]
  },
  {
   "cell_type": "markdown",
   "id": "cacf7cf4-549c-4716-9a78-972f200e7470",
   "metadata": {},
   "source": [
    "___"
   ]
  },
  {
   "cell_type": "code",
   "execution_count": 3,
   "id": "06cea921-f4d8-4176-aebb-61003310efdb",
   "metadata": {},
   "outputs": [],
   "source": [
    "politician_handles = load_handles_from_txt('data/raw/twitter/twitter_handles_politicians.txt')"
   ]
  },
  {
   "cell_type": "code",
   "execution_count": 4,
   "id": "e8bacab1-83e5-4fc6-b802-759b5cb6f5e5",
   "metadata": {},
   "outputs": [
    {
     "name": "stderr",
     "output_type": "stream",
     "text": [
      "2022-09-18 16:30:48.677 | INFO     | utils.twitter_utils:collect_all_user_tweets:95 - Beginning collection...\n"
     ]
    },
    {
     "data": {
      "application/vnd.jupyter.widget-view+json": {
       "model_id": "87744eabf7cc40a996dbeaf17a840ff3",
       "version_major": 2,
       "version_minor": 0
      },
      "text/plain": [
       "  0%|          | 0/1 [00:00<?, ?it/s]"
      ]
     },
     "metadata": {},
     "output_type": "display_data"
    },
    {
     "name": "stderr",
     "output_type": "stream",
     "text": [
      "2022-09-18 16:30:48.742 | DEBUG    | utils.twitter_utils:collect_single_user_tweets:73 - None\n",
      "2022-09-18 16:30:51.297 | INFO     | utils.twitter_utils:collect_all_user_tweets:106 - Collection completed for 1 twitter handles!\n"
     ]
    }
   ],
   "source": [
    "all_tweets = collect_all_user_tweets(['JanRavnC'])"
   ]
  },
  {
   "cell_type": "code",
   "execution_count": 5,
   "id": "443fc4a8-2668-42b9-836a-40d57aeab5c3",
   "metadata": {},
   "outputs": [],
   "source": [
    "df_tweets = construct_tweet_df(all_tweets)"
   ]
  },
  {
   "cell_type": "code",
   "execution_count": 6,
   "id": "49ac64a1-5cd2-4d74-9d95-20a0f750e1d9",
   "metadata": {},
   "outputs": [
    {
     "name": "stderr",
     "output_type": "stream",
     "text": [
      "2022-09-18 16:31:02.349 | INFO     | utils.twitter_utils:get_new_user_tweets:160 - Looking for new tweets since last extraction...\n"
     ]
    },
    {
     "data": {
      "application/vnd.jupyter.widget-view+json": {
       "model_id": "e2f93ccbce6341d5b1f17d53dfca0828",
       "version_major": 2,
       "version_minor": 0
      },
      "text/plain": [
       "  0%|          | 0/1 [00:00<?, ?it/s]"
      ]
     },
     "metadata": {},
     "output_type": "display_data"
    },
    {
     "name": "stderr",
     "output_type": "stream",
     "text": [
      "2022-09-18 16:31:02.410 | DEBUG    | utils.twitter_utils:collect_single_user_tweets:73 - 728140211289350146\n",
      "2022-09-18 16:31:02.765 | INFO     | utils.twitter_utils:get_new_user_tweets:175 - Collection completed for 1 twitter handles!\n"
     ]
    }
   ],
   "source": [
    "test = get_new_user_tweets(df_tweets[:5])"
   ]
  },
  {
   "cell_type": "code",
   "execution_count": 7,
   "id": "4ecd21ca-0396-4205-82d7-a161e16c15d1",
   "metadata": {},
   "outputs": [
    {
     "data": {
      "text/plain": [
       "[]"
      ]
     },
     "execution_count": 7,
     "metadata": {},
     "output_type": "execute_result"
    }
   ],
   "source": [
    "test"
   ]
  },
  {
   "cell_type": "code",
   "execution_count": null,
   "id": "81acae96-bd47-4251-9730-30de20de8746",
   "metadata": {},
   "outputs": [],
   "source": []
  }
 ],
 "metadata": {
  "kernelspec": {
   "display_name": "Python 3 (ipykernel)",
   "language": "python",
   "name": "python3"
  },
  "language_info": {
   "codemirror_mode": {
    "name": "ipython",
    "version": 3
   },
   "file_extension": ".py",
   "mimetype": "text/x-python",
   "name": "python",
   "nbconvert_exporter": "python",
   "pygments_lexer": "ipython3",
   "version": "3.7.12"
  }
 },
 "nbformat": 4,
 "nbformat_minor": 5
}
