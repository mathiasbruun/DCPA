{
 "cells": [
  {
   "cell_type": "code",
   "execution_count": 167,
   "id": "dd7dc168-079f-4281-aea0-f4986750e012",
   "metadata": {},
   "outputs": [],
   "source": [
    "from utils.parliament_utils import save_xml_from_ftp"
   ]
  },
  {
   "cell_type": "code",
   "execution_count": 188,
   "id": "27c78a32-6053-489b-9f4c-ff2dae343632",
   "metadata": {},
   "outputs": [],
   "source": [
    "url = 'ftp://oda.ft.dk/ODAXML/Referat/samling'\n",
    "out_path = 'data/raw/parliament/legislative_sessions_dir.xml'\n",
    "save_xml_from_ftp(url, out_path)"
   ]
  },
  {
   "cell_type": "code",
   "execution_count": 189,
   "id": "7116c708-53bf-4f15-92ec-9b201e4628df",
   "metadata": {},
   "outputs": [],
   "source": [
    "with open(out_path, 'r') as f:\n",
    "    sessions_dir = f.readlines()"
   ]
  },
  {
   "cell_type": "code",
   "execution_count": 190,
   "id": "88d82fcf-f9d5-4335-8b61-95a447095855",
   "metadata": {},
   "outputs": [],
   "source": [
    "parliamentary_sessions = [line.replace('\\n', '').split('>          ')[-1] for line in sessions_dir]"
   ]
  },
  {
   "cell_type": "code",
   "execution_count": 222,
   "id": "dfa67a68-714b-45c7-82f5-ffe3928caf92",
   "metadata": {},
   "outputs": [
    {
     "data": {
      "text/plain": [
       "['20091', '20101', '20102']"
      ]
     },
     "execution_count": 222,
     "metadata": {},
     "output_type": "execute_result"
    }
   ],
   "source": [
    "parliamentary_sessions[:3]"
   ]
  },
  {
   "cell_type": "code",
   "execution_count": 199,
   "id": "585ff975-ba8f-4a19-9bba-545d11ab242f",
   "metadata": {},
   "outputs": [],
   "source": [
    "def list_meetings_in_sessions(session_ids: 'list'):\n",
    "    '''\n",
    "    TODO...\n",
    "    '''\n",
    "    \n",
    "    files = []\n",
    "    \n",
    "    for id_ in tqdm(session_ids):\n",
    "        url = f'ftp://oda.ft.dk/ODAXML/Referat/samling/{id_}'\n",
    "        out_path = f'data/raw/parliament/session_docs/session_{id_}.xml'\n",
    "        \n",
    "        files.append(out_path)\n",
    "        \n",
    "        save_xml_from_ftp(url, out_path)\n",
    "        \n",
    "    return files"
   ]
  },
  {
   "cell_type": "code",
   "execution_count": 200,
   "id": "1d22eb18-7e6d-4430-b37a-f1cffaa5d855",
   "metadata": {},
   "outputs": [
    {
     "data": {
      "application/vnd.jupyter.widget-view+json": {
       "model_id": "ba780f0807524b0b91ce6264e3a989fa",
       "version_major": 2,
       "version_minor": 0
      },
      "text/plain": [
       "  0%|          | 0/16 [00:00<?, ?it/s]"
      ]
     },
     "metadata": {},
     "output_type": "display_data"
    }
   ],
   "source": [
    "filenames = list_meetings_in_sessions(parliamentary_sessions)"
   ]
  },
  {
   "cell_type": "code",
   "execution_count": 240,
   "id": "b60be396-af49-401c-8077-4eedc84cea7d",
   "metadata": {},
   "outputs": [
    {
     "data": {
      "text/plain": [
       "['data/raw/parliament/session_docs/session_20091.xml',\n",
       " 'data/raw/parliament/session_docs/session_20101.xml',\n",
       " 'data/raw/parliament/session_docs/session_20102.xml']"
      ]
     },
     "execution_count": 240,
     "metadata": {},
     "output_type": "execute_result"
    }
   ],
   "source": [
    "filenames[:3]"
   ]
  },
  {
   "cell_type": "code",
   "execution_count": null,
   "id": "528d9034-853d-42b8-8c8f-9d21233a2ae9",
   "metadata": {},
   "outputs": [],
   "source": [
    "from tqdm.notebook import tqdm"
   ]
  },
  {
   "cell_type": "code",
   "execution_count": 254,
   "id": "1c27327c-7788-4b2b-8023-edf38c951022",
   "metadata": {},
   "outputs": [],
   "source": [
    "def extract_transcript_filenames(session_filenames):\n",
    "    '''\n",
    "    TODO...\n",
    "    '''\n",
    "    \n",
    "    all_transcript_names = dict()\n",
    "    \n",
    "    for file in tqdm(session_filenames):\n",
    "        with open(file, 'r') as f:\n",
    "            contents = f.readlines()\n",
    "        \n",
    "        transcript_filenames = [line.replace('\\n','').split(' ')[-1] for line in contents]\n",
    "        all_transcript_names[transcript_filenames[0].split('_')[0]] = transcript_filenames\n",
    "    \n",
    "    return all_transcript_names"
   ]
  },
  {
   "cell_type": "code",
   "execution_count": 255,
   "id": "72e10355-b7b5-4e78-bece-221dcb5d0a81",
   "metadata": {},
   "outputs": [
    {
     "data": {
      "application/vnd.jupyter.widget-view+json": {
       "model_id": "6f4ad4616f3f43fe8f6672e7418a3da2",
       "version_major": 2,
       "version_minor": 0
      },
      "text/plain": [
       "  0%|          | 0/16 [00:00<?, ?it/s]"
      ]
     },
     "metadata": {},
     "output_type": "display_data"
    }
   ],
   "source": [
    "all_transcript_filenames = extract_transcript_filenames(filenames)"
   ]
  },
  {
   "cell_type": "code",
   "execution_count": 256,
   "id": "46779a3c-2301-4b92-9c73-c2b684179646",
   "metadata": {},
   "outputs": [
    {
     "data": {
      "text/plain": [
       "['20102_M1_helemoedet.xml', '20102_M2_helemoedet.xml']"
      ]
     },
     "execution_count": 256,
     "metadata": {},
     "output_type": "execute_result"
    }
   ],
   "source": [
    "all_transcript_filenames['20102']"
   ]
  },
  {
   "cell_type": "code",
   "execution_count": 242,
   "id": "b985b009-ba94-4761-97a3-4524bd6b4905",
   "metadata": {},
   "outputs": [],
   "source": [
    "def save_transcripts_from_ftp(id_dict):\n",
    "    '''\n",
    "    TODO...\n",
    "    '''\n",
    "    \n",
    "    for session_id in id_dict.keys():\n",
    "        print(f'\\nCollecting transcripts from session {session_id}...')\n",
    "        \n",
    "        try:\n",
    "            for transcript_filename in tqdm(id_dict[session_id]):\n",
    "\n",
    "                url = f'ftp://oda.ft.dk/ODAXML/Referat/samling/{session_id}/{transcript_filename}'\n",
    "                out_path = f'data/raw/parliament/xml_transcripts/transcript_{transcript_filename}.xml'\n",
    "                save_xml_from_ftp(url, out_path)\n",
    "                \n",
    "        except Exception as ex:\n",
    "            ex_name = type(ex).__name__\n",
    "            print(f'Whoops, {ex_name}!')"
   ]
  },
  {
   "cell_type": "code",
   "execution_count": 257,
   "id": "4a34a898-2a82-4f2d-8c4d-6e9809b29f1a",
   "metadata": {},
   "outputs": [],
   "source": [
    "subset_dict = {k: all_transcript_filenames[k] for k in ('20131', '20141')}"
   ]
  },
  {
   "cell_type": "code",
   "execution_count": 259,
   "id": "50374eed-b3d3-4702-8312-f4aff5d580e6",
   "metadata": {},
   "outputs": [
    {
     "name": "stdout",
     "output_type": "stream",
     "text": [
      "\n",
      "Collecting transcripts from session 20131...\n"
     ]
    },
    {
     "data": {
      "application/vnd.jupyter.widget-view+json": {
       "model_id": "905aeba3383d439e8917e2111fa91546",
       "version_major": 2,
       "version_minor": 0
      },
      "text/plain": [
       "  0%|          | 0/109 [00:00<?, ?it/s]"
      ]
     },
     "metadata": {},
     "output_type": "display_data"
    },
    {
     "name": "stdout",
     "output_type": "stream",
     "text": [
      "\n",
      "Collecting transcripts from session 20141...\n"
     ]
    },
    {
     "data": {
      "application/vnd.jupyter.widget-view+json": {
       "model_id": "dfcdd3e44ba74c11adc51cd58a8f3983",
       "version_major": 2,
       "version_minor": 0
      },
      "text/plain": [
       "  0%|          | 0/98 [00:00<?, ?it/s]"
      ]
     },
     "metadata": {},
     "output_type": "display_data"
    }
   ],
   "source": [
    "save_transcripts_from_ftp(subset_dict)"
   ]
  },
  {
   "cell_type": "code",
   "execution_count": null,
   "id": "5b5fb794-5b6c-4082-a40d-c0df1765ebe4",
   "metadata": {},
   "outputs": [],
   "source": []
  },
  {
   "cell_type": "code",
   "execution_count": null,
   "id": "064b5d70-53dc-40dc-b385-520cec37e28b",
   "metadata": {},
   "outputs": [],
   "source": []
  }
 ],
 "metadata": {
  "kernelspec": {
   "display_name": "Python 3 (ipykernel)",
   "language": "python",
   "name": "python3"
  },
  "language_info": {
   "codemirror_mode": {
    "name": "ipython",
    "version": 3
   },
   "file_extension": ".py",
   "mimetype": "text/x-python",
   "name": "python",
   "nbconvert_exporter": "python",
   "pygments_lexer": "ipython3",
   "version": "3.7.12"
  }
 },
 "nbformat": 4,
 "nbformat_minor": 5
}
