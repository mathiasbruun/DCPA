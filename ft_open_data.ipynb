{
 "cells": [
  {
   "cell_type": "code",
   "execution_count": 318,
   "id": "dd7dc168-079f-4281-aea0-f4986750e012",
   "metadata": {},
   "outputs": [],
   "source": [
    "from utils.parliament_utils import *\n",
    "import numpy as np\n",
    "tqdm.pandas()"
   ]
  },
  {
   "cell_type": "markdown",
   "id": "b499a452-f4e4-462d-8e23-245f38f11f9c",
   "metadata": {},
   "source": [
    "## Collection"
   ]
  },
  {
   "cell_type": "code",
   "execution_count": 188,
   "id": "27c78a32-6053-489b-9f4c-ff2dae343632",
   "metadata": {},
   "outputs": [],
   "source": [
    "url = 'ftp://oda.ft.dk/ODAXML/Referat/samling'\n",
    "out_path = 'data/raw/parliament/legislative_sessions_dir.xml'\n",
    "save_xml_from_ftp(url, out_path)"
   ]
  },
  {
   "cell_type": "code",
   "execution_count": 189,
   "id": "7116c708-53bf-4f15-92ec-9b201e4628df",
   "metadata": {},
   "outputs": [],
   "source": [
    "with open(out_path, 'r') as f:\n",
    "    sessions_dir = f.readlines()"
   ]
  },
  {
   "cell_type": "code",
   "execution_count": 190,
   "id": "88d82fcf-f9d5-4335-8b61-95a447095855",
   "metadata": {},
   "outputs": [],
   "source": [
    "parliamentary_sessions = [line.replace('\\n', '').split('>          ')[-1] for line in sessions_dir]"
   ]
  },
  {
   "cell_type": "code",
   "execution_count": 270,
   "id": "dfa67a68-714b-45c7-82f5-ffe3928caf92",
   "metadata": {},
   "outputs": [
    {
     "data": {
      "text/plain": [
       "['20091',\n",
       " '20101',\n",
       " '20102',\n",
       " '20111',\n",
       " '20121',\n",
       " '20131',\n",
       " '20141',\n",
       " '20142',\n",
       " '20151',\n",
       " '20161',\n",
       " '20171',\n",
       " '20181',\n",
       " '20182',\n",
       " '20191',\n",
       " '20201',\n",
       " '20211']"
      ]
     },
     "execution_count": 270,
     "metadata": {},
     "output_type": "execute_result"
    }
   ],
   "source": [
    "parliamentary_sessions"
   ]
  },
  {
   "cell_type": "code",
   "execution_count": 199,
   "id": "585ff975-ba8f-4a19-9bba-545d11ab242f",
   "metadata": {},
   "outputs": [],
   "source": []
  },
  {
   "cell_type": "code",
   "execution_count": 200,
   "id": "1d22eb18-7e6d-4430-b37a-f1cffaa5d855",
   "metadata": {},
   "outputs": [
    {
     "data": {
      "application/vnd.jupyter.widget-view+json": {
       "model_id": "ba780f0807524b0b91ce6264e3a989fa",
       "version_major": 2,
       "version_minor": 0
      },
      "text/plain": [
       "  0%|          | 0/16 [00:00<?, ?it/s]"
      ]
     },
     "metadata": {},
     "output_type": "display_data"
    }
   ],
   "source": [
    "filenames = list_meetings_in_sessions(parliamentary_sessions)"
   ]
  },
  {
   "cell_type": "code",
   "execution_count": 240,
   "id": "b60be396-af49-401c-8077-4eedc84cea7d",
   "metadata": {},
   "outputs": [
    {
     "data": {
      "text/plain": [
       "['data/raw/parliament/session_docs/session_20091.xml',\n",
       " 'data/raw/parliament/session_docs/session_20101.xml',\n",
       " 'data/raw/parliament/session_docs/session_20102.xml']"
      ]
     },
     "execution_count": 240,
     "metadata": {},
     "output_type": "execute_result"
    }
   ],
   "source": [
    "filenames[:3]"
   ]
  },
  {
   "cell_type": "code",
   "execution_count": null,
   "id": "528d9034-853d-42b8-8c8f-9d21233a2ae9",
   "metadata": {},
   "outputs": [],
   "source": [
    "from tqdm.notebook import tqdm"
   ]
  },
  {
   "cell_type": "code",
   "execution_count": 255,
   "id": "72e10355-b7b5-4e78-bece-221dcb5d0a81",
   "metadata": {},
   "outputs": [
    {
     "data": {
      "application/vnd.jupyter.widget-view+json": {
       "model_id": "6f4ad4616f3f43fe8f6672e7418a3da2",
       "version_major": 2,
       "version_minor": 0
      },
      "text/plain": [
       "  0%|          | 0/16 [00:00<?, ?it/s]"
      ]
     },
     "metadata": {},
     "output_type": "display_data"
    }
   ],
   "source": [
    "all_transcript_filenames = extract_transcript_filenames(filenames)"
   ]
  },
  {
   "cell_type": "code",
   "execution_count": 256,
   "id": "46779a3c-2301-4b92-9c73-c2b684179646",
   "metadata": {},
   "outputs": [
    {
     "data": {
      "text/plain": [
       "['20102_M1_helemoedet.xml', '20102_M2_helemoedet.xml']"
      ]
     },
     "execution_count": 256,
     "metadata": {},
     "output_type": "execute_result"
    }
   ],
   "source": [
    "all_transcript_filenames['20102']"
   ]
  },
  {
   "cell_type": "code",
   "execution_count": 242,
   "id": "b985b009-ba94-4761-97a3-4524bd6b4905",
   "metadata": {},
   "outputs": [],
   "source": []
  },
  {
   "cell_type": "code",
   "execution_count": 267,
   "id": "a6cfaff7-a19f-44a6-b43b-68d4637675b4",
   "metadata": {},
   "outputs": [],
   "source": [
    "subset_list = [\n",
    "     '20181',\n",
    "     '20182',\n",
    "     '20191',\n",
    "     '20201',\n",
    "     '20211'\n",
    "]"
   ]
  },
  {
   "cell_type": "code",
   "execution_count": 268,
   "id": "4a34a898-2a82-4f2d-8c4d-6e9809b29f1a",
   "metadata": {},
   "outputs": [],
   "source": [
    "subset_dict = {k: all_transcript_filenames[k] for k in subset_list}"
   ]
  },
  {
   "cell_type": "code",
   "execution_count": 269,
   "id": "50374eed-b3d3-4702-8312-f4aff5d580e6",
   "metadata": {},
   "outputs": [
    {
     "name": "stdout",
     "output_type": "stream",
     "text": [
      "\n",
      "Collecting transcripts from session 20181...\n"
     ]
    },
    {
     "data": {
      "application/vnd.jupyter.widget-view+json": {
       "model_id": "118c1821863c440e8b0ce703d88ffddb",
       "version_major": 2,
       "version_minor": 0
      },
      "text/plain": [
       "  0%|          | 0/93 [00:00<?, ?it/s]"
      ]
     },
     "metadata": {},
     "output_type": "display_data"
    },
    {
     "name": "stdout",
     "output_type": "stream",
     "text": [
      "\n",
      "Collecting transcripts from session 20182...\n"
     ]
    },
    {
     "data": {
      "application/vnd.jupyter.widget-view+json": {
       "model_id": "ee977235268345338e0961684db789ff",
       "version_major": 2,
       "version_minor": 0
      },
      "text/plain": [
       "  0%|          | 0/8 [00:00<?, ?it/s]"
      ]
     },
     "metadata": {},
     "output_type": "display_data"
    },
    {
     "name": "stdout",
     "output_type": "stream",
     "text": [
      "\n",
      "Collecting transcripts from session 20191...\n"
     ]
    },
    {
     "data": {
      "application/vnd.jupyter.widget-view+json": {
       "model_id": "642c29ab03d745c2baf117fc31b8f2da",
       "version_major": 2,
       "version_minor": 0
      },
      "text/plain": [
       "  0%|          | 0/151 [00:00<?, ?it/s]"
      ]
     },
     "metadata": {},
     "output_type": "display_data"
    },
    {
     "name": "stdout",
     "output_type": "stream",
     "text": [
      "\n",
      "Collecting transcripts from session 20201...\n"
     ]
    },
    {
     "data": {
      "application/vnd.jupyter.widget-view+json": {
       "model_id": "a7895306e5c84116933dccb3859332fa",
       "version_major": 2,
       "version_minor": 0
      },
      "text/plain": [
       "  0%|          | 0/138 [00:00<?, ?it/s]"
      ]
     },
     "metadata": {},
     "output_type": "display_data"
    },
    {
     "name": "stdout",
     "output_type": "stream",
     "text": [
      "\n",
      "Collecting transcripts from session 20211...\n"
     ]
    },
    {
     "data": {
      "application/vnd.jupyter.widget-view+json": {
       "model_id": "bc16bce19c5b4d82bec0541d7ad87701",
       "version_major": 2,
       "version_minor": 0
      },
      "text/plain": [
       "  0%|          | 0/129 [00:00<?, ?it/s]"
      ]
     },
     "metadata": {},
     "output_type": "display_data"
    }
   ],
   "source": [
    "save_transcripts_from_ftp(subset_dict)"
   ]
  },
  {
   "cell_type": "markdown",
   "id": "3791e8db-ca01-4cb2-b4c7-5fb1a862ec0d",
   "metadata": {},
   "source": [
    "## Parsing XML"
   ]
  },
  {
   "cell_type": "code",
   "execution_count": 28,
   "id": "3a041256-03a4-470f-af8e-9ca012d83f0c",
   "metadata": {},
   "outputs": [],
   "source": [
    "xml_str = xml_to_str(xml_file)"
   ]
  },
  {
   "cell_type": "code",
   "execution_count": 30,
   "id": "c3aec36c-0fc9-4e67-a265-82181fb4bf47",
   "metadata": {},
   "outputs": [],
   "source": [
    "xml_dicts = xml_str_to_rows(xml_str)"
   ]
  },
  {
   "cell_type": "code",
   "execution_count": 43,
   "id": "6fc21306-464f-42ef-af77-32fe9e795318",
   "metadata": {},
   "outputs": [
    {
     "data": {
      "text/plain": [
       "'Jeg tager ordet, også, fordi vi, som der står i vores betænkningsbidrag, faktisk var lidt overraskede over, at man blander tingene sammen, for det synes vi man gør her. Vi er meget indstillet på at hjælpe, hvor vi kan, i forhold til ukrainerne. Vi er gået så vidt, at vi også stemmer for en særlov. Men vi var meget undrende, da det gik op for os – og i forhandlingen bagefter virkede det, som om også integrationsministeren var lidt overrasket over, at afghanere også kommer ind under den her ordning. Det er jo placeret i to ministerier, altså også i Beskæftigelsesministeriet, så måske har der ikke været en ordentlig koordinering imellem ministerierne. Derfor vil vi bede om, at forslaget bliver delt op, sådan at man kan stemme individuelt, og så vi kan give vores tilslutning til Ukraine, men ikke til de afghanske tolke.'"
      ]
     },
     "execution_count": 43,
     "metadata": {},
     "output_type": "execute_result"
    }
   ],
   "source": [
    "pd.DataFrame(xml_dicts)['text'][4]"
   ]
  },
  {
   "cell_type": "code",
   "execution_count": 59,
   "id": "9589dca5-258c-4f33-a1cd-0898e8b6b362",
   "metadata": {},
   "outputs": [
    {
     "data": {
      "application/vnd.jupyter.widget-view+json": {
       "model_id": "81006c0b877241abbf479e6ac1a4f527",
       "version_major": 2,
       "version_minor": 0
      },
      "text/plain": [
       "  0%|          | 0/1496 [00:00<?, ?it/s]"
      ]
     },
     "metadata": {},
     "output_type": "display_data"
    },
    {
     "name": "stdout",
     "output_type": "stream",
     "text": [
      "Whoops, IsADirectoryError encountered in data/raw/parliament/xml_transcripts/.ipynb_checkpoints!\n"
     ]
    }
   ],
   "source": [
    "all_xml_to_df('data/raw/parliament/xml_transcripts', 'data/clean/parliament/transcripts_v2.csv')"
   ]
  },
  {
   "cell_type": "code",
   "execution_count": 246,
   "id": "76d6b928-d37f-4460-afd6-07da85c370db",
   "metadata": {},
   "outputs": [],
   "source": [
    "df_politicians = pd.read_csv('data/clean/parliament/transcripts_v2.csv')"
   ]
  },
  {
   "cell_type": "code",
   "execution_count": 247,
   "id": "96ba5218-8a37-48a9-b976-6079f81ddac8",
   "metadata": {},
   "outputs": [
    {
     "data": {
      "text/html": [
       "<div>\n",
       "<style scoped>\n",
       "    .dataframe tbody tr th:only-of-type {\n",
       "        vertical-align: middle;\n",
       "    }\n",
       "\n",
       "    .dataframe tbody tr th {\n",
       "        vertical-align: top;\n",
       "    }\n",
       "\n",
       "    .dataframe thead th {\n",
       "        text-align: right;\n",
       "    }\n",
       "</style>\n",
       "<table border=\"1\" class=\"dataframe\">\n",
       "  <thead>\n",
       "    <tr style=\"text-align: right;\">\n",
       "      <th></th>\n",
       "      <th>first_name</th>\n",
       "      <th>last_name</th>\n",
       "      <th>group_name</th>\n",
       "      <th>role</th>\n",
       "      <th>start_time</th>\n",
       "      <th>end_time</th>\n",
       "      <th>text</th>\n",
       "    </tr>\n",
       "  </thead>\n",
       "  <tbody>\n",
       "    <tr>\n",
       "      <th>0</th>\n",
       "      <td>Niels Helveg</td>\n",
       "      <td>Petersen</td>\n",
       "      <td>RV</td>\n",
       "      <td>aldersformanden</td>\n",
       "      <td>2009-10-06T12:00:32</td>\n",
       "      <td>2009-10-06T12:02:08</td>\n",
       "      <td>Mødet er åbnet. I henhold til grundloven er Fo...</td>\n",
       "    </tr>\n",
       "    <tr>\n",
       "      <th>1</th>\n",
       "      <td>Thor</td>\n",
       "      <td>Pedersen</td>\n",
       "      <td>V</td>\n",
       "      <td>formand</td>\n",
       "      <td>2009-10-06T12:02:08</td>\n",
       "      <td>2009-10-06T12:04:01</td>\n",
       "      <td>Jeg vil gerne takke for den tillid, som Tinget...</td>\n",
       "    </tr>\n",
       "    <tr>\n",
       "      <th>2</th>\n",
       "      <td>Lars Løkke</td>\n",
       "      <td>Rasmussen</td>\n",
       "      <td>NaN</td>\n",
       "      <td>minister</td>\n",
       "      <td>2009-10-06T12:04:01</td>\n",
       "      <td>2009-10-06T12:50:39</td>\n",
       "      <td>Danmark er et godt land at leve i. Vi har bygg...</td>\n",
       "    </tr>\n",
       "    <tr>\n",
       "      <th>3</th>\n",
       "      <td>Thor</td>\n",
       "      <td>Pedersen</td>\n",
       "      <td>V</td>\n",
       "      <td>formand</td>\n",
       "      <td>2009-10-06T12:50:39</td>\n",
       "      <td>2009-10-06T12:51:10</td>\n",
       "      <td>Tak til statsministeren. Jeg kan oplyse Folket...</td>\n",
       "    </tr>\n",
       "    <tr>\n",
       "      <th>4</th>\n",
       "      <td>MødeSlut</td>\n",
       "      <td>MødeSlut</td>\n",
       "      <td>MødeSlut</td>\n",
       "      <td>MødeSlut</td>\n",
       "      <td>2009-10-06T12:51:10</td>\n",
       "      <td>NaN</td>\n",
       "      <td>Mødet er hævet. (Kl. 12:51).</td>\n",
       "    </tr>\n",
       "    <tr>\n",
       "      <th>...</th>\n",
       "      <td>...</td>\n",
       "      <td>...</td>\n",
       "      <td>...</td>\n",
       "      <td>...</td>\n",
       "      <td>...</td>\n",
       "      <td>...</td>\n",
       "      <td>...</td>\n",
       "    </tr>\n",
       "    <tr>\n",
       "      <th>633639</th>\n",
       "      <td>Rasmus Helveg</td>\n",
       "      <td>Petersen</td>\n",
       "      <td>RV</td>\n",
       "      <td>formand</td>\n",
       "      <td>2022-09-15T12:23:24</td>\n",
       "      <td>2022-09-15T12:23:25</td>\n",
       "      <td>Værsgo.</td>\n",
       "    </tr>\n",
       "    <tr>\n",
       "      <th>633640</th>\n",
       "      <td>Christian Rabjerg</td>\n",
       "      <td>Madsen</td>\n",
       "      <td>NaN</td>\n",
       "      <td>minister</td>\n",
       "      <td>2022-09-15T12:23:25</td>\n",
       "      <td>2022-09-15T12:24:14</td>\n",
       "      <td>Jeg har en klar forventning om, at vi kan genn...</td>\n",
       "    </tr>\n",
       "    <tr>\n",
       "      <th>633641</th>\n",
       "      <td>Rasmus Helveg</td>\n",
       "      <td>Petersen</td>\n",
       "      <td>RV</td>\n",
       "      <td>formand</td>\n",
       "      <td>2022-09-15T12:24:14</td>\n",
       "      <td>2022-09-15T12:24:28</td>\n",
       "      <td>Vi siger mange tak til indenrigs- og boligmini...</td>\n",
       "    </tr>\n",
       "    <tr>\n",
       "      <th>633642</th>\n",
       "      <td>Rasmus Helveg</td>\n",
       "      <td>Petersen</td>\n",
       "      <td>RV</td>\n",
       "      <td>formand</td>\n",
       "      <td>2022-09-15T12:24:28</td>\n",
       "      <td>2022-09-15T12:24:46</td>\n",
       "      <td>Der er ikke mere at foretage i dette møde. Fol...</td>\n",
       "    </tr>\n",
       "    <tr>\n",
       "      <th>633643</th>\n",
       "      <td>MødeSlut</td>\n",
       "      <td>MødeSlut</td>\n",
       "      <td>MødeSlut</td>\n",
       "      <td>MødeSlut</td>\n",
       "      <td>2022-09-15T12:24:46</td>\n",
       "      <td>NaN</td>\n",
       "      <td>Mødet er hævet. (Kl. 12:24).</td>\n",
       "    </tr>\n",
       "  </tbody>\n",
       "</table>\n",
       "<p>633644 rows × 7 columns</p>\n",
       "</div>"
      ],
      "text/plain": [
       "               first_name  last_name group_name             role  \\\n",
       "0            Niels Helveg   Petersen         RV  aldersformanden   \n",
       "1                    Thor   Pedersen          V          formand   \n",
       "2              Lars Løkke  Rasmussen        NaN         minister   \n",
       "3                    Thor   Pedersen          V          formand   \n",
       "4                MødeSlut   MødeSlut   MødeSlut         MødeSlut   \n",
       "...                   ...        ...        ...              ...   \n",
       "633639      Rasmus Helveg   Petersen         RV          formand   \n",
       "633640  Christian Rabjerg     Madsen        NaN         minister   \n",
       "633641      Rasmus Helveg   Petersen         RV          formand   \n",
       "633642      Rasmus Helveg   Petersen         RV          formand   \n",
       "633643           MødeSlut   MødeSlut   MødeSlut         MødeSlut   \n",
       "\n",
       "                 start_time             end_time  \\\n",
       "0       2009-10-06T12:00:32  2009-10-06T12:02:08   \n",
       "1       2009-10-06T12:02:08  2009-10-06T12:04:01   \n",
       "2       2009-10-06T12:04:01  2009-10-06T12:50:39   \n",
       "3       2009-10-06T12:50:39  2009-10-06T12:51:10   \n",
       "4       2009-10-06T12:51:10                  NaN   \n",
       "...                     ...                  ...   \n",
       "633639  2022-09-15T12:23:24  2022-09-15T12:23:25   \n",
       "633640  2022-09-15T12:23:25  2022-09-15T12:24:14   \n",
       "633641  2022-09-15T12:24:14  2022-09-15T12:24:28   \n",
       "633642  2022-09-15T12:24:28  2022-09-15T12:24:46   \n",
       "633643  2022-09-15T12:24:46                  NaN   \n",
       "\n",
       "                                                     text  \n",
       "0       Mødet er åbnet. I henhold til grundloven er Fo...  \n",
       "1       Jeg vil gerne takke for den tillid, som Tinget...  \n",
       "2       Danmark er et godt land at leve i. Vi har bygg...  \n",
       "3       Tak til statsministeren. Jeg kan oplyse Folket...  \n",
       "4                            Mødet er hævet. (Kl. 12:51).  \n",
       "...                                                   ...  \n",
       "633639                                            Værsgo.  \n",
       "633640  Jeg har en klar forventning om, at vi kan genn...  \n",
       "633641  Vi siger mange tak til indenrigs- og boligmini...  \n",
       "633642  Der er ikke mere at foretage i dette møde. Fol...  \n",
       "633643                       Mødet er hævet. (Kl. 12:24).  \n",
       "\n",
       "[633644 rows x 7 columns]"
      ]
     },
     "execution_count": 247,
     "metadata": {},
     "output_type": "execute_result"
    }
   ],
   "source": [
    "df_politicians"
   ]
  },
  {
   "cell_type": "code",
   "execution_count": 248,
   "id": "ea106d79-9c06-496d-a5de-80e291ae57ca",
   "metadata": {},
   "outputs": [],
   "source": [
    "pol_filtered = test.loc[\n",
    "    (df_politicians['first_name'] != 'MødeSlut') &\n",
    "    (df_politicians['role'] != 'Pause') &\n",
    "    (df_politicians['role'] != 'formand') &\n",
    "    (df_politicians['role'] != 'aldersformanden')\n",
    "].dropna(\n",
    "    subset=['first_name', 'last_name', 'group_name', 'role'], # these are questions that have been rescinded\n",
    "    how='all'\n",
    ").copy()"
   ]
  },
  {
   "cell_type": "code",
   "execution_count": 249,
   "id": "d96a8dde-87c7-48fd-ab9d-ef7de64d8cc4",
   "metadata": {},
   "outputs": [],
   "source": [
    "# Create full name from first + last name\n",
    "pol_filtered['full_name'] = pol_filtered['first_name'] + ' ' + pol_filtered['last_name']"
   ]
  },
  {
   "cell_type": "code",
   "execution_count": 250,
   "id": "ec5790cc-d3ec-48da-9669-25286831899e",
   "metadata": {},
   "outputs": [
    {
     "data": {
      "text/plain": [
       "Ole Birk Olesen          4055\n",
       "Finn Sørensen            3359\n",
       "Mette Frederiksen        3285\n",
       "Christian Juhl           3258\n",
       "Inger Støjberg           3035\n",
       "                         ... \n",
       "Jens Arne Hedegaard         1\n",
       "Niels Høiby                 1\n",
       "Peder Christensen           1\n",
       "Sisse Marie Welling         1\n",
       "Anders G. Christensen       1\n",
       "Name: full_name, Length: 484, dtype: int64"
      ]
     },
     "execution_count": 250,
     "metadata": {},
     "output_type": "execute_result"
    }
   ],
   "source": [
    "pol_filtered['full_name'].value_counts(dropna = False)"
   ]
  },
  {
   "cell_type": "code",
   "execution_count": 251,
   "id": "3d339660-bcb6-4b3c-9e39-fe89aafc0db1",
   "metadata": {},
   "outputs": [
    {
     "data": {
      "text/plain": [
       "Mette Frederiksen           2696\n",
       "Inger Støjberg              2348\n",
       "Morten Bødskov              1900\n",
       "Nick Hækkerup               1771\n",
       "Lars Løkke Rasmussen        1726\n",
       "                            ... \n",
       "Christian Rabjerg Madsen      37\n",
       "Jonas Dahl                    35\n",
       "Søren Gade                    33\n",
       "Kaare Dybvad                  32\n",
       "Connie Hedegaard              23\n",
       "Name: full_name, Length: 98, dtype: int64"
      ]
     },
     "execution_count": 251,
     "metadata": {},
     "output_type": "execute_result"
    }
   ],
   "source": [
    "pol_filtered.loc[pol_filtered.isna().any(axis=1), 'full_name'].value_counts()"
   ]
  },
  {
   "cell_type": "code",
   "execution_count": 252,
   "id": "7865d36f-3360-48a2-aef6-f10fb0c1f8c1",
   "metadata": {},
   "outputs": [],
   "source": [
    "# It would seem that we have to impute party affiliation for ministers and other special cases,\n",
    "# since title is included instead of party info when, for instance, the speaker is Minister of X.\n",
    "#\n",
    "# Since a given cabinet may consist of more than one party, the most fail-safe procedure seems to\n",
    "# be imputing current party membership by locating the most recent extant record of membership\n",
    "# prior to appointment as minister."
   ]
  },
  {
   "cell_type": "code",
   "execution_count": 253,
   "id": "257adb03-a5e2-4346-a5e5-120901c8292d",
   "metadata": {},
   "outputs": [],
   "source": [
    "def impute_party_membership(df, politician_list):\n",
    "    '''\n",
    "    TODO...\n",
    "    '''\n",
    "    \n",
    "    new_df = df.copy()\n",
    "    \n",
    "    for politician in tqdm(politician_list):\n",
    "        \n",
    "        # Get party affiliation (potentially multiple parties)\n",
    "        party_affiliations = new_df.loc[\n",
    "            (new_df['full_name'] == politician) &\n",
    "            new_df['group_name'].notna(),\n",
    "            'group_name'\n",
    "        ].drop_duplicates().tolist()\n",
    "        \n",
    "        try:\n",
    "            (party_imputation,) = party_affiliations # unpack party list if it only contains 1 element\n",
    "\n",
    "        except ValueError:\n",
    "            party_imputation = ','.join(party_affiliations) # return entire list as str, if more than one membership\n",
    "            print(f'{politician} has been a member of multiple parties,\\nor party affiliation could not be determined: {party_imputation}.\\n')\n",
    "\n",
    "        # Write party membership where missing\n",
    "        new_df.loc[\n",
    "            (new_df['full_name'] == politician) &\n",
    "            new_df['group_name'].isna(),\n",
    "            ['group_name']\n",
    "        ] = party_imputation\n",
    "    \n",
    "    return new_df"
   ]
  },
  {
   "cell_type": "code",
   "execution_count": 254,
   "id": "8e2af68a-7d12-4cad-8f15-17d2afcab690",
   "metadata": {},
   "outputs": [],
   "source": [
    "unknown_party_politicians = (\n",
    "    pol_filtered\n",
    "        .loc[pol_filtered['group_name'].isna(), 'full_name']\n",
    "        .drop_duplicates()\n",
    "        .tolist()\n",
    ")"
   ]
  },
  {
   "cell_type": "code",
   "execution_count": 255,
   "id": "c12f8c58-031f-472c-9446-d59a6f7b100a",
   "metadata": {},
   "outputs": [
    {
     "data": {
      "text/plain": [
       "['Lars Løkke Rasmussen',\n",
       " 'Eva Kjer Hansen',\n",
       " 'Claus Hjort Frederiksen',\n",
       " 'Troels Lund Poulsen',\n",
       " 'Karen Ellemann']"
      ]
     },
     "execution_count": 255,
     "metadata": {},
     "output_type": "execute_result"
    }
   ],
   "source": [
    "unknown_party_politicians[:5]"
   ]
  },
  {
   "cell_type": "code",
   "execution_count": 302,
   "id": "511fd4ae-413b-454e-bc64-af59401b027d",
   "metadata": {},
   "outputs": [
    {
     "data": {
      "application/vnd.jupyter.widget-view+json": {
       "model_id": "99332ab8a8a0465083b1903ccd64f738",
       "version_major": 2,
       "version_minor": 0
      },
      "text/plain": [
       "  0%|          | 0/98 [00:00<?, ?it/s]"
      ]
     },
     "metadata": {},
     "output_type": "display_data"
    },
    {
     "name": "stdout",
     "output_type": "stream",
     "text": [
      "Lars Løkke Rasmussen has been a member of multiple parties,\n",
      "or party affiliation could not be determined: V,UFG,M.\n",
      "\n",
      "Inger Støjberg has been a member of multiple parties,\n",
      "or party affiliation could not be determined: V,UFG.\n",
      "\n",
      "Connie Hedegaard has been a member of multiple parties,\n",
      "or party affiliation could not be determined: .\n",
      "\n",
      "Charlotte Sahl-Madsen has been a member of multiple parties,\n",
      "or party affiliation could not be determined: .\n",
      "\n",
      "Thor Möger Pedersen has been a member of multiple parties,\n",
      "or party affiliation could not be determined: .\n",
      "\n",
      "Astrid Krag has been a member of multiple parties,\n",
      "or party affiliation could not be determined: SF,S.\n",
      "\n",
      "Uffe Elbæk has been a member of multiple parties,\n",
      "or party affiliation could not be determined: RV,UFG,ALT,FG.\n",
      "\n",
      "Ida Auken has been a member of multiple parties,\n",
      "or party affiliation could not be determined: SF,RV,S.\n",
      "\n",
      "Jørn Neergaard Larsen has been a member of multiple parties,\n",
      "or party affiliation could not be determined: .\n",
      "\n",
      "Simon Emil Ammitzbøll-Bille has been a member of multiple parties,\n",
      "or party affiliation could not be determined: LA,UFG.\n",
      "\n",
      "Peter Hummelgaard has been a member of multiple parties,\n",
      "or party affiliation could not be determined: .\n",
      "\n",
      "Kaare Dybvad Bek has been a member of multiple parties,\n",
      "or party affiliation could not be determined: .\n",
      "\n",
      "Joy Mogensen has been a member of multiple parties,\n",
      "or party affiliation could not be determined: .\n",
      "\n",
      "Jesper Petersen has been a member of multiple parties,\n",
      "or party affiliation could not be determined: SF,S.\n",
      "\n"
     ]
    }
   ],
   "source": [
    "pol_imputed = impute_party_membership(pol_filtered, unknown_party_politicians)"
   ]
  },
  {
   "cell_type": "code",
   "execution_count": 303,
   "id": "58cd9559-1ca5-402a-85cc-083610505628",
   "metadata": {},
   "outputs": [
    {
     "data": {
      "text/plain": [
       "['Connie Hedegaard',\n",
       " 'Charlotte Sahl-Madsen',\n",
       " 'Thor Möger Pedersen',\n",
       " 'Jørn Neergaard Larsen',\n",
       " 'Peter Hummelgaard',\n",
       " 'Kaare Dybvad Bek',\n",
       " 'Joy Mogensen']"
      ]
     },
     "execution_count": 303,
     "metadata": {},
     "output_type": "execute_result"
    }
   ],
   "source": [
    "(\n",
    "    pol_imputed\n",
    "        .loc[pol_imputed['group_name'] == '', 'full_name']\n",
    "        .drop_duplicates()\n",
    "        .tolist()\n",
    ")"
   ]
  },
  {
   "cell_type": "code",
   "execution_count": 304,
   "id": "c224a3a9-7aa5-430f-8856-857cb03f72ce",
   "metadata": {},
   "outputs": [],
   "source": [
    "manual_party_map = {\n",
    "    'Connie Hedegaard': 'KF',\n",
    "    'Charlotte Sahl-Madsen': 'KF',\n",
    "    'Thor Möger Pedersen': 'SF',\n",
    "    'Jørn Neergaard Larsen': 'V',\n",
    "    'Peter Hummelgaard': 'S',\n",
    "    'Kaare Dybvad Bek': 'S',\n",
    "    'Joy Mogensen': 'S'\n",
    "}"
   ]
  },
  {
   "cell_type": "code",
   "execution_count": 305,
   "id": "85880fdd-3093-4820-8699-4a2c761f5b86",
   "metadata": {},
   "outputs": [],
   "source": [
    "# Replace empty strings with NaN\n",
    "pol_imputed['group_name'] = pol_imputed['group_name'].replace('', np.nan)\n",
    "\n",
    "# Fillna using manual map\n",
    "pol_imputed['group_name'] = pol_imputed['group_name'].fillna(pol_imputed['full_name'].map(manual_party_map))"
   ]
  },
  {
   "cell_type": "code",
   "execution_count": 308,
   "id": "cc559321-87f8-43b8-9f73-3dd730771171",
   "metadata": {},
   "outputs": [
    {
     "data": {
      "application/vnd.jupyter.widget-view+json": {
       "model_id": "cb80e1c4e90b4fd394c264ecc398a462",
       "version_major": 2,
       "version_minor": 0
      },
      "text/plain": [
       "  0%|          | 0/301545 [00:00<?, ?it/s]"
      ]
     },
     "metadata": {},
     "output_type": "display_data"
    }
   ],
   "source": [
    "pol_imputed['year'] = pol_imputed['start_time'].str.extract(r'(\\d\\d\\d\\d)').astype(int)\n",
    "pol_imputed['day'] = pol_imputed['start_time'].str.extract(r'\\d\\d\\d\\d-(\\d\\d-\\d\\d)T\\d\\d:\\d\\d:\\d\\d')\n",
    "pol_imputed['time'] = pol_imputed['start_time'].str.extract(r'\\d\\d\\d\\d-\\d\\d-\\d\\dT(\\d\\d:\\d\\d:\\d\\d)')\n",
    "pol_imputed['duration'] = pol_imputed.progress_apply(lambda row: parse_datetime(row['end_time']) - parse_datetime(row['start_time']), axis = 1)"
   ]
  },
  {
   "cell_type": "code",
   "execution_count": 313,
   "id": "2cdd90af-fce4-423b-8361-dc478fc8a566",
   "metadata": {},
   "outputs": [],
   "source": [
    "col_order = [\n",
    "    'first_name',\n",
    "    'last_name',\n",
    "    'full_name',\n",
    "    'group_name',\n",
    "    'role',\n",
    "    'text',\n",
    "    'year',\n",
    "    'day',\n",
    "    'time',\n",
    "    'start_time',\n",
    "    'end_time',\n",
    "    'duration'\n",
    "]"
   ]
  },
  {
   "cell_type": "code",
   "execution_count": 314,
   "id": "9be983c0-98a9-476c-8875-fb88b3c5cd73",
   "metadata": {},
   "outputs": [],
   "source": [
    "pol_final = pol_imputed.reset_index(drop = True)[col_order]"
   ]
  },
  {
   "cell_type": "code",
   "execution_count": 317,
   "id": "729306f7-9e17-4410-8249-6fe2617a44be",
   "metadata": {},
   "outputs": [],
   "source": [
    "pol_final.to_csv('data/clean/parliament/transcripts_imputed.csv')"
   ]
  }
 ],
 "metadata": {
  "interpreter": {
   "hash": "df4b203bae24b8e546cac67fa1e5ed4e3ec7bcadeabf2e990fec7c51e0eb834e"
  },
  "kernelspec": {
   "display_name": "Python 3 (ipykernel)",
   "language": "python",
   "name": "python3"
  },
  "language_info": {
   "codemirror_mode": {
    "name": "ipython",
    "version": 3
   },
   "file_extension": ".py",
   "mimetype": "text/x-python",
   "name": "python",
   "nbconvert_exporter": "python",
   "pygments_lexer": "ipython3",
   "version": "3.7.12"
  }
 },
 "nbformat": 4,
 "nbformat_minor": 5
}
